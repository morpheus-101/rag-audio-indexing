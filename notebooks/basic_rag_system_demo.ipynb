{
 "cells": [
  {
   "cell_type": "markdown",
   "metadata": {},
   "source": [
    "## Basic RAG System Demo"
   ]
  },
  {
   "cell_type": "markdown",
   "metadata": {},
   "source": [
    "notebooks/basic_rag_demo.ipynb shows how to set up a basic RAG system in detail.\n",
    "\n",
    "This notebook implememnts the same thing using a wrapper class - BasicRAGSystem.\n",
    "\n",
    "As an example I'm using a podcast from Lex Friedman's podcast where he interviewed Ivanka Trump (https://www.youtube.com/watch?v=2oxdDKHdcM8&t=215s). This is a 3 hour podcast about Politics, Business,Real Estate, Fashion, Music, Architecture, etc."
   ]
  },
  {
   "cell_type": "code",
   "execution_count": 10,
   "metadata": {},
   "outputs": [],
   "source": [
    "import sys\n",
    "import os\n",
    "import warnings\n",
    "import textwrap\n",
    "warnings.filterwarnings('ignore')"
   ]
  },
  {
   "cell_type": "code",
   "execution_count": 2,
   "metadata": {},
   "outputs": [],
   "source": [
    "# Get the absolute path of the project root\n",
    "project_root = os.path.abspath(os.path.join(os.getcwd(), '..'))\n",
    "sys.path.append(project_root)"
   ]
  },
  {
   "cell_type": "code",
   "execution_count": 3,
   "metadata": {},
   "outputs": [],
   "source": [
    "import data_pull_and_prep.utils as utils"
   ]
  },
  {
   "cell_type": "code",
   "execution_count": 5,
   "metadata": {},
   "outputs": [],
   "source": [
    "# using existing transcription instead generating it again from OpenAI Whisper.\n",
    "transcription_with_char_timestamps = utils.import_pkl_file(project_root+\"/data/audio_1/ivanka_trump_transcription_char_timestamps.pkl\")"
   ]
  },
  {
   "cell_type": "code",
   "execution_count": 7,
   "metadata": {},
   "outputs": [
    {
     "name": "stderr",
     "output_type": "stream",
     "text": [
      "100%|██████████| 42/42 [00:16<00:00,  2.50it/s]\n",
      "100%|██████████| 42/42 [00:15<00:00,  2.77it/s]\n",
      "100%|██████████| 42/42 [00:07<00:00,  5.63it/s]\n",
      "Upserted vectors: 100%|██████████| 42/42 [00:01<00:00, 29.89it/s]\n"
     ]
    }
   ],
   "source": [
    "from basic_rag.basic_rag_system import BasicRAGSystem\n",
    "\n",
    "rag_system = BasicRAGSystem(transcription_with_char_timestamps, \"ivanka-08-31-via-class\")\n",
    "await rag_system.prepare_data()"
   ]
  },
  {
   "cell_type": "code",
   "execution_count": 15,
   "metadata": {},
   "outputs": [
    {
     "name": "stdout",
     "output_type": "stream",
     "text": [
      "Query: What are Ivanka Trump's thoughts on music?\n",
      "Response: Ivanka Trump enjoys live music and is a fan of Dolly Parton, appreciating her\n",
      "authenticity, talent, and positivity. Her daughter also attended Dolly Parton's concert at Madison\n",
      "Square Garden.\n"
     ]
    }
   ],
   "source": [
    "query = \"What are Ivanka Trump's thoughts on music?\"\n",
    "response = await rag_system.query(query)\n",
    "\n",
    "print(f\"Query: {query}\")\n",
    "print(textwrap.fill(f\"Response: {response}\", width=100))"
   ]
  },
  {
   "cell_type": "code",
   "execution_count": 16,
   "metadata": {},
   "outputs": [
    {
     "name": "stdout",
     "output_type": "stream",
     "text": [
      "Query: There must be a music related stuff in the context. Give me more details on that.\n",
      "Response: In the context provided, music is described as being intertwined with themes of\n",
      "creativity, emotion, and joy. The speaker discusses architecture as \"frozen music\" and draws\n",
      "parallels between the creative process in music composition and the limitless possibilities in\n",
      "architecture. They also mention watching live music performances, learning to play guitar, and\n",
      "discussing influential musicians like Adele, Aretha Franklin, and Freddie Mercury. The emotional\n",
      "impact of music, the power of vocals, and the enjoyment of live performances are highlighted.\n",
      "Additionally, there is a reference to the Live Aid performance by Queen and the skill and stage\n",
      "presence of performers like Freddie Mercury. The conversation also touches on the joy and emotion\n",
      "that can be communicated through music, as well as the concept of creating joy and excitement\n",
      "through music, similar to the way dogs react when their owners come home.\n"
     ]
    }
   ],
   "source": [
    "query = \"There must be a music related stuff in the context. Give me more details on that.\"\n",
    "response = await rag_system.query(query)\n",
    "\n",
    "print(f\"Query: {query}\")\n",
    "print(textwrap.fill(f\"Response: {response}\", width=100))"
   ]
  },
  {
   "cell_type": "code",
   "execution_count": 17,
   "metadata": {},
   "outputs": [
    {
     "name": "stdout",
     "output_type": "stream",
     "text": [
      "Query: What are some architectural projects that Ivanka Trump has worked on?\n",
      "Response: Ivanka Trump has worked on designing city skylines, real estate development projects, and\n",
      "renovation projects such as the Dural resort and the old post office building.\n"
     ]
    }
   ],
   "source": [
    "query = \"What are some architectural projects that Ivanka Trump has worked on?\"\n",
    "response = await rag_system.query(query)\n",
    "\n",
    "print(f\"Query: {query}\")\n",
    "print(textwrap.fill(f\"Response: {response}\", width=100))"
   ]
  },
  {
   "cell_type": "code",
   "execution_count": 18,
   "metadata": {},
   "outputs": [
    {
     "name": "stdout",
     "output_type": "stream",
     "text": [
      "Query: What does Ivanka Trump say about her children and husband?\n",
      "Response: Ivanka Trump mentions that her children and husband were everything to her during her time\n",
      "in Washington. She talks about the support system she had in place with her husband, Jared, and how\n",
      "important it was to have them there. She also mentions how her children brought levity and joy to\n",
      "her life, with her youngest son even learning how to make her coffee as an act of love. Ivanka Trump\n",
      "expresses gratitude for her family's presence and support during her challenging and taxing time in\n",
      "public service.\n"
     ]
    }
   ],
   "source": [
    "query = \"What does Ivanka Trump say about her children and husband?\"\n",
    "response = await rag_system.query(query)\n",
    "\n",
    "print(f\"Query: {query}\")\n",
    "print(textwrap.fill(f\"Response: {response}\", width=100))"
   ]
  },
  {
   "cell_type": "code",
   "execution_count": 19,
   "metadata": {},
   "outputs": [
    {
     "name": "stdout",
     "output_type": "stream",
     "text": [
      "Query: How did Ivanka Trump's children, particularly her son Theo, contribute to her sense of grounding and joy during her time in Washington, D.C.?\n",
      "Response: Ivanka Trump's son Theo contributed to her sense of grounding and joy during her time in\n",
      "Washington, D.C. by learning how to make coffee from her husband Jared and then making her a\n",
      "cappuccino every morning. This act of love brought her joy and created special moments that she\n",
      "cherished. Additionally, her children, including Theo, taught her how to play again and brought her\n",
      "a sense of simple joy and connectivity, especially during moments like dancing in the rain with her\n",
      "daughter Arabella. Overall, her children played a significant role in providing her with moments of\n",
      "happiness and normalcy amidst the chaos of adult life in Washington, D.C.\n"
     ]
    }
   ],
   "source": [
    "query = \"\"\"How did Ivanka Trump's children, particularly her son Theo, contribute to her sense of grounding and joy during her time in Washington, D.C.?\"\"\"\n",
    "response = await rag_system.query(query)\n",
    "\n",
    "print(f\"Query: {query}\")\n",
    "print(textwrap.fill(f\"Response: {response}\", width=100))"
   ]
  },
  {
   "cell_type": "code",
   "execution_count": null,
   "metadata": {},
   "outputs": [],
   "source": []
  }
 ],
 "metadata": {
  "kernelspec": {
   "display_name": "rag-audio-env",
   "language": "python",
   "name": "python3"
  },
  "language_info": {
   "codemirror_mode": {
    "name": "ipython",
    "version": 3
   },
   "file_extension": ".py",
   "mimetype": "text/x-python",
   "name": "python",
   "nbconvert_exporter": "python",
   "pygments_lexer": "ipython3",
   "version": "3.12.4"
  }
 },
 "nbformat": 4,
 "nbformat_minor": 2
}
