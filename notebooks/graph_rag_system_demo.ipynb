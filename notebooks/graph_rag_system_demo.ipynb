{
 "cells": [
  {
   "cell_type": "markdown",
   "metadata": {},
   "source": [
    "## Graph RAG System Demo\n",
    "\n",
    "notebooks/graph_rag_demo.ipynb shows how to set up a Graph RAG system in detail.\n",
    "\n",
    "This notebook implemements the same thing using a wrapper class - GraphRAGSystem (create_graph_rag_system function).\n",
    "\n",
    "As an example I'm using a podcast from Lex Friedman's podcast where he interviewed Ivanka Trump (https://www.youtube.com/watch?v=2oxdDKHdcM8&t=215s). This is a 3 hour podcast about Politics, Business,Real Estate, Fashion, Music, Architecture, etc."
   ]
  },
  {
   "cell_type": "code",
   "execution_count": 17,
   "metadata": {},
   "outputs": [],
   "source": [
    "import sys\n",
    "import os\n",
    "import warnings\n",
    "import textwrap\n",
    "warnings.filterwarnings('ignore')"
   ]
  },
  {
   "cell_type": "code",
   "execution_count": 2,
   "metadata": {},
   "outputs": [],
   "source": [
    "# Get the absolute path of the project root\n",
    "project_root = os.path.abspath(os.path.join(os.getcwd(), '..'))\n",
    "sys.path.append(project_root)"
   ]
  },
  {
   "cell_type": "code",
   "execution_count": 4,
   "metadata": {},
   "outputs": [],
   "source": [
    "import data_pull_and_prep.utils as utils"
   ]
  },
  {
   "cell_type": "code",
   "execution_count": 8,
   "metadata": {},
   "outputs": [],
   "source": [
    "transcription_with_char_timestamps = utils.import_pkl_file(project_root+\"/data/audio_1/ivanka_trump_transcription_char_timestamps.pkl\")"
   ]
  },
  {
   "cell_type": "code",
   "execution_count": 9,
   "metadata": {},
   "outputs": [
    {
     "name": "stderr",
     "output_type": "stream",
     "text": [
      "Received notification from DBMS server: {severity: WARNING} {code: Neo.ClientNotification.Statement.FeatureDeprecationWarning} {category: DEPRECATION} {title: This feature is deprecated and will be removed in future versions.} {description: The procedure has a deprecated field. ('config' used by 'apoc.meta.graphSample' is deprecated.)} {position: line: 1, column: 1, offset: 0} for query: \"CALL apoc.meta.graphSample() YIELD nodes, relationships RETURN nodes, [rel in relationships | {name:apoc.any.property(rel, 'type'), count: apoc.any.property(rel, 'count')}] AS relationships\"\n",
      "Extracting paths from text: 100%|██████████| 172/172 [01:40<00:00,  1.71it/s]\n",
      "Generating embeddings: 100%|██████████| 2/2 [00:00<00:00,  2.81it/s]\n",
      "Generating embeddings: 100%|██████████| 1/1 [00:00<00:00,  3.53it/s]\n",
      "Received notification from DBMS server: {severity: WARNING} {code: Neo.ClientNotification.Statement.FeatureDeprecationWarning} {category: DEPRECATION} {title: This feature is deprecated and will be removed in future versions.} {description: The procedure has a deprecated field. ('config' used by 'apoc.meta.graphSample' is deprecated.)} {position: line: 1, column: 1, offset: 0} for query: \"CALL apoc.meta.graphSample() YIELD nodes, relationships RETURN nodes, [rel in relationships | {name:apoc.any.property(rel, 'type'), count: apoc.any.property(rel, 'count')}] AS relationships\"\n"
     ]
    }
   ],
   "source": [
    "from graph_rag.graph_rag_system import create_graph_rag_system\n",
    "\n",
    "# Initialize the GraphRAGSystem\n",
    "neo4j_username = \"neo4j\"\n",
    "neo4j_password = \"neo4j_rishi\"\n",
    "neo4j_url = \"bolt://localhost:7687\"  # Adjust this URL as needed\n",
    "\n",
    "graph_rag = create_graph_rag_system(\n",
    "    transcription_with_char_timestamps,\n",
    "    neo4j_username,\n",
    "    neo4j_password,\n",
    "    neo4j_url\n",
    ")"
   ]
  },
  {
   "cell_type": "code",
   "execution_count": 18,
   "metadata": {},
   "outputs": [
    {
     "name": "stdout",
     "output_type": "stream",
     "text": [
      "Query: What are some famous quotes mentioned in this podcast and who said them?\n",
      "Response: 1. \"The way to be happy is to make others happy.\" - Dolly Parton 2. \"The only way to make\n",
      "sense out of change is to plunge into it, move with it, and join the dance.\" - Alan Watts 3. \"The\n",
      "beauty of life is in the small moments.\" - Marcus Aurelius 4. \"I think that reading is one of the\n",
      "best ways to learn.\" - Ivanka Trump 5. \"The beauty of life is in the small details, not in big\n",
      "events.\" - Marcus Aurelius 6. \"The waves of life crash upon us, forcing us to adapt and grow.\" -\n",
      "Unknown 7. \"Humility is the key to realizing the effort required for growth and creation.\" - Unknown\n",
      "8. \"Man's Search for Meaning\" - Victor Frankl 9. \"Enjoying life is an art that must be practiced.\" -\n",
      "Business woman associated with the Plaza Hotel 10. \"Life is like riding a wave, to keep your balance\n",
      "you must keep moving.\" - Unknown surfer 11. \"The way I see it, if you want the rainbow, you gotta\n",
      "put up with the rain.\" - Dolly Parton 12. \"Words have power, and when you speak, you create\n",
      "reality.\" - Associated with the teachings of Judaism\n"
     ]
    }
   ],
   "source": [
    "# Send a query\n",
    "query_text = \"What are some famous quotes mentioned in this podcast and who said them?\"\n",
    "response = graph_rag.query(query_text)\n",
    "print(f\"Query: {query_text}\")\n",
    "print(textwrap.fill(f\"Response: {response}\", width=100))\n"
   ]
  },
  {
   "cell_type": "code",
   "execution_count": 20,
   "metadata": {},
   "outputs": [
    {
     "name": "stdout",
     "output_type": "stream",
     "text": [
      "Query: There must be a music related stuff in the context. Give me more details on that.\n",
      "Response: The context provided includes various music-related details such as the influence of\n",
      "musicians like Jango Ryan Hart, Stevrey Van Der, Chris Stapleton, and Adele on each other. It also\n",
      "mentions live music performances, the significance of blues songs, improvisation in music, and the\n",
      "love for music exhibited by individuals in the community. Additionally, there are references to\n",
      "iconic songs like 'Texas Flood' and artists like Stevie Ray Vaughan, Freddie Mercury, and Jango\n",
      "Reinhardt. These elements highlight the importance of music in the community and its impact on\n",
      "individuals' lives, relationships, and artistic expression.\n"
     ]
    }
   ],
   "source": [
    "# Send a query\n",
    "query_text = \"There must be a music related stuff in the context. Give me more details on that.\"\n",
    "response = graph_rag.query(query_text)\n",
    "print(f\"Query: {query_text}\")\n",
    "print(textwrap.fill(f\"Response: {response}\", width=100))\n"
   ]
  },
  {
   "cell_type": "code",
   "execution_count": 22,
   "metadata": {},
   "outputs": [
    {
     "name": "stdout",
     "output_type": "stream",
     "text": [
      "Query: How did Ivanka Trump's children, particularly her son Theo, contribute to her sense of grounding and joy during her time in Washington, D.C.?\n",
      "Response: Ivanka Trump's children, including her son Theo, likely played a significant role in\n",
      "providing her with a sense of grounding and joy during her time in Washington, D.C. Their presence,\n",
      "innocence, love, and interactions would have offered her emotional support, stability, comfort, and\n",
      "moments of happiness amidst the intense political environment. Theo, in particular, may have brought\n",
      "joy to Ivanka through simple gestures like making cappuccino, showcasing the importance of family\n",
      "connections and moments of normalcy in her life. Overall, Ivanka's children, especially Theo, likely\n",
      "contributed to her emotional well-being, sense of fulfillment, and moments of joy during her time in\n",
      "Washington, D.C.\n"
     ]
    }
   ],
   "source": [
    "# Send a query\n",
    "query_text = \"\"\"How did Ivanka Trump's children, particularly her son Theo, contribute to her sense of grounding and joy during her time in Washington, D.C.?\"\"\"\n",
    "response = graph_rag.query(query_text)\n",
    "print(f\"Query: {query_text}\")\n",
    "print(textwrap.fill(f\"Response: {response}\", width=100))\n"
   ]
  },
  {
   "cell_type": "code",
   "execution_count": 23,
   "metadata": {},
   "outputs": [
    {
     "name": "stdout",
     "output_type": "stream",
     "text": [
      "Query: What type of music is the trump family interested in? Specifically what type of music does Donald trump like?\n",
      "Response: The Trump family's music preferences appear to be diverse, including artists from various\n",
      "genres such as rock and roll, musical theater, pop, opera, and traditional pop. Specific artists\n",
      "mentioned include Elvis Presley, Andrew Lloyd Webber, Elton John, Luciano Pavarotti, and Frank\n",
      "Sinatra. While there is no definitive answer on what type of music Donald Trump specifically likes,\n",
      "the admiration for classic and timeless musicians like Elton John and Sinatra suggests a preference\n",
      "for classic and timeless music.\n"
     ]
    }
   ],
   "source": [
    "# Send a query\n",
    "query_text = \"\"\"What type of music is the trump family interested in? Specifically what type of music does Donald trump like?\"\"\"\n",
    "response = graph_rag.query(query_text)\n",
    "print(f\"Query: {query_text}\")\n",
    "print(textwrap.fill(f\"Response: {response}\", width=100))\n"
   ]
  },
  {
   "cell_type": "code",
   "execution_count": null,
   "metadata": {},
   "outputs": [],
   "source": []
  }
 ],
 "metadata": {
  "kernelspec": {
   "display_name": "rag-audio-env",
   "language": "python",
   "name": "python3"
  },
  "language_info": {
   "codemirror_mode": {
    "name": "ipython",
    "version": 3
   },
   "file_extension": ".py",
   "mimetype": "text/x-python",
   "name": "python",
   "nbconvert_exporter": "python",
   "pygments_lexer": "ipython3",
   "version": "3.12.4"
  }
 },
 "nbformat": 4,
 "nbformat_minor": 2
}
