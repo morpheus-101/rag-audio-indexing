{
 "cells": [
  {
   "cell_type": "code",
   "execution_count": 1,
   "metadata": {},
   "outputs": [],
   "source": [
    "import sys\n",
    "import os\n",
    "import warnings\n",
    "import textwrap\n",
    "warnings.filterwarnings('ignore')"
   ]
  },
  {
   "cell_type": "code",
   "execution_count": 2,
   "metadata": {},
   "outputs": [],
   "source": [
    "# Get the absolute path of the project root\n",
    "project_root = os.path.abspath(os.path.join(os.getcwd(), '..'))\n",
    "sys.path.append(project_root)"
   ]
  },
  {
   "cell_type": "code",
   "execution_count": 3,
   "metadata": {},
   "outputs": [],
   "source": [
    "import data_pull_and_prep.utils as utils\n",
    "transcription_with_char_timestamps = utils.import_pkl_file(project_root+\"/data/audio_1/ivanka_trump_transcription_char_timestamps.pkl\")"
   ]
  },
  {
   "cell_type": "code",
   "execution_count": 4,
   "metadata": {},
   "outputs": [],
   "source": [
    "import react_agent.dual_rag_system as dual_rag_system"
   ]
  },
  {
   "cell_type": "code",
   "execution_count": 5,
   "metadata": {},
   "outputs": [
    {
     "name": "stderr",
     "output_type": "stream",
     "text": [
      "Received notification from DBMS server: {severity: WARNING} {code: Neo.ClientNotification.Statement.FeatureDeprecationWarning} {category: DEPRECATION} {title: This feature is deprecated and will be removed in future versions.} {description: The procedure has a deprecated field. ('config' used by 'apoc.meta.graphSample' is deprecated.)} {position: line: 1, column: 1, offset: 0} for query: \"CALL apoc.meta.graphSample() YIELD nodes, relationships RETURN nodes, [rel in relationships | {name:apoc.any.property(rel, 'type'), count: apoc.any.property(rel, 'count')}] AS relationships\"\n",
      "Extracting paths from text: 100%|██████████| 172/172 [01:25<00:00,  2.00it/s]\n",
      "Generating embeddings: 100%|██████████| 2/2 [00:01<00:00,  1.90it/s]\n",
      "Generating embeddings: 100%|██████████| 1/1 [00:00<00:00,  5.36it/s]\n",
      "Received notification from DBMS server: {severity: WARNING} {code: Neo.ClientNotification.Statement.FeatureDeprecationWarning} {category: DEPRECATION} {title: This feature is deprecated and will be removed in future versions.} {description: The procedure has a deprecated field. ('config' used by 'apoc.meta.graphSample' is deprecated.)} {position: line: 1, column: 1, offset: 0} for query: \"CALL apoc.meta.graphSample() YIELD nodes, relationships RETURN nodes, [rel in relationships | {name:apoc.any.property(rel, 'type'), count: apoc.any.property(rel, 'count')}] AS relationships\"\n",
      "100%|██████████| 42/42 [00:19<00:00,  2.11it/s]\n",
      "100%|██████████| 42/42 [00:17<00:00,  2.37it/s]\n",
      "100%|██████████| 42/42 [00:07<00:00,  5.26it/s]\n",
      "Upserted vectors: 100%|██████████| 42/42 [00:01<00:00, 28.69it/s]\n"
     ]
    }
   ],
   "source": [
    "neo4j_username = \"neo4j\"\n",
    "neo4j_password = \"neo4j_rishi\"\n",
    "neo4j_url = \"bolt://localhost:7687\"\n",
    "index_name = \"ivanka-09-01\"\n",
    "\n",
    "dual_rag = dual_rag_system.DualRAGSystem(transcription_with_char_timestamps, index_name, neo4j_username, neo4j_password, neo4j_url)\n",
    "await dual_rag.prepare_basic_rag()"
   ]
  },
  {
   "cell_type": "code",
   "execution_count": 8,
   "metadata": {},
   "outputs": [
    {
     "name": "stdout",
     "output_type": "stream",
     "text": [
      "Basic RAG response: \"The Creative Act\" by Rick Rubin is mentioned in the podcast, where he talks\n",
      "about accepting self-doubt and imperfection. Another quote mentioned is about the excitement and joy\n",
      "that dogs show when they recognize their owners, which is a common experience for dog owners.\n",
      "----------------------------------------------------------------------------------------------------\n",
      "Graph RAG response: 1. \"Find out who you are and do it on purpose.\" - Dolly Parton 2. \"The way I see\n",
      "it, if you want the rainbow, you gotta put up with the rain.\" - Dolly Parton 3. \"When we are no\n",
      "longer able to change a situation, we are challenged to change ourselves.\" - Victor Frankl\n"
     ]
    }
   ],
   "source": [
    "query = \"What are some famous quotes mentioned in this podcast and who said them?\"\n",
    "basic_response, graph_response = await dual_rag.query_systems(query)\n",
    "\n",
    "print(textwrap.fill(f\"Basic RAG response: {basic_response}\", width=100))\n",
    "print(\"-\"*100)\n",
    "print(textwrap.fill(f\"Graph RAG response: {graph_response}\", width=100))"
   ]
  },
  {
   "cell_type": "code",
   "execution_count": 11,
   "metadata": {},
   "outputs": [
    {
     "name": "stdout",
     "output_type": "stream",
     "text": [
      "Basic RAG response: Ivanka Trump admires musicians who are talented, unique, and enjoy what they do.\n",
      "She specifically mentioned Dolly Parton and Adele as examples of extraordinary musicians with voices\n",
      "that she finds unreal. Ivanka enjoys live music and finds it to be a profound experience, as seen\n",
      "when she took her kids to see Adele perform in Las Vegas.\n",
      "----------------------------------------------------------------------------------------------------\n",
      "Graph RAG response: Based on the provided information, Ivanka Trump's specific thoughts on music are\n",
      "not explicitly mentioned. However, it can be inferred that she enjoys music as a form of\n",
      "entertainment based on her attendance at a concert where Adele performed. Beyond this event, there\n",
      "is no further information available to determine Ivanka Trump's detailed thoughts on music.\n"
     ]
    }
   ],
   "source": [
    "query = \"What are Ivanka Trump's thoughts on music?\"\n",
    "basic_response, graph_response = await dual_rag.query_systems(query)\n",
    "\n",
    "print(textwrap.fill(f\"Basic RAG response: {basic_response}\", width=100))\n",
    "print(\"-\"*100)\n",
    "print(textwrap.fill(f\"Graph RAG response: {graph_response}\", width=100))"
   ]
  },
  {
   "cell_type": "code",
   "execution_count": 12,
   "metadata": {},
   "outputs": [
    {
     "name": "stdout",
     "output_type": "stream",
     "text": [
      "Basic RAG response: In the context provided, there are discussions about live music performances,\n",
      "favorite artists, learning to play guitar, watching old videos of musicians like Jango Reinhardt,\n",
      "and being influenced by artists like Aretha Franklin and Freddie Mercury. The speaker also mentions\n",
      "the power of live music experiences, the impact of Adele's vocals, and the enjoyment of watching\n",
      "Queen's performances. Additionally, there is a mention of the Live Aid performance by Queen and the\n",
      "emotional connection to music and performances. The speaker also reflects on architecture being\n",
      "described as \"frozen music\" and draws parallels between the creativity and limitless possibilities\n",
      "in both music and architecture.\n",
      "----------------------------------------------------------------------------------------------------\n",
      "Graph RAG response: The context provided is rich in music-related details. Some key points include:\n",
      "1. Adele's music career and influences, such as Aretha Franklin and Jango Ryan Hart. 2. Dolly\n",
      "Parton's concert at Madison Square Garden and the shared musical experience with Alice Johnson. 3.\n",
      "Live music events featuring artists like Freddie Mercury and choir participation. 4. Musical\n",
      "influences at Mar-a-Lago, including Andrew Lloyd Webber, Elton John, and Sinatra.  These details\n",
      "showcase the significance of music in personal experiences, community gatherings, and cultural\n",
      "influences within the context.\n"
     ]
    }
   ],
   "source": [
    "query = \"There must be a music related stuff in the context. Give me more details on that.\"\n",
    "basic_response, graph_response = await dual_rag.query_systems(query)\n",
    "\n",
    "print(textwrap.fill(f\"Basic RAG response: {basic_response}\", width=100))\n",
    "print(\"-\"*100)\n",
    "print(textwrap.fill(f\"Graph RAG response: {graph_response}\", width=100))"
   ]
  },
  {
   "cell_type": "code",
   "execution_count": 13,
   "metadata": {},
   "outputs": [
    {
     "name": "stdout",
     "output_type": "stream",
     "text": [
      "Basic RAG response: Some architectural projects that Ivanka Trump has worked on include contributing\n",
      "to the design and construction of iconic structures in New York City, renovation projects such as\n",
      "the Dural hotel and the old post office renovation project, as well as being involved in real estate\n",
      "projects alongside her parents.\n",
      "----------------------------------------------------------------------------------------------------\n",
      "Graph RAG response: There is no specific information available regarding architectural projects that\n",
      "Ivanka Trump has worked on. The focus of the provided context information is on other aspects of her\n",
      "career and personal life, such as her relationships, values, collaborations in the fashion industry,\n",
      "and her role as an advisor in the White House.\n"
     ]
    }
   ],
   "source": [
    "query = \"What are some architectural projects that Ivanka Trump has worked on?\"\n",
    "basic_response, graph_response = await dual_rag.query_systems(query)\n",
    "\n",
    "print(textwrap.fill(f\"Basic RAG response: {basic_response}\", width=100))\n",
    "print(\"-\"*100)\n",
    "print(textwrap.fill(f\"Graph RAG response: {graph_response}\", width=100))"
   ]
  },
  {
   "cell_type": "code",
   "execution_count": 14,
   "metadata": {},
   "outputs": [
    {
     "name": "stdout",
     "output_type": "stream",
     "text": [
      "Basic RAG response: Ivanka Trump's children, especially her son Theo, contributed to her sense of\n",
      "grounding and joy during her time in Washington, D.C. by providing her with comfort, joy, and a\n",
      "sense of purpose. Theo's gestures, such as making her coffee every morning, brought her joy and his\n",
      "presence provided her with stability and a sense of family amidst the chaos of politics. Ivanka\n",
      "prioritized her children over politics, finding fulfillment in serving her family and community in\n",
      "other ways. Ultimately, her children gave her a sense of grounding and purpose outside of the\n",
      "political arena.\n",
      "----------------------------------------------------------------------------------------------------\n",
      "Graph RAG response: Ivanka Trump's children, especially her son Theo, likely contributed to her\n",
      "sense of grounding and joy during her time in Washington, D.C. by providing her with stability,\n",
      "comfort, and happiness amidst the demanding environment of politics. Their presence brought moments\n",
      "of solace, love, and support, reminding her of the importance of family connections and personal\n",
      "relationships. Interactions with her children, especially Theo, likely served as a source of\n",
      "inspiration, motivation, and balance, helping her navigate the challenges of her professional\n",
      "responsibilities and find moments of joy and fulfillment in her personal life. Ultimately, Ivanka's\n",
      "children played a crucial role in grounding her and bringing her happiness during her time in\n",
      "Washington, D.C.\n"
     ]
    }
   ],
   "source": [
    "query = \"\"\"How did Ivanka Trump's children, particularly her son Theo, contribute to her sense of grounding and joy during her time in Washington, D.C.?\"\"\"\n",
    "basic_response, graph_response = await dual_rag.query_systems(query)\n",
    "\n",
    "print(textwrap.fill(f\"Basic RAG response: {basic_response}\", width=100))\n",
    "print(\"-\"*100)\n",
    "print(textwrap.fill(f\"Graph RAG response: {graph_response}\", width=100))"
   ]
  },
  {
   "cell_type": "code",
   "execution_count": 15,
   "metadata": {},
   "outputs": [
    {
     "name": "stdout",
     "output_type": "stream",
     "text": [
      "Basic RAG response: The Trump family, specifically Ivanka Trump, seems to be interested in country\n",
      "music. However, there is no specific mention of Donald Trump's music preferences in the provided\n",
      "context.\n",
      "----------------------------------------------------------------------------------------------------\n",
      "Graph RAG response: Based on the information provided in the community summaries, the Trump family\n",
      "appears to have an interest in a diverse range of music genres, including rock and roll, musical\n",
      "theater, pop, opera, and traditional pop. Specifically, Donald Trump seems to have a preference for\n",
      "classic and iconic music genres such as classic pop, rock, and jazz, as represented by artists like\n",
      "Elton John, Frank Sinatra, and Elvis Presley.\n"
     ]
    }
   ],
   "source": [
    "query = \"\"\"What type of music is the trump family interested in? Specifically what type of music does Donald trump like?\"\"\"\n",
    "basic_response, graph_response = await dual_rag.query_systems(query)\n",
    "\n",
    "print(textwrap.fill(f\"Basic RAG response: {basic_response}\", width=100))\n",
    "print(\"-\"*100)\n",
    "print(textwrap.fill(f\"Graph RAG response: {graph_response}\", width=100))"
   ]
  },
  {
   "cell_type": "code",
   "execution_count": 16,
   "metadata": {},
   "outputs": [
    {
     "name": "stdout",
     "output_type": "stream",
     "text": [
      "Basic RAG response: In the context provided, Ivanka Trump did not specifically mention her father's\n",
      "interests or hobbies other than politics. She mainly discussed their shared love for Dolly Parton's\n",
      "music and her experience of his legal turmoil.\n",
      "----------------------------------------------------------------------------------------------------\n",
      "Graph RAG response: Ivanka Trump has mentioned her father's interests in design, architecture,\n",
      "business, real estate, luxury properties like the Plaza Hotel, golf, fine dining, opulence,\n",
      "grandeur, creativity, aesthetic sensibilities, ambition, drive, achievements, reading philosophical\n",
      "writings, music (specifically Dolly Parton and Andrew Lloyd Webber), and his sense of humor. She has\n",
      "also highlighted his leadership qualities, collaboration with partners in various industries,\n",
      "involvement in brand campaigns, keen eye for seasonal aesthetics, and interactions with animals.\n",
      "Additionally, Ivanka Trump has highlighted her father's dedication to service to the American\n",
      "people, showcasing his commitment and pride in serving the nation.\n"
     ]
    }
   ],
   "source": [
    "query = \"\"\"What are some things that Ivanka trump has said about her father and his interests or hobbies other than politics?\"\"\"\n",
    "basic_response, graph_response = await dual_rag.query_systems(query)\n",
    "\n",
    "print(textwrap.fill(f\"Basic RAG response: {basic_response}\", width=100))\n",
    "print(\"-\"*100)\n",
    "print(textwrap.fill(f\"Graph RAG response: {graph_response}\", width=100))"
   ]
  },
  {
   "cell_type": "code",
   "execution_count": 20,
   "metadata": {},
   "outputs": [
    {
     "name": "stdout",
     "output_type": "stream",
     "text": [
      "Basic RAG response: Yes, Jiu-Jitsu is discussed in the podcast. The speaker talks about how\n",
      "practicing Jiu-Jitsu has empowered them with basic self-defense skills, instilled confidence, and\n",
      "increased awareness of their surroundings. They also mention the philosophical and historical\n",
      "aspects of martial arts, particularly in relation to the Valentine brothers' teachings, which\n",
      "include a code based on samurai principles. The speaker's children have memorized this code and\n",
      "apply it to their daily lives. Additionally, the speaker appreciates how Jiu-Jitsu teaches self-\n",
      "defense for real-life situations, not just for sport, and emphasizes the importance of humility and\n",
      "honesty that comes from the practice.\n",
      "----------------------------------------------------------------------------------------------------\n",
      "Graph RAG response: Yes, Jiu-Jitsu is discussed in the podcast. The daughter's interest in self-\n",
      "defense led her to learn Jiu Jitsu at the Valentine Brothers Studio, which was recommended by\n",
      "friends and family. Additionally, the speaker shares their positive experience at the studio,\n",
      "indicating that Jiu Jitsu is a significant aspect of the relationships and activities discussed in\n",
      "the podcast.\n"
     ]
    }
   ],
   "source": [
    "query = \"\"\"Is Jiu-Jitsu discussed in the podcast? If yes give me the details\"\"\"\n",
    "basic_response, graph_response = await dual_rag.query_systems(query)\n",
    "\n",
    "print(textwrap.fill(f\"Basic RAG response: {basic_response}\", width=100))\n",
    "print(\"-\"*100)\n",
    "print(textwrap.fill(f\"Graph RAG response: {graph_response}\", width=100))"
   ]
  },
  {
   "cell_type": "code",
   "execution_count": null,
   "metadata": {},
   "outputs": [],
   "source": []
  },
  {
   "cell_type": "code",
   "execution_count": null,
   "metadata": {},
   "outputs": [],
   "source": []
  },
  {
   "cell_type": "code",
   "execution_count": null,
   "metadata": {},
   "outputs": [],
   "source": []
  }
 ],
 "metadata": {
  "kernelspec": {
   "display_name": "rag-audio-env",
   "language": "python",
   "name": "python3"
  },
  "language_info": {
   "codemirror_mode": {
    "name": "ipython",
    "version": 3
   },
   "file_extension": ".py",
   "mimetype": "text/x-python",
   "name": "python",
   "nbconvert_exporter": "python",
   "pygments_lexer": "ipython3",
   "version": "3.12.4"
  }
 },
 "nbformat": 4,
 "nbformat_minor": 2
}
