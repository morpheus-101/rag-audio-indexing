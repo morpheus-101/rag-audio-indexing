{
 "cells": [
  {
   "cell_type": "markdown",
   "metadata": {},
   "source": [
    "## Basic RAG demo"
   ]
  },
  {
   "cell_type": "markdown",
   "metadata": {},
   "source": [
    "In this notebook we will see how to build a basic RAG pipeline to answer questions about an audio clip.\n",
    "\n",
    "The RAG pipeline consists of the following steps:\n",
    "1. Convert mp3 file to text and generate time stamps for each character\n",
    "2. Create textnodes and add them to a vector store\n",
    "3. Embedding retrieval from vector store\n",
    "4. Response Synthesis\n",
    "\n",
    "Most of the this RAG pipeline is built from scratch, using custom functions and classes for each step. \n",
    "Data processing, retrieval, and response synthesis are all handled in a custom manner therefore giving more flexibility and control over the pipeline.\n",
    "\n",
    "I've used Llamaindex for text node creation and basic utility and wrapper functions for RAG pipeline.\n",
    "\n",
    "As an example I'm using a podcast from Lex Friedman's podcast where he interviewed Ivanka Trump (https://www.youtube.com/watch?v=2oxdDKHdcM8&t=215s). This is a 3 hour podcast about Politics, Business,Real Estate, Fashion, Music, Architecture, etc."
   ]
  },
  {
   "cell_type": "markdown",
   "metadata": {},
   "source": [
    "### Setup path"
   ]
  },
  {
   "cell_type": "code",
   "execution_count": 1,
   "metadata": {},
   "outputs": [],
   "source": [
    "import sys\n",
    "import os\n",
    "import warnings\n",
    "warnings.filterwarnings('ignore')"
   ]
  },
  {
   "cell_type": "code",
   "execution_count": 2,
   "metadata": {},
   "outputs": [],
   "source": [
    "# Get the absolute path of the project root\n",
    "project_root = os.path.abspath(os.path.join(os.getcwd(), '..'))\n",
    "sys.path.append(project_root)"
   ]
  },
  {
   "cell_type": "markdown",
   "metadata": {},
   "source": [
    "### Step 0: (Optional) Download audio files from YouTube"
   ]
  },
  {
   "cell_type": "markdown",
   "metadata": {},
   "source": [
    "In this project, I'm using podcasts from youtube as examples. This step is not needed if you already have an mp3 file, skip to step 1 of this demo notebook."
   ]
  },
  {
   "cell_type": "markdown",
   "metadata": {},
   "source": [
    "Takes ~10 seconds to download a 3 hour podcast from YouTube."
   ]
  },
  {
   "cell_type": "code",
   "execution_count": 3,
   "metadata": {},
   "outputs": [
    {
     "name": "stdout",
     "output_type": "stream",
     "text": [
      "Downloading audio...\n",
      "Audio downloaded: /Users/rishikeshdhayarkar/rag-audio-indexing/data/audio_2/peter_thiel.mp3\n"
     ]
    }
   ],
   "source": [
    "from data_pull_and_prep.audio_from_yt import download_audio\n",
    "\n",
    "video_url = \"https://www.youtube.com/watch?v=2oxdDKHdcM8&t=215s\"  # Replace with your video URL\n",
    "video_name = \"ivanka_trump\"  # Replace with your video name\n",
    "output_dir = project_root+\"/data/audio_2/\"  # Replace with your output directory\n",
    "\n",
    "download_audio(video_url, video_name, output_dir)"
   ]
  },
  {
   "cell_type": "markdown",
   "metadata": {},
   "source": [
    "### Step 1: Convert mp3 file to text and generate time stamps for each character"
   ]
  },
  {
   "cell_type": "code",
   "execution_count": 3,
   "metadata": {},
   "outputs": [],
   "source": [
    "import data_pull_and_prep.utils as utils\n",
    "import data_pull_and_prep.data_preparation as data_prep\n",
    "import textwrap"
   ]
  },
  {
   "cell_type": "markdown",
   "metadata": {},
   "source": [
    "Convert audio to text using Open AI whisper"
   ]
  },
  {
   "cell_type": "code",
   "execution_count": 5,
   "metadata": {},
   "outputs": [],
   "source": [
    "audio_file_path = project_root+\"/data/audio_2/ivanka_trump.mp3\"\n",
    "transcription = data_prep.transcribe(audio_file_path)"
   ]
  },
  {
   "cell_type": "markdown",
   "metadata": {},
   "source": [
    "Transcribed output contains an id, piece of converted text, start time and end time in the audio clip for this text. \n",
    "\n",
    "Transcribed output from OpenAI whisper comes in chunks, with start time and end time for each chunk."
   ]
  },
  {
   "cell_type": "code",
   "execution_count": 7,
   "metadata": {},
   "outputs": [
    {
     "name": "stdout",
     "output_type": "stream",
     "text": [
      "2635\n",
      "id: 5\n",
      "text:  My pleasure. Thanks for having me.\n",
      "start time: 14.0\n",
      "end time: 16.0\n"
     ]
    }
   ],
   "source": [
    "print(len(transcription))\n",
    "print(f\"id: {transcription[5][0]}\")\n",
    "print(f\"text: {transcription[5][1]}\")\n",
    "print(f\"start time: {transcription[5][2]}\")\n",
    "print(f\"end time: {transcription[5][3]}\")"
   ]
  },
  {
   "cell_type": "markdown",
   "metadata": {},
   "source": [
    "For each such segment(above cell), calculate the time stamp for each character in text by interpolation.\n",
    "\n",
    "But why do we need character level time stamps?\n",
    "Character level timestamps provide the flexibility to create textchunks of any size."
   ]
  },
  {
   "cell_type": "code",
   "execution_count": 5,
   "metadata": {},
   "outputs": [],
   "source": [
    "transcription_with_char_timestamps = data_prep.map_characters_to_timestamps(transcription)"
   ]
  },
  {
   "cell_type": "code",
   "execution_count": null,
   "metadata": {},
   "outputs": [],
   "source": [
    "# Directly import if you have already computed character level timestamps.\n",
    "\n",
    "# transcription_with_char_timestamps = utils.import_pkl_file(project_root+\"/data/audio_1/ivanka_trump_transcription_char_timestamps.pkl\")"
   ]
  },
  {
   "cell_type": "code",
   "execution_count": 5,
   "metadata": {},
   "outputs": [
    {
     "name": "stdout",
     "output_type": "stream",
     "text": [
      "Total number of characters: 157283\n"
     ]
    },
    {
     "data": {
      "text/plain": [
       "[(' ', 0.0),\n",
       " ('T', 0.06449438202247192),\n",
       " ('h', 0.12898876404494383),\n",
       " ('e', 0.19348314606741573),\n",
       " (' ', 0.25797752808988766)]"
      ]
     },
     "execution_count": 5,
     "metadata": {},
     "output_type": "execute_result"
    }
   ],
   "source": [
    "print(f\"Total number of characters: {len(transcription_with_char_timestamps)}\")\n",
    "transcription_with_char_timestamps[:5]"
   ]
  },
  {
   "cell_type": "code",
   "execution_count": 8,
   "metadata": {},
   "outputs": [],
   "source": [
    "# Save character level timestamps\n",
    "\n",
    "# utils.save_as_pickle_file(directory=project_root+\"/data/audio_2/\",\n",
    "#                     filename=\"transcription_with_char_timestamps_peter_thiel.pkl\",\n",
    "#                     data=transcription_with_char_timestamps)"
   ]
  },
  {
   "cell_type": "markdown",
   "metadata": {},
   "source": [
    "Create custom chunks using SentenceSplitter from Llamaindex. Each text chunk has metadata with start and end time of the text chunk in the original audio clip."
   ]
  },
  {
   "cell_type": "code",
   "execution_count": 7,
   "metadata": {},
   "outputs": [],
   "source": [
    "custom_chunking_obj = data_prep.CreateCustomTextChunks(transcription_with_char_timestamps)\n",
    "text_chunks_with_timestamps = custom_chunking_obj.create_custom_text_chunks()"
   ]
  },
  {
   "cell_type": "code",
   "execution_count": 7,
   "metadata": {},
   "outputs": [
    {
     "name": "stdout",
     "output_type": "stream",
     "text": [
      "Number of text chunks: 42\n"
     ]
    }
   ],
   "source": [
    "print(f\"Number of text chunks: {len(text_chunks_with_timestamps)}\")"
   ]
  },
  {
   "cell_type": "markdown",
   "metadata": {},
   "source": [
    "### Step2: Create textnodes and add them to a vector store"
   ]
  },
  {
   "cell_type": "code",
   "execution_count": 5,
   "metadata": {},
   "outputs": [],
   "source": [
    "import basic_rag.rag as rag"
   ]
  },
  {
   "cell_type": "code",
   "execution_count": 8,
   "metadata": {},
   "outputs": [],
   "source": [
    "custom_ingestion_obj = rag.CustomRAG(\n",
    "              # Name of the index in pinecone\n",
    "              index_name=\"ivanka-08-28-via-class\",\n",
    "              text_chunks_with_timestamps=text_chunks_with_timestamps\n",
    "              )"
   ]
  },
  {
   "cell_type": "markdown",
   "metadata": {},
   "source": [
    "Takes ~60 seconds for a 3 to 4 hour podcastto upload all text nodes to pinecone vector store."
   ]
  },
  {
   "cell_type": "code",
   "execution_count": 9,
   "metadata": {},
   "outputs": [
    {
     "name": "stderr",
     "output_type": "stream",
     "text": [
      "100%|██████████| 42/42 [00:19<00:00,  2.17it/s]\n",
      "100%|██████████| 42/42 [00:17<00:00,  2.44it/s]\n",
      "100%|██████████| 42/42 [00:10<00:00,  4.06it/s]\n",
      "Upserted vectors: 100%|██████████| 42/42 [00:02<00:00, 18.53it/s]\n"
     ]
    }
   ],
   "source": [
    "await custom_ingestion_obj.create_text_nodes_and_add_to_vector_store()"
   ]
  },
  {
   "cell_type": "markdown",
   "metadata": {},
   "source": [
    "### Step 3: Embedding retrieval from vector store"
   ]
  },
  {
   "cell_type": "code",
   "execution_count": 10,
   "metadata": {},
   "outputs": [],
   "source": [
    "query_str = \"What does Ivanka Trump say about her children and husband?\""
   ]
  },
  {
   "cell_type": "code",
   "execution_count": 11,
   "metadata": {},
   "outputs": [],
   "source": [
    "custom_retriever_obj = rag.CustomRetriever(embed_model=custom_ingestion_obj.embed_model,\n",
    "                                           vector_store=custom_ingestion_obj.vector_store)\n",
    "query_result = custom_retriever_obj.retrieve(query=query_str)"
   ]
  },
  {
   "cell_type": "markdown",
   "metadata": {},
   "source": [
    "### Step 4: Response Synthesis"
   ]
  },
  {
   "cell_type": "code",
   "execution_count": 12,
   "metadata": {},
   "outputs": [],
   "source": [
    "import basic_rag.response_synthesizer as response_synthesizer"
   ]
  },
  {
   "cell_type": "code",
   "execution_count": 13,
   "metadata": {},
   "outputs": [],
   "source": [
    "async def run_aggregate_answers(summarizer, retrieved_nodes, query_str, num_children=10):\n",
    "    return await summarizer.generate_response_hs(\n",
    "        retrieved_nodes=retrieved_nodes,\n",
    "        query_str=query_str,\n",
    "        num_children=num_children\n",
    "    )"
   ]
  },
  {
   "cell_type": "code",
   "execution_count": null,
   "metadata": {},
   "outputs": [],
   "source": [
    "response_synthesizer_obj = response_synthesizer.aHierarchicalSummarizer(llm=custom_ingestion_obj.llm)\n",
    "response = await run_aggregate_answers(response_synthesizer_obj, query_result.nodes, query_str, 5)      \n",
    "\n",
    "print(textwrap.fill(response, 80))"
   ]
  },
  {
   "cell_type": "markdown",
   "metadata": {},
   "source": [
    "### A wrapper that takes query and returns an answer string(step 3 + step 4)"
   ]
  },
  {
   "cell_type": "code",
   "execution_count": 15,
   "metadata": {},
   "outputs": [],
   "source": [
    "from basic_rag.utils import aRetrieveAndAnswer"
   ]
  },
  {
   "cell_type": "code",
   "execution_count": 16,
   "metadata": {},
   "outputs": [],
   "source": [
    "raa = aRetrieveAndAnswer(ingestion_obj=custom_ingestion_obj)"
   ]
  },
  {
   "cell_type": "code",
   "execution_count": 18,
   "metadata": {},
   "outputs": [
    {
     "name": "stdout",
     "output_type": "stream",
     "text": [
      "Ivanka Trump enjoys live music and is a fan of Dolly Parton. She appreciates\n",
      "Dolly Parton's authenticity, talent, and positivity. Her daughter also attended\n",
      "Dolly Parton's concert at Madison Square Garden.\n"
     ]
    }
   ],
   "source": [
    "query_str = \"What are Ivanka Trump's thoughts on music?\"\n",
    "response_coroutine = raa.answer(query_str)\n",
    "print(textwrap.fill(await response_coroutine, 80))"
   ]
  },
  {
   "cell_type": "code",
   "execution_count": 28,
   "metadata": {},
   "outputs": [
    {
     "name": "stdout",
     "output_type": "stream",
     "text": [
      "The context provides information about live music performances, favorite live\n",
      "performances, watching old videos of musicians like Jango Ryan Hart, Adele's\n",
      "influence from Aretha Franklin, and Queen's live performances. It also discusses\n",
      "the experience of attending live music shows, the anticipation of choosing a\n",
      "show, and the communal aspect of going to concerts with friends. Additionally,\n",
      "there is mention of Michael Jackson attending a performance of \"One Moment in\n",
      "Time\" and being brought by someone's father, highlighting the impact of music\n",
      "and performance on individuals. Dolly Parton, a renowned country music singer,\n",
      "songwriter, and performer, is also discussed, with admiration for her\n",
      "authenticity, talent, and positive energy. The interviewer expresses interest in\n",
      "interviewing Dolly Parton due to her iconic status in the music industry.\n"
     ]
    }
   ],
   "source": [
    "query_str = \"There must be a music related stuff in the context. Give me more details on that.\"\n",
    "response_coroutine = raa.answer(query_str)\n",
    "print(textwrap.fill(await response_coroutine, 80))"
   ]
  },
  {
   "cell_type": "code",
   "execution_count": 29,
   "metadata": {},
   "outputs": [
    {
     "name": "stdout",
     "output_type": "stream",
     "text": [
      "Based on the context information provided, the incident involving Kim Kardashian\n",
      "and prisons was related to her advocacy work in criminal justice reform efforts.\n",
      "Specifically, she was involved in advocating for pardons and commutations for\n",
      "individuals who were deserving and overdue. This included working closely with\n",
      "Jared Kushner on the First Step Act, a piece of legislation that provided many\n",
      "people with another opportunity. Additionally, Kim Kardashian was mentioned as\n",
      "being on the phone with Corvon's mother late at night to inform her that her son\n",
      "would be getting out of prison the next day. This incident highlights Kim\n",
      "Kardashian's efforts in advocating for individuals impacted by the criminal\n",
      "justice system.\n"
     ]
    }
   ],
   "source": [
    "query_str = \"describe the incident with kim kardashian. Something about prisons\"\n",
    "response_coroutine = raa.answer(query_str)\n",
    "print(textwrap.fill(await response_coroutine, 80))"
   ]
  },
  {
   "cell_type": "code",
   "execution_count": 32,
   "metadata": {},
   "outputs": [
    {
     "name": "stdout",
     "output_type": "stream",
     "text": [
      "Ivanka Trump has not worked on any architectural projects based on the provided\n",
      "context information.\n"
     ]
    }
   ],
   "source": [
    "query_str = \"What are some architectural projects that Ivanka Trump has worked on?\"\n",
    "response_coroutine = raa.answer(query_str)\n",
    "print(textwrap.fill(await response_coroutine, 80))"
   ]
  },
  {
   "cell_type": "code",
   "execution_count": 31,
   "metadata": {},
   "outputs": [
    {
     "name": "stdout",
     "output_type": "stream",
     "text": [
      "New York City had a significant impact on Ivanka Trump's life in various ways.\n",
      "It was where she lived and worked during a crucial time in her career, juggling\n",
      "multiple successful businesses while raising her children. The city exposed her\n",
      "to the struggles of everyday Americans, influencing her decision to join her\n",
      "father's campaign and later his administration. The fast-paced and diverse\n",
      "environment likely shaped her perspective on tackling challenges in Washington.\n",
      "Additionally, growing up in NYC fueled her love for building and architecture,\n",
      "inspiring her career path. The city also provided her with a strong support\n",
      "system, which she missed when she moved to Washington, D.C. Overall, NYC played\n",
      "a pivotal role in Ivanka Trump's personal and professional growth, shaping her\n",
      "ambitions and connections.\n"
     ]
    }
   ],
   "source": [
    "query_str = \"Describe the impact of NYC on Ivanka Trump's life\"\n",
    "response_coroutine = raa.answer(query_str)\n",
    "print(textwrap.fill(await response_coroutine, 80))"
   ]
  },
  {
   "cell_type": "code",
   "execution_count": 33,
   "metadata": {},
   "outputs": [
    {
     "name": "stdout",
     "output_type": "stream",
     "text": [
      "Ivanka Trump has worked on various building projects, particularly in real\n",
      "estate development, with a focus on designing beautiful city skylines,\n",
      "especially in New York City. She has been involved in multidisciplinary aspects\n",
      "of real estate, including design, engineering, construction, time management,\n",
      "and project planning. While specific buildings are not mentioned in the context,\n",
      "it is clear that Ivanka Trump has been involved in various iconic structures and\n",
      "projects throughout her career in real estate development.\n"
     ]
    }
   ],
   "source": [
    "query_str = \"What buildings has Ivanka Trump worked on?\"\n",
    "response_coroutine = raa.answer(query_str)\n",
    "print(textwrap.fill(await response_coroutine, 80))"
   ]
  },
  {
   "cell_type": "code",
   "execution_count": 34,
   "metadata": {},
   "outputs": [
    {
     "name": "stdout",
     "output_type": "stream",
     "text": [
      "Ivanka Trump talks about the support she received from her husband and children\n",
      "during her time in Washington, mentioning how important they were to her. She\n",
      "describes how her husband, Jared, would make her coffee every morning as an act\n",
      "of love, and how her children brought levity and joy to her life, especially her\n",
      "youngest son, Theo, who learned how to make cappuccinos for her. She emphasizes\n",
      "the grounding and importance of having her family by her side during challenging\n",
      "times.\n"
     ]
    }
   ],
   "source": [
    "query_str = \"What does Ivanka Trump say about her children and husband?\"\n",
    "response_coroutine = raa.answer(query_str)\n",
    "print(textwrap.fill(await response_coroutine, 80))"
   ]
  },
  {
   "cell_type": "code",
   "execution_count": 35,
   "metadata": {},
   "outputs": [
    {
     "name": "stdout",
     "output_type": "stream",
     "text": [
      "As a senior advisor to the president, Ivanka Trump was involved in policy-\n",
      "making, decision-making, and advocacy on issues related to women, families,\n",
      "workforce development, economic initiatives, and tax cuts. She also focused on\n",
      "addressing social challenges such as homelessness and childcare issues, working\n",
      "towards finding solutions to these problems. Ivanka Trump worked on bipartisan\n",
      "projects and initiatives to make a positive impact and contribute to the\n",
      "betterment of society, despite facing criticism and attacks. Overall, her work\n",
      "involved a combination of policy development, advocacy, and coalition-building\n",
      "to achieve positive outcomes for the American people.\n"
     ]
    }
   ],
   "source": [
    "query_str = \"Describe the type of work Ivanka Trump did as a senior advisor to the president\"\n",
    "response_coroutine = raa.answer(query_str)\n",
    "print(textwrap.fill(await response_coroutine, 80))"
   ]
  },
  {
   "cell_type": "code",
   "execution_count": 36,
   "metadata": {},
   "outputs": [
    {
     "name": "stdout",
     "output_type": "stream",
     "text": [
      "Based on the context information provided, Ivanka Trump was involved in policy-\n",
      "making, negotiation, and building coalitions of support for tax cuts during her\n",
      "time in Washington.\n"
     ]
    }
   ],
   "source": [
    "query_str = \"Describe the type of work Ivanka Trump did on taxes\"\n",
    "response_coroutine = raa.answer(query_str)\n",
    "print(textwrap.fill(await response_coroutine, 80))"
   ]
  },
  {
   "cell_type": "code",
   "execution_count": 44,
   "metadata": {},
   "outputs": [
    {
     "name": "stdout",
     "output_type": "stream",
     "text": [
      "The renovation of the old post office building involved unique considerations\n",
      "and complexities in terms of layout and room configurations due to the fact that\n",
      "each of the almost 300 rooms had a different layout, making it impossible to\n",
      "repeat any design. The setbacks in the building required moving plumbing, adding\n",
      "to the complexity of the project. Additionally, preserving the historic exterior\n",
      "of the building was a priority, so any additions had to be done gently and\n",
      "signage additions had to be carefully considered. The meticulous restoration of\n",
      "the exterior was a key aspect of the renovation project, requiring careful\n",
      "restoration work to ensure that the original architectural features and design\n",
      "elements of the building were maintained.\n"
     ]
    }
   ],
   "source": [
    "query_str = \"\"\"What unique considerations and complexities were involved in the renovation of the old post \n",
    "office building, particularly in terms of layout, room configurations, and preserving the building's historic exterior?\"\"\"\n",
    "response_coroutine = raa.answer(query_str)\n",
    "print(textwrap.fill(await response_coroutine, 80))"
   ]
  },
  {
   "cell_type": "code",
   "execution_count": 48,
   "metadata": {},
   "outputs": [
    {
     "name": "stdout",
     "output_type": "stream",
     "text": [
      "Ivanka Trump's son Theo contributed to her sense of grounding and joy during her\n",
      "time in Washington, D.C. by learning how to make coffee for her every morning,\n",
      "bringing her a cappuccino as a loving gesture. This act of care and\n",
      "thoughtfulness from Theo helped Ivanka feel grounded and happy amidst the\n",
      "challenges of her career. Additionally, her children, including Theo, reminded\n",
      "her of the importance of family, love, and simple joys, providing her with a\n",
      "sense of normalcy and perspective in the midst of the pressures of her role in\n",
      "the political sphere. Their presence helped her stay connected to her values and\n",
      "priorities, bringing balance, strength, and inspiration to her life.\n"
     ]
    }
   ],
   "source": [
    "query_str = \"\"\"How did Ivanka Trump's children, particularly her son Theo, contribute to her sense of grounding and joy during her time in Washington, D.C.?\"\"\"\n",
    "response_coroutine = raa.answer(query_str)\n",
    "print(textwrap.fill(await response_coroutine, 80))"
   ]
  },
  {
   "cell_type": "code",
   "execution_count": 120,
   "metadata": {},
   "outputs": [
    {
     "name": "stdout",
     "output_type": "stream",
     "text": [
      "In her free time, Ivanka Trump enjoys designing city skylines, reading\n",
      "newspapers in bed while her husband brings her coffee, spending time with her\n",
      "children, working in real estate and fashion, and running the Trump Hotel\n",
      "collection. She also has a passion for architecture and the multidisciplinary\n",
      "aspects of real estate, as well as a strong interest in understanding and\n",
      "helping people in need.\n"
     ]
    }
   ],
   "source": [
    "query_str = \"\"\"What does Ivanka Trump like to do in her free time? What are her hobbies and interests?\"\"\"\n",
    "response_coroutine = raa.answer(query_str)\n",
    "print(textwrap.fill(await response_coroutine, 80))"
   ]
  },
  {
   "cell_type": "code",
   "execution_count": 124,
   "metadata": {},
   "outputs": [
    {
     "name": "stdout",
     "output_type": "stream",
     "text": [
      "Ivanka Trump mentioned that her father, Jared, used to make her coffee every\n",
      "morning as an act of love. She also shared a story about how their son, Theo,\n",
      "learned how to make a cappuccino and would bring it to her every morning with\n",
      "joy. These anecdotes show a more personal and family-oriented side of her\n",
      "father, focusing on his interests or hobbies outside of politics.\n"
     ]
    }
   ],
   "source": [
    "query_str = \"\"\"What are some things that Ivanka trump has said about her father and his interests or hobbies other than politics?\"\"\"\n",
    "response_coroutine = raa.answer(query_str)\n",
    "print(textwrap.fill(await response_coroutine, 80))"
   ]
  },
  {
   "cell_type": "code",
   "execution_count": 20,
   "metadata": {},
   "outputs": [
    {
     "name": "stdout",
     "output_type": "stream",
     "text": [
      "The Trump family, specifically Ivanka Trump, seems to be interested in country\n",
      "music. Ivanka mentioned her admiration for Dolly Parton, an iconic country\n",
      "musician. Donald Trump's music preferences are not explicitly mentioned in the\n",
      "context provided.\n"
     ]
    }
   ],
   "source": [
    "query_str = \"\"\"What type of music is the trump family interested in? Specifically what type of music does Donald trump like?\"\"\"\n",
    "response_coroutine = raa.answer(query_str)\n",
    "print(textwrap.fill(await response_coroutine, 80))"
   ]
  },
  {
   "cell_type": "code",
   "execution_count": 127,
   "metadata": {},
   "outputs": [
    {
     "name": "stdout",
     "output_type": "stream",
     "text": [
      "Mar-a-Lago is a resort and private club owned by the Trump family, located in\n",
      "Palm Beach, Florida. It has been a significant destination for the Trump family\n",
      "for vacations, events, and official functions during Donald Trump's presidency.\n",
      "The Trump family has been known to host events, entertain guests, and conduct\n",
      "meetings at Mar-a-Lago, reflecting their lifestyle and business interests in\n",
      "luxury hospitality and real estate. However, the high membership fees and\n",
      "potential conflicts of interest with President Trump's presidency have also made\n",
      "Mar-a-Lago a controversial location.\n"
     ]
    }
   ],
   "source": [
    "query_str = \"\"\"Give me context around Mar-a-lago and the Trump family\"\"\"\n",
    "response_coroutine = raa.answer(query_str)\n",
    "print(textwrap.fill(await response_coroutine, 80))"
   ]
  },
  {
   "cell_type": "code",
   "execution_count": 128,
   "metadata": {},
   "outputs": [
    {
     "name": "stdout",
     "output_type": "stream",
     "text": [
      "Based on the context information provided, it is not possible to determine\n",
      "whether or not Ivanka Trump's father likes music.\n"
     ]
    }
   ],
   "source": [
    "query_str = \"\"\"Does Ivanka trumps father like music?\"\"\"\n",
    "response_coroutine = raa.answer(query_str)\n",
    "print(textwrap.fill(await response_coroutine, 80))"
   ]
  },
  {
   "cell_type": "markdown",
   "metadata": {},
   "source": [
    "#### Don't know what questions to ask? Not a problem!"
   ]
  },
  {
   "cell_type": "markdown",
   "metadata": {},
   "source": [
    "As a part of textnode creation each textnode gets mappped to set of LLM generated relevant questions and topics/titles.\n",
    "\n",
    "Any number of random questions and topics/titles can be generated for a given audio clip. Each run of 'get_random_questions_and_titles' function generates new questions and topics."
   ]
  },
  {
   "cell_type": "code",
   "execution_count": 39,
   "metadata": {},
   "outputs": [],
   "source": [
    "from basic_rag.utils import RandomQuestionAndTopics"
   ]
  },
  {
   "cell_type": "code",
   "execution_count": 41,
   "metadata": {},
   "outputs": [],
   "source": [
    "random_questions_and_topics_obj = RandomQuestionAndTopics(ingestion_obj=custom_ingestion_obj)"
   ]
  },
  {
   "cell_type": "code",
   "execution_count": 119,
   "metadata": {},
   "outputs": [
    {
     "name": "stdout",
     "output_type": "stream",
     "text": [
      "╔═════════════════════════════════════════════════════════════════════════════╗\n",
      "║ Questions                                                                   ║\n",
      "╠═════════════════════════════════════════════════════════════════════════════╣\n",
      "║ 1. What similarities did the interviewee draw between ancient buildings in    ║\n",
      "║    Europe and giant trees in terms of history, energy, and stories emanating  ║\n",
      "║    from them?                                                                 ║\n",
      "║                                                                             ║\n",
      "║ 2. How did Ivanka Trump's personal experiences and interactions during the    ║\n",
      "║    campaign influence her decision to join her father in Washington?          ║\n",
      "║                                                                             ║\n",
      "║ 3. How did the individual in the excerpt prioritize their family over         ║\n",
      "║    engaging in politics, and what alternative ways did they find to serve     ║\n",
      "║    their community?                                                           ║\n",
      "╚═════════════════════════════════════════════════════════════════════════════╝\n",
      "\n",
      "╔═════════════════════════════════════════════════════════════════════════════╗\n",
      "║ Topics                                                                      ║\n",
      "╠═════════════════════════════════════════════════════════════════════════════╣\n",
      "║ 1. \"Architectural Inspirations: Exploring Beauty, Innovation, and             ║\n",
      "║    Collaboration in New York City\"                                            ║\n",
      "╚═════════════════════════════════════════════════════════════════════════════╝\n",
      "\n"
     ]
    }
   ],
   "source": [
    "random_questions_and_topics_obj.print_questions_and_topics(\n",
    "    random_questions_and_topics_obj.get_random_questions_and_titles())"
   ]
  },
  {
   "cell_type": "code",
   "execution_count": null,
   "metadata": {},
   "outputs": [],
   "source": []
  },
  {
   "cell_type": "code",
   "execution_count": null,
   "metadata": {},
   "outputs": [],
   "source": []
  }
 ],
 "metadata": {
  "kernelspec": {
   "display_name": "rag-audio-env",
   "language": "python",
   "name": "python3"
  },
  "language_info": {
   "codemirror_mode": {
    "name": "ipython",
    "version": 3
   },
   "file_extension": ".py",
   "mimetype": "text/x-python",
   "name": "python",
   "nbconvert_exporter": "python",
   "pygments_lexer": "ipython3",
   "version": "3.12.4"
  }
 },
 "nbformat": 4,
 "nbformat_minor": 2
}
