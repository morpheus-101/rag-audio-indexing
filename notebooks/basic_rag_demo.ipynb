{
 "cells": [
  {
   "cell_type": "markdown",
   "metadata": {},
   "source": [
    "### Setup paths"
   ]
  },
  {
   "cell_type": "code",
   "execution_count": 1,
   "metadata": {},
   "outputs": [],
   "source": [
    "import sys\n",
    "import os\n",
    "import warnings\n",
    "warnings.filterwarnings('ignore')"
   ]
  },
  {
   "cell_type": "code",
   "execution_count": 2,
   "metadata": {},
   "outputs": [],
   "source": [
    "# Get the absolute path of the project root\n",
    "project_root = os.path.abspath(os.path.join(os.getcwd(), '..'))\n",
    "sys.path.append(project_root)"
   ]
  },
  {
   "cell_type": "markdown",
   "metadata": {},
   "source": [
    "### Step 0: (Optional) Download audio files from YouTube"
   ]
  },
  {
   "cell_type": "markdown",
   "metadata": {},
   "source": [
    "In this project, I'm using podcasts from youtube as examples. This step is not needed if you already have an mp3 file, skip to step 1."
   ]
  },
  {
   "cell_type": "markdown",
   "metadata": {},
   "source": [
    "Takes ~10 seconds to download a 3 hour video"
   ]
  },
  {
   "cell_type": "code",
   "execution_count": 3,
   "metadata": {},
   "outputs": [
    {
     "name": "stdout",
     "output_type": "stream",
     "text": [
      "Downloading audio...\n",
      "Audio downloaded: /Users/rishikeshdhayarkar/rag-audio-indexing/data/audio_2/peter_thiel.mp3\n"
     ]
    }
   ],
   "source": [
    "from data_pull_and_prep.audio_from_yt import download_audio\n",
    "\n",
    "video_url = \"https://www.youtube.com/watch?v=klRb0_BAX9g\"  # Replace with your video URL\n",
    "video_name = \"peter_thiel\"  # Replace with your video name\n",
    "output_dir = project_root+\"/data/audio_2/\"  # Replace with your output directory\n",
    "\n",
    "download_audio(video_url, video_name, output_dir)"
   ]
  },
  {
   "cell_type": "markdown",
   "metadata": {},
   "source": [
    "### Step 1: Convert mp3 file to text and generate time stamps for each character"
   ]
  },
  {
   "cell_type": "code",
   "execution_count": 4,
   "metadata": {},
   "outputs": [],
   "source": [
    "import data_pull_and_prep.utils as utils\n",
    "import data_pull_and_prep.data_preparation as data_prep\n",
    "import textwrap"
   ]
  },
  {
   "cell_type": "markdown",
   "metadata": {},
   "source": [
    "Convert audio to text using Open AI whisper"
   ]
  },
  {
   "cell_type": "markdown",
   "metadata": {},
   "source": [
    "Takes ~6 minutes time to transcribe a ~3 hour video using OpenAI Whisper and it costs ~$0.05 "
   ]
  },
  {
   "cell_type": "code",
   "execution_count": 5,
   "metadata": {},
   "outputs": [],
   "source": [
    "audio_file_path = project_root+\"/data/audio_2/peter_thiel.mp3\"\n",
    "transcription = data_prep.transcribe(audio_file_path)"
   ]
  },
  {
   "cell_type": "markdown",
   "metadata": {},
   "source": [
    "Transcribed output contains an id, piece of converted text, start time and end time in the audio clip for this text. "
   ]
  },
  {
   "cell_type": "code",
   "execution_count": 7,
   "metadata": {},
   "outputs": [
    {
     "name": "stdout",
     "output_type": "stream",
     "text": [
      "2635\n",
      "id: 5\n",
      "text:  My pleasure. Thanks for having me.\n",
      "start time: 14.0\n",
      "end time: 16.0\n"
     ]
    }
   ],
   "source": [
    "print(len(transcription))\n",
    "print(f\"id: {transcription[5][0]}\")\n",
    "print(f\"text: {transcription[5][1]}\")\n",
    "print(f\"start time: {transcription[5][2]}\")\n",
    "print(f\"end time: {transcription[5][3]}\")"
   ]
  },
  {
   "cell_type": "markdown",
   "metadata": {},
   "source": [
    "For each such segment(above cell), calculate the time stamp for each character in text by interpolation.\n",
    "\n",
    "But why do we need character level time stamps?\n",
    "Character level timestamps provide the flexibility to create textchunks of any size."
   ]
  },
  {
   "cell_type": "code",
   "execution_count": 4,
   "metadata": {},
   "outputs": [],
   "source": [
    "# transcription_with_char_timestamps = utils.import_pkl_file(project_root+\"/data/audio_1/ivanka_trump_transcription_char_timestamps.pkl\")"
   ]
  },
  {
   "cell_type": "code",
   "execution_count": 8,
   "metadata": {},
   "outputs": [],
   "source": [
    "transcription_with_char_timestamps = data_prep.map_characters_to_timestamps(transcription)"
   ]
  },
  {
   "cell_type": "code",
   "execution_count": 9,
   "metadata": {},
   "outputs": [
    {
     "name": "stdout",
     "output_type": "stream",
     "text": [
      "Total number of characters: 188284\n"
     ]
    },
    {
     "data": {
      "text/plain": [
       "[(' ', 0.0),\n",
       " ('G', 0.12121212121212122),\n",
       " ('o', 0.24242424242424243),\n",
       " (' ', 0.36363636363636365),\n",
       " ('R', 0.48484848484848486)]"
      ]
     },
     "execution_count": 9,
     "metadata": {},
     "output_type": "execute_result"
    }
   ],
   "source": [
    "print(f\"Total number of characters: {len(transcription_with_char_timestamps)}\")\n",
    "transcription_with_char_timestamps[:5]"
   ]
  },
  {
   "cell_type": "markdown",
   "metadata": {},
   "source": [
    "Save character level timestamps"
   ]
  },
  {
   "cell_type": "code",
   "execution_count": 10,
   "metadata": {},
   "outputs": [],
   "source": [
    "utils.save_as_pickle_file(directory=project_root+\"/data/audio_2/\",\n",
    "                    filename=\"transcription_with_char_timestamps_peter_thiel.pkl\",\n",
    "                    data=transcription_with_char_timestamps)"
   ]
  },
  {
   "cell_type": "markdown",
   "metadata": {},
   "source": [
    "Create custom chunks using SentenceSplitter from Llamaindex."
   ]
  },
  {
   "cell_type": "code",
   "execution_count": 11,
   "metadata": {},
   "outputs": [],
   "source": [
    "custom_chunking_obj = data_prep.CreateCustomTextChunks(transcription_with_char_timestamps)\n",
    "text_chunks_with_timestamps = custom_chunking_obj.create_custom_text_chunks()"
   ]
  },
  {
   "cell_type": "code",
   "execution_count": 12,
   "metadata": {},
   "outputs": [
    {
     "name": "stdout",
     "output_type": "stream",
     "text": [
      "Number of text chunks: 54\n"
     ]
    }
   ],
   "source": [
    "print(f\"Number of text chunks: {len(text_chunks_with_timestamps)}\")"
   ]
  },
  {
   "cell_type": "code",
   "execution_count": 13,
   "metadata": {},
   "outputs": [
    {
     "name": "stdout",
     "output_type": "stream",
     "text": [
      "(\"Go Roman, fly gas, check it out! The Joe, Rogan, experience. Train my day, Joe Rogan, podcast my night all day! What's up, man? Good to see you. Glad to be on\n",
      "the show. My pleasure. Thanks for having me. My pleasure. What's cracking? How you doing? Doing all right? We were just talking about how you're still trapped\n",
      "in LA. I'm still trapped in LA. I know. Your friends are a lot of people out here. Have you thought about jettison? I talk about it all the time. But you know,\n",
      "it's always talk is often a substitute for action. It's always does it mean to action or does it end up substituting for action? That's a good point. But I have\n",
      "endless conversations about leaving. And moved from San Francisco to LA back in 2018. That felt about as big a move away as possible. And I keep the extreme\n",
      "thing I keep saying. And you're going to have to keep my talk as a substitute for action. The extreme thing I keep saying is I can't decide whether to leave the\n",
      "state or the country. Oh boy. And you know. It went out of the country where would you go? Man, it's tough to find places because there are a lot of problems in\n",
      "the US. And most places are doing so much worse. Yeah. So it's not a good move to leave here. That's a fucked up as this place is. But I keep thinking I\n",
      "shouldn't move twice. So I can't decide whether I should move to Florida or I should move to, you know, New Zealand or Costa Rica or something like that. Yeah.\n",
      "Yeah. Go full John McAfee. And so I can't decide between those two so I'm going to stick in California. Well, Australia is okay. But they're even worse when it\n",
      "comes to rule of law and what they decide to make you do and do either crack it down on people now for online speech. And it's very sketchy in other countries.\n",
      "It's, but somehow somehow the relative outperformance of the US and the absolute stagnation to climate the US, they're actually related things because the way\n",
      "the conversations grouped every time I say, tell someone, you know, I'm thinking about leaving the country, they'll do what you say and they'll say, well, every\n",
      "place is worse. And then that somehow distracts us from all the problems in this country. And then we can't talk about what's what's gone wrong in the US\n",
      "because, you know, everything is everything so much worse. You know, well, I think most people know what's gone wrong, but they don't know if they're on the\n",
      "side of the government that's currently in power, they don't know how to criticize it. They don't know exactly what to say, what should be done. Right. And\n",
      "they're ideologically connected to this group being correct. Right. So they try to do mental gymnastics to try to support some of the things that are going on.\n",
      "I think that's that's a part of the problem. I don't think it's necessarily that we don't know what the problems are. We know what the problems are, but we\n",
      "don't have clear solutions as to how to fix them. Nor do we understand the real mechanisms of how they got there in the first place. Yeah, I mean, there are a\n",
      "lot that are pretty obvious to articulate and they're much easier described than solve. Crazy, crazy budget deficit. Yeah. And presumably you have to do one of\n",
      "three things. You have to raise taxes a lot. You have to cut spending a lot. Or you're just going to keep borrowing money. Isn't there like some enormous amount\n",
      "of our taxes that just go to the deficit? It's not that high, but it's gone up a lot. What is it? I thought it was like, you know, it peaked at three points. I\n",
      "want to say it peaked at 3.1% of GDP, which is, you know, maybe 15, 20% of the budget. It peaked at 3.1% of GDP in 1991. And then it went all the way down to\n",
      "something like 1.5% in the mid-2010s. And now it's crept back up to 3.1, 3.2%. And so we are at all time highs as a percentage of GDP. And the way to understand\n",
      "the basic math is the debt went up a crazy amount.\", (0.12121212121212122, 246.93506493506493))\n"
     ]
    }
   ],
   "source": [
    "print(textwrap.fill(str(text_chunks_with_timestamps[0]), width=160))"
   ]
  },
  {
   "cell_type": "markdown",
   "metadata": {},
   "source": [
    "### Step2: Create textnodes and add them to a vector store"
   ]
  },
  {
   "cell_type": "code",
   "execution_count": 14,
   "metadata": {},
   "outputs": [],
   "source": [
    "import basic_rag.rag as rag\n",
    "from dotenv import load_dotenv\n",
    "\n",
    "dotenv_path = '.env'\n",
    "load_dotenv(dotenv_path=dotenv_path)\n",
    "\n",
    "pinecone_api_key = os.environ[\"PINECONE_API_KEY\"]\n",
    "openai_api_key = os.environ[\"OPENAI_API_KEY\"]"
   ]
  },
  {
   "cell_type": "code",
   "execution_count": 17,
   "metadata": {},
   "outputs": [],
   "source": [
    "custom_ingestion_obj = rag.CustomRAG(pinecone_api_key=pinecone_api_key,\n",
    "              openai_api_key=openai_api_key,\n",
    "              index_name=\"peter-thiel-08-27-via-class-trial1\",\n",
    "              text_chunks_with_timestamps=text_chunks_with_timestamps[:10]\n",
    "              )"
   ]
  },
  {
   "cell_type": "markdown",
   "metadata": {},
   "source": [
    "Takes ~10 seconds to upload all text nodes to pinecone vector store."
   ]
  },
  {
   "cell_type": "code",
   "execution_count": 18,
   "metadata": {},
   "outputs": [
    {
     "name": "stderr",
     "output_type": "stream",
     "text": [
      "100%|██████████| 5/5 [00:01<00:00,  3.63it/s]\n",
      "100%|██████████| 10/10 [00:06<00:00,  1.62it/s]\n",
      "Upserted vectors: 100%|██████████| 10/10 [00:01<00:00,  7.48it/s]\n"
     ]
    }
   ],
   "source": [
    "await custom_ingestion_obj.create_text_nodes_and_add_to_vector_store()"
   ]
  },
  {
   "cell_type": "markdown",
   "metadata": {},
   "source": [
    "### Step 3: Embedding retrieval from vector store"
   ]
  },
  {
   "cell_type": "code",
   "execution_count": 19,
   "metadata": {},
   "outputs": [],
   "source": [
    "query_str = \"What are peter thiel's thoughts on taxes collected for social security?\""
   ]
  },
  {
   "cell_type": "code",
   "execution_count": 20,
   "metadata": {},
   "outputs": [],
   "source": [
    "custom_retriever_obj = rag.CustomRetriever(embed_model=custom_ingestion_obj.embed_model,\n",
    "                                           vector_store=custom_ingestion_obj.vector_store)\n",
    "query_result = custom_retriever_obj.retrieve(query=query_str)"
   ]
  },
  {
   "cell_type": "markdown",
   "metadata": {},
   "source": [
    "### Step 4: Response Synthesis"
   ]
  },
  {
   "cell_type": "code",
   "execution_count": 22,
   "metadata": {},
   "outputs": [],
   "source": [
    "import basic_rag.response_synthesizer as response_synthesizer\n",
    "\n",
    "response_synthesizer_obj = response_synthesizer.HierarchicalSummarizer(llm=custom_ingestion_obj.llm)\n",
    "response = response_synthesizer_obj.generate_response_hs(retrieved_nodes=query_result.nodes, query_str=query_str)                                                         "
   ]
  },
  {
   "cell_type": "code",
   "execution_count": 23,
   "metadata": {},
   "outputs": [
    {
     "name": "stdout",
     "output_type": "stream",
     "text": [
      "Peter Thiel believes that the current social security tax system is regressive\n",
      "and should be changed. He argues that the tax should not be capped at a certain\n",
      "income level and should be more progressive. Thiel also believes that social\n",
      "security should be means tested, with benefits only going to those who truly\n",
      "need it.\n"
     ]
    }
   ],
   "source": [
    "print(textwrap.fill(response, 80))"
   ]
  },
  {
   "cell_type": "markdown",
   "metadata": {},
   "source": [
    "### A wrapper that takes query and returns an answer string(step 3 + step 4)"
   ]
  },
  {
   "cell_type": "code",
   "execution_count": 25,
   "metadata": {},
   "outputs": [],
   "source": [
    "from basic_rag.utils import RetrieveAndAnswer"
   ]
  },
  {
   "cell_type": "code",
   "execution_count": 27,
   "metadata": {},
   "outputs": [
    {
     "name": "stdout",
     "output_type": "stream",
     "text": [
      "Peter Thiel believes that the current social security tax system is regressive\n",
      "and should be changed. He argues that the tax should not be capped at a certain\n",
      "income level, as it currently is, and that it should be more progressive. Thiel\n",
      "also believes that social security should be means tested, so that only those\n",
      "who truly need it receive benefits. He suggests increasing the age for social\n",
      "security and gradually dialing back government benefits in order to mitigate the\n",
      "deficit issue. Thiel's views on taxes collected for social security align with\n",
      "his libertarian beliefs of smaller government and reducing government spending\n",
      "on social programs.\n"
     ]
    }
   ],
   "source": [
    "raa = RetrieveAndAnswer(ingestion_obj=custom_ingestion_obj)\n",
    "\n",
    "query_str = \"What are peter thiel's thoughts on taxes collected for social security?\"\n",
    "response = raa.answer(query_str)\n",
    "print(textwrap.fill(response, 80))"
   ]
  },
  {
   "cell_type": "code",
   "execution_count": 28,
   "metadata": {},
   "outputs": [
    {
     "name": "stdout",
     "output_type": "stream",
     "text": [
      "Peter Thiel uses the oil wealth analogy to compare the economic reliance of\n",
      "California on big tech companies like Google and Apple to Saudi Arabia's\n",
      "dependence on oil wealth. Just as Saudi Arabia's economy and government are\n",
      "sustained by oil revenue, California's economy benefits from the wealth\n",
      "generated by the tech industry. Thiel suggests that this significant source of\n",
      "wealth allows for the continuation of certain inefficiencies and distortions in\n",
      "the system, similar to how Saudi Arabia's oil wealth has sustained its economy\n",
      "despite criticisms of its governance. Thiel also extends this analogy to the\n",
      "future of technology, particularly in relation to artificial intelligence (AI),\n",
      "highlighting the potential dominance of big tech companies in the AI industry in\n",
      "a similar way to how oil wealth is concentrated in specific regions.\n"
     ]
    }
   ],
   "source": [
    "query_str = \"Explain the oil wealth analogy/scenario that Peter Thiel talks about.\"\n",
    "response = raa.answer(query_str)\n",
    "print(textwrap.fill(response, 80))"
   ]
  },
  {
   "cell_type": "code",
   "execution_count": null,
   "metadata": {},
   "outputs": [],
   "source": []
  },
  {
   "cell_type": "code",
   "execution_count": null,
   "metadata": {},
   "outputs": [],
   "source": []
  },
  {
   "cell_type": "code",
   "execution_count": null,
   "metadata": {},
   "outputs": [],
   "source": []
  },
  {
   "cell_type": "code",
   "execution_count": null,
   "metadata": {},
   "outputs": [],
   "source": []
  },
  {
   "cell_type": "code",
   "execution_count": null,
   "metadata": {},
   "outputs": [],
   "source": []
  },
  {
   "cell_type": "code",
   "execution_count": null,
   "metadata": {},
   "outputs": [],
   "source": []
  },
  {
   "cell_type": "code",
   "execution_count": null,
   "metadata": {},
   "outputs": [],
   "source": []
  }
 ],
 "metadata": {
  "kernelspec": {
   "display_name": "rag-audio-env",
   "language": "python",
   "name": "python3"
  },
  "language_info": {
   "codemirror_mode": {
    "name": "ipython",
    "version": 3
   },
   "file_extension": ".py",
   "mimetype": "text/x-python",
   "name": "python",
   "nbconvert_exporter": "python",
   "pygments_lexer": "ipython3",
   "version": "3.12.4"
  }
 },
 "nbformat": 4,
 "nbformat_minor": 2
}
