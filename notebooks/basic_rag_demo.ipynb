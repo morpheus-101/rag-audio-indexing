{
 "cells": [
  {
   "cell_type": "markdown",
   "metadata": {},
   "source": [
    "### Setup paths"
   ]
  },
  {
   "cell_type": "code",
   "execution_count": 1,
   "metadata": {},
   "outputs": [],
   "source": [
    "import sys\n",
    "import os\n",
    "import warnings\n",
    "warnings.filterwarnings('ignore')"
   ]
  },
  {
   "cell_type": "code",
   "execution_count": 2,
   "metadata": {},
   "outputs": [],
   "source": [
    "# Get the absolute path of the project root\n",
    "project_root = os.path.abspath(os.path.join(os.getcwd(), '..'))\n",
    "sys.path.append(project_root)"
   ]
  },
  {
   "cell_type": "markdown",
   "metadata": {},
   "source": [
    "### Step 0: (Optional) Download audio files from YouTube"
   ]
  },
  {
   "cell_type": "markdown",
   "metadata": {},
   "source": [
    "In this project, I'm using podcasts from youtube as examples. This step is not needed if you already have an mp3 file, skip to step 1."
   ]
  },
  {
   "cell_type": "markdown",
   "metadata": {},
   "source": [
    "Takes ~10 seconds to download a 3 hour video"
   ]
  },
  {
   "cell_type": "code",
   "execution_count": 3,
   "metadata": {},
   "outputs": [
    {
     "name": "stdout",
     "output_type": "stream",
     "text": [
      "Downloading audio...\n",
      "Audio downloaded: /Users/rishikeshdhayarkar/rag-audio-indexing/data/audio_2/peter_thiel.mp3\n"
     ]
    }
   ],
   "source": [
    "from data_pull_and_prep.audio_from_yt import download_audio\n",
    "\n",
    "video_url = \"https://www.youtube.com/watch?v=klRb0_BAX9g\"  # Replace with your video URL\n",
    "video_name = \"peter_thiel\"  # Replace with your video name\n",
    "output_dir = project_root+\"/data/audio_2/\"  # Replace with your output directory\n",
    "\n",
    "download_audio(video_url, video_name, output_dir)"
   ]
  },
  {
   "cell_type": "markdown",
   "metadata": {},
   "source": [
    "### Step 1: Convert mp3 file to text and generate time stamps for each character"
   ]
  },
  {
   "cell_type": "code",
   "execution_count": 3,
   "metadata": {},
   "outputs": [],
   "source": [
    "import data_pull_and_prep.utils as utils\n",
    "import data_pull_and_prep.data_preparation as data_prep\n",
    "import textwrap"
   ]
  },
  {
   "cell_type": "markdown",
   "metadata": {},
   "source": [
    "Convert audio to text using Open AI whisper"
   ]
  },
  {
   "cell_type": "markdown",
   "metadata": {},
   "source": [
    "Takes ~6 minutes time to transcribe a ~3 hour video using OpenAI Whisper and it costs ~$0.05 "
   ]
  },
  {
   "cell_type": "code",
   "execution_count": 5,
   "metadata": {},
   "outputs": [],
   "source": [
    "audio_file_path = project_root+\"/data/audio_2/peter_thiel.mp3\"\n",
    "transcription = data_prep.transcribe(audio_file_path)"
   ]
  },
  {
   "cell_type": "markdown",
   "metadata": {},
   "source": [
    "Transcribed output contains an id, piece of converted text, start time and end time in the audio clip for this text. "
   ]
  },
  {
   "cell_type": "code",
   "execution_count": 7,
   "metadata": {},
   "outputs": [
    {
     "name": "stdout",
     "output_type": "stream",
     "text": [
      "2635\n",
      "id: 5\n",
      "text:  My pleasure. Thanks for having me.\n",
      "start time: 14.0\n",
      "end time: 16.0\n"
     ]
    }
   ],
   "source": [
    "print(len(transcription))\n",
    "print(f\"id: {transcription[5][0]}\")\n",
    "print(f\"text: {transcription[5][1]}\")\n",
    "print(f\"start time: {transcription[5][2]}\")\n",
    "print(f\"end time: {transcription[5][3]}\")"
   ]
  },
  {
   "cell_type": "markdown",
   "metadata": {},
   "source": [
    "For each such segment(above cell), calculate the time stamp for each character in text by interpolation.\n",
    "\n",
    "But why do we need character level time stamps?\n",
    "Character level timestamps provide the flexibility to create textchunks of any size."
   ]
  },
  {
   "cell_type": "code",
   "execution_count": 4,
   "metadata": {},
   "outputs": [],
   "source": [
    "transcription_with_char_timestamps = utils.import_pkl_file(project_root+\"/data/audio_1/ivanka_trump_transcription_char_timestamps.pkl\")"
   ]
  },
  {
   "cell_type": "code",
   "execution_count": 5,
   "metadata": {},
   "outputs": [],
   "source": [
    "# transcription_with_char_timestamps = data_prep.map_characters_to_timestamps(transcription)"
   ]
  },
  {
   "cell_type": "code",
   "execution_count": 5,
   "metadata": {},
   "outputs": [
    {
     "name": "stdout",
     "output_type": "stream",
     "text": [
      "Total number of characters: 157283\n"
     ]
    },
    {
     "data": {
      "text/plain": [
       "[(' ', 0.0),\n",
       " ('T', 0.06449438202247192),\n",
       " ('h', 0.12898876404494383),\n",
       " ('e', 0.19348314606741573),\n",
       " (' ', 0.25797752808988766)]"
      ]
     },
     "execution_count": 5,
     "metadata": {},
     "output_type": "execute_result"
    }
   ],
   "source": [
    "print(f\"Total number of characters: {len(transcription_with_char_timestamps)}\")\n",
    "transcription_with_char_timestamps[:5]"
   ]
  },
  {
   "cell_type": "markdown",
   "metadata": {},
   "source": [
    "Save character level timestamps"
   ]
  },
  {
   "cell_type": "code",
   "execution_count": 8,
   "metadata": {},
   "outputs": [],
   "source": [
    "# utils.save_as_pickle_file(directory=project_root+\"/data/audio_2/\",\n",
    "#                     filename=\"transcription_with_char_timestamps_peter_thiel.pkl\",\n",
    "#                     data=transcription_with_char_timestamps)"
   ]
  },
  {
   "cell_type": "markdown",
   "metadata": {},
   "source": [
    "Create custom chunks using SentenceSplitter from Llamaindex."
   ]
  },
  {
   "cell_type": "code",
   "execution_count": 7,
   "metadata": {},
   "outputs": [],
   "source": [
    "custom_chunking_obj = data_prep.CreateCustomTextChunks(transcription_with_char_timestamps)\n",
    "text_chunks_with_timestamps = custom_chunking_obj.create_custom_text_chunks()"
   ]
  },
  {
   "cell_type": "code",
   "execution_count": 7,
   "metadata": {},
   "outputs": [
    {
     "name": "stdout",
     "output_type": "stream",
     "text": [
      "Number of text chunks: 42\n"
     ]
    }
   ],
   "source": [
    "print(f\"Number of text chunks: {len(text_chunks_with_timestamps)}\")"
   ]
  },
  {
   "cell_type": "code",
   "execution_count": 8,
   "metadata": {},
   "outputs": [
    {
     "name": "stdout",
     "output_type": "stream",
     "text": [
      "(\"The following is a conversation with Ivanka Trump, businesswoman, real estate developer, and former senior advisor to the President of the United States. I've\n",
      "gotten to know Ivanka well over the past two years. We've become good friends, hitting it off right away over our mutual love of reading, especially\n",
      "philosophical writings from Marcus Aurelius, Joseph Campbell, Alan Watts, Victor Franklin, and so on. She is a truly kind, compassionate, and thoughtful human\n",
      "being. In the past, people have attacked her. In my view, to get indirectly at her dad, Donald Trump, as part of a dirty game of politics and clickbait\n",
      "journalism. These attacks obscured many projects and efforts, often bipartisan, that she helped get done, and they obscured the truth of who she is as a human\n",
      "being. Through all that, she never returned the attacks with anything but kindness, and always walked through the fire of it all with grace. For this, and much\n",
      "more, she is an inspiration, and I'm honored to be able to call her a friend. Oh, and for those living in the United States, happy upcoming Fourth of July. It's\n",
      "both an anniversary of this country's declaration of independence, and an anniversary of my immigrating here to the U.S. I am forever grateful for this amazing\n",
      "country, for this amazing life, for all of you, who have given chance to a silicate like me. From the bottom of my heart. Thank you. I love you all. This is the\n",
      "Lex Freeman podcast to support it. Please check out our sponsors in the description. And now, dear friends, here's Ivanka Trump. You said that ever since you\n",
      "were young, you wanted to be a builder. That you loved the idea of designing beautiful city skylines, especially in New York City. I love the New York City\n",
      "skyline. So describe the origins of that love of building. I think there's both an incredible confidence and a total insecurity that comes with youth. So I\n",
      "remember 15. I would look out over the city skyline for my bedroom window in New York and imagine where I could contribute and add value in a way that I look\n",
      "back on and completely laugh at how confident I was. But I've known since my earliest memories, it's something I've wanted to do. And I think fundamentally I\n",
      "love art. I love expressions of beauty in so many different forms. With architecture, there's the tangible. And I think that marriage of function and something\n",
      "that exists beyond yourself is very compelling. I also grew up in a family where my mother was in the real estate business working alongside my father. My\n",
      "father was in the business and I saw the joy that had brought to them. So I think I had these natural positive associations. So you send me as a little girl\n",
      "renderings of projects they were about to embark on with notes asking if I would hurry up and finish school so I could come join them. So I had these positive\n",
      "associations. But I came from something within myself. I think that as I got older and as I got involved in real estate, I realized that it was so\n",
      "multidisciplinary. You have, of course, a design, but you also have engineering, the brass tax of construction, there's time management, there's project\n",
      "planning, just the duration of time to complete one of these iconic structures. It's enormous. You can contribute a decade of your life to one project. So while\n",
      "you have to think big picture, it means you really have to care deeply about the details because you live with them. So it allowed me to flex a lot of areas of\n",
      "interest. I love that confidence of youth. It's funny because we're all so insecure, right? In the most basic interactions, but yet our ambitions are so\n",
      "unbridled. In a way, they make shoe blushes and adults. I think it's fun. It's fun to tap into that energy. Yeah, where everything is possible. I think some of\n",
      "the greatest builders I've ever met kind of always have that little flame of everything is possible, still birding. That is a silly notion from youth, but it's\n",
      "not so silly. Everybody tells you something is impossible, but if you continue believing that it's possible, and I have that sort of naive notion that you could\n",
      "do it, even if it's exceptionally difficult, that naive notion turns into some of the greatest projects ever done. 100%. Going out the space or building a new\n",
      "company, where like everybody said, it's impossible to take it on a gigantic company and disrupting them and revolutionizing how stuff is done or doing huge\n",
      "building projects. Like you said, so many people are involved in making that happen. We get conditioned out of that feeling.\", (0.06449438202247192,\n",
      "316.72680412371136))\n"
     ]
    }
   ],
   "source": [
    "print(textwrap.fill(str(text_chunks_with_timestamps[0]), width=160))"
   ]
  },
  {
   "cell_type": "markdown",
   "metadata": {},
   "source": [
    "### Step2: Create textnodes and add them to a vector store"
   ]
  },
  {
   "cell_type": "code",
   "execution_count": 5,
   "metadata": {},
   "outputs": [],
   "source": [
    "import basic_rag.rag as rag"
   ]
  },
  {
   "cell_type": "code",
   "execution_count": 8,
   "metadata": {},
   "outputs": [],
   "source": [
    "custom_ingestion_obj = rag.CustomRAG(\n",
    "              index_name=\"ivanka-08-28-via-class\",\n",
    "              text_chunks_with_timestamps=text_chunks_with_timestamps\n",
    "              )"
   ]
  },
  {
   "cell_type": "markdown",
   "metadata": {},
   "source": [
    "Takes ~10 seconds to upload all text nodes to pinecone vector store."
   ]
  },
  {
   "cell_type": "code",
   "execution_count": 9,
   "metadata": {},
   "outputs": [
    {
     "name": "stderr",
     "output_type": "stream",
     "text": [
      "100%|██████████| 42/42 [00:19<00:00,  2.17it/s]\n",
      "100%|██████████| 42/42 [00:17<00:00,  2.44it/s]\n",
      "100%|██████████| 42/42 [00:10<00:00,  4.06it/s]\n",
      "Upserted vectors: 100%|██████████| 42/42 [00:02<00:00, 18.53it/s]\n"
     ]
    }
   ],
   "source": [
    "await custom_ingestion_obj.create_text_nodes_and_add_to_vector_store()"
   ]
  },
  {
   "cell_type": "markdown",
   "metadata": {},
   "source": [
    "### Step 3: Embedding retrieval from vector store"
   ]
  },
  {
   "cell_type": "code",
   "execution_count": 10,
   "metadata": {},
   "outputs": [],
   "source": [
    "query_str = \"What are some famous quotes mentioned in this podcast and who said them?\""
   ]
  },
  {
   "cell_type": "code",
   "execution_count": 11,
   "metadata": {},
   "outputs": [],
   "source": [
    "custom_retriever_obj = rag.CustomRetriever(embed_model=custom_ingestion_obj.embed_model,\n",
    "                                           vector_store=custom_ingestion_obj.vector_store)\n",
    "query_result = custom_retriever_obj.retrieve(query=query_str)"
   ]
  },
  {
   "cell_type": "markdown",
   "metadata": {},
   "source": [
    "### Step 4: Response Synthesis"
   ]
  },
  {
   "cell_type": "code",
   "execution_count": 12,
   "metadata": {},
   "outputs": [],
   "source": [
    "import basic_rag.response_synthesizer as response_synthesizer"
   ]
  },
  {
   "cell_type": "code",
   "execution_count": 13,
   "metadata": {},
   "outputs": [],
   "source": [
    "async def run_aggregate_answers(summarizer, retrieved_nodes, query_str, num_children=10):\n",
    "    return await summarizer.generate_response_hs(\n",
    "        retrieved_nodes=retrieved_nodes,\n",
    "        query_str=query_str,\n",
    "        num_children=num_children\n",
    "    )"
   ]
  },
  {
   "cell_type": "code",
   "execution_count": 14,
   "metadata": {},
   "outputs": [
    {
     "name": "stdout",
     "output_type": "stream",
     "text": [
      "1. \"Watch the stars and see yourself running with them\" - Marcus Aurelius 2.\n",
      "\"You're under no obligation to be the same person you were five minutes ago\" -\n",
      "Alan Watts 3. \"Radio Ga Ga\" - Queen 4. \"I torture myself\" - Jango Ryan Hart\n"
     ]
    }
   ],
   "source": [
    "response_synthesizer_obj = response_synthesizer.aHierarchicalSummarizer(llm=custom_ingestion_obj.llm)\n",
    "response = await run_aggregate_answers(response_synthesizer_obj, query_result.nodes, query_str, 5)      \n",
    "\n",
    "print(textwrap.fill(response, 80))"
   ]
  },
  {
   "cell_type": "markdown",
   "metadata": {},
   "source": [
    "### A wrapper that takes query and returns an answer string(step 3 + step 4)"
   ]
  },
  {
   "cell_type": "code",
   "execution_count": 15,
   "metadata": {},
   "outputs": [],
   "source": [
    "from basic_rag.utils import aRetrieveAndAnswer"
   ]
  },
  {
   "cell_type": "code",
   "execution_count": 16,
   "metadata": {},
   "outputs": [],
   "source": [
    "raa = aRetrieveAndAnswer(ingestion_obj=custom_ingestion_obj)"
   ]
  },
  {
   "cell_type": "code",
   "execution_count": 17,
   "metadata": {},
   "outputs": [
    {
     "name": "stdout",
     "output_type": "stream",
     "text": [
      "1. \"Watch the stars and see yourself running with them\" - Marcus Aurelius 2.\n",
      "\"She doesn't condemn or criticize, she loves and accepts\" - Dolly Parton 3.\n",
      "\"You're under no obligation to be the same person you were five minutes ago\" -\n",
      "Alan Watts 4. \"Radio Ga Ga\" - Freddie Mercury 5. \"Amazing Grace\" - performed by\n",
      "Aretha Franklin\n"
     ]
    }
   ],
   "source": [
    "query_str = \"What are some famous quotes mentioned in this podcast and who said them?\"\n",
    "response_coroutine = raa.answer(query_str)\n",
    "print(textwrap.fill(await response_coroutine, 80))"
   ]
  },
  {
   "cell_type": "code",
   "execution_count": 18,
   "metadata": {},
   "outputs": [
    {
     "name": "stdout",
     "output_type": "stream",
     "text": [
      "Ivanka Trump enjoys live music and is a fan of Dolly Parton. She appreciates\n",
      "Dolly Parton's authenticity, talent, and positivity. Her daughter also attended\n",
      "Dolly Parton's concert at Madison Square Garden.\n"
     ]
    }
   ],
   "source": [
    "query_str = \"What are Ivanka Trump's thoughts on music?\"\n",
    "response_coroutine = raa.answer(query_str)\n",
    "print(textwrap.fill(await response_coroutine, 80))"
   ]
  },
  {
   "cell_type": "code",
   "execution_count": 28,
   "metadata": {},
   "outputs": [
    {
     "name": "stdout",
     "output_type": "stream",
     "text": [
      "The context provides information about live music performances, favorite live\n",
      "performances, watching old videos of musicians like Jango Ryan Hart, Adele's\n",
      "influence from Aretha Franklin, and Queen's live performances. It also discusses\n",
      "the experience of attending live music shows, the anticipation of choosing a\n",
      "show, and the communal aspect of going to concerts with friends. Additionally,\n",
      "there is mention of Michael Jackson attending a performance of \"One Moment in\n",
      "Time\" and being brought by someone's father, highlighting the impact of music\n",
      "and performance on individuals. Dolly Parton, a renowned country music singer,\n",
      "songwriter, and performer, is also discussed, with admiration for her\n",
      "authenticity, talent, and positive energy. The interviewer expresses interest in\n",
      "interviewing Dolly Parton due to her iconic status in the music industry.\n"
     ]
    }
   ],
   "source": [
    "query_str = \"There must be a music related stuff in the context. Give me more details on that.\"\n",
    "response_coroutine = raa.answer(query_str)\n",
    "print(textwrap.fill(await response_coroutine, 80))"
   ]
  },
  {
   "cell_type": "code",
   "execution_count": 29,
   "metadata": {},
   "outputs": [
    {
     "name": "stdout",
     "output_type": "stream",
     "text": [
      "Based on the context information provided, the incident involving Kim Kardashian\n",
      "and prisons was related to her advocacy work in criminal justice reform efforts.\n",
      "Specifically, she was involved in advocating for pardons and commutations for\n",
      "individuals who were deserving and overdue. This included working closely with\n",
      "Jared Kushner on the First Step Act, a piece of legislation that provided many\n",
      "people with another opportunity. Additionally, Kim Kardashian was mentioned as\n",
      "being on the phone with Corvon's mother late at night to inform her that her son\n",
      "would be getting out of prison the next day. This incident highlights Kim\n",
      "Kardashian's efforts in advocating for individuals impacted by the criminal\n",
      "justice system.\n"
     ]
    }
   ],
   "source": [
    "query_str = \"describe the incident with kim kardashian. Something about prisons\"\n",
    "response_coroutine = raa.answer(query_str)\n",
    "print(textwrap.fill(await response_coroutine, 80))"
   ]
  },
  {
   "cell_type": "code",
   "execution_count": 32,
   "metadata": {},
   "outputs": [
    {
     "name": "stdout",
     "output_type": "stream",
     "text": [
      "Ivanka Trump has not worked on any architectural projects based on the provided\n",
      "context information.\n"
     ]
    }
   ],
   "source": [
    "query_str = \"What are some architectural projects that Ivanka Trump has worked on?\"\n",
    "response_coroutine = raa.answer(query_str)\n",
    "print(textwrap.fill(await response_coroutine, 80))"
   ]
  },
  {
   "cell_type": "code",
   "execution_count": 31,
   "metadata": {},
   "outputs": [
    {
     "name": "stdout",
     "output_type": "stream",
     "text": [
      "New York City had a significant impact on Ivanka Trump's life in various ways.\n",
      "It was where she lived and worked during a crucial time in her career, juggling\n",
      "multiple successful businesses while raising her children. The city exposed her\n",
      "to the struggles of everyday Americans, influencing her decision to join her\n",
      "father's campaign and later his administration. The fast-paced and diverse\n",
      "environment likely shaped her perspective on tackling challenges in Washington.\n",
      "Additionally, growing up in NYC fueled her love for building and architecture,\n",
      "inspiring her career path. The city also provided her with a strong support\n",
      "system, which she missed when she moved to Washington, D.C. Overall, NYC played\n",
      "a pivotal role in Ivanka Trump's personal and professional growth, shaping her\n",
      "ambitions and connections.\n"
     ]
    }
   ],
   "source": [
    "query_str = \"Describe the impact of NYC on Ivanka Trump's life\"\n",
    "response_coroutine = raa.answer(query_str)\n",
    "print(textwrap.fill(await response_coroutine, 80))"
   ]
  },
  {
   "cell_type": "code",
   "execution_count": 33,
   "metadata": {},
   "outputs": [
    {
     "name": "stdout",
     "output_type": "stream",
     "text": [
      "Ivanka Trump has worked on various building projects, particularly in real\n",
      "estate development, with a focus on designing beautiful city skylines,\n",
      "especially in New York City. She has been involved in multidisciplinary aspects\n",
      "of real estate, including design, engineering, construction, time management,\n",
      "and project planning. While specific buildings are not mentioned in the context,\n",
      "it is clear that Ivanka Trump has been involved in various iconic structures and\n",
      "projects throughout her career in real estate development.\n"
     ]
    }
   ],
   "source": [
    "query_str = \"What buildings has Ivanka Trump worked on?\"\n",
    "response_coroutine = raa.answer(query_str)\n",
    "print(textwrap.fill(await response_coroutine, 80))"
   ]
  },
  {
   "cell_type": "code",
   "execution_count": 34,
   "metadata": {},
   "outputs": [
    {
     "name": "stdout",
     "output_type": "stream",
     "text": [
      "Ivanka Trump talks about the support she received from her husband and children\n",
      "during her time in Washington, mentioning how important they were to her. She\n",
      "describes how her husband, Jared, would make her coffee every morning as an act\n",
      "of love, and how her children brought levity and joy to her life, especially her\n",
      "youngest son, Theo, who learned how to make cappuccinos for her. She emphasizes\n",
      "the grounding and importance of having her family by her side during challenging\n",
      "times.\n"
     ]
    }
   ],
   "source": [
    "query_str = \"What does Ivanka Trump say about her children and husband?\"\n",
    "response_coroutine = raa.answer(query_str)\n",
    "print(textwrap.fill(await response_coroutine, 80))"
   ]
  },
  {
   "cell_type": "code",
   "execution_count": 35,
   "metadata": {},
   "outputs": [
    {
     "name": "stdout",
     "output_type": "stream",
     "text": [
      "As a senior advisor to the president, Ivanka Trump was involved in policy-\n",
      "making, decision-making, and advocacy on issues related to women, families,\n",
      "workforce development, economic initiatives, and tax cuts. She also focused on\n",
      "addressing social challenges such as homelessness and childcare issues, working\n",
      "towards finding solutions to these problems. Ivanka Trump worked on bipartisan\n",
      "projects and initiatives to make a positive impact and contribute to the\n",
      "betterment of society, despite facing criticism and attacks. Overall, her work\n",
      "involved a combination of policy development, advocacy, and coalition-building\n",
      "to achieve positive outcomes for the American people.\n"
     ]
    }
   ],
   "source": [
    "query_str = \"Describe the type of work Ivanka Trump did as a senior advisor to the president\"\n",
    "response_coroutine = raa.answer(query_str)\n",
    "print(textwrap.fill(await response_coroutine, 80))"
   ]
  },
  {
   "cell_type": "code",
   "execution_count": 36,
   "metadata": {},
   "outputs": [
    {
     "name": "stdout",
     "output_type": "stream",
     "text": [
      "Based on the context information provided, Ivanka Trump was involved in policy-\n",
      "making, negotiation, and building coalitions of support for tax cuts during her\n",
      "time in Washington.\n"
     ]
    }
   ],
   "source": [
    "query_str = \"Describe the type of work Ivanka Trump did on taxes\"\n",
    "response_coroutine = raa.answer(query_str)\n",
    "print(textwrap.fill(await response_coroutine, 80))"
   ]
  },
  {
   "cell_type": "code",
   "execution_count": 44,
   "metadata": {},
   "outputs": [
    {
     "name": "stdout",
     "output_type": "stream",
     "text": [
      "The renovation of the old post office building involved unique considerations\n",
      "and complexities in terms of layout and room configurations due to the fact that\n",
      "each of the almost 300 rooms had a different layout, making it impossible to\n",
      "repeat any design. The setbacks in the building required moving plumbing, adding\n",
      "to the complexity of the project. Additionally, preserving the historic exterior\n",
      "of the building was a priority, so any additions had to be done gently and\n",
      "signage additions had to be carefully considered. The meticulous restoration of\n",
      "the exterior was a key aspect of the renovation project, requiring careful\n",
      "restoration work to ensure that the original architectural features and design\n",
      "elements of the building were maintained.\n"
     ]
    }
   ],
   "source": [
    "query_str = \"\"\"What unique considerations and complexities were involved in the renovation of the old post \n",
    "office building, particularly in terms of layout, room configurations, and preserving the building's historic exterior?\"\"\"\n",
    "response_coroutine = raa.answer(query_str)\n",
    "print(textwrap.fill(await response_coroutine, 80))"
   ]
  },
  {
   "cell_type": "code",
   "execution_count": 48,
   "metadata": {},
   "outputs": [
    {
     "name": "stdout",
     "output_type": "stream",
     "text": [
      "Ivanka Trump's son Theo contributed to her sense of grounding and joy during her\n",
      "time in Washington, D.C. by learning how to make coffee for her every morning,\n",
      "bringing her a cappuccino as a loving gesture. This act of care and\n",
      "thoughtfulness from Theo helped Ivanka feel grounded and happy amidst the\n",
      "challenges of her career. Additionally, her children, including Theo, reminded\n",
      "her of the importance of family, love, and simple joys, providing her with a\n",
      "sense of normalcy and perspective in the midst of the pressures of her role in\n",
      "the political sphere. Their presence helped her stay connected to her values and\n",
      "priorities, bringing balance, strength, and inspiration to her life.\n"
     ]
    }
   ],
   "source": [
    "query_str = \"\"\"How did Ivanka Trump's children, particularly her son Theo, contribute to her sense of grounding and joy during her time in Washington, D.C.?\"\"\"\n",
    "response_coroutine = raa.answer(query_str)\n",
    "print(textwrap.fill(await response_coroutine, 80))"
   ]
  },
  {
   "cell_type": "code",
   "execution_count": 120,
   "metadata": {},
   "outputs": [
    {
     "name": "stdout",
     "output_type": "stream",
     "text": [
      "In her free time, Ivanka Trump enjoys designing city skylines, reading\n",
      "newspapers in bed while her husband brings her coffee, spending time with her\n",
      "children, working in real estate and fashion, and running the Trump Hotel\n",
      "collection. She also has a passion for architecture and the multidisciplinary\n",
      "aspects of real estate, as well as a strong interest in understanding and\n",
      "helping people in need.\n"
     ]
    }
   ],
   "source": [
    "query_str = \"\"\"What does Ivanka Trump like to do in her free time? What are her hobbies and interests?\"\"\"\n",
    "response_coroutine = raa.answer(query_str)\n",
    "print(textwrap.fill(await response_coroutine, 80))"
   ]
  },
  {
   "cell_type": "code",
   "execution_count": 124,
   "metadata": {},
   "outputs": [
    {
     "name": "stdout",
     "output_type": "stream",
     "text": [
      "Ivanka Trump mentioned that her father, Jared, used to make her coffee every\n",
      "morning as an act of love. She also shared a story about how their son, Theo,\n",
      "learned how to make a cappuccino and would bring it to her every morning with\n",
      "joy. These anecdotes show a more personal and family-oriented side of her\n",
      "father, focusing on his interests or hobbies outside of politics.\n"
     ]
    }
   ],
   "source": [
    "query_str = \"\"\"What are some things that Ivanka trump has said about her father and his interests or hobbies other than politics?\"\"\"\n",
    "response_coroutine = raa.answer(query_str)\n",
    "print(textwrap.fill(await response_coroutine, 80))"
   ]
  },
  {
   "cell_type": "code",
   "execution_count": 125,
   "metadata": {},
   "outputs": [
    {
     "name": "stdout",
     "output_type": "stream",
     "text": [
      "Based on the context information provided, it is not possible to determine the\n",
      "specific type of music the Trump family is interested in or what type of music\n",
      "Donald Trump likes.\n"
     ]
    }
   ],
   "source": [
    "query_str = \"\"\"What type of music is the tump family interested in? Specifically what type of music does Donald trump like?\"\"\"\n",
    "response_coroutine = raa.answer(query_str)\n",
    "print(textwrap.fill(await response_coroutine, 80))"
   ]
  },
  {
   "cell_type": "code",
   "execution_count": 127,
   "metadata": {},
   "outputs": [
    {
     "name": "stdout",
     "output_type": "stream",
     "text": [
      "Mar-a-Lago is a resort and private club owned by the Trump family, located in\n",
      "Palm Beach, Florida. It has been a significant destination for the Trump family\n",
      "for vacations, events, and official functions during Donald Trump's presidency.\n",
      "The Trump family has been known to host events, entertain guests, and conduct\n",
      "meetings at Mar-a-Lago, reflecting their lifestyle and business interests in\n",
      "luxury hospitality and real estate. However, the high membership fees and\n",
      "potential conflicts of interest with President Trump's presidency have also made\n",
      "Mar-a-Lago a controversial location.\n"
     ]
    }
   ],
   "source": [
    "query_str = \"\"\"Give me context around Mar-a-lago and the Trump family\"\"\"\n",
    "response_coroutine = raa.answer(query_str)\n",
    "print(textwrap.fill(await response_coroutine, 80))"
   ]
  },
  {
   "cell_type": "code",
   "execution_count": 128,
   "metadata": {},
   "outputs": [
    {
     "name": "stdout",
     "output_type": "stream",
     "text": [
      "Based on the context information provided, it is not possible to determine\n",
      "whether or not Ivanka Trump's father likes music.\n"
     ]
    }
   ],
   "source": [
    "query_str = \"\"\"Does Ivanka trumps father like music?\"\"\"\n",
    "response_coroutine = raa.answer(query_str)\n",
    "print(textwrap.fill(await response_coroutine, 80))"
   ]
  },
  {
   "cell_type": "code",
   "execution_count": null,
   "metadata": {},
   "outputs": [],
   "source": []
  },
  {
   "cell_type": "code",
   "execution_count": null,
   "metadata": {},
   "outputs": [],
   "source": []
  },
  {
   "cell_type": "code",
   "execution_count": null,
   "metadata": {},
   "outputs": [],
   "source": []
  },
  {
   "cell_type": "code",
   "execution_count": null,
   "metadata": {},
   "outputs": [],
   "source": []
  },
  {
   "cell_type": "markdown",
   "metadata": {},
   "source": [
    "#### Don't know what questions to ask? Not a problem!"
   ]
  },
  {
   "cell_type": "markdown",
   "metadata": {},
   "source": [
    "As a part of textnode creation each textnode gets mappped to set of LLM generated relevant questions and topics/titles.\n",
    "\n",
    "Any number of random questions and topics/titles can be generated for a given audio clip. Each run of 'get_random_questions_and_titles' function generates new questions and topics."
   ]
  },
  {
   "cell_type": "code",
   "execution_count": 39,
   "metadata": {},
   "outputs": [],
   "source": [
    "from basic_rag.utils import RandomQuestionAndTopics"
   ]
  },
  {
   "cell_type": "code",
   "execution_count": 41,
   "metadata": {},
   "outputs": [],
   "source": [
    "random_questions_and_topics_obj = RandomQuestionAndTopics(ingestion_obj=custom_ingestion_obj)"
   ]
  },
  {
   "cell_type": "code",
   "execution_count": 119,
   "metadata": {},
   "outputs": [
    {
     "name": "stdout",
     "output_type": "stream",
     "text": [
      "╔═════════════════════════════════════════════════════════════════════════════╗\n",
      "║ Questions                                                                   ║\n",
      "╠═════════════════════════════════════════════════════════════════════════════╣\n",
      "║ 1. What similarities did the interviewee draw between ancient buildings in    ║\n",
      "║    Europe and giant trees in terms of history, energy, and stories emanating  ║\n",
      "║    from them?                                                                 ║\n",
      "║                                                                             ║\n",
      "║ 2. How did Ivanka Trump's personal experiences and interactions during the    ║\n",
      "║    campaign influence her decision to join her father in Washington?          ║\n",
      "║                                                                             ║\n",
      "║ 3. How did the individual in the excerpt prioritize their family over         ║\n",
      "║    engaging in politics, and what alternative ways did they find to serve     ║\n",
      "║    their community?                                                           ║\n",
      "╚═════════════════════════════════════════════════════════════════════════════╝\n",
      "\n",
      "╔═════════════════════════════════════════════════════════════════════════════╗\n",
      "║ Topics                                                                      ║\n",
      "╠═════════════════════════════════════════════════════════════════════════════╣\n",
      "║ 1. \"Architectural Inspirations: Exploring Beauty, Innovation, and             ║\n",
      "║    Collaboration in New York City\"                                            ║\n",
      "╚═════════════════════════════════════════════════════════════════════════════╝\n",
      "\n"
     ]
    }
   ],
   "source": [
    "random_questions_and_topics_obj.print_questions_and_topics(\n",
    "    random_questions_and_topics_obj.get_random_questions_and_titles())"
   ]
  },
  {
   "cell_type": "code",
   "execution_count": 110,
   "metadata": {},
   "outputs": [
    {
     "name": "stdout",
     "output_type": "stream",
     "text": [
      "42\n"
     ]
    }
   ],
   "source": [
    "print(len(custom_ingestion_obj.all_nodes))"
   ]
  },
  {
   "cell_type": "code",
   "execution_count": 112,
   "metadata": {},
   "outputs": [
    {
     "name": "stdout",
     "output_type": "stream",
     "text": [
      "{'\"Architectural Inspirations: Exploring Beauty, Innovation, and Collaboration in New York City\"'}\n"
     ]
    }
   ],
   "source": [
    "all_document_titles = []\n",
    "for i in range(len(custom_ingestion_obj.all_nodes)):\n",
    "    all_document_titles.append(custom_ingestion_obj.all_nodes[i].metadata['document_title'])\n",
    "\n",
    "print(set(all_document_titles))"
   ]
  },
  {
   "cell_type": "code",
   "execution_count": 113,
   "metadata": {},
   "outputs": [
    {
     "name": "stdout",
     "output_type": "stream",
     "text": [
      "1. How did Ivanka Trump's fashion brand cater to the needs of the modern, multi-dimensional woman who works in various aspects of her life? 2. What challenges did Ivanka Trump face\n",
      "in creating a successful fashion brand, and how did she overcome them with the help of her partners? 3. How did Ivanka Trump's approach to designing and creating fashion products\n",
      "lead to a strong emotional connection with her customers, as evidenced by their continued love and appreciation for her shoes and other products years later?\n",
      "----------------------------------------------------------------------------------------------------\n",
      "1. How did the process of doubling the child tax credit involve meeting with lawmakers, convincing them of the policy's benefits, and campaigning in their districts to gain\n",
      "support? 2. What impact did the doubling of the child tax credit have on American families, with 40 million families receiving an average of $2,200 each year as a result? 3. Can\n",
      "you provide an example of a specific individual, like Brittany Houseman, whose life was positively impacted by government policies such as the child care block grants, leading to\n",
      "the creation of opportunities for them to succeed and help others in need?\n",
      "----------------------------------------------------------------------------------------------------\n",
      "1. How did growing up in communist Czechoslovakia and experiencing the Prague Spring of 1968 shape the life and perspective of the individual's mother? 2. What lessons did the\n",
      "individual learn from their mother's experiences as an Olympic skier, fashion mogul, and real estate executive, and how did these lessons influence their own approach to life? 3.\n",
      "How did the individual's mother balance ambition and relaxation, and what insights can be gained from her ability to pursue big goals while also enjoying the simple moments in\n",
      "life?\n",
      "----------------------------------------------------------------------------------------------------\n",
      "1. How did Ivanka Trump balance her role as a public servant in the White House with her responsibilities as a parent to her young children? 2. What role did family support play in\n",
      "Ivanka Trump's experience working in the White House? 3. How did Ivanka Trump's children, particularly her son Theo, contribute to her sense of grounding and joy during her time in\n",
      "Washington, D.C.?\n",
      "----------------------------------------------------------------------------------------------------\n",
      "1. How did Ivanka Trump's personal experiences and interactions during the campaign influence her decision to join her father in Washington? 2. What challenges did Ivanka Trump\n",
      "face in trying to get things done in Washington, particularly in terms of building coalitions and finding compromise? 3. Can Ivanka Trump provide insights into the difficulties and\n",
      "complexities of implementing highly consequential policies that impact people's lives at scale in Washington?\n",
      "----------------------------------------------------------------------------------------------------\n",
      "1. How did Ivanka Trump's childhood experiences and family background influence her passion for architecture and real estate development, particularly in New York City? 2. What\n",
      "aspects of architecture and real estate development does Ivanka Trump find most compelling, and how does she approach the multidisciplinary nature of these fields? 3. How does\n",
      "Ivanka Trump's perspective on the confidence and ambition of youth influence her approach to tackling challenging projects in the realms of architecture and real estate\n",
      "development?\n",
      "----------------------------------------------------------------------------------------------------\n",
      "1. How has the speaker's perspective on the power of words and the impact of negativity evolved over the years, and how does this influence their approach to communication and\n",
      "relationships? 2. In what ways has the speaker's time in Washington DC and their experiences after shaped their personal growth and evolution, as discussed in the excerpt? 3. What\n",
      "factors and personal considerations led the speaker to make the decision to prioritize their family and step away from political involvement in the 2024 campaign, as outlined in\n",
      "the document?\n",
      "----------------------------------------------------------------------------------------------------\n",
      "1. How did the speaker's daughter inspire them to start practicing jiu jitsu? 2. What impact did learning jiu jitsu have on the speaker's sense of empowerment and confidence? 3.\n",
      "How did the speaker's experience with live music performances influence their perspective on being present and engaged in the moment?\n",
      "----------------------------------------------------------------------------------------------------\n",
      "1. How did the experience of being involved in a presidential campaign change the perspective and understanding of the individual in the excerpt? 2. What insights were gained about\n",
      "the common struggles and concerns of people across different regions of the United States during the individual's interactions with them? 3. How did the intense scrutiny and noise\n",
      "surrounding the presidential campaign impact the individual's personal growth and understanding of the diversity and unity within the country?\n",
      "----------------------------------------------------------------------------------------------------\n",
      "1. How did the experience of being alone in the jungle and observing the natural world impact the individual's perspective on their place in the broader sense of the world? 2. What\n",
      "unique challenges and experiences did the individual face while learning to surf, particularly in terms of dealing with the power of the ocean and waves? 3. How did the\n",
      "individual's life change when their father decided to run for president, and how did this sudden shift in circumstances affect their family dynamic and daily life?\n",
      "----------------------------------------------------------------------------------------------------\n",
      "1. How does the speaker feel about the future of human civilization and what gives them hope? 2. What role does the speaker believe curiosity and exploration play in the context of\n",
      "interplanetary travel and the need to protect Earth? 3. How does the speaker view humanity as a species and what aspects of humanity give them hope for the future?\n",
      "----------------------------------------------------------------------------------------------------\n",
      "1. How did the speaker's experience with renovating a large property with unique rooms and layouts differ from building from scratch? 2. What role did the speaker's attention to\n",
      "detail and passion for the art of design play in the success of their renovation projects? 3. How did the speaker's mother, who was a trailblazing businesswoman and adventurer,\n",
      "influence their approach to life and work?\n",
      "----------------------------------------------------------------------------------------------------\n",
      "1. How did Victor Franco's philosophy and experiences influence the speaker's perspective on finding joy and meaning in life? 2. How did the speaker's mother's love for the sea and\n",
      "glamorous lifestyle impact the speaker's own preferences and experiences? 3. In what ways did the speaker's experiences in the jungle, particularly with dehydration, shape their\n",
      "gratitude for basic necessities like water and health?\n",
      "----------------------------------------------------------------------------------------------------\n",
      "1. How does the individual in the document handle personal attacks and criticism, and what philosophy guides their response to negativity? 2. What is the significance of the\n",
      "concept of Lush and Harrah in Judaism, and how does it influence the individual's approach to dealing with negativity and conflict? 3. How does the individual navigate\n",
      "interpersonal conflicts, particularly within their family dynamics, and what lessons do they impart to their children about resolving conflicts and maintaining positive\n",
      "relationships?\n",
      "----------------------------------------------------------------------------------------------------\n",
      "1. How does the architect view the balance between beauty and function in architecture, and what role does the use of a building play in their design philosophy? 2. What are some\n",
      "examples of iconic bridges that the architect finds particularly inspiring, and how do they represent a combination of both function and beauty? 3. Can the architect provide\n",
      "insights into the challenges and complexities involved in redevelopment projects compared to ground-up construction, based on their experience working on projects like the old post\n",
      "office building and Trump Doral in Miami?\n",
      "----------------------------------------------------------------------------------------------------\n",
      "1. How did the speaker use their final days in the administration to focus on pardons and commutations for individuals they believed were deserving? 2. What was the impact of the\n",
      "first step act on criminal justice reform, and how did the speaker collaborate with others to support this legislation? 3. How did the speaker's involvement in advocating for\n",
      "pardons and commutations lead to meaningful outcomes for individuals and their families, as exemplified by the story of Corvon and his mother?\n",
      "----------------------------------------------------------------------------------------------------\n",
      "1. How did being a contestant on \"The Apprentice\" impact the individual's understanding of teamwork, time management, and marketing strategies? 2. What unique insights did the\n",
      "individual gain from being part of a successful business reality show that was later studied in business schools? 3. How did the experience of being on television and having to\n",
      "watch oneself on screen impact the individual's self-awareness and comfort level with being in the public eye?\n",
      "----------------------------------------------------------------------------------------------------\n",
      "1. How did the renovation of the old post office building in Washington, D.C., showcase the challenges and opportunities of repurposing historic structures while maintaining their\n",
      "architectural beauty and integrity? 2. What unique considerations and complexities were involved in the renovation of the old post office building, particularly in terms of layout,\n",
      "room configurations, and preserving the building's historic exterior? 3. How did the public-private partnership approach contribute to the successful renovation of the old post\n",
      "office building, and what lessons can be learned from this project in terms of collaboration, vision, and execution in architectural redevelopment projects?\n",
      "----------------------------------------------------------------------------------------------------\n",
      "1. How did the individual in the excerpt prioritize their family over engaging in politics, and what alternative ways did they find to serve their community? 2. What personal\n",
      "struggles did the individual face in deciding not to participate in politics, and how did their love for their father influence this decision? 3. How does the individual's\n",
      "admiration for Dolly Parton reflect their own values and beliefs, and how does Dolly Parton's authenticity inspire them in their own life choices?\n",
      "----------------------------------------------------------------------------------------------------\n",
      "1. How did the speaker approach the process of bringing an idea to life in their fashion business, particularly in terms of collaboration and maintaining cohesion across different\n",
      "product categories? 2. What role did having a strong sense of personal taste and vision play in the speaker's success in the fashion industry, and how did they navigate the\n",
      "challenges of curating a team and making design decisions based on their own vision? 3. Can the speaker elaborate on the importance of having the right partners in the fashion\n",
      "industry, particularly in terms of design, engineering, and affordability, and how did these partnerships contribute to the success of their product offerings?\n",
      "----------------------------------------------------------------------------------------------------\n",
      "1. How did the speaker's grandmother influence their love for reading and their approach to fashion and comfort? 2. What role did the speaker's grandmother play in their upbringing\n",
      "and family dynamics, especially in the absence of their mother? 3. How did the speaker's grandmother's love for reading and cooking shape their childhood memories and family\n",
      "traditions?\n",
      "----------------------------------------------------------------------------------------------------\n",
      "1. How did the process of questioning and seeking feedback from workers on the ground level lead to significant cost savings and improvements in the design of a mechanical system\n",
      "in a construction project? 2. In what ways did the hierarchical structure of large organizations, such as government agencies, hinder innovation and efficiency compared to more\n",
      "flat organizational structures seen in successful companies like Apple and Google? 3. How can leaders navigate the challenge of maintaining a culture of innovation and direct\n",
      "feedback in a growing company, while also addressing resistance to change and bureaucracy that may arise within the organization?\n",
      "----------------------------------------------------------------------------------------------------\n",
      "1. How did the individual in the document advocate for paid family leave and what policies did they help implement to expand access to it? 2. What surprising lack of discussion was\n",
      "discovered by the individual in regards to certain policy issues, and how did they approach addressing this issue? 3. How did the individual navigate bipartisan cooperation and\n",
      "trust-building in advancing policies such as tax cuts and the Great American Outdoors Act, and what lessons did they learn from these experiences?\n",
      "----------------------------------------------------------------------------------------------------\n",
      "1. How did the speaker's children teach them to reconnect with simple joys and playfulness in their everyday lives? 2. How did the speaker and their children create a sheltered and\n",
      "protected home life away from the distractions of technology and the outside world? 3. How did the speaker's son Theo learn to make coffee and bring joy to their mornings through\n",
      "this act of love and care?\n",
      "----------------------------------------------------------------------------------------------------\n",
      "1. How does the architecture in New York City reflect a tapestry of different styles, from Gothic to Art Deco to modernist examples? 2. What is the significance of the water\n",
      "feature in the New York City skyline, particularly in relation to the reflection of towers off the water surface? 3. How does the competition between New York and Chicago for\n",
      "dominance of the sky influence the quality and innovation of architectural projects in these cities?\n",
      "----------------------------------------------------------------------------------------------------\n",
      "1. How did the protagonist's grandfather influence their childhood and upbringing, particularly in terms of athleticism and family dynamics? 2. What role did the protagonist's\n",
      "English teacher play in shaping their literary interests and understanding of classic literature? 3. How did the protagonist's father's sense of humor and love for music impact\n",
      "their upbringing and personal interests, particularly in relation to Broadway musicals and classic artists like Sinatra and Elvis?\n",
      "----------------------------------------------------------------------------------------------------\n",
      "1. How did the experience of working on a political campaign and later joining the White House as an advisor impact the individual's perspective on political divisions and the\n",
      "media portrayal of them? 2. In what ways did the individual's background and upbringing in New York City shape their understanding of political discourse and social media dynamics\n",
      "during their time in the campaign and White House? 3. How did the individual's personal and professional responsibilities, including managing a real estate and fashion business and\n",
      "raising a young family, influence their decision to join the White House as an advisor after the campaign?\n",
      "----------------------------------------------------------------------------------------------------\n",
      "1. How can parents reconnect with their inner child and experience joy through playful activities with their children? 2. In what ways can coaches tailor their approach to training\n",
      "and mentoring athletes based on individual needs and preferences? 3. How can parents navigate the challenges of meeting the unique needs of each child while fostering a sense of\n",
      "fairness and understanding in the family dynamic?\n",
      "----------------------------------------------------------------------------------------------------\n",
      "1. How has the fear of not measuring up and the pressure of growing up with successful parents influenced the individual's drive for self-improvement and pushing outside of their\n",
      "comfort zone? 2. How does the individual balance intuition and rigorous analysis in their decision-making process, and how has age and experience shaped their approach to trusting\n",
      "their instincts? 3. How has the individual's perspective on impulsivity and following one's gut evolved with age and experience, and how do they believe wisdom and deliberation can\n",
      "impact decision-making compared to the confidence and impulsivity of youth?\n",
      "----------------------------------------------------------------------------------------------------\n",
      "1. How did the competition between New York and Chicago for dominance of the skyline influence the architectural styles and innovations seen in both cities during the early 20th\n",
      "century? 2. What role did traditional architectural styles, such as Gothic and Art Deco, play in shaping the iconic buildings of New York City and Chicago, and how were these\n",
      "styles adapted to modern skyscraper construction? 3. How does the use of reflective glass in modern architecture, as exemplified by buildings like Trump Chicago, contribute to the\n",
      "overall aesthetic and functionality of a building, and what considerations must be taken into account when selecting and implementing this material in design?\n",
      "----------------------------------------------------------------------------------------------------\n",
      "1. How did Alice Johnson's experience in prison lead to her involvement in advocating for criminal justice reform and helping others receive pardons and commutations? 2. What\n",
      "impact did the First Step Act have on individuals serving time for non-violent drug offenses in the federal prison system? 3. How did Ivanka Trump and Jared Kushner utilize their\n",
      "final days in the administration to focus on pardons and commutations for individuals they believed were deserving and overdue?\n",
      "----------------------------------------------------------------------------------------------------\n",
      "1. How did the speaker galvanize the private sector to commit over 16 million dollars to retrain or re-skill workers for the jobs of tomorrow? 2. What legislation did the speaker\n",
      "work on and successfully pass in order to combat human trafficking both domestically and abroad, as well as address the digital exploitation of children? 3. How did the speaker's\n",
      "interactions with survivors of human trafficking, such as Andrea Hipwell, influence the design of government policies and initiatives to combat trafficking and support survivors\n",
      "with skills, job training, and therapeutic interventions?\n",
      "----------------------------------------------------------------------------------------------------\n",
      "1. How does the speaker believe architects should approach the design process in order to create compelling and innovative buildings? 2. What examples of modern architecture does\n",
      "the speaker find particularly awe-inspiring and why? 3. How does the speaker view the current state of innovation in architecture, including the rediscovery of ancient building\n",
      "techniques and the intersection of biology and technology in design?\n",
      "----------------------------------------------------------------------------------------------------\n",
      "1. How does the process of designing and building a luxury resort on a remote island involve balancing modern architectural aesthetics with the natural landscape and topography? 2.\n",
      "What challenges and considerations are involved in creating independent structures within a larger architectural project to ensure optimal view corridors and harmonious integration\n",
      "with the surrounding environment? 3. How does the collaboration with top architects, brands, and talent contribute to the development of a unique and innovative architectural\n",
      "design that celebrates the beauty of the natural landscape while also meeting logistical challenges of construction on an island?\n",
      "----------------------------------------------------------------------------------------------------\n",
      "1. How did Michael Jackson's presence at a performance of \"The Nutcracker\" impact the atmosphere and excitement among the dancers? 2. How did the interviewee's experience in the\n",
      "jungle with Paul Rosley change their perspective on nature and animals? 3. What similarities did the interviewee draw between ancient buildings in Europe and giant trees in terms\n",
      "of history, energy, and stories emanating from them?\n",
      "----------------------------------------------------------------------------------------------------\n",
      "1. How does training in martial arts, specifically jiu jitsu, help individuals develop a sense of confidence, awareness, and self-defense skills in today's society? 2. What\n",
      "philosophical principles and historical roots are integrated into the training and teachings of the Valentine brothers in martial arts, and how do these principles impact the\n",
      "students' daily lives? 3. In what ways does the practice of jiu jitsu and martial arts serve as a framework for discussing and navigating life experiences, both large and small,\n",
      "for individuals and their families?\n",
      "----------------------------------------------------------------------------------------------------\n",
      "1. How did the speaker's mother influence their love for the ocean and saltwater, and how did this influence shape their perspective on Miami? 2. In what ways did the speaker's\n",
      "mother serve as a trailblazer in the real estate industry, particularly in a male-dominated field, and how did her approach to femininity and ambition impact her success? 3. How\n",
      "did the speaker's mother's mantra of \"pain for beauty\" contrast with the speaker's own belief in prioritizing comfort in fashion, and how did this difference in perspective shape\n",
      "their approach to confidence and self-expression?\n",
      "----------------------------------------------------------------------------------------------------\n",
      "1. How does the use of color, fabrics, and finishes contribute to the overall atmosphere and feeling of a space? 2. How can the concept of joy and emotion be effectively\n",
      "communicated through design elements such as robots or cartoons? 3. How does the acceptance of self-doubt and imperfection play a role in the creative process, particularly in the\n",
      "field of design and architecture?\n",
      "----------------------------------------------------------------------------------------------------\n",
      "1. How does the design of a building on an island take into consideration factors such as view corridors, vegetation, wind direction, and topography? 2. What considerations are\n",
      "involved in creating a cohesive and intentional design for hotel rooms, ensuring they are not just quirky but charming through smart design choices? 3. In what ways can interior\n",
      "design elements such as fabrics, color, and finishes impact the warmth and overall experience of a space, especially when working in conjunction with architectural design?\n",
      "----------------------------------------------------------------------------------------------------\n",
      "1. What are some of the adventurous activities and experiences that the speaker is looking forward to in the near future, such as climbing Mount Kilimanjaro, participating in an\n",
      "archery competition in Mongolia, and witnessing the Northern Lights? 2. How does the speaker view the concept of interplanetary travel and exploration, expressing a hope that it\n",
      "will lead to a greater appreciation and protection of Earth, rather than being driven solely by conquest and dominance? 3. How does the speaker emphasize the importance of\n",
      "curiosity, wonder, and exploration in contrast to the potential negative aspects of human desires for conquest and expansion, particularly in the context of future space travel and\n",
      "colonization efforts?\n",
      "----------------------------------------------------------------------------------------------------\n",
      "1. How did the experiences of hardship and survival shape the outlook and values of the speaker's grandmother, as described in the excerpt? 2. In what ways did the speaker's\n",
      "grandmother's past experiences influence her approach to life and relationships, as highlighted in the excerpt? 3. How did the speaker's grandmother's ability to find beauty and\n",
      "joy in challenging situations impact her perspective on life and relationships, as discussed in the excerpt?\n",
      "----------------------------------------------------------------------------------------------------\n",
      "1. How did the individual in the excerpt navigate the challenge of maintaining a startup mentality within a large organization, and what strategies did they employ to encourage\n",
      "innovation and disrupt the status quo? 2. What was the inspiration behind the creation of a fashion brand that catered to self-purchasing females, and how did the brand\n",
      "successfully fill a void in the marketplace for women seeking aspirational workwear? 3. How did the individual's background in real estate and passion for building structures\n",
      "influence their decision to venture into the fashion industry, and what key partnerships and strategies led to the rapid success and expansion of their fashion brand?\n",
      "----------------------------------------------------------------------------------------------------\n"
     ]
    }
   ],
   "source": [
    "all_document_titles = []\n",
    "for i in range(len(custom_ingestion_obj.all_nodes)):\n",
    "    all_document_titles.append(custom_ingestion_obj.all_nodes[i].metadata['questions_this_excerpt_can_answer'])\n",
    "\n",
    "for d in set(all_document_titles):\n",
    "    print(textwrap.fill(d, 180))\n",
    "    print(\"-\"*100)"
   ]
  },
  {
   "cell_type": "code",
   "execution_count": 111,
   "metadata": {},
   "outputs": [
    {
     "name": "stdout",
     "output_type": "stream",
     "text": [
      "42\n"
     ]
    }
   ],
   "source": [
    "print(len(set(all_document_titles)))"
   ]
  },
  {
   "cell_type": "code",
   "execution_count": null,
   "metadata": {},
   "outputs": [],
   "source": []
  },
  {
   "cell_type": "code",
   "execution_count": null,
   "metadata": {},
   "outputs": [],
   "source": []
  }
 ],
 "metadata": {
  "kernelspec": {
   "display_name": "rag-audio-env",
   "language": "python",
   "name": "python3"
  },
  "language_info": {
   "codemirror_mode": {
    "name": "ipython",
    "version": 3
   },
   "file_extension": ".py",
   "mimetype": "text/x-python",
   "name": "python",
   "nbconvert_exporter": "python",
   "pygments_lexer": "ipython3",
   "version": "3.12.4"
  }
 },
 "nbformat": 4,
 "nbformat_minor": 2
}
