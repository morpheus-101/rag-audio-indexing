{
 "cells": [
  {
   "cell_type": "markdown",
   "metadata": {},
   "source": [
    "### Setup paths"
   ]
  },
  {
   "cell_type": "code",
   "execution_count": 1,
   "metadata": {},
   "outputs": [],
   "source": [
    "import sys\n",
    "import os"
   ]
  },
  {
   "cell_type": "code",
   "execution_count": 2,
   "metadata": {},
   "outputs": [],
   "source": [
    "# Get the absolute path of the project root\n",
    "project_root = os.path.abspath(os.path.join(os.getcwd(), '..'))\n",
    "sys.path.append(project_root)"
   ]
  },
  {
   "cell_type": "code",
   "execution_count": 3,
   "metadata": {},
   "outputs": [],
   "source": [
    "from data_pull_and_prep.audio_from_yt import download_audio"
   ]
  },
  {
   "cell_type": "markdown",
   "metadata": {},
   "source": [
    "### Step 0: (Optional) Download audio files from YouTube"
   ]
  },
  {
   "cell_type": "markdown",
   "metadata": {},
   "source": [
    "I'm using podcasts from youtube in this project as an example. This step is not needed if you already have an mp3 file, skip to step 1."
   ]
  },
  {
   "cell_type": "code",
   "execution_count": 5,
   "metadata": {},
   "outputs": [
    {
     "name": "stdout",
     "output_type": "stream",
     "text": [
      "Downloading audio...\n",
      "Audio downloaded: /Users/rishikeshdhayarkar/rag-audio-indexing/data/testing/audio_0/test3.mp3\n"
     ]
    }
   ],
   "source": [
    "# Usage\n",
    "video_url = \"https://www.youtube.com/watch?v=vcEVgN4eET8\"  # Replace with your video URL\n",
    "video_name = \"test3\"  # Replace with your video name\n",
    "output_dir = project_root+\"/data/testing/audio_0/\"  # Replace with your output directory\n",
    "\n",
    "download_audio(video_url, video_name, output_dir)"
   ]
  },
  {
   "cell_type": "markdown",
   "metadata": {},
   "source": [
    "### Step 1: Convert mp3 file to text and generate time stamps for each character"
   ]
  },
  {
   "cell_type": "code",
   "execution_count": 3,
   "metadata": {},
   "outputs": [],
   "source": [
    "import data_pull_and_prep.utils as utils\n",
    "import data_pull_and_prep.data_preparation as data_prep\n",
    "import textwrap"
   ]
  },
  {
   "cell_type": "markdown",
   "metadata": {},
   "source": [
    "Convert audio to text using Open AI whisper"
   ]
  },
  {
   "cell_type": "code",
   "execution_count": 5,
   "metadata": {},
   "outputs": [
    {
     "name": "stderr",
     "output_type": "stream",
     "text": [
      "/Users/rishikeshdhayarkar/rag-audio-indexing/rag-audio-env/lib/python3.12/site-packages/whisper/__init__.py:146: FutureWarning: You are using `torch.load` with `weights_only=False` (the current default value), which uses the default pickle module implicitly. It is possible to construct malicious pickle data which will execute arbitrary code during unpickling (See https://github.com/pytorch/pytorch/blob/main/SECURITY.md#untrusted-models for more details). In a future release, the default value for `weights_only` will be flipped to `True`. This limits the functions that could be executed during unpickling. Arbitrary objects will no longer be allowed to be loaded via this mode unless they are explicitly allowlisted by the user via `torch.serialization.add_safe_globals`. We recommend you start setting `weights_only=True` for any use case where you don't have full control of the loaded file. Please open an issue on GitHub for any issues related to this experimental feature.\n",
      "  checkpoint = torch.load(fp, map_location=device)\n",
      "/Users/rishikeshdhayarkar/rag-audio-indexing/rag-audio-env/lib/python3.12/site-packages/whisper/transcribe.py:115: UserWarning: FP16 is not supported on CPU; using FP32 instead\n",
      "  warnings.warn(\"FP16 is not supported on CPU; using FP32 instead\")\n"
     ]
    }
   ],
   "source": [
    "audio_file_path = project_root+\"/data/testing/audio_0/test3.mp3\"\n",
    "transcription = data_prep.transcribe(audio_file_path)"
   ]
  },
  {
   "cell_type": "markdown",
   "metadata": {},
   "source": [
    "Transcribed output contains an id, piece of converted text, start time and end time in the audio clip for this text. "
   ]
  },
  {
   "cell_type": "code",
   "execution_count": 6,
   "metadata": {},
   "outputs": [
    {
     "name": "stdout",
     "output_type": "stream",
     "text": [
      "34\n",
      "id: 5\n",
      "text:  what he called new dirt, like they're new dirt, like to make it super like with safety features\n",
      "start time: 26.76\n",
      "end time: 31.44\n"
     ]
    }
   ],
   "source": [
    "print(len(transcription))\n",
    "print(f\"id: {transcription[5][0]}\")\n",
    "print(f\"text: {transcription[5][1]}\")\n",
    "print(f\"start time: {transcription[5][2]}\")\n",
    "print(f\"end time: {transcription[5][3]}\")"
   ]
  },
  {
   "cell_type": "markdown",
   "metadata": {},
   "source": [
    "For each such segment(above cell), calculate the time stamp for each character in text by interpolation.\n",
    "\n",
    "But why do we need character level time stamps?\n",
    "Character level timestamps provide the flexibility to create textchunks of any size."
   ]
  },
  {
   "cell_type": "code",
   "execution_count": 4,
   "metadata": {},
   "outputs": [],
   "source": [
    "transcription_with_char_timestamps = utils.import_pkl_file(project_root+\"/data/audio_1/ivanka_trump_transcription_char_timestamps.pkl\")"
   ]
  },
  {
   "cell_type": "code",
   "execution_count": 5,
   "metadata": {},
   "outputs": [],
   "source": [
    "# transcription_with_char_timestamps = data_prep.map_characters_to_timestamps(transcription)"
   ]
  },
  {
   "cell_type": "code",
   "execution_count": 6,
   "metadata": {},
   "outputs": [
    {
     "name": "stdout",
     "output_type": "stream",
     "text": [
      "Total number of characters: 157283\n"
     ]
    },
    {
     "data": {
      "text/plain": [
       "[(' ', 0.0),\n",
       " ('T', 0.06449438202247192),\n",
       " ('h', 0.12898876404494383),\n",
       " ('e', 0.19348314606741573),\n",
       " (' ', 0.25797752808988766)]"
      ]
     },
     "execution_count": 6,
     "metadata": {},
     "output_type": "execute_result"
    }
   ],
   "source": [
    "print(f\"Total number of characters: {len(transcription_with_char_timestamps)}\")\n",
    "transcription_with_char_timestamps[:5]"
   ]
  },
  {
   "cell_type": "markdown",
   "metadata": {},
   "source": [
    "Save character level timestamps"
   ]
  },
  {
   "cell_type": "code",
   "execution_count": 7,
   "metadata": {},
   "outputs": [],
   "source": [
    "# utils.save_as_pickle_file(directory=project_root+\"/data/testing/audio_0/\",\n",
    "#                     filename=\"transcription_with_char_timestamps.pkl\",\n",
    "#                     data=transcription_with_char_timestamps)"
   ]
  },
  {
   "cell_type": "markdown",
   "metadata": {},
   "source": [
    "Create custom chunks using SentenceSplitter from Llamaindex."
   ]
  },
  {
   "cell_type": "code",
   "execution_count": 8,
   "metadata": {},
   "outputs": [],
   "source": [
    "custom_chunking_obj = data_prep.CreateCustomTextChunks(transcription_with_char_timestamps)\n",
    "text_chunks_with_timestamps = custom_chunking_obj.create_custom_text_chunks()"
   ]
  },
  {
   "cell_type": "code",
   "execution_count": 9,
   "metadata": {},
   "outputs": [
    {
     "name": "stdout",
     "output_type": "stream",
     "text": [
      "Number of text chunks: 42\n"
     ]
    }
   ],
   "source": [
    "print(f\"Number of text chunks: {len(text_chunks_with_timestamps)}\")"
   ]
  },
  {
   "cell_type": "code",
   "execution_count": 10,
   "metadata": {},
   "outputs": [
    {
     "name": "stdout",
     "output_type": "stream",
     "text": [
      "(\"The following is a conversation with Ivanka Trump, businesswoman, real estate\n",
      "developer, and former senior advisor to the President of the United States. I've\n",
      "gotten to know Ivanka well over the past two years. We've become good friends,\n",
      "hitting it off right away over our mutual love of reading, especially\n",
      "philosophical writings from Marcus Aurelius, Joseph Campbell, Alan Watts, Victor\n",
      "Franklin, and so on. She is a truly kind, compassionate, and thoughtful human\n",
      "being. In the past, people have attacked her. In my view, to get indirectly at\n",
      "her dad, Donald Trump, as part of a dirty game of politics and clickbait\n",
      "journalism. These attacks obscured many projects and efforts, often bipartisan,\n",
      "that she helped get done, and they obscured the truth of who she is as a human\n",
      "being. Through all that, she never returned the attacks with anything but\n",
      "kindness, and always walked through the fire of it all with grace. For this, and\n",
      "much more, she is an inspiration, and I'm honored to be able to call her a\n",
      "friend. Oh, and for those living in the United States, happy upcoming Fourth of\n",
      "July. It's both an anniversary of this country's declaration of independence,\n",
      "and an anniversary of my immigrating here to the U.S. I am forever grateful for\n",
      "this amazing country, for this amazing life, for all of you, who have given\n",
      "chance to a silicate like me. From the bottom of my heart. Thank you. I love you\n",
      "all. This is the Lex Freeman podcast to support it. Please check out our\n",
      "sponsors in the description. And now, dear friends, here's Ivanka Trump. You\n",
      "said that ever since you were young, you wanted to be a builder. That you loved\n",
      "the idea of designing beautiful city skylines, especially in New York City. I\n",
      "love the New York City skyline. So describe the origins of that love of\n",
      "building. I think there's both an incredible confidence and a total insecurity\n",
      "that comes with youth. So I remember 15. I would look out over the city skyline\n",
      "for my bedroom window in New York and imagine where I could contribute and add\n",
      "value in a way that I look back on and completely laugh at how confident I was.\n",
      "But I've known since my earliest memories, it's something I've wanted to do. And\n",
      "I think fundamentally I love art. I love expressions of beauty in so many\n",
      "different forms. With architecture, there's the tangible. And I think that\n",
      "marriage of function and something that exists beyond yourself is very\n",
      "compelling. I also grew up in a family where my mother was in the real estate\n",
      "business working alongside my father. My father was in the business and I saw\n",
      "the joy that had brought to them. So I think I had these natural positive\n",
      "associations. So you send me as a little girl renderings of projects they were\n",
      "about to embark on with notes asking if I would hurry up and finish school so I\n",
      "could come join them. So I had these positive associations. But I came from\n",
      "something within myself. I think that as I got older and as I got involved in\n",
      "real estate, I realized that it was so multidisciplinary. You have, of course, a\n",
      "design, but you also have engineering, the brass tax of construction, there's\n",
      "time management, there's project planning, just the duration of time to complete\n",
      "one of these iconic structures. It's enormous. You can contribute a decade of\n",
      "your life to one project. So while you have to think big picture, it means you\n",
      "really have to care deeply about the details because you live with them. So it\n",
      "allowed me to flex a lot of areas of interest. I love that confidence of youth.\n",
      "It's funny because we're all so insecure, right? In the most basic interactions,\n",
      "but yet our ambitions are so unbridled. In a way, they make shoe blushes and\n",
      "adults. I think it's fun. It's fun to tap into that energy. Yeah, where\n",
      "everything is possible. I think some of the greatest builders I've ever met kind\n",
      "of always have that little flame of everything is possible, still birding. That\n",
      "is a silly notion from youth, but it's not so silly. Everybody tells you\n",
      "something is impossible, but if you continue believing that it's possible, and I\n",
      "have that sort of naive notion that you could do it, even if it's exceptionally\n",
      "difficult, that naive notion turns into some of the greatest projects ever done.\n",
      "100%. Going out the space or building a new company, where like everybody said,\n",
      "it's impossible to take it on a gigantic company and disrupting them and\n",
      "revolutionizing how stuff is done or doing huge building projects. Like you\n",
      "said, so many people are involved in making that happen. We get conditioned out\n",
      "of that feeling.\", (0.06449438202247192, 316.72680412371136))\n"
     ]
    }
   ],
   "source": [
    "print(textwrap.fill(str(text_chunks_with_timestamps[0]), width=80))"
   ]
  },
  {
   "cell_type": "markdown",
   "metadata": {},
   "source": [
    "### Step2: Create textnodes and add them to a vector store"
   ]
  },
  {
   "cell_type": "code",
   "execution_count": 11,
   "metadata": {},
   "outputs": [
    {
     "name": "stderr",
     "output_type": "stream",
     "text": [
      "/Users/rishikeshdhayarkar/rag-audio-indexing/rag-audio-env/lib/python3.12/site-packages/pinecone/data/index.py:1: TqdmWarning: IProgress not found. Please update jupyter and ipywidgets. See https://ipywidgets.readthedocs.io/en/stable/user_install.html\n",
      "  from tqdm.autonotebook import tqdm\n"
     ]
    }
   ],
   "source": [
    "import basic_rag.rag as rag\n",
    "from dotenv import load_dotenv\n",
    "\n",
    "dotenv_path = '.env'\n",
    "load_dotenv(dotenv_path=dotenv_path)\n",
    "\n",
    "pinecone_api_key = os.environ[\"PINECONE_API_KEY\"]\n",
    "openai_api_key = os.environ[\"OPENAI_API_KEY\"]"
   ]
  },
  {
   "cell_type": "code",
   "execution_count": 12,
   "metadata": {},
   "outputs": [],
   "source": [
    "custom_rag_obj = rag.CustomRAG(pinecone_api_key=pinecone_api_key,\n",
    "              openai_api_key=openai_api_key,\n",
    "              index_name=\"ivanka-08-26-via-class-trail1\",\n",
    "              text_chunks_with_timestamps=text_chunks_with_timestamps[:10]\n",
    "              )"
   ]
  },
  {
   "cell_type": "code",
   "execution_count": 13,
   "metadata": {},
   "outputs": [
    {
     "name": "stderr",
     "output_type": "stream",
     "text": [
      "100%|██████████| 5/5 [00:01<00:00,  4.16it/s]\n",
      "100%|██████████| 10/10 [00:04<00:00,  2.14it/s]\n",
      "Upserted vectors: 100%|██████████| 10/10 [00:01<00:00,  7.61it/s]\n"
     ]
    }
   ],
   "source": [
    "await custom_rag_obj.create_text_nodes_and_add_to_vector_store()"
   ]
  },
  {
   "cell_type": "markdown",
   "metadata": {},
   "source": [
    "### Step 3: Embedding retrieval from vector store"
   ]
  },
  {
   "cell_type": "code",
   "execution_count": 41,
   "metadata": {},
   "outputs": [],
   "source": [
    "query_str = \"describe the incident with kim kardashian?\""
   ]
  },
  {
   "cell_type": "code",
   "execution_count": 42,
   "metadata": {},
   "outputs": [],
   "source": [
    "custom_retriever_obj = rag.CustomRetriever(embed_model=custom_rag_obj.embed_model,\n",
    "                                           vector_store=custom_rag_obj.vector_store)\n",
    "query_result = custom_retriever_obj.retrieve(query=query_str)"
   ]
  },
  {
   "cell_type": "code",
   "execution_count": 43,
   "metadata": {},
   "outputs": [
    {
     "data": {
      "text/plain": [
       "VectorStoreQueryResult(nodes=[TextNode(id_='ed9da4ce-a9bf-4726-9361-d82bc8198923', embedding=[0.00428304868, -0.0131062642, 0.000118938333, -0.0216520634, 0.00568366656, 0.0106365755, -0.0307188649, -0.0233977605, -0.0186884366, -0.0279582255, 0.0376204588, -0.00344572286, 0.00210092682, 0.00908710063, -0.0101764696, -0.00167972641, 0.0365649201, -0.010399757, -0.0127205867, -0.0328028761, -0.0297715869, -0.0012179286, -0.00186918199, -0.00901267119, -0.0293926746, 0.00428304868, 0.01955452, -0.0220851041, -0.00376881217, -0.0208942406, 0.0101967687, -0.0105215497, -0.0123416763, -0.01545416, -0.00943218, -0.0113267358, -0.00232252199, -0.0262260605, 0.00614377297, 0.0126326252, 0.0183365904, 0.00960810296, -0.0210566316, -0.00547391223, -0.0077203135, 0.00384324114, 0.00422553532, -0.0137896575, -0.00956750568, 0.00896530692, 0.0322615728, 0.0240473226, -0.013228057, -0.0181065369, -0.0238984637, -0.0154000297, -0.00648546964, 0.00644148886, 0.00446235482, -0.00677303597, 0.0264155176, 0.0068576145, -0.00173216499, 0.0040326966, -0.0244803634, 0.00171524938, -0.0276469775, 0.00596446684, 0.0156165501, 0.00467887567, 0.0495290942, 0.0359965563, -0.0095810378, 0.00530137215, 0.0339937396, -0.00296531757, -0.00185395789, -0.0032714915, -0.0223692879, -0.00567351701, -0.0322345085, -0.0178629514, -0.0301234331, 0.0282830074, -0.0180659406, 0.0322615728, -0.0109342914, 0.00504425401, -0.017822355, -0.00194361096, -0.0167938806, 0.0114011643, 0.00600506412, 0.013397214, -0.0110019548, -0.00751732569, -0.00830221269, -0.0049495264, 0.0175923016, 3.40956576e-05, 0.00946601108, 0.0122672468, -0.0273221973, -0.0166720878, -0.0248322096, -0.00334592047, -0.0100411437, -0.00805186108, 0.0251840558, -0.0163879059, -0.0177411586, 0.0106568746, -0.00374174723, -0.0275116526, -0.00275556324, -0.0284453984, 0.00066478597, -0.0244533, -0.016875077, -0.00314631546, 0.0211513583, 0.00365040242, 0.00666139228, -0.0196898449, 0.0149940532, -0.0065395995, -0.0272139367, -0.0148587283, -0.0128829777, -0.0135054747, 0.0225587431, 0.00339159276, 0.00388045562, -0.00654974906, 0.00709781703, -0.00409359299, -0.0234112926, 0.0108869281, -0.0133160185, -0.0348868854, 0.00969606452, 0.010081742, -0.0147369355, 0.0121048568, -0.0147234024, 0.0216249973, -0.00209246879, 0.00742936414, 0.0387301259, 0.0121319219, 0.0193515308, -0.00207386166, -0.00742936414, 0.0215032045, 0.00626556575, 0.0421673916, 0.00830221269, 0.0122875459, -0.0171051305, -0.0022531678, 0.00647870312, 0.000628840178, -0.00666139228, -0.00477022026, 0.0208807085, 0.031990923, 0.0175381713, 0.00975019485, -0.00788947, -0.0200416911, -0.000862276473, 0.0105689131, -0.0456046574, 0.0121725192, 0.0135460719, 0.0179847442, 0.014344492, 0.011969531, -0.0290137641, -0.0142226992, -0.0146422079, 0.000446150894, 0.0243044402, 0.0159142669, 0.0023005316, -0.00673582125, -0.000125175982, -0.0136069683, -0.0166179575, -0.0127747171, -0.00117225619, 0.0302858222, -0.0179982781, -0.0175246391, -0.648695827, -0.0241555832, -0.00947277714, -0.00729403878, -0.00153848052, 0.0158195384, -0.000912600604, 0.00943218, -0.00899913907, 0.00313447439, -0.0234248266, 0.0095810378, 0.00397518324, 0.0051558977, -0.0202040821, -0.0177682247, 0.00173893129, -0.0237496067, 0.00646517053, 0.00168141804, 0.00886381324, 0.018133603, -0.00129404909, -0.0112929037, -0.011820673, 0.0122469477, 0.00168480119, -0.0188237615, 0.000533689512, 0.0151699763, -0.016875077, 0.028364202, -0.00617422117, -0.00577839417, 0.050747022, -0.00579192676, -0.00159007334, 0.0262531266, 0.0111102145, 0.0270244814, -0.017822355, -0.000753593282, 0.0101223392, 0.0209213067, 0.00228192448, 0.00583590753, 0.00701662153, 0.00491569471, 0.0116244517, -0.00133295509, -0.00226839189, 0.00627571531, -0.0209754352, 0.0125717288, 0.0205423944, -0.0120371934, 0.0184313189, -0.0138843851, -0.00471947296, -0.023492489, 0.0196221825, 0.0105892122, -0.00594416773, 0.00340512511, 0.000168099519, 0.0264425818, -0.0181065369, -0.00602536323, -0.019703377, -0.0213272814, -0.0100682089, 0.0280123558, -0.0168344788, -0.00874878652, -0.00171186624, 0.0176193658, 0.0354281887, -0.0058325245, -0.0116244517, 0.0202717446, -0.00225655083, -0.00774061261, -0.0237360746, 0.00261685485, 0.00505440356, -0.022694068, -0.0462271534, -0.00132280577, -0.00870142318, -0.0137761254, 0.00655989861, -0.0014412154, -0.0138437878, -0.0553480871, -0.00897207391, 0.0233977605, -0.0149669889, 0.0123484423, 0.00857963, -0.0230865125, -0.00443528965, -0.0124973, -0.00015350974, -0.00493599381, 0.0326404832, 0.00736170122, 0.000397941243, 0.0196763128, 0.0352928638, -0.022071572, -0.00701662153, 0.000491823244, -0.0171457268, -0.00242909091, 0.00187594828, -0.0139926458, 0.012125155, -0.019067347, 0.0226534717, -0.0149534559, 0.00684746495, 0.00884351414, -0.0245344937, -0.0139249833, -0.00316153956, 0.0250081327, -0.00101409468, -0.0108463299, 0.00607272703, 0.012138688, 0.00243924023, 0.011502658, 0.0200687554, -0.0229782518, 0.0150617165, 0.0274710543, 0.00736846775, -0.0244127, 0.0123349093, -0.0300693028, -0.0159413312, -0.00368085061, 0.0192432702, 0.00493937684, -0.0180118103, -0.00561938714, -0.00268790056, -0.000577247411, -0.0448468365, -0.0361318812, -0.030881254, -0.00529798912, -0.0112455403, 0.0276740436, 0.00911416486, -9.52035261e-05, 0.0215708669, -0.00861346163, -0.00245615584, 0.0078285737, -0.00575132901, 0.0414907672, -0.0288513731, 0.00479390193, 0.0225181449, 0.00171778677, -0.00602198, -0.0188508276, 0.00505102053, -0.0393255576, 0.00856609736, -0.0163067095, 0.00931038707, 0.00449618604, -0.00130166113, 0.000298984553, -0.00484803226, -0.011495892, -0.019703377, 0.00185395789, 0.00590357045, 0.00476683676, -0.0111778779, 0.00389060518, 0.0328299403, 0.0167803485, 0.0169968698, 0.0095810378, 0.0165367629, 0.0117191793, -0.00522017712, 0.0264425818, -0.00778797641, 0.00735493517, -0.0173216499, 0.00664447667, 0.0146151427, 0.00488863, -0.0232083052, 0.0248322096, 0.000442767778, -0.0137422942, 0.00584605709, -0.00874878652, 0.00952014141, -0.0188643597, -0.00183873379, 0.00501380581, 0.00888411235, -0.00715194689, 0.00193515315, -0.00373159768, -0.00645163795, -0.0138031906, -0.00274541392, -0.00116718153, -0.00611670781, 0.0377828516, -0.0275928471, -0.00500027323, 0.0126935216, 0.00268959231, 0.00804509502, -0.00519311195, -0.011983064, 0.0127138207, 0.00283337547, -0.032315705, 0.00179813616, -0.0259418786, 0.00403608, 0.0236819442, 0.0207318496, -0.00412404118, -0.00843753852, 0.017186325, 0.0207589157, -0.0135934362, 0.015129379, -0.0039718, 0.0322615728, -0.00454355031, -0.0079436, 0.0131874597, 0.0226805359, -0.0189726204, 0.0323698334, 0.0191214774, -0.00353537593, 0.0191891417, 0.000276994164, 0.00314124068, -0.00673243823, -0.0121657532, 0.0129506402, -0.011813907, -0.00504763704, 0.0155082904, 0.0390819721, 0.0242097136, 0.00177445426, -0.000688045053, 0.0152376397, 0.0162931774, 0.0114552947, 0.0170374662, -0.00806539319, -0.0129912375, -0.0166585557, -0.0195274539, -0.0142226992, -0.00605919445, 0.021909181, -0.022071572, -0.00833604392, 0.0079300683, -0.00482435, 0.00034550266, 0.0134581104, 0.0346162356, -0.0121860513, -0.0150481835, 0.0109478245, -0.00620805239, 0.00339328428, -0.00968929846, -0.00574794598, -0.00460782973, 0.0036402531, 0.0233030319, -0.0163202416, 0.000617422105, -0.0275657829, -0.00889764447, -0.0032951734, -0.00391767034, 0.0208401103, -0.0114282295, -0.00490216259, -0.029636262, 0.0204476677, -0.014818131, -0.0109545905, 0.0307459291, 0.0197710395, 0.00285029109, -0.0193515308, -0.0181742013, -0.0144933499, -0.0281747468, 0.00183535065, 0.00123230682, -0.0038703063, 0.0126326252, 0.00147673837, 0.00126444665, -0.0189320222, -0.00448942, 0.0134648765, 0.0288243089, 0.0100276116, -0.0174705088, -0.0274845883, 0.0281206165, 0.133160189, 0.0107922, -0.0262531266, 0.0351846032, -0.0111643448, -0.0151429111, -0.00935775135, -0.0313413627, 0.0149263907, -0.00941864774, 0.0123552084, -0.00687453, 0.0209077727, -0.00290611293, 0.0143580241, 0.0087149553, 0.0135934362, -0.0226264056, -0.0096013369, -0.0135460719, -0.0117124133, -0.00285367435, 0.00705721928, 0.0374039374, 0.0132889533, 0.0101426383, 0.0400021859, -0.000445728016, 0.00907356758, -0.0271462742, 0.0022531678, 0.0114688268, 0.0339937396, 0.0162119828, -0.0241014529, -0.0288513731, 0.00571749778, 0.00564983534, 0.0138167227, 0.000708766747, 0.0306106042, 0.0184719171, 0.0155624207, -0.0151970414, 0.00696249167, -0.0193244666, -0.00624865, -0.00120777916, -0.0161443204, -0.000802648719, 0.0100411437, 0.000389483408, -0.0198928323, -0.0288784392, 0.00667154184, 0.00380264362, 0.0068068672, -0.0111372797, 0.0100208456, 0.00228869077, -0.014669273, -0.0433582552, -0.0135596041, -0.0150481835, 0.00618098723, -0.0342914537, -0.0194597915, 0.00941188075, -0.0262531266, 0.00596108381, -0.00877585169, -0.00646855403, -0.0384324118, 0.00344403135, 0.0288513731, -0.00157231197, 0.0136272674, 0.00440822449, 0.0199604947, -0.00318353, 0.00467887567, -0.0293385461, -0.0212325547, -0.031368427, -0.0237090085, 0.020961903, -0.026794428, -0.0117597766, -0.0140738413, 0.020813046, 0.00176599633, 0.026943285, 0.0196898449, 0.00671552261, 0.0232489035, 0.00468902476, -0.0196627788, -0.00409359299, 0.019703377, -0.014344492, -0.00163743726, -0.0188914258, -0.0141279707, -0.0290678944, -0.00143614074, 0.00206202059, -0.00971636362, -0.00622835103, -0.00135579123, -0.0141956341, 0.0163473077, -0.0250216648, -0.00237834384, 0.0022227196, -0.00319537078, 0.0130453678, -0.000972651294, 0.0226128735, 0.00624865, -0.00648546964, -0.00237496058, -0.0242097136, 0.0327216797, 0.0306917988, -0.0206371229, 0.0112861376, -0.00451986818, 0.00506116962, 0.0039007545, 0.0148993256, 0.00334253721, -0.000503241317, -0.00164843246, -0.0268620905, -0.0160495918, -0.019229738, -0.00690159528, -0.0167668164, -0.000709612505, -0.00513898162, -0.00455708243, 0.00985168852, -0.00497997459, -0.0224504825, 0.010406523, -0.0287160482, -0.00280969357, 0.0195815843, -0.00132872618, 0.0411389209, -0.00624526711, 0.00559570501, -0.0080856923, 0.000478290691, -0.000586973911, -0.0179982781, 0.0157518759, -0.013552838, 0.027430458, 0.000460952113, 0.0136678647, 0.00950660929, 0.0150887817, 0.0145068821, 0.0132821873, 0.00218043034, 0.00621820195, 0.00355905783, -0.00964193419, 0.0200552233, 0.00498674065, 0.0163743719, 0.00440484146, -0.00927655585, 8.33889862e-06, 0.030881254, -0.0307459291, -0.0184989814, -0.0233165659, -0.0211648922, -0.0165773612, 0.0256306287, -0.0274033919, 0.0124364039, -0.0222880915, 0.0157654081, 0.0196492467, -0.0184313189, 0.0199198984, -0.0104132891, 0.0324510299, -0.0268485583, 0.0221662987, 0.00843077246, 0.00325119263, 0.000803917414, -0.0155624207, -0.0280935522, -0.0131671606, 0.016875077, 0.00779474247, 0.0142768286, 0.00615392206, -0.00798419863, -0.00551451, 0.0109816557, -0.00961486902, 0.0125040663, 0.0106298095, -0.0234248266, -0.00634337775, -0.0108530968, -0.0119965961, -0.021909181, 0.00231744745, 0.00799096469, -0.00490554562, 0.0127611849, -0.0137761254, -0.0135663711, -6.85216946e-06, -0.0134851756, 0.0451716147, 0.010250899, 0.0227076, -0.0009616561, 0.00831574574, -0.00267098495, 0.00761882, 0.0133363176, -0.00557540637, 0.0203935374, 0.0238443352, -0.00140484679, 0.00286382367, 0.00714518083, -0.0147098703, -0.0224910807, -0.0132212909, 0.0146151427, -0.00239018467, 0.00294671045, -0.00834957696, -0.0179035496, 0.00669184094, -0.001161261, -0.0091885943, -0.00297885016, -0.0100005465, -0.0185666438, -0.0141685689, 0.00966899935, 0.00912769791, -0.00617083814, 0.00791653525, -0.0155218225, -0.000306385162, -0.0183095261, -0.0127476519, 0.0129574062, -0.00295178522, 0.00761882, -0.0145204151, 0.0183365904, 0.022856459, -0.00868789, -0.00866759103, -0.0136678647, 0.0178900175, 0.0319097266, 0.00100732839, -0.000158055831, -0.0217873883, 0.00885028113, 0.00621481892, -0.0113064367, -0.00805186108, -0.0102644311, -0.0117868418, -0.0295009352, 0.00891117752, -0.0160495918, -0.0117936078, 0.00256272475, -0.00326303346, 0.00416802196, 0.0294197407, -0.00179475301, 0.0198116377, -0.0155894849, -0.0233436301, -0.0245344937, -0.000541301561, -0.0232353695, -0.00150295766, -0.0271192081, -0.00186072418, 0.0143174268, -0.0224910807, 0.00945924502, 0.000745981233, 0.00150972395, -0.0272816, -0.000887227128, -0.0215302706, 0.00715871342, 0.0347244963, -0.00849166885, -0.0192432702, -0.0103591587, 0.0245209616, 0.0196898449, -0.016401438, 0.00316492259, -0.00295855151, 0.0100005465, 0.00563968578, 0.010399757, -0.0129371081, -0.000548913609, 0.0196627788, -0.00703015411, 0.00916152913, -0.00719254464, 0.011035786, 0.0186749045, 0.00995318312, 0.0192703363, -0.0584064387, 0.0169968698, -0.0135934362, -0.00454016682, -0.019229738, -0.00564645184, -0.0147910658, -0.0180388745, -0.0187155027, 0.00221764483, 0.0132145248, -0.023330098, 0.0286619179, 0.0276334453, 0.0184989814, 0.0314766876, -0.0141279707, -0.00484464923, -0.0261989962, -0.0270244814, -0.0527769029, -0.0210025012, 0.000311459851, 0.0385948, 0.00734816864, -6.63411629e-05, -0.0139655806, 0.00660387939, -0.0535617918, -0.0177411586, -0.00258978968, 0.00899237208, 0.0456046574, -0.00812629, 0.000372567738, 0.0248322096, -0.0213272814, 0.0218956489, -0.0188778918, -0.0139520485, 0.00650915131, -0.0265102442, 0.0226805359, 0.00191654591, -0.029636262, -0.0111575788, 0.0104538864, -0.000960810285, -0.00676965294, 0.00799773075, -0.0134445783, 0.0251840558, 0.00252720178, 0.00715194689, 0.00659034681, 0.0234654229, 0.0189320222, -0.0320991836, -0.0203258749, 0.0118680373, -0.0188508276, -7.4693271e-05, 6.21122381e-05, -0.013072433, -0.0178764854, 0.00147166371, 0.0129844714, 0.00143191183, 0.00703015411, 0.018756099, 0.0464707389, -0.00607272703, -0.000505778647, 0.0377828516, 0.00696249167, -0.0111305136, -0.0218685828, 0.00584605709, 0.0136408, 0.0121522201, -0.000846206618, -0.0449550971, 0.0171051305, -0.0159548633, 0.00339328428, -0.0216385312, 0.00775414519, 0.0022768497, 0.00465857657, 0.00552804256, 0.00739553291, 0.0194733236, 0.0227887966, 0.0143038938, -0.00598476548, -0.0012373816, -0.0185260456, -0.0255088359, -0.0015714661, -0.00759175466, -0.00665800925, 0.0196763128, -0.0251299255, -0.00572764734, 0.00392781943, 0.0190132186, -0.0135325389, 0.00657681422, 0.22344929, 0.0106230434, 0.00244600652, 0.0179982781, -0.00661064545, 0.00818718597, 0.0347515605, 0.0343726501, -0.0106704077, 0.0121792853, -0.0175246391, 0.0148993256, -0.00935775135, -0.00124668516, 0.00929685496, -0.0103456266, -0.0354011245, -0.0329382, 0.00982462335, -0.0132348239, 0.0240202565, -0.0235060211, -0.000334296, -0.0120371934, 0.0281476825, 0.0188372955, -0.00569043262, 0.019540986, 0.010562147, 0.0140873734, 0.00238341838, -0.00911416486, 0.0265779067, -0.000908371701, -0.00587988831, -0.0167938806, 0.0104877176, -0.00139977201, 0.0184854493, 0.0232895, 0.00977049302, 0.00391767034, -0.018607242, -0.00537241809, 0.00353875896, 0.0308000594, -0.0242909081, 0.00466872612, 0.0103523927, -0.00501042278, -0.024588624, -0.00992611796, 0.0166856218, 0.0234248266, 0.0143715572, 0.0127814831, 0.0285807233, 0.00654974906, -0.00168395531, 0.0134310452, 0.000164610654, 0.0362401418, -0.0382158905, 0.0467684567, 0.011658283, 0.00349816144, 0.0164149702, 0.00185057474, -0.000965039188, -0.0218009204, -0.0176464319, -0.0203258749, -0.0345350392, 0.00208908576, 7.92393621e-05, -0.0163067095, 0.0342373252, -0.00274710543, 0.0428169556, 0.0201905482, -0.000736254733, 0.00780827506, -0.00371468207, -0.00720607722, -0.00991935097, -0.0368085057, 0.0306106042, 0.000370664697, 0.00287904777, -0.0303128883, -0.0138843851, -0.0127205867, -0.003663935, -0.00721284328, 0.0127476519, 0.00222441112, 0.015129379, 0.0028519826, -0.0178900175, 0.00737523381, -0.0296633262, 0.022545211, 0.0518025607, 0.0164555684, -0.00427289912, -0.0105147827, 0.0263884515, 0.00895854086, 0.0136205, -0.0407600068, 0.00559908804, -0.0139520485, -0.00537918461, 0.0074564293, 0.0242097136, 0.000694811344, -0.00845107064, -0.0408682674, 0.0308541898, 0.0104132891, -0.0286348537, -0.0215438027, 0.000521002745, 0.0199875608, 0.0167262182, -0.0166314915, -0.0484735556, 0.024899872, -0.0016864927, -0.0265102442, 0.0272545349, 0.00381617621, 0.00818042, 0.00287735625, -0.00112404651, -0.0160766561, 0.0198251698, -0.0130250687, 0.0369979627, 0.00779474247, -0.0117462445, -0.0169021413, 0.0225858074, 0.0366190523, 0.000531152182, -0.0157654081, -0.0012416105, 0.00758498814, 0.00465519354, -0.0057851607, -0.0268756226, 0.00174569758, 0.00939158257, -0.0354011245, 0.00686438056, -0.00590357045, -0.0157789402, -0.0191485435, -0.0158330705, 0.0170780644, -0.00880968291, 0.0362130739, 0.0208671764, -0.00886381324, -0.0155488877, -0.0206912532, -0.17310825, 0.035157539, 0.0163879059, -0.018444851, 0.0428981483, 0.00721961, 0.0144121544, -0.0292302854, -0.0127070546, 0.0187425669, 0.0130589008, -0.00320552033, -0.0134784095, -0.00483111665, -0.00862699375, 0.00150380342, -0.0136408, -0.00916829519, 0.0531287491, 0.0190132186, 0.00223625218, -0.00414772332, 0.0202176142, 0.0226399377, -0.000441922, 0.0136813968, 0.00238849316, -0.023966128, 0.0102103008, -0.0174705088, 0.00607611, -0.00435747765, 0.0117800757, -0.00488863, 0.0168344788, 0.00710458308, 0.00424245093, 0.0122266496, -0.0247645471, 0.0103185615, 0.0278499667, 0.0163202416, 0.0127611849, 0.00548744481, -0.0247780792, 0.0058629727, 0.0128153143, 0.00311417552, -0.00798419863, -0.00509838434, 0.0219768435, -0.0300693028, -0.00158161554, -0.00217873883, 0.00775414519, 0.00380602665, 0.0182553958, 0.0415719599, 0.00528783957, -0.00628924789, 0.00355229154, 0.0262395944, 0.027430458, -0.0051254495, -0.00441160798, -0.0213814117, 0.00996671524, 0.0243450385, -0.0413283743, 0.0155488877, -0.00675612036, -0.0164285023, 0.00352860964, 0.00526754092, -0.000627994421, 0.0122740129, -0.0124093387, 0.000711304077, -0.0101900017, 0.0116921142, -0.00752409175, 0.010406523, -0.0212325547, -0.00413757376, -0.0189861525, 0.0159819294, -0.0146016097, -0.00101747783, -0.00862699375, -0.0130386017, -0.0022227196, -0.0348868854, -0.0299339779, -0.0147234024, 0.00590018695, 0.0122740129, 0.0346162356, 0.0156300832, -0.0328840688, -0.0184177868, 0.00860669464, -0.0288784392, -0.000152346794, 0.01039299, 0.00981109124, 0.00674935384, 0.00385000743, 0.0242097136, 0.026158398, -0.0174163785, -0.0175923016, -0.000307230919, 0.0300151724, 0.000221806782, -0.0146151427, 0.0151023138, 0.0156706814, -0.00372483139, -0.000856356, -0.00176430482, 0.0462542213, 0.00896530692, -0.0176328979, 0.00870818924, -0.0057851607, -0.0202988088, -0.122334152, -0.0327758119, 0.00937804952, -0.00346433, 0.000501972623, 0.0197439753, -0.0111508127, 0.00438454282, -0.00759852072, 0.0382429548, -0.0134378113, -0.0108936941, 0.0118003739, -0.0187425669, 0.0131400954, -0.00412065815, 0.00932391919, 0.00176768797, -0.050449308, 0.0333983079, -0.023966128, -0.00752409175, 0.00108006585, -0.00541639887, -0.00401916401, 0.00122976955, -0.0219227131, -5.89405536e-05, 0.00459768, 0.00131350209, -0.0139791127, -0.00327656604, -0.00227346667, -0.0241826475, 0.0157383438, 0.00447250437, -0.00732110394, -0.0126326252, 0.000431138236, -0.0392714292, -4.68352737e-05, 0.0141144386, 0.0232353695, -0.0421132632, -0.00878938474, 0.0143715572, -0.026320789, 0.026320789, 0.017822355, -0.00670875655, -0.00806539319, 0.0169562716, -0.0120845577, -0.00303128874, 0.0125040663, 0.00320552033, -0.0040800604, 0.00744966278, 0.00440822449, -0.00459091412, 0.0172269233, -0.0154270949, 0.00466872612, -0.0164826326, 0.0199469626, -0.0108260317, -0.015927799, 0.0107380701, -0.00630278, -0.0293656103, -0.019080881, 0.0107989665, -0.0184583832, 0.0235330854, -0.0213137493, -0.0215573348, -0.0177140944, -0.0245615598, 0.00857963, -0.00347786257, -0.0167262182, -0.0274845883, 0.0265373103, 0.0203800034, 0.0209213067, 0.0126596903, 0.00819395296, -0.00708428444, 0.0240473226, -0.0244938955, 0.00197067601, 0.0185937099, 0.0019233122, -0.0358341634, 0.0115635553, 0.00731433742, 0.0248592757, 0.00705721928, 0.00254580891, 0.0228835233, -0.0282018129, -0.0245344937, -0.0483923592, 0.0274981204, -0.0134784095, -0.0195815843, 0.00503072143, 0.00768648228, -0.00450633559, -0.0149669889, -0.00602536323, 0.00525062531, -0.0271598063, 0.0235601515, 0.00343726506, -0.000488017191, -0.0126596903, -0.00331208901, -0.0168344788, -0.0194327272, -0.00161460112, 0.0140061779, -0.00556864, -0.0100952741, 0.0268485583, 0.00176092167, -0.0125852618, -0.0114214635, -0.030421149, 0.00816012081, 0.0113538, -0.0295280013, 0.000915138, -0.026956819, 0.0151699763, 0.0279311612, 0.000298350205, -0.0292032193, 0.00790300313, 0.0267538298, 0.0027352646, 0.050747022, -0.0212596189, -0.0318014659, -0.000341908075, -0.0193785969, -0.00110882241, 0.00926979, -0.0284995288, 0.00658019725, 0.0134445783, 0.0119357, -0.00296870084, 0.00645163795, -0.0159007329, -0.0229105894, -0.00131350209, -0.0113740992, 0.0279311612, 0.00774737867, -0.0215167385, 0.00351507706, 0.0375392623, -0.0256576948, 0.00397856673, -0.0141550358, 0.0148045979, -0.0201499518, -0.0319097266, 0.0178900175, 0.0014107672, -0.00024295137, -0.0108869281, -0.0162255149, 0.00526077487, 0.0260772035, -0.00506116962, 0.0033797517, -0.00654636603, 0.0146422079, 0.00104792602, 0.0469037816, 0.00972313, 0.00232759677, -0.0135663711, 0.00875555258, 0.0051254495, -0.00161206373, -0.0170780644, -0.00544346403, 0.00378911104, 0.00841047335, 0.017659964, 0.0022616256, -0.0312601663, -0.00665462622, 0.0228699911, -0.00269128382, 0.00553142559, 0.000271496567, 0.00742936414, 0.0166720878, 0.017822355, -0.00887734536, 0.0270109493, -0.0166044254, -0.00854579825, 0.00479728542, -0.0133498497, -0.0262395944, -0.000257752574, -0.00400901493, -0.0172675196, 0.0135257728, 0.017348716, -0.00249675359, -0.0324780941, 0.0103794578, 0.000364109874, -0.00388722192, -0.0333712436, 0.0430334769, 0.00526077487, 0.00309895142, 0.0241420511, -0.0136543326, 0.00968253147, 0.0391361043, 0.0132957203, -0.000119149779, 0.000970959722, -0.00677980203, 0.0143850893, -0.00146405166, 0.00380941, 0.00246630539, 0.00120439602, -0.0177140944, -0.0118409721, 0.0131942257, -0.00418155454, 0.0352928638, 0.00889087841, -0.0114417616, -0.00822778419, -0.0180659406, 0.0331276581, 0.00300084054, -0.00939158257, -0.0082413163, -0.01891849, 0.0269026887, 0.00311586726, 0.0189996846, -0.0225316789, -0.0320991836, 0.00939834863, -0.00773384608, 0.0206371229, -0.00974342879, 0.0176870283, 0.0132483561, 0.0176734962, 0.0433311909, 0.00696249167, -0.0392714292, -0.0113876322, 0.0243856367, -0.00120862492, -0.0206371229, -0.00969606452, 0.0104200551, 0.00778121036, -0.0352387317, -0.0148045979, 0.0107245371, -0.00608625961, 0.01039299, -0.0177952889, 0.00736170122, 0.0229917839, -0.00544684706, 0.0104403542, -0.020813046, -0.0313413627, -0.00375189655, 0.0161172543, -0.00688806269, -0.0081668878, -0.0380805656], metadata={'document_title': '\"Architectural Marvels: Exploring the Beauty, Innovation, and Function of New York City\\'s Architecture\"', 'questions_this_excerpt_can_answer': \"1. How did Ivanka Trump's childhood experiences and family background influence her passion for architecture and real estate development?\\n2. What aspects of architecture and real estate development does Ivanka Trump find most compelling and challenging, based on her personal experiences and reflections?\\n3. How does Ivanka Trump's perspective on the confidence and ambition of youth relate to her approach to tackling large-scale projects in the fields of architecture and real estate development?\", 'start_timestamp': 0.06449438202247192, 'end_timestamp': 316.72680412371136}, excluded_embed_metadata_keys=[], excluded_llm_metadata_keys=[], relationships={}, text=\"The following is a conversation with Ivanka Trump, businesswoman, real estate developer, and former senior advisor to the President of the United States. I've gotten to know Ivanka well over the past two years. We've become good friends, hitting it off right away over our mutual love of reading, especially philosophical writings from Marcus Aurelius, Joseph Campbell, Alan Watts, Victor Franklin, and so on. She is a truly kind, compassionate, and thoughtful human being. In the past, people have attacked her. In my view, to get indirectly at her dad, Donald Trump, as part of a dirty game of politics and clickbait journalism. These attacks obscured many projects and efforts, often bipartisan, that she helped get done, and they obscured the truth of who she is as a human being. Through all that, she never returned the attacks with anything but kindness, and always walked through the fire of it all with grace. For this, and much more, she is an inspiration, and I'm honored to be able to call her a friend. Oh, and for those living in the United States, happy upcoming Fourth of July. It's both an anniversary of this country's declaration of independence, and an anniversary of my immigrating here to the U.S. I am forever grateful for this amazing country, for this amazing life, for all of you, who have given chance to a silicate like me. From the bottom of my heart. Thank you. I love you all. This is the Lex Freeman podcast to support it. Please check out our sponsors in the description. And now, dear friends, here's Ivanka Trump. You said that ever since you were young, you wanted to be a builder. That you loved the idea of designing beautiful city skylines, especially in New York City. I love the New York City skyline. So describe the origins of that love of building. I think there's both an incredible confidence and a total insecurity that comes with youth. So I remember 15. I would look out over the city skyline for my bedroom window in New York and imagine where I could contribute and add value in a way that I look back on and completely laugh at how confident I was. But I've known since my earliest memories, it's something I've wanted to do. And I think fundamentally I love art. I love expressions of beauty in so many different forms. With architecture, there's the tangible. And I think that marriage of function and something that exists beyond yourself is very compelling. I also grew up in a family where my mother was in the real estate business working alongside my father. My father was in the business and I saw the joy that had brought to them. So I think I had these natural positive associations. So you send me as a little girl renderings of projects they were about to embark on with notes asking if I would hurry up and finish school so I could come join them. So I had these positive associations. But I came from something within myself. I think that as I got older and as I got involved in real estate, I realized that it was so multidisciplinary. You have, of course, a design, but you also have engineering, the brass tax of construction, there's time management, there's project planning, just the duration of time to complete one of these iconic structures. It's enormous. You can contribute a decade of your life to one project. So while you have to think big picture, it means you really have to care deeply about the details because you live with them. So it allowed me to flex a lot of areas of interest. I love that confidence of youth. It's funny because we're all so insecure, right? In the most basic interactions, but yet our ambitions are so unbridled. In a way, they make shoe blushes and adults. I think it's fun. It's fun to tap into that energy. Yeah, where everything is possible. I think some of the greatest builders I've ever met kind of always have that little flame of everything is possible, still birding. That is a silly notion from youth, but it's not so silly. Everybody tells you something is impossible, but if you continue believing that it's possible, and I have that sort of naive notion that you could do it, even if it's exceptionally difficult, that naive notion turns into some of the greatest projects ever done. 100%. Going out the space or building a new company, where like everybody said, it's impossible to take it on a gigantic company and disrupting them and revolutionizing how stuff is done or doing huge building projects. Like you said, so many people are involved in making that happen. We get conditioned out of that feeling.\", mimetype='text/plain', start_char_idx=None, end_char_idx=None, text_template='[Excerpt from document]\\n{metadata_str}\\nExcerpt:\\n-----\\n{content}\\n-----\\n', metadata_template='{key}: {value}', metadata_seperator='\\n'), TextNode(id_='8a49c3c0-f28d-48ce-b1ec-bb9e9bf53e94', embedding=[0.00175026746, -0.0155548789, 0.0165304933, -0.0319617, 0.00513572106, 0.0276744924, -0.00785301533, -0.012923466, -0.0199245363, -0.0393269099, 0.00611477112, 0.0144281117, -0.00133374159, 0.00518037938, -0.0110752936, -0.00656135567, 0.0462798886, -0.00796981435, -0.014840344, -0.0354244523, -0.00650982698, 0.00974928122, 0.00296119833, -0.0150464596, -0.0228101574, 0.0100859376, 0.0309173837, -0.0312196873, 0.0150052365, -0.0190038849, -0.000174447036, -0.00414292933, -0.0177809298, -0.0030487976, -0.0100790672, -0.00615599472, 0.0125868106, -0.00988669228, -0.00882863067, -6.85375562e-06, -0.00671594264, -0.000638100435, -0.0146617098, 0.000804710784, -0.000920650957, 0.00521473214, -0.00557887, -0.0262179412, -0.00198214781, 0.0127310911, 0.0426797308, 0.0315769538, -0.0126349041, -0.0144006303, -0.0248988, -0.00312437327, -0.00279115257, 0.0146617098, 0.00910345186, -0.00866373815, 0.00139729399, 0.0140639739, -0.0208589286, 0.0292409733, -0.0160358157, -0.00634836918, -0.0273172259, 0.00631058123, -0.00134920026, 0.00221231044, 0.0397391431, 0.0289111882, -0.0178221539, 0.0223704446, 0.0271385927, -0.000750605366, -0.0121402256, 0.000799128495, 0.0123600829, 0.00515976781, 0.00313983206, -0.0116043249, 0.00319136097, 0.018385537, -0.00504296878, 0.0076743816, -0.0245140493, 0.0106012272, -0.00908284, -0.0166953877, -0.0185504295, 0.00388184912, 0.0244041216, 0.00787362736, 0.0100309728, -0.00261423644, -0.00699419901, -0.000589147909, 0.0132463807, 0.0008914512, -0.0168327969, 0.0148953078, 0.00479219435, -0.0162694138, -0.0169976894, -0.0121196145, -0.0113226324, -0.0100378441, 0.0033751477, -0.00360015756, -0.0216696505, 0.007798051, -0.00512541505, -0.0417453386, -0.0102233477, -0.0269599576, 0.019374894, -0.0263141282, -0.00689801155, 0.0127036097, 0.00448645605, 0.0214085709, 0.0183168314, -0.0198283475, 0.0157884769, -0.0122364135, -0.0192512237, 0.00122123666, -0.0335831493, -0.0197596438, 0.0120440386, 0.0211612303, 0.0202955436, -0.0236758441, -0.0136517426, 0.0218482837, -0.0441088, -0.0152663169, -0.0210238211, -0.0273034852, 0.0225490779, 0.0154724326, -0.0184405018, -0.0150327189, -0.0176572613, 0.0299555082, -0.00318105519, 0.00188939564, 0.0156235844, -0.00124785991, 0.0310273115, -0.00585712632, -0.00423568161, 0.00952942483, 0.0360840224, 0.034929771, 0.00194607745, 0.00922025088, -0.0234285053, -0.0013784, 0.0126761273, 0.00642051, -0.0123600829, -0.0104500754, -0.00495365169, 0.0292684566, 0.0103951115, 0.00485402904, 0.00296978652, 0.00430095149, -0.0221231058, 0.0216146857, -0.0293783844, 0.0253110304, 0.0136036482, 0.0261767171, 0.0173686985, 0.0223704446, -0.016159486, -0.00634836918, -0.0147716384, 0.00123841292, 0.0308624189, 0.0189626608, -0.0188664738, 0.0034507236, 0.00404330669, 0.00479562953, -0.0150052365, -0.00759880571, -0.0152113521, 0.0186878406, -0.00466509, -0.0120646497, -0.666166544, -0.000509707432, 0.00755758258, -0.0114463028, 0.00162058615, 0.0101477718, 0.0151426475, 0.0129784308, -0.0353420042, 0.00549642369, -0.0239918903, 0.0127654439, 0.0207077768, 0.00336484192, -0.0262042, -0.0154586919, -0.00875992514, -0.0129097253, 0.0108279549, 0.000854092708, -0.0017863377, 0.0165167525, -0.00608385401, 0.00595331378, 0.000826181204, 0.0115562305, 0.0119066276, -0.0453454964, -0.00513572106, 0.00641020434, -0.0298455805, 0.0202405807, 0.0104500754, 0.010985977, 0.0520786159, -0.0115905832, -0.0002148114, 0.0273721907, 0.0185092073, 0.0107798614, -0.0170801356, 0.00373756816, -0.000172729415, 0.0184954666, 0.000192160122, 0.0177534483, 0.0237445496, 0.00673655421, 0.0159533694, 0.000935250835, 0.0147578977, 0.00659570843, 0.00739269, 0.0100378441, 0.0131708048, -0.0101889949, 0.0167503506, -0.027688235, -0.00620065304, 0.00962561183, 0.0205703657, 0.0214360524, -0.00320853735, -0.00120320148, -0.0118791461, 0.037430644, -0.0111165168, 0.00650639134, -0.000812010723, 0.00388528453, 0.0107111558, 0.0252423249, -0.013328827, -0.0157609954, 0.00766751124, 0.00206459407, 0.0247888714, -0.0014565523, -0.00698732864, 0.0249949861, -0.00589491427, -0.015499915, -0.0150052365, -0.00707664527, 0.0238544792, -0.0247888714, -0.0388047509, 0.0189489201, -0.00259706029, -0.00173394987, -0.0119615924, 0.0167228691, -0.0239369255, -0.0280042794, -0.0134044029, 0.024101818, 0.000297794526, -0.00150292832, 0.0154037271, -0.0266164318, 0.0134593677, -0.0199657585, 0.00735146645, -0.00159911579, -0.00544833, -0.00364481588, 0.00406391826, 0.0220131762, 0.0222330336, -0.0116318064, 0.00316044362, 0.0174236633, 0.00444523245, -0.0106768031, -0.00048866641, -0.0202130973, 0.0232361313, 0.000666441396, 0.0169152431, -0.0245827548, 0.0234972108, 0.00877366588, -0.018193163, -0.0154724326, 0.017203806, 0.0381451808, -0.000720976212, -0.00877366588, -0.00947446, -0.0055685644, 0.00339919445, 0.0250087269, 0.03099983, -0.0231674258, 0.0216146857, 0.00913780462, -0.00130625942, -0.0120715201, 0.0364962518, -0.0327586867, -0.0219582133, -0.0041154474, 0.00426316354, 0.000772505184, -0.0246514603, -0.0216559097, -0.00482311193, -0.0148266032, -0.03099983, -0.00111388462, -0.0214360524, -0.00394024886, -0.0346274674, 0.00633806363, 0.00985921, -0.00434217462, 0.0100584552, -0.0160770398, -0.0122570246, 0.00532809552, 0.00630371086, 0.0158159584, -0.0207352582, 0.00343182962, 0.00394711923, -0.00472692447, 0.000768211088, 0.00932330824, -0.00650982698, -0.0344625749, -0.00270698871, -0.021078784, -0.0044486681, 0.0076743816, -0.0205016602, 0.0310547929, 0.00198558299, -0.0157060307, -0.00928208511, -0.00566131622, 0.0142769609, -0.0165030118, -0.0244453438, -0.0107317669, 0.0200894289, 0.0101958662, 0.00942636654, 0.00306425616, 0.0223154798, 0.0145380404, 0.00293886894, 0.000211698192, -0.00144882291, -0.0064926506, -0.0155136557, 0.0014574111, -0.00672624866, 0.017341217, -0.000299941545, 0.013212028, -0.00310032652, -0.0186878406, 0.0174923688, 0.00122896594, 0.017203806, -0.0161869675, 0.00615599472, -0.0115631009, 0.0112470565, 0.0015243988, 0.0068258713, -0.0141258091, -0.0236483626, -0.0223154798, 0.00235487404, -0.00111302582, -0.00151323411, 0.0294608306, -0.0185366888, 0.00913093425, 0.0152663169, 0.00619721785, -0.000370793889, -0.00262626, -0.0154449502, 0.00250946102, -0.0182069037, -0.0153212808, -0.00320510217, -0.023112461, -0.00432156306, 0.0153625039, 0.0266713966, 0.00913093425, -0.00961874146, 0.0114394315, 0.0202543214, -0.0105119105, 0.0445759967, -0.0240605939, 0.0278668683, -0.00287703425, 0.00462730182, 0.00576437451, -0.00937827304, -0.0178496353, 0.0124287885, 0.000413734699, -0.00286844606, 0.0112058334, -0.00245449669, -0.000317976694, -0.00149949314, -0.00998975, 0.0174511448, 0.00532122515, -0.00917215738, -0.00473379483, 0.0453729779, 0.0335831493, 0.00479219435, -0.00658540241, 0.00256099, 0.00759193534, 0.00558574079, 0.011741735, -0.000593012606, -0.0139471749, -0.0241567828, -0.00271557691, -0.019663455, -0.0111508695, 0.00952255446, -0.0173274763, 0.00162230385, 0.000717540912, 0.00251461379, 0.00834769383, 0.01323264, 0.0324288979, -0.0315769538, -0.0207627397, 0.00843701, 0.01011342, 0.00455172593, -0.00935079064, -0.00115424895, -0.00845762156, 0.00255068415, 0.0107111558, 0.00805226061, -0.0165991988, -0.0155548789, -0.0144281117, -0.0166404229, 0.0138235055, 0.021078784, -0.0205978472, 0.0210650433, -0.017437404, 0.00198558299, -0.0154449502, -0.0210650433, 0.00120921317, 0.0050876271, -0.00195810082, -0.0123463413, -0.0131570641, -0.00239953236, -0.0211200081, 0.000434990419, -0.00981111638, -0.00879427791, -0.0062075234, 0.017107619, -0.00573345693, -0.02452779, 0.012147096, 0.0276332702, 0.00432843342, 0.000591294956, -0.0213261247, -0.0171488412, 0.00460669026, 0.123009965, 0.0280592423, -0.0126417745, 0.0157884769, 0.0219994355, 0.00821028277, -0.0223704446, -0.0120990025, 0.0289386716, 0.00220887526, 0.0127242208, -0.0292684566, 0.0225490779, -6.27472618e-05, 0.00758506451, -0.0055548232, 0.0112195751, -0.00440400932, 0.00781866256, -0.00653387373, -0.00957751833, 0.00131914171, 0.00291997497, 0.0218070615, 0.000395914278, -0.000167576509, 0.0239781477, 0.00173824397, 0.0139815276, -0.0142632192, -0.0171900652, 0.00720031513, 0.0105119105, 0.0171625838, -0.0276332702, 0.00262797764, 0.0256545581, 0.000990215107, 0.0154174687, -0.00525939045, 0.0352320746, 0.00853319746, 0.0155823613, -0.0243079346, 0.0195535272, -0.0212574191, -0.00970805809, 0.0180007871, -0.0062830993, -0.0137891527, 0.0251186565, 0.000707235129, -0.0167778339, -0.0324288979, 0.00875305478, -0.00965996459, 0.0112607982, 0.0120783914, -0.00547581213, 0.0212436784, -0.000342023559, -0.0382825918, 0.00843014, -0.00983172748, 0.012050909, -0.0115837129, -0.032511346, 0.010965365, -0.0235109515, 0.00355206383, -0.0216009449, -0.0182206444, -0.0278668683, 0.00318449037, 0.0262042, -0.0123738237, 0.00849197432, -0.0148540847, 0.00255583692, -0.00822402351, -0.00884924177, -0.0266713966, -0.00946759, -0.0206802934, -0.000864827889, 0.0122432839, -0.0195810087, -0.0321265981, -0.0325388275, 0.0170801356, 0.00373756816, 0.00699763419, -0.0121127432, -0.00342667662, 0.0370458961, 0.00139128219, -0.0169564672, 0.0201443937, 0.0231399443, -0.0341327898, 0.0207352582, -0.0204466954, -0.0252972897, -0.0324838646, -0.00785301533, 0.00431125751, -0.00834082253, -0.00597049, 0.00042060524, -0.0182618685, 0.0223017391, -0.0214360524, 0.00166009169, 0.00933018, -0.00632432243, 0.00518724974, 0.0114256907, 0.0261492357, 0.0194023754, -0.0325388275, -0.00121694256, -0.0369634479, 0.0429270677, 0.0312196873, -0.0151838707, 0.0185641702, 0.00122381304, 0.00409827102, 0.000392479, -0.00581246801, 0.00652013253, 0.00884924177, -0.0201718751, -0.0183168314, -0.00937827304, -0.0204329547, -0.0151426475, -0.00873931404, -0.0076743816, 0.00193920697, 0.00797668472, 0.015170129, 0.002126429, -0.0226315241, 0.017299993, -0.0341053084, -0.00814157724, 0.00500174565, 0.00497082807, 0.031192204, -0.0181794204, 0.00139987038, 0.00709038647, 0.00766751124, -0.0178496353, -0.0283065811, 0.00479562953, -0.000696929346, 0.0281691719, 0.0127997966, 0.0194436, 0.00329270121, 0.0198833123, 0.0155548789, -0.00325319567, 0.0205291416, -0.00737894885, 0.0082995994, -0.00516663818, 0.0331434347, 0.0260667894, 0.0178084131, -0.00347133516, -0.0302303303, 0.031659402, 0.0346274674, -0.0229338277, -0.0234972108, 0.00286672846, -0.0445759967, -0.000147823739, 0.0454554223, -0.0350397, 0.0235521756, -0.0155411381, -0.00407765945, 0.0304501876, -0.0139746573, 0.00427003391, -0.0013251534, 0.0296532065, -0.0440813191, 0.0276332702, 0.00390246091, -0.0112470565, -0.00236174464, -0.019608492, -0.00946759, -0.0174236633, 0.00645829784, -0.000254639017, 0.0102370894, 0.00515289698, -0.0188939571, 0.000289421063, 0.0067983889, -0.00445897365, -0.0185641702, 0.00731024332, -0.018522948, 0.000275035884, -0.0146754514, -0.0191825181, -0.0164068248, 0.0114188204, 0.0168740209, 0.00492616976, 0.0167091284, -0.0132257696, -0.00724840863, -0.0129715595, -0.00365168648, 0.0470768698, 0.00295261014, 0.0305051506, -0.0332533643, -0.0250087269, -0.0154037271, 0.0129509484, 0.0269187354, 0.00352114649, 0.0191000719, 0.00208177045, 0.00591896102, 0.00979737565, 0.0249262806, 0.000742876029, -0.0250636917, -0.0240193717, 0.0222879983, 0.0200619455, 0.0288012605, -0.0083270818, -0.0176847428, -0.026369093, 0.0115974536, -0.00459294906, 0.01724503, 0.00811409578, -0.0154449502, -0.0109447539, 0.0161320027, 0.00438683294, 0.0124287885, 0.0115905832, -0.0241705235, 0.0155686196, -0.0177122261, 0.000339232385, 0.0119547211, -0.00878053717, 0.0328136496, -0.0182069037, 0.00933018, 0.0174648855, 0.0094126258, -0.00670563709, -0.00686709443, 0.0144555941, 0.0271523334, -0.00651326217, 0.00159138639, -0.000596877246, 0.0111165168, 0.0154312095, 0.00239781477, -0.0094126258, -0.00107953197, -0.00262282463, -0.00781866256, -0.0112333158, -0.00627279375, -0.0321265981, -0.00552047044, -0.000639388687, -0.0107248966, 0.0152250938, -0.0212711599, -0.00541054225, -0.0113363741, -0.0261354949, -0.0284989569, 0.00978363398, 0.019374894, -0.0195535272, -0.0252698082, -0.00520442612, 0.0231399443, -0.0327312, 0.0142494785, 0.00481280591, -0.00232052128, -0.020845186, 0.00276367064, -0.0183305722, 0.00452424353, 0.0208589286, 0.00150894, -0.0237720329, -0.0211887136, 0.0262179412, 0.0362763964, -0.000690917659, -0.0141258091, -0.00436622137, 0.00256614271, 0.00804539, -0.0178633761, -0.00276710582, -0.00736520765, 0.0258881561, 0.00965309422, 0.00247339066, -0.0152937984, 0.00429751631, -0.00200791238, -0.00782553293, 0.00354862865, -0.0369634479, 0.00951568317, -0.00662662601, 0.00906909909, 0.0129028549, -0.00906909909, -0.0172725115, -0.020748999, -0.0156235844, 0.00636898074, 0.0138097648, -0.0153212808, 0.0273859315, 0.00669533107, 0.0193611532, 0.017011432, -0.00668846071, -0.00449332641, -0.010656191, 0.00184817251, -0.0255995933, -0.0195397865, 0.0029131046, 0.0401788577, -0.0223979261, 0.00487807579, -0.0110134585, 0.0158434417, -0.0513091162, -0.00485402904, -0.00479906471, 0.0205978472, 0.0310547929, 0.00785301533, -0.0180557519, 0.0194573402, -0.0107592493, 0.0140364915, 0.0038303202, -0.00130024774, -0.0146067459, -0.01141195, 0.0139196934, 0.00514602661, -0.0228788629, -0.0103882411, 0.000632947544, -0.0132807335, -0.0250224695, 0.0095362952, -0.0242117457, 0.00155016326, 0.0119890738, 0.0148678264, 0.0181107167, 0.017299993, 0.0315494724, -0.0228926055, -0.00863625575, -0.000692635251, -0.0191962589, -0.0136860954, -0.00467196, -0.00584682077, -0.00417041127, 0.0167228691, 0.0153899863, -0.0019185954, 0.00915154535, -0.00412575295, 0.039464321, 0.010848566, 0.00686365925, 0.0403162688, 0.0150327189, -0.000431769848, -0.0211887136, 0.00821028277, 0.016448047, 0.00252148439, 0.00208005286, -0.0165304933, 0.0102027366, -0.0188802145, 0.016448047, -0.00715222117, 0.00847823359, -0.000343955879, -0.00965996459, -0.0132876039, 0.00680869492, 0.0240468532, 0.0103538884, 0.00952942483, -0.015170129, -0.00750948908, -0.0164617896, -0.0143319247, -0.0100103617, 0.00509449746, -0.00913780462, 0.0196909383, -0.00981798675, -0.0234010238, -0.0145792635, -0.00582620921, -0.0190176256, 0.00168156216, 0.20270811, -0.00394368405, -0.00974241085, 0.0210925266, -0.0128753725, -0.00499143964, 0.0187428053, 0.0189764034, -0.000995368, 0.0147166746, -0.00847823359, 0.00373756816, -0.00029521808, -0.00256786053, 9.29668531e-05, -0.0101202903, -0.0353145227, -0.0216559097, -0.010305794, -0.0307799727, 0.00758506451, -0.0192237422, 0.000810293073, -0.00583307957, 0.023112461, 0.0197459012, -0.0106768031, 0.00242873211, 0.0177671891, 0.00197355961, 0.0122295422, -0.0265477262, 0.00497426325, -0.00471318327, -0.0162968971, 0.000200855633, 0.016063299, -0.00108897896, 0.017107619, 0.0062350058, 0.0143319247, 0.000799557893, 0.00413605897, -0.00382001442, 0.0041017062, 0.0258881561, -0.0267813243, -0.00312780868, -0.0320991129, -0.00226212176, -0.0205703657, -0.00860877335, 0.0195260458, 0.0234972108, 0.00174339686, -8.5452215e-05, 0.00300242146, -0.00772934593, -0.014936531, 0.0115356194, -0.0170801356, 0.0178358946, -0.0189214386, 0.0157609954, 0.0139609165, 0.00793546159, 0.0128478901, -0.0153762456, -0.00533496635, -0.0244590845, 0.0028461169, -0.010326406, -0.0213673469, -0.0134868491, -0.00794233195, -0.00919276848, 0.0159121472, -0.00685335323, 0.0338030048, 0.0205016602, -0.0167915747, -0.0116799, 0.0033751477, -0.0227964167, -0.00334938313, -0.0391070545, 0.0176435206, 0.00766751124, -0.00466509, -0.0297356527, -0.00202508853, 0.00113964907, -0.000111216701, -0.00332533638, 0.0146342283, -0.00326693687, 0.0262179412, 0.0341877565, -0.0158709232, 0.00760567607, -0.0174786281, 0.00907596946, 0.0255995933, -0.00431125751, 0.00673655421, 0.00154844555, 0.0101065487, 0.0309723467, -0.00332018337, -0.0178358946, 0.00762628764, -0.0234972108, -0.0228101574, -0.00759880571, -0.00856755, 0.00455172593, -0.00592239667, -0.0332808457, 0.034737397, 0.00121866015, -0.0213948283, -0.0153899863, 0.00454829074, 0.0249262806, 0.000757046451, -0.0266439132, -0.0391070545, 0.0212849, -0.0142907016, -0.0139059518, 0.0386398584, -0.0179183409, -0.00387841393, -0.00306425616, 0.010848566, -0.00908971, 0.00453454955, -0.0183717962, 0.00928208511, 0.00259706029, -0.00513572106, -0.0310822763, 0.0271385927, 0.00870496128, -0.00605637161, -0.0186603591, 0.00397803681, -0.00900039356, -0.00890420657, -0.0140364915, -0.00759193534, 0.0117073823, -0.00884924177, -0.0401788577, 0.0174236633, -0.022260515, -0.0454829074, -0.0137822824, -0.00215047575, 0.0130677475, -0.0210650433, 0.0243903808, 0.0267401021, -0.0140708443, -0.00281863473, -0.00931643788, -0.17742455, 0.0361939482, 0.00641363952, -0.0375405736, 0.0360565409, 0.00805913098, 0.0221368466, -0.00514946179, -0.0276744924, 0.0254896656, 0.00532809552, 0.010848566, -0.0298730619, -0.0323189721, -0.0256545581, -0.00437652739, -0.0193336699, 0.0227826759, 0.0446584411, 0.0231262017, 0.0136036482, 0.00841639843, 0.0234972108, 0.00793546159, -0.00424598716, 0.0200207233, 0.00218482851, -0.0109241419, 0.00533153117, -0.0089935232, 0.00695984671, 0.00197355961, 0.00272072968, 0.010347018, 0.0174099226, 0.00924773328, -0.0350397, -0.00596018462, -0.0228239, -0.0120371683, 0.0216146857, -6.01171341e-05, -0.00254381355, -0.00196153624, -0.0190588497, 0.032896094, 0.0183443148, -0.010752379, 0.00113449618, -0.0130471354, 0.0177259669, -0.0191550367, -0.0003132532, 0.010305794, 0.00439026859, -0.00379253225, 0.0146617098, 0.0248438343, 0.0219169892, 0.00913093425, -0.0124013061, -0.00940575544, 0.00961874146, 0.0081828, -0.00341293565, -0.014936531, -0.0113226324, -0.0055548232, -0.0251736213, 0.0104775578, -0.0103538884, 0.0088904649, 0.00461356062, 0.00670220144, 0.00155445735, 0.0142494785, -0.00698732864, -0.0151563883, -0.0236895867, 0.0217246152, -0.00127448328, 0.0247751288, -0.0115150074, -0.0200756881, -0.00667815469, 0.0175061096, -0.00434904546, -0.00108210836, -0.0225215964, -0.00931643788, 0.00616286509, -0.0221231058, -0.0112195751, -0.0172725115, 0.0173549578, 0.00253694295, 0.017299993, 0.010560004, -0.0089179473, -0.0191138126, 0.00463417219, -0.0282241348, -0.0188389923, -0.0045448551, 0.0229338277, 0.0088423714, 0.0145243, 0.0179458242, 0.0463348515, -0.0125318458, -0.0155686196, 0.00663349638, 0.021078784, 0.0118173109, -0.00727589102, 0.0223017391, 0.0370458961, -0.0145792635, 0.00401582476, -0.00180007878, 0.0433118194, -0.00771560473, -0.032896094, 0.0055685644, 0.0124219172, -0.0201581344, -0.12399932, 0.00158022181, -0.00223463983, 0.00604606606, 0.0191275552, 0.0154312095, -0.00278599979, 0.000726129103, -0.0109584946, 0.0270424038, -0.0259293783, -0.00819654204, 0.00396086043, 0.00477158278, 0.00841639843, -0.0124081764, 0.00909658149, -0.00634493399, -0.0297906157, 0.0345999859, -0.0155411381, -0.0070697749, -0.0275096, -0.0179870464, 0.0174786281, -0.000367358618, -0.0102577, -0.0131227113, 0.00957751833, 0.0115356194, -0.00587773789, -0.00557543477, 0.016214449, -0.0345999859, 0.0182206444, -0.0125387162, -0.00327380747, 0.0041772821, 0.00752323, -0.0271935556, 0.00129251834, 0.0223979261, 0.0216833912, -0.0276332702, 0.0182069037, 0.0156373251, -0.0375680551, 0.0344076119, 0.00228616875, -0.0109928474, 0.00115768425, 0.025517147, -0.0208314452, -0.013988398, 0.0161045212, -0.0235659163, 0.00558230514, 0.000115618132, -0.0060254545, 0.0115150074, 0.0164068248, -0.0082308948, -0.000485660566, -0.00379253225, 0.0182756092, -0.0142632192, -0.0095362952, -0.0215872042, -0.00264515379, -0.0223292205, -0.0016506447, 0.0150189782, -0.0253659952, 0.00746139511, -0.0225215964, -0.0166404229, -0.0395742506, -0.0215184987, -0.00251804921, -0.0267813243, -0.0100515848, -0.02452779, 0.0277706813, -0.0120165562, -0.00107867317, 0.00269324752, 0.0103607588, -0.00323773711, -0.0122158015, -0.0213948283, 0.0135280732, 0.0343251675, 0.0103676291, -0.0332533643, -0.000415881746, 0.0148128616, 0.00580903282, 0.00066772959, 0.00930269714, 0.010848566, -0.0217108727, -0.020694036, -0.0382276252, 0.0246239789, 0.00520786131, -0.0269324761, 0.0114325611, -0.0156922899, 0.000506272132, 0.00194951275, -0.0122913774, -0.00744765392, -0.0311372392, 0.0349847376, 0.0154586919, -0.0138441175, -0.0281691719, -0.0127585735, -0.0251049157, 0.00763315847, -0.0115493601, 0.0233048368, -0.00913093425, -0.00792172085, 0.024005631, -0.000415022922, -0.0159945935, -0.0065270029, -0.0328686126, 0.0197459012, -0.0118928868, -0.00501548639, 0.0101615135, -0.0294333491, 0.0211062673, 0.0231262017, -0.00439713895, -0.0117760878, 0.00602888968, 0.0185641702, 0.0180832334, 0.0553489849, -0.0226452649, -0.0174923688, -0.0010597792, -0.0193886347, 0.00860190298, 0.012689868, -0.0383650362, 0.0134799788, 0.018619135, 0.0114806546, 0.0133563094, 0.0068774, -0.0116180656, -0.0339678973, 0.0003446, 0.00451737316, 0.0107729901, 0.0153487632, -0.0127242208, 0.00447271485, 0.0266851373, -0.0108073428, 0.00445553847, -0.0128478901, 0.026561467, -0.0135967778, -0.00323430169, 0.0147578977, -9.36109645e-05, -0.0237308089, -0.00349366432, -0.000215992273, 0.0154586919, 0.0251186565, 0.00614912389, -0.00114823726, -0.0113432445, -0.0041497997, 0.00403300067, 0.0324014165, 0.00797668472, 0.0313021317, -0.00954316556, 0.0223017391, 0.0381726623, 0.0250774324, -0.0314945094, 0.00209035864, 0.0128616318, 0.00651669735, 0.0133356983, 0.0111783519, 0.00954316556, -0.00264000101, 0.031192204, 0.0122982478, -0.00864312612, -0.0151976114, 0.0140845859, 0.0133631798, -0.00110873173, -0.00418071728, 0.0169015024, -0.0240193717, -0.0134524973, 0.0272210389, -0.0229750518, -0.0213123821, 0.00875992514, 0.0104569457, -0.01323264, 0.0148678264, 0.0240605939, -0.00393337803, -0.0259431191, -0.00673655421, 0.000609330076, -0.0196222328, -0.00274649425, 0.0384749658, -0.00578842126, -0.00861564372, 0.0248713177, -0.0101752542, 0.00800416712, 0.0241155587, 0.0120715201, -0.0109447539, 0.00908284, -0.018426761, 0.0401238911, -0.00947446, -0.005269696, -0.0088423714, -0.00919276848, -0.0265477262, 0.00293886894, 0.016159486, -0.0213261247, 0.035259556, 0.0234972108, 0.012284507, 0.00628996966, -0.00275336462, 0.0288562234, 0.00156648073, -0.0108142132, -0.00921338052, -0.0225490779, 0.0222192928, -0.0135349436, 0.0311372392, -0.0338030048, -0.0300654378, 0.00603576, -0.00937140267, 0.0067983889, -0.00566818705, 0.00116455473, 0.0158022176, 0.00753697101, 0.0242804512, 0.0101065487, -0.00538649503, -0.0155823613, 0.0205978472, -0.00121694256, -0.0259018969, -0.00341637083, 0.00982485712, 0.0100584552, -0.0345175415, -0.0173274763, 0.0161457453, -0.00838204566, -0.00517007336, -0.0177671891, -0.00121780136, 0.0176984835, -0.00149262254, -0.00274134125, -0.021738356, -0.034022864, 0.013658613, 0.00487120543, 0.00530061359, -0.00822402351, -0.0508694], metadata={'document_title': '\"Architectural Marvels: Exploring the Beauty, Innovation, and Function of New York City\\'s Architecture\"', 'questions_this_excerpt_can_answer': \"1. How did the experiences of the speaker's grandmother, including surviving mass starvation and the Nazi occupation of Ukraine, shape her outlook on life and her approach to hardship?\\n2. In what ways did the speaker's mother's upbringing in a controlled and austere environment influence her love for flamboyance, glamour, and capitalism?\\n3. How did the speaker's mother navigate the challenges of living under communist rule as a young athlete, and how did these experiences impact her perspective on finding joy and beauty in any situation?\", 'start_timestamp': 2104.086262626263, 'end_timestamp': 2418.2507692307695}, excluded_embed_metadata_keys=[], excluded_llm_metadata_keys=[], relationships={}, text=\"So that was her life. As a young girl, she was on the junior national ski team for Czechoslovakia. My grandfather used to train her. They used to put the skis on her back and walk up the mountain and Czechoslovakia because there were no ski lifts. She actually made me do that when I was a child. Just to let me know what her experience had been. If I complained that it was cold out, she's like, well, you didn't have to walk up the mountain. You'd be plenty warm if you met my grandma. You mentioned it's funny. They go through some of the darkest things that a human being can go through and they don't talk about it. And they have a general positive outlook on life like that's deeply rooted in the knowledge of what life could be. Yeah. I call baddock you get. My grandma survived Haltemore in Ukraine, which was the mass starvation brought on by the collectivist policies of the Stalin regime. And then she survived in the Nazi occupation of Ukraine. Never talked about it. Probably went through extremely dark, extremely difficult times and then just always had a positive outlook on life. And also made me do very difficult physical activity like you see me. Just to humble you like his these days are soft kind of energy, which I'm deeply, deeply grateful for. On all fronts, including just having hardship and including just physical hardship flowing at me, I think that's really important. You wonder how much of who they were was a reaction to their experience. You know, which he have naturally had that sort of forward looking grateful, optimistic orientation. Or was it a reaction to our childhood? I think about that. You know, I look at this picture of my mom and she was unabashedly herself. You know, she loved flamboyance and glamour. And in some ways, I think it probably was a direct reaction to this very austere control childhood. You know, this was one expression of it. I think her, you know, how she dressed and how she presented. I think her entrepreneurial spirit and love of capitalism and all things American was was another manifestation of it and one that I grew up with. Remember the story she used to tell me about when she was 14 and she was going to neighboring countries and, you know, as an athlete, you were given additional freedoms that you wouldn't otherwise be afforded in these societies under under communist rule. So she was able to travel where most of her friends never would be able to leave Czechoslovakia and she would come back from all of these trips and the first place where she do ski races in Austria and elsewhere. And the first thing she had to do was check in at the local police and she'd sit down and she had enough wisdom at 14 to know that she couldn't appear to be lying by not being impressed by what she saw and the fact that you could get an orange in the winter. But she couldn't be too excited by it that she'd become a flight risk. So given enough detail that you're believable, but not so many that you're not trusted. And imagine that as a 14-year-old. You know, that experience and having to navigate the world that way. And she told me that eventually all those local police officers, they came to love her because one of the things she'd do is smuggle that stuff back from these countries and give it to them to give their wives perfume and stockings. So she figured out the system pretty quickly. But it's a very different experience from what I was navigating and the pressures and challenges me as a 14-year-old was was dealing with. So I've so much respect and admiration for her. Yeah, hardship clarifies what's important in life. You and I have talked about man search for meaning that book. Having kind of an ultimate hardship clarifies that finding joy in life is not about the environment. It's about your outlook on that environment. And there's beauty to be found in any situation. And also in that particular situation, when everything is taken from you, the thing you start to think about is the people you love. So in the case of man search for meaning, Victor Franco, thinking about his wife and how much you love her. And that love was the flame that the warmth that kept him excited. The fun thing to think about when everything else is gone. So we sometimes forget that with the business of life. All this fun stuff we're talking about, like building and being a creative force in the world. At the end of the day, what matters is just like the other humans in your life, the people you love. It's a simple stuff.\", mimetype='text/plain', start_char_idx=None, end_char_idx=None, text_template='[Excerpt from document]\\n{metadata_str}\\nExcerpt:\\n-----\\n{content}\\n-----\\n', metadata_template='{key}: {value}', metadata_seperator='\\n'), TextNode(id_='f5151f32-d411-476a-afb5-0da9cedd019a', embedding=[0.00215220288, -0.0131113557, 0.0167666841, -0.0336153582, 0.00325563387, 0.030745754, -0.014675973, -0.0124486145, -0.0276438501, -0.0367035978, 0.0264276844, 0.00884111226, 0.0179145262, -0.0169169977, -0.0161381047, 0.000219063499, 0.0285867192, -0.0169443265, -0.0211667437, -0.0186660886, 0.000808357145, 0.010918159, 0.000533353421, -0.0210027657, -0.00811004639, 0.00325734192, 0.0418415554, -0.0218499824, 0.00277565839, -0.021221403, 0.00308482395, -0.00503888773, -0.00936037395, -0.0072081713, -0.00405843975, -0.0242823139, -0.00309165637, -0.0124964407, -0.00507646566, 0.00474851113, -0.00567771588, 0.00186353433, -0.0166846961, -0.000905291643, 0.00972249079, 0.0162610877, 0.0108430022, -0.0269879401, -0.000252798432, 0.00344694057, 0.0348178595, 0.0292972885, -0.0249245577, -0.00489199115, -0.0217406638, -0.0126604186, 0.00454012305, 0.0121343248, 0.0063370415, -0.00992746279, 0.00383297075, 0.0260997284, -0.0273295585, 0.0187070835, -0.0205381643, 0.00663766684, -0.0203741863, 0.00459478237, -0.000422540616, 0.00545566343, 0.0437272936, 0.0166710317, -0.00176446466, 0.018925719, 0.0286960378, -0.00624138815, -0.0182424802, -0.00463577639, -0.00640536565, 0.00163208717, -0.00933987647, -0.0127902338, -0.0125374356, 0.00924422313, -0.00336836814, 0.0143343536, -0.0162747521, 0.020606488, -0.007850416, -0.00695195654, -0.0014655476, 0.00627896609, 0.00882061571, 0.0129542109, -0.0158921387, 0.00636095507, -0.00245112, -0.0013041324, 0.00221369439, -5.73814e-05, -0.00583486073, 0.0184884463, -0.0160151217, -0.0171902925, -0.040147122, -0.00496373139, -0.0167666841, -0.00970199332, 0.0161381047, -0.0144436723, -0.0435633175, 0.00571529428, -0.000754125, -0.0399558172, -0.0108020082, -0.0326861516, 0.012797066, -0.020606488, 0.0042155846, 0.00154582819, 0.0144436723, 0.0179008618, 0.0215630215, -0.0242823139, 0.014307024, -0.0108156735, -0.0268922858, 0.00749513181, -0.0112256166, -0.0104535567, 0.00517211901, 0.0197866019, 0.00681189261, -0.0171902925, -0.0131455185, 0.0159741268, -0.0283407532, -0.00312581845, -0.0335060395, -0.0332327448, 0.0261543877, 0.00223077531, -0.00669574225, -0.00962000526, -0.00198651734, 0.0327954702, 0.00867713522, -0.00534976134, 0.0268239621, 0.00815787353, 0.0361296758, -0.0114305886, -0.0108088404, 0.012838061, 0.0095926756, 0.0298712086, 0.0015108122, 0.0129542109, -0.0297618899, -0.00540783675, 0.0120523358, 0.000777184323, -0.0172586162, -0.00112051191, -0.0121548213, 0.0297345612, 0.0126125915, 0.00380905741, 0.00498081231, 0.00206850609, 0.00188232341, 0.0120181739, -0.0336973481, 0.0194313172, 0.0285047311, 0.0210574251, -0.00313094258, 0.00779575668, -0.021467369, -0.0187754072, -0.00752929365, -0.00132889987, 0.0338886529, 0.0257717744, -0.0140064, 0.00144590449, 0.00553423585, -0.00947652478, -0.0204971693, 0.00546932826, -0.010918159, 0.0243096426, -0.0183654632, -0.0225878805, -0.658095777, -0.0157281607, -0.0188300665, -0.0211530793, 0.0117927045, 0.00793923717, 0.0173132755, 0.0245146155, -0.0185841, -0.000661460741, -0.0156461727, 0.0156461727, 0.0226835348, -0.00589976879, -0.0259904116, -0.0265779961, 0.00918956473, -0.0129678762, 0.0200598966, -0.00373048475, 0.00521994568, -0.00204117643, 0.010303244, 0.010098272, -0.01026225, 0.0173542704, 0.010754182, -0.0199779086, -0.00278078276, 0.0236537345, -0.0291879699, 0.0352824628, 0.0141020529, 0.00423608162, 0.0536752529, -0.0092647206, -0.0134666404, 0.0180921685, 0.0121958163, 0.0272202417, -0.015823815, -0.00788457785, 0.0174635891, 0.0118268672, 0.0140747232, -0.00146127737, 0.0203878507, 0.00733798649, 0.0103784, 0.00948335696, 0.00719450647, 0.0111504598, 0.00593051454, 0.0137672657, 0.0130635295, 0.00174311351, 0.00162867096, -0.0121206595, 0.00122812204, -0.00414384436, 0.0202238746, 0.0299258679, -0.0199369136, 0.00213853805, -0.0117653757, 0.0355010964, -0.0270972587, 0.00802122522, 0.00256214617, -0.0188300665, 0.0132685015, 0.0242823139, -0.00826035906, -0.0260177404, 0.00693145953, 0.00394912111, 0.0270426, -0.00340423826, -0.0175045822, 0.00886161, -0.00538050709, -0.0122778043, -0.0222189315, -0.0197319426, 0.020852454, -0.0298712086, -0.0373048484, 0.0163430758, -0.00195918768, -0.0024630765, 0.00155436865, 0.0258674286, -0.00492956908, -0.0269742757, -0.00605349755, 0.0282587651, -0.00875229109, -0.00367924199, 0.0188573953, -0.0219456367, 0.0112734437, -0.0143206893, -0.00148262864, -0.00467335479, -0.00102400442, 0.00595442764, -0.00550007401, 0.0180648379, 0.0263183657, -0.0170673095, 0.00280469609, 0.00726283062, 0.00273808022, -0.00369632291, 0.00390129467, -0.0176548958, 0.021727, 0.00208558701, 0.0246785916, -0.00501155807, 0.0181468278, 0.00252969237, -0.0230934769, -0.00425316254, -0.00158426038, 0.0191306919, 0.00588610396, -0.00815787353, -0.00593393063, 0.00118968985, 0.00325392559, 0.0232027955, 0.0265506674, -0.0211120844, 0.0267009791, -0.00120762491, 0.00251090317, -0.0172312874, 0.0269879401, -0.0285320599, -0.014675973, -0.00605349755, 0.0114032589, -0.00167393556, -0.0151952347, -0.0174909178, -0.0106243659, -0.00637462, -0.0232027955, 0.00255531375, -0.0209481064, -0.00574262347, -0.00974982, -0.00500472542, 0.015741827, -0.00206679804, 0.000828854274, -0.0217953231, -0.0116218952, 0.00588610396, -0.0105970362, 0.0227245279, -0.0129747083, 0.00759078516, 0.0188437309, 0.00626188517, 0.000893335, -0.00320780696, -0.00878645293, -0.0347905308, -0.0100846076, -0.0192126799, 0.000281622575, -0.00127680285, -0.0170399807, 0.00547274435, 0.0184747819, -0.0113076055, -0.0167940147, -0.0123666255, 0.00751562882, -0.0173132755, -0.00697928621, -0.0181741565, 0.0368402451, 0.00612182124, 0.0256214626, 0.00340936263, 0.0127355745, 0.0172722824, 0.011000148, 0.0169989858, -0.00665133167, -0.00389446225, -0.0125579322, -0.00181229145, 0.00769327115, 0.0160561167, 0.00607741065, 0.0210847557, -0.00470751664, -0.0104398914, 0.020483505, 0.00589293614, 0.0174772535, -0.0262227114, -0.000760957424, -0.010344238, 0.0139107453, -0.00331029296, 0.00378514407, -0.00489540724, -0.0194723103, -0.0222599264, -0.0082945209, -0.0127765695, -0.0102075906, 0.0231344718, -0.0196636189, 0.00221881852, 0.0155505193, 0.00365191232, 0.00669574225, -0.0052131135, -0.0145803196, 0.00974298827, -0.0163704064, -0.00969516113, -0.00346743781, -0.0163977351, -0.00537367444, 0.0234214328, 0.0289693326, 0.00718767429, -0.000632850104, 0.0135008022, 0.0267009791, -0.00325734192, 0.0417595655, -0.0297072306, 0.00297721382, 0.00202238746, 0.00291401427, -0.00748146698, 0.002524568, -0.0323308669, 0.0328501314, 0.00429757312, -0.00787091348, 0.00272953976, -0.0110684717, -0.000657190511, -0.0105697075, -0.00705102645, 0.0177095551, -0.0110343099, -0.00122470583, 0.000210095983, 0.0361296758, 0.0405024067, 0.0125647653, -0.00542833377, 0.00469043572, 0.00876595639, -0.00327442284, 0.0205245, 0.00240158499, -0.012961044, -0.0286960378, -0.0207431354, -0.00690754596, -0.0156735014, 0.00492615299, -0.0216996707, -0.00196602, 0.00209071138, -0.00777525967, 0.00916223507, 0.0156325083, 0.0362116657, -0.0360203609, -0.0148536153, 0.0014655476, 0.0110138124, 0.00206167367, -0.00264242687, -0.00891626906, -0.0103510702, 0.00381588982, 0.0150175933, -0.00793240499, -0.0199095849, -0.0333147347, -0.016602708, -0.012838061, 0.00567771588, 0.0332600735, -0.00992746279, 0.0324948467, -0.0362936556, -0.00443422096, -0.00557523, -0.0260860641, -0.000153515255, 0.0145803196, 0.00806222, -0.00966099929, -0.0238040462, -0.00182254, -0.0169716571, -0.00492956908, -0.00813737605, -0.0191170275, 0.00727649499, -0.00232130452, -0.00580411498, -0.0199095849, 0.00830135401, 0.0137740979, 0.00532243168, -0.00806905236, -0.0112119513, -0.0370315537, 0.00701003196, 0.128448933, 0.0226835348, -0.00682214135, 0.016110776, 0.0214400385, 0.012756072, -0.00387738133, -0.0216586757, 0.0209344421, -0.00523361051, 0.0131796803, -0.0200598966, 0.00175250799, 0.000731492764, -0.00462552812, -0.01026225, 0.00542150112, -0.00826719217, -0.00275174505, -0.00981131196, -0.00458111754, 0.00443080487, 0.0149356043, 0.0394638851, 0.00348281069, 0.0127219101, 0.0286140479, -0.00361091807, 0.0292972885, -0.0165617131, -0.021262398, 0.00973615516, 0.00686996803, 0.0239406936, -0.0166573673, 0.00338032492, 0.0139927343, -0.0170536451, 0.00195918768, 0.00524385925, 0.0318935961, 0.0162200928, 0.00615256699, -0.0178052075, 0.0235990752, -0.00414384436, -0.0162747521, 0.00136904011, -0.00564355403, -0.0152772237, 0.0316749588, -0.000348238362, -0.00420533586, -0.0168760028, 0.0090119224, -0.00165002211, 0.00663083419, 0.0113895936, 0.0180238448, 0.00908707827, 2.92778586e-05, -0.0346812122, 0.00650785118, -0.00839017518, 0.0282041058, -0.0101870932, -0.0292426292, 0.0287780259, -0.0255531389, -0.0101324338, -0.0456403643, -0.0172996111, -0.0346538797, -0.00257239467, 0.0356377438, -7.76116794e-05, 0.0269469451, -0.00474509457, -0.000210950035, -0.00460503064, -0.00413701218, -0.0397098511, -5.72212666e-05, -0.0316203, -0.00407552067, 0.0159604624, -0.0182971396, -0.020893449, -0.0373868383, 0.0164387301, 0.0169033334, -0.00419167103, -0.00564355403, 0.00536684226, 0.0179008618, -0.000851059565, -0.00744047249, 0.032221552, 0.0201282203, -0.0179281905, 0.0085609844, -0.00678114686, -0.0186934192, -0.0256487913, -0.00381588982, 0.00405502319, -0.00342985964, 0.00591343362, 0.00148092047, -0.0178052075, 0.026045071, -0.0118883587, 0.0100026187, -0.00846533105, 0.00581436371, 0.0104603888, 0.018925719, 0.0170946401, 0.0189803783, -0.0255531389, -0.00778209185, -0.0186250955, 0.0430440567, 0.0358837098, -0.0315109827, 0.0135076344, 0.0118336994, -0.00176617282, -0.000635412231, -0.0106038693, 0.00342985964, 0.00559231127, -0.0130635295, -0.012920049, -0.0033017525, -0.0102007585, -0.0161381047, 0.00555131678, -0.00143736403, 0.00985913817, -0.0033342063, 0.0262773708, -0.0120455036, -0.0225332212, 0.0147033026, -0.0297072306, -0.00990013313, -0.00428390829, -0.00918273162, 0.0388899632, -0.00360750174, 0.00884111226, -0.00477925688, 0.000723806326, -0.0138355894, -0.03834337, -0.0021402461, -0.00891626906, 0.02044251, 0.000663168845, 0.0106175337, 0.0043454, 0.0287506972, 0.0193903223, 0.00545907952, 0.00527118891, -0.0106107015, 0.00987280346, -0.00324538513, 0.0266463198, 0.0252388474, 0.0167530198, 0.0047587594, -0.0126194237, 0.00500814198, 0.0244872849, -0.0256897863, -0.0111162979, 0.00602958398, -0.0344625749, 0.002524568, 0.0452577509, -0.0214810334, 0.0294612646, -0.0181468278, 0.00371682015, 0.0284500718, 0.00325221755, 0.00852682255, -0.0121343248, 0.0186934192, -0.037988089, 0.0356377438, -0.00187890721, -0.0121889831, -0.00638486817, -0.0239406936, -0.0189940445, 0.00107610144, 0.0158374794, -0.00433173496, 0.015987793, -0.000880524225, -0.0264003538, -0.000250022771, 0.0158374794, -0.00170041097, -0.0239133649, -0.00182424812, -0.0174089298, 0.00364508, -0.0107473489, -0.0072696628, -0.0160834454, 0.014962934, 0.0138629191, 0.00509354658, 0.019048702, -0.0162610877, -0.0116013978, -0.00369290682, -0.0219183061, 0.0390266106, 0.00467335479, 0.016069781, -0.0289966632, -0.0220959485, -0.00692121079, 0.00774109783, 0.024132, 0.0203878507, 0.0216176808, 0.015741827, -0.00393204, 0.00243403879, 0.00907341391, -0.0068768, -0.0187207479, -0.00452645821, 0.0330687687, 0.00130840263, 0.0231754668, 0.000643525738, -0.0210300963, -0.0209071133, 0.00250065466, -0.0166710317, 0.00968832895, 0.000524385949, -0.0188164022, -0.00162440073, 0.01026225, 0.00642927876, 0.00663425075, 0.0094560273, -0.0118883587, 0.0150175933, -0.0205518287, 0.00793923717, 0.0174635891, -0.0165617131, 0.0225468874, -0.0132958302, 0.0122709721, 0.00484758057, 0.0035835884, -0.0118336994, -0.0117995376, 0.00658300752, 0.0275891908, 0.00310019683, 0.0120181739, -0.0125989271, -0.0036348314, 0.0138765834, 0.00883428, -0.0124212848, 0.00696562137, 0.00721500348, -0.00613207, -0.00347256218, -0.00622430723, -0.0275345314, 0.000533353421, -0.0135554615, -0.00733798649, 0.0198685899, -0.0290239919, -0.00755662331, -0.025512144, -0.0330960974, -0.0413222946, 0.0165070537, 0.00609107548, -0.016356742, -0.0226698704, -0.0172859468, 0.00924422313, -0.0219183061, 0.0142660299, -0.00609790813, 0.00187719916, -0.0247605816, -0.00114357122, -0.0319482535, 0.0138287572, 0.0183108039, -0.0072081713, -0.020319527, -0.0394912139, 0.0256077964, 0.0253618304, 0.00634729024, -0.0186524242, 0.0113281021, 0.0102690822, 0.0106038693, -0.00880011823, -0.0132685015, -0.00564697, 0.0173816, 0.0103579033, 0.000466737634, -0.0088137826, 0.0036245829, 0.0044068913, 0.000819459732, 0.0183927938, -0.0538665615, 0.0174225941, -0.00861564372, 0.0095175188, 0.0103988973, -0.00306091062, -0.025717115, -0.0231754668, -0.0289146733, 0.019704612, 0.00500472542, -0.00785724819, 0.019048702, 0.0107883438, 0.0268102977, 0.0198412593, -0.00289351703, -0.0172449518, 0.00572895911, -0.00164148165, -0.0297345612, -0.0205928236, -0.00657959143, 0.0430440567, -0.00300795957, -0.00836284552, -0.0193629935, 0.00211974885, -0.054659117, -0.0155095253, 0.00334957917, 0.015331883, 0.0440552495, 0.00885477755, -0.0128312279, 0.0128517253, -0.00716034463, 0.00824669469, -0.0106858574, -0.00948335696, 0.0191033613, -0.0246785916, 0.0137945954, -0.00120762491, -0.0211804081, -0.0155505193, -0.00066957419, -0.00387738133, -0.0171219688, -0.00110257696, -0.0133504895, 0.0142387, 0.00777525967, 0.0185841, 0.00283544185, 0.00850632507, 0.0207431354, -0.0278078262, -0.00399694825, 0.00851315819, -0.0226972, -0.00836284552, -0.0100367805, -0.0141840409, -0.00355625898, 0.0208251234, 0.0155915134, -0.000167927326, 0.00913490541, 0.0111436276, 0.0447111577, 0.00459478237, 0.0149356043, 0.0503957085, 0.00619356148, -0.0177232195, -0.0170263164, 0.00516528683, 0.0174499229, 0.00761811482, -0.00221198611, -0.0237220582, 0.00306091062, -0.0125989271, -0.00524727535, -0.00634045759, 0.00297892187, -0.000842519046, -0.0028986414, 0.00561964046, 0.0073106573, 0.020811459, 0.00561622437, 0.00317364512, -0.0196636189, -0.00618672883, -0.0238450412, -0.00916906726, -0.0137877623, -0.00705785863, -0.0118746934, 0.0161791, -0.0279034805, -0.0190077089, -0.0220276248, 0.000236571505, -0.00801439304, 0.00119993847, 0.207486019, 0.00947652478, -0.0196636189, 0.0259084217, 0.00119310606, -0.00613207, 0.0173406061, 0.0254438203, -0.0090119224, 0.0218363181, -0.0192810036, 0.0153182177, 0.00754295848, -0.00179691857, 0.000947994064, -0.00279444735, -0.034380585, -0.0262090471, -0.0013203593, -0.0217406638, 0.00848582853, -0.0108498354, 0.0138150919, 0.00299429474, 0.0117653757, 0.0290513225, -0.00815787353, 0.0121411569, 0.0107883438, 0.000379197649, 0.00307799154, -0.0135827912, 0.000349519454, -0.00214195414, -0.014307024, -0.00269196159, 0.0037612305, -0.0143480189, 0.013043032, 0.00194893917, -0.000374073337, 0.00244257948, 0.0118473638, -0.00349476747, 0.0022854344, 0.0432080328, -0.0250338763, -0.00977715, -0.0126125915, -0.0109659852, -0.0279581398, 0.00565380277, 0.0184337869, 0.0165207181, -0.00493298564, 0.00622772332, 0.0359930284, -0.00702369679, -0.0122299781, 0.0292972885, -0.0142250359, 0.0300625153, -0.0199779086, 0.0112529462, 0.0170946401, -0.00242208224, 0.0102827465, -0.0113486, 0.0130771939, -0.0284227412, -0.000317279104, -0.0149902636, -0.0216586757, 0.00111880386, 0.00177983753, -0.0156051787, 0.0194039866, 0.000436418894, 0.0313743353, 0.0236947276, -0.010795176, -0.00749513181, 0.00825352687, -0.0273568891, -0.00892993342, -0.0313743353, 0.0178735312, 0.0183244701, -0.0137672657, -0.026537003, -0.0119566824, -0.0178598668, 0.00139807782, 0.0157554913, 0.0131113557, -0.00335128722, 0.00133487815, 0.0309370607, -0.014307024, -0.0130635295, -0.0182014871, 0.0077889245, 0.0392179191, -0.000999237061, 0.00283885794, -0.00607057847, 0.0111846225, 0.0192810036, 0.00122726802, -0.0419782028, -0.00222906726, -0.0289420038, -0.0119225206, -0.00474851113, -0.00119823031, 0.00383980316, -0.00250236271, -0.0391086, 0.032467518, -0.010180261, -0.025307171, -0.016848674, -0.00608082674, 0.0121616535, -0.00847899541, -0.0176275652, -0.0329321176, 0.0248015746, 0.000223120238, -0.0314836539, 0.0286687072, -0.00203776034, -0.00419850368, 0.00555473287, -0.0131318532, -0.00310361315, 0.0199779086, -0.0154685304, -0.00033884382, 0.0127834016, 0.00826719217, -0.0350364968, 0.0256077964, 0.0230661482, 0.0069177947, -0.0119088553, 0.00171236775, 0.0144983316, -0.00735165132, -0.00512087625, 0.00794606935, 0.0130362, -0.0117175486, -0.0341072902, 0.0057562883, -0.0192673393, -0.0452577509, -0.00922372658, -0.0249108933, 0.0328774601, -0.0189803783, 0.0376601331, 0.0277941618, -0.00408235285, -0.00851999, -0.0188300665, -0.175783724, 0.0306364354, 0.00716034463, -0.0236264039, 0.0233121142, 0.00278590689, 0.0245829392, -0.0140064, -0.0211804081, 0.00408576895, 0.00177983753, 0.0104808863, -0.0221369434, -0.015454866, -0.00875229109, 0.00444788579, -0.0333693922, 0.00526777236, 0.03965519, 0.0108498354, 0.0185977649, 0.00113332272, 0.0257034507, 0.0126125915, -0.0113144377, 0.0307730846, 0.00294988439, -0.0124554466, 0.00682555744, -0.0192673393, 0.0135417962, -0.00808955, 0.0212350674, 0.00401744526, 0.0227928534, 0.0247059222, -0.0291879699, 0.0108225057, -0.0267693028, 0.00613548607, 0.00841750391, 0.0104125617, 0.00620722631, -0.00356309139, -0.00933304429, 0.0202785339, 0.00907341391, -0.00787091348, -0.00191990158, -0.0119908443, 0.020565493, -0.0140747232, -0.00118627364, 7.05124e-05, 0.00516870292, -0.00958584249, 0.0260997284, 0.0268239621, 0.0115194097, 0.00119823031, -0.00138099678, -0.00358700473, 0.0140610579, -0.00859514624, 0.00574945612, -0.0174089298, -0.00227347761, 0.0148672806, -0.037988089, 0.0178735312, -0.00246649282, 0.00582802854, -0.000334573589, 0.00510379532, -0.00247503328, 0.0146213146, -0.0228475109, -0.00992063, -0.0276438501, 0.0156598371, -0.00123751664, 0.0169306621, -0.00845849887, -0.0279854685, -0.00353917782, 0.0181878209, -0.0203878507, 0.00839700736, -0.0155231897, -0.00923739094, 0.0082945209, -0.030663766, -0.0291059799, 0.000468018698, 0.0194859765, 0.0210300963, 0.0197182763, 0.00470410055, -0.0236537345, -0.0242413189, 0.00759078516, -0.0290513225, -0.0189940445, 0.00516870292, 0.0157828201, 0.0134598082, 0.0121958163, 0.0180101804, 0.0329867788, -0.00972932298, -0.0128585575, 0.00305578625, 0.0255258083, 0.020729471, -0.0229021702, 0.0245556086, 0.0334787108, -0.00571529428, -0.00657959143, -0.0141293826, 0.0417322367, -0.00981814414, -0.0297072306, 0.00495348265, -0.0061115725, -0.0135076344, -0.123529606, -0.00986597128, 0.0198139306, 0.0174772535, 0.0163977351, 0.00526094, -0.0196636189, 0.0145256612, 0.00686996803, 0.0284774, -0.00853365473, -0.0220959485, 0.0185567699, -0.00735165132, 0.0200872254, -0.000561537046, 0.0192263443, -0.0143343536, -0.0273432247, 0.0417868979, -0.015044922, 0.00433515152, -0.00994112715, -0.0120796654, 0.0205928236, -0.0133231599, -0.0197592713, -0.00284398231, 0.0116902189, 0.00589293614, -0.00759078516, -0.00639170082, 0.00470410055, -0.0381520651, 0.024323307, -0.000747292652, -0.0107746786, 0.0167393554, 0.0173269399, -0.02175433, 0.00634387415, 0.019171685, 0.0245966036, -0.0371955298, 0.0139859021, 0.00452304212, -0.0404750779, 0.0233941022, 0.00882744789, -0.0126262568, -0.00993429497, 0.0171356332, -0.0184337869, -0.000176788089, 0.00340253022, -0.0112939402, 0.0054419986, -0.00189428008, -0.000991550623, -0.0013400024, 0.0185294412, -0.00280469609, 0.00467335479, -0.0105697075, 0.0164523944, -0.0148946103, -0.00303016487, -0.00586560648, -0.0125306025, -0.0277941618, -0.00547274435, 0.0239816885, -0.0335060395, 0.0182288159, -0.00273124781, -0.0101870932, -0.0357743949, -0.0325768329, 0.0126672508, -0.0242686495, -0.00879328605, -0.025594132, 0.0221096128, -0.0126125915, 0.0172996111, 0.0204971693, 0.012469111, -0.00290718186, -0.00857465, -0.0194723103, -0.007522461, 0.0337793343, -0.0133094955, -0.0444651917, -0.00705785863, 0.0175865721, 0.0196909476, 0.00306603499, 0.00782308634, 0.00629263092, -0.0216860045, -0.0229431652, -0.0458043404, 0.0220549535, 0.000610644871, -0.0181878209, 0.0129678762, -0.0138082597, 0.00654884567, -0.0187480785, -0.0161517691, -0.00927155279, -0.03033581, 0.0188847259, 0.0228201821, 0.00758395251, -0.00799389649, -0.019171685, -0.00778209185, 0.00875229109, -0.00966783147, 0.016233759, -0.00804855488, -0.00695195654, 0.0378787704, -0.0146213146, -0.0234760921, -0.0136647793, -0.0402837694, 0.0185294412, -0.00424974645, -6.35732504e-05, 0.0138629191, -0.025266178, 0.0208251234, 0.0136237852, 0.00465969, -0.0142113706, -0.00483733183, 0.0237083919, 0.0318116061, 0.0519534908, -0.0158784743, -0.00821936503, -0.0070441938, -0.0150585873, 0.00153216347, -0.000925788831, -0.0232984498, -0.00224956428, 0.0310190506, -0.000519261637, 0.00999578647, 0.00545224687, -0.0162884165, -0.0235854089, 0.00203946838, -0.0132685015, 0.0208251234, 0.0222189315, -0.0194313172, 0.00825352687, 0.0252798423, -0.0107678464, 0.000580753142, -0.00996162463, 0.0289420038, -0.024569273, -0.0127902338, 0.0130225355, -0.000250449782, -0.0240090173, -0.015003928, -0.0107883438, 0.0188847259, 0.0175592415, -0.0068153087, 0.00314460741, 0.0001091581, 0.0077889245, 0.00469385181, 0.0303084813, 0.0095175188, 0.0247469153, -0.0100846076, 0.0104877185, 0.0241729952, 0.0132548362, -0.0387806445, -0.0100231161, 0.0119225206, 0.00139039138, 0.00297208969, 0.0149082746, -0.0034793946, -0.0114100911, 0.0185431056, 0.0109796505, -0.01586481, -0.0198412593, 0.00182595616, 0.000394143484, 0.0095926756, -0.00811004639, 0.00705785863, -0.0395458713, -0.00900509, 0.0205518287, -0.0273978841, -0.0190213732, -0.00353917782, -0.00422241678, -0.0140473936, 0.0229841601, 0.0154821957, 0.00151252025, -0.0169716571, 0.0144436723, 0.00201897114, -0.034872517, -0.0103237415, 0.048264, -0.0123529611, -0.00586902304, 0.0281494465, -0.00670599053, 0.0136716124, 0.024077341, 0.025266178, 0.000440262113, -0.00813054387, -0.0172449518, 0.0328501314, -0.00406527193, -0.0028337338, -0.00661716936, -0.00576995313, -0.0347085409, -0.00128107308, 0.0212897267, -0.0315383114, 0.0325768329, 0.0121753188, 0.00471776538, 0.0186250955, -0.00512087625, 0.0355284289, 0.00389104593, -0.00282860943, -9.52264309e-05, -0.0222189315, 0.0176002365, -0.0132001769, 0.0201828796, -0.0225195568, -0.0229158364, -8.72731e-05, 0.00669915834, 0.0124144526, 0.00208217092, 0.00469385181, 0.0164523944, 0.0114100911, 0.025635127, 0.0193219986, -0.0136237852, -0.0139654046, 0.0270835925, -0.00416092528, -0.0264550131, -0.00282348506, 0.0212897267, 0.00269879401, -0.0380427465, -0.0176412314, 0.0107268523, -0.0153865423, -0.0110889683, -0.00972249079, 0.014307024, 0.0102144228, 0.00121531135, -0.000510294107, -0.0187754072, -0.0205381643, 0.0183244701, 0.00499447715, 0.005151622, -0.0111709572, -0.0444925241], metadata={'document_title': '\"Architectural Marvels: Exploring the Beauty, Innovation, and Function of New York City\\'s Architecture\"', 'questions_this_excerpt_can_answer': \"1. How did growing up in communist Czechoslovakia and experiencing the Prague Spring of 1968 shape the perspective and values of the individual being discussed?\\n2. What lessons about ambition, balance, and enjoying life to the fullest were learned from the individual's mother, who was a trailblazing athlete, fashion mogul, and real estate executive?\\n3. How did the individual's mother's experiences as an Olympic skier, fashion mogul, and real estate executive influence her ability to find a balance between pursuing ambitious goals and being able to relax and enjoy life's moments?\", 'start_timestamp': 1812.6317894736842, 'end_timestamp': 2161.8093750000003}, excluded_embed_metadata_keys=[], excluded_llm_metadata_keys=[], relationships={}, text=\"You told me she was an adventurer. Yeah Olympic skier and a business woman. What did you learn about life from your mother? So much she passed away two years ago now. And she was a remarkable remarkable woman. She was a trailblazer in so many different ways as an athlete in growing up in communist Czechoslovakia as a fashion mogul as a real estate executive and builder. Just this all around trailblazing business women's. I also learned from her, you know, aside from that element, how to really enjoy life. You know, I look back and some of my happiest memories of her are in the ocean, you know, just lying on her back looking up at the sun and just so so in the moment or dancing. She loved to dance. She really taught me a lot about living life to its fullest. And she had so much courage, so much conviction, so much energy and a complete comfort with who she was. What do you think about that? I mean Olympic athlete, the tradeoff between ambition and just wanting to do big things and pursuing that and giving your all to that and being able to relax and throw your arms back and enjoy every moment of life. Like that tradeoff. What do you think about that tradeoff? I think because she was this unbelievable formidable athlete and because of the discipline she had as a child, I think it made her value those moments more as an adult. I think she was a great balance of the two that we all hope to find. And she was able to find both incredibly serious and formidable. I remember as a little girl I used to literally traips behind her at the Plaza Hotel, which she oversaw and actually kind of was her old post office. It was this unbelievable historic hotel in New York City. And I'd follow her around at construction meetings and on job sites and there she is dancing. That's funny that's the picture you pull up. Oh, sorry. That's great. You just look great in that picture. That's great. She had such a joy to her and she was so unabashed in her perspective and her opinions. I mean, she made my father look reserved. Whatever she was feeling, whatever she was just very expressive and a lot of fun to be around. So she as you mentioned, grew up during the Prague Spring in 1968. And that had a big impact on human history. My family came from the Soviet Union. And then the 20th century, the story of the 20th century is a lot of Eastern Europe, the Soviet Union tried the ideas of communism and it turned out that a lot of those ideas resulted into a lot of suffering. So what do you think the Communist ideology failed? I think fundamentally as people we desire freedom, we want agency. And my mom was like a lot of other people who grew up in similar situations where she didn't like to talk about it that often. So one of my real regrets is that I didn't push her harder. But I think back to the conversations we did have and I try to imagine what it's like. She was at Charles University in Prague, which was really like a focal point of the reforms that were ushered in during the Prague Spring and the liberalization agenda that was happening. The dance halls were opening, the student activists and she was attending university there right at that same time. So the contrast to this feeling of freedom and progress and liberalization in the spring. And then it's so quickly being crushed in the fall of that same year when Warsaw Pact countries and the Soviet Union rolled in to put down and ultimately roll back all those reforms. So for her to have lived through that, she didn't come to North America until she was 23 or 24. So that was her life. As a young girl, she was on the junior national ski team for Czechoslovakia. My grandfather used to train her. They used to put the skis on her back and walk up the mountain and Czechoslovakia because there were no ski lifts. She actually made me do that when I was a child. Just to let me know what her experience had been. If I complained that it was cold out, she's like, well, you didn't have to walk up the mountain. You'd be plenty warm if you met my grandma. You mentioned it's funny. They go through some of the darkest things that a human being can go through and they don't talk about it. And they have a general positive outlook on life like that's deeply rooted in the knowledge of what life could be. Yeah. I call baddock you get.\", mimetype='text/plain', start_char_idx=None, end_char_idx=None, text_template='[Excerpt from document]\\n{metadata_str}\\nExcerpt:\\n-----\\n{content}\\n-----\\n', metadata_template='{key}: {value}', metadata_seperator='\\n')], similarities=[0.487884641, 0.508428931, 0.509508967], ids=['ed9da4ce-a9bf-4726-9361-d82bc8198923', '8a49c3c0-f28d-48ce-b1ec-bb9e9bf53e94', 'f5151f32-d411-476a-afb5-0da9cedd019a'])"
      ]
     },
     "execution_count": 43,
     "metadata": {},
     "output_type": "execute_result"
    }
   ],
   "source": [
    "query_result"
   ]
  },
  {
   "cell_type": "markdown",
   "metadata": {},
   "source": [
    "### Step 4: Response Synthesis"
   ]
  },
  {
   "cell_type": "code",
   "execution_count": 44,
   "metadata": {},
   "outputs": [],
   "source": [
    "import basic_rag.response_synthesizer as response_synthesizer\n",
    "\n",
    "response_synthesizer_obj = response_synthesizer.HierarchicalSummarizer(llm=custom_rag_obj.llm)\n",
    "response = response_synthesizer_obj.generate_response_hs(retrieved_nodes=query_result.nodes, query_str=query_str)                                                         "
   ]
  },
  {
   "cell_type": "code",
   "execution_count": 45,
   "metadata": {},
   "outputs": [
    {
     "name": "stdout",
     "output_type": "stream",
     "text": [
      "I'm sorry, but based on the context information provided, there is no incident\n",
      "involving Kim Kardashian mentioned.\n"
     ]
    }
   ],
   "source": [
    "print(textwrap.fill(response, 80))"
   ]
  },
  {
   "cell_type": "code",
   "execution_count": null,
   "metadata": {},
   "outputs": [],
   "source": [
    "# TODO\n",
    "# 1. change class name to ingestion\n",
    "# 2. resolve issues in data_preparation\n",
    "# 3. run black and flake8 on py files\n",
    "# 4. Add function docs\n",
    "# 5. Clean up colab and rerun on whole video"
   ]
  },
  {
   "cell_type": "code",
   "execution_count": null,
   "metadata": {},
   "outputs": [],
   "source": []
  },
  {
   "cell_type": "code",
   "execution_count": null,
   "metadata": {},
   "outputs": [],
   "source": []
  },
  {
   "cell_type": "code",
   "execution_count": null,
   "metadata": {},
   "outputs": [],
   "source": []
  },
  {
   "cell_type": "code",
   "execution_count": null,
   "metadata": {},
   "outputs": [],
   "source": []
  }
 ],
 "metadata": {
  "kernelspec": {
   "display_name": "rag-audio-env",
   "language": "python",
   "name": "python3"
  },
  "language_info": {
   "codemirror_mode": {
    "name": "ipython",
    "version": 3
   },
   "file_extension": ".py",
   "mimetype": "text/x-python",
   "name": "python",
   "nbconvert_exporter": "python",
   "pygments_lexer": "ipython3",
   "version": "3.12.4"
  }
 },
 "nbformat": 4,
 "nbformat_minor": 2
}
