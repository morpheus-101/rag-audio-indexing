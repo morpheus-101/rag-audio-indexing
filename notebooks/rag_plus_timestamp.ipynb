{
 "cells": [
  {
   "cell_type": "code",
   "execution_count": 53,
   "metadata": {},
   "outputs": [],
   "source": [
    "from llama_index.core.node_parser import SentenceSplitter\n",
    "import textwrap\n",
    "import pickle\n",
    "import os\n",
    "from dotenv import load_dotenv\n",
    "from pinecone import Pinecone, Index, ServerlessSpec\n",
    "from llama_index.vector_stores.pinecone import PineconeVectorStore\n",
    "import pickle\n",
    "import os\n",
    "from llama_index.core.node_parser import SentenceSplitter\n",
    "from llama_index.core.schema import TextNode\n",
    "from llama_index.core.extractors import (\n",
    "    QuestionsAnsweredExtractor,\n",
    "    TitleExtractor,\n",
    ")\n",
    "from llama_index.core.ingestion import IngestionPipeline\n",
    "from llama_index.llms.openai import OpenAI\n",
    "from llama_index.embeddings.openai import OpenAIEmbedding\n",
    "from llama_index.core import VectorStoreIndex\n",
    "from llama_index.core import StorageContext\n",
    "from llama_index.core import PromptTemplate"
   ]
  },
  {
   "cell_type": "code",
   "execution_count": 2,
   "metadata": {},
   "outputs": [],
   "source": [
    "def import_pkl_file(file_path):\n",
    "    with open(file_path, 'rb') as file:\n",
    "        data = pickle.load(file)\n",
    "    return data"
   ]
  },
  {
   "cell_type": "code",
   "execution_count": 3,
   "metadata": {},
   "outputs": [],
   "source": [
    "def get_full_text_from_char_timestamps(char_timestamps):\n",
    "    full_text_string = \"\"\n",
    "    for char, _ in char_timestamps:\n",
    "        full_text_string += char\n",
    "    return full_text_string"
   ]
  },
  {
   "cell_type": "code",
   "execution_count": 4,
   "metadata": {},
   "outputs": [],
   "source": [
    "def get_start_end_idx(all_text_chunks, full_text):\n",
    "    text_chunks_start_end_idx = []\n",
    "    for i, text_chunk in enumerate(all_text_chunks):\n",
    "        if text_chunk not in full_text:\n",
    "            print(f\"Chunk {i} not found in full text\")\n",
    "            break\n",
    "        else:\n",
    "            start_idx = full_text.find(text_chunk)\n",
    "            end_idx = start_idx + len(text_chunk) - 1\n",
    "            text_chunks_start_end_idx.append((start_idx, end_idx))\n",
    "    return text_chunks_start_end_idx"
   ]
  },
  {
   "cell_type": "code",
   "execution_count": 5,
   "metadata": {},
   "outputs": [],
   "source": [
    "def get_time_stamps(start_end_idx, char_timestamps):\n",
    "    text_chunks_time_stamps = []\n",
    "    for start_idx, end_idx in start_end_idx:\n",
    "        start_time = char_timestamps[start_idx][1]\n",
    "        end_time = char_timestamps[end_idx][1]\n",
    "        text_chunks_time_stamps.append((start_time, end_time)) \n",
    "    return text_chunks_time_stamps"
   ]
  },
  {
   "cell_type": "code",
   "execution_count": 6,
   "metadata": {},
   "outputs": [],
   "source": [
    "def combine_text_chunks_with_timestamps(all_text_chunks, all_text_chunk_timestamps):\n",
    "    text_chunks_with_timestamps = []\n",
    "    for i in range(len(all_text_chunks)):\n",
    "        text_chunks_with_timestamps.append((all_text_chunks[i], all_text_chunk_timestamps[i]))\n",
    "    return text_chunks_with_timestamps"
   ]
  },
  {
   "cell_type": "code",
   "execution_count": 7,
   "metadata": {},
   "outputs": [],
   "source": [
    "char_timestamps = import_pkl_file('data/clip_2/ivanka_trump_transcription_char_timestamps.pkl')"
   ]
  },
  {
   "cell_type": "code",
   "execution_count": 8,
   "metadata": {},
   "outputs": [],
   "source": [
    "text_chunks = []\n",
    "text_parser = SentenceSplitter(chunk_size=1024)\n",
    "\n",
    "full_text_string = get_full_text_from_char_timestamps(char_timestamps)\n",
    "text_chunks = text_parser.split_text(full_text_string)\n",
    "\n",
    "start_end_idx = get_start_end_idx(text_chunks, full_text_string)\n",
    "time_stamps = get_time_stamps(start_end_idx, char_timestamps)\n",
    "text_chunks_with_timestamps = combine_text_chunks_with_timestamps(text_chunks, time_stamps)\n"
   ]
  },
  {
   "cell_type": "code",
   "execution_count": 9,
   "metadata": {},
   "outputs": [
    {
     "data": {
      "text/plain": [
       "(\"The following is a conversation with Ivanka Trump, businesswoman, real estate developer, and former senior advisor to the President of the United States. I've gotten to know Ivanka well over the past two years. We've become good friends, hitting it off right away over our mutual love of reading, especially philosophical writings from Marcus Aurelius, Joseph Campbell, Alan Watts, Victor Franklin, and so on. She is a truly kind, compassionate, and thoughtful human being. In the past, people have attacked her. In my view, to get indirectly at her dad, Donald Trump, as part of a dirty game of politics and clickbait journalism. These attacks obscured many projects and efforts, often bipartisan, that she helped get done, and they obscured the truth of who she is as a human being. Through all that, she never returned the attacks with anything but kindness, and always walked through the fire of it all with grace. For this, and much more, she is an inspiration, and I'm honored to be able to call her a friend. Oh, and for those living in the United States, happy upcoming Fourth of July. It's both an anniversary of this country's declaration of independence, and an anniversary of my immigrating here to the U.S. I am forever grateful for this amazing country, for this amazing life, for all of you, who have given chance to a silicate like me. From the bottom of my heart. Thank you. I love you all. This is the Lex Freeman podcast to support it. Please check out our sponsors in the description. And now, dear friends, here's Ivanka Trump. You said that ever since you were young, you wanted to be a builder. That you loved the idea of designing beautiful city skylines, especially in New York City. I love the New York City skyline. So describe the origins of that love of building. I think there's both an incredible confidence and a total insecurity that comes with youth. So I remember 15. I would look out over the city skyline for my bedroom window in New York and imagine where I could contribute and add value in a way that I look back on and completely laugh at how confident I was. But I've known since my earliest memories, it's something I've wanted to do. And I think fundamentally I love art. I love expressions of beauty in so many different forms. With architecture, there's the tangible. And I think that marriage of function and something that exists beyond yourself is very compelling. I also grew up in a family where my mother was in the real estate business working alongside my father. My father was in the business and I saw the joy that had brought to them. So I think I had these natural positive associations. So you send me as a little girl renderings of projects they were about to embark on with notes asking if I would hurry up and finish school so I could come join them. So I had these positive associations. But I came from something within myself. I think that as I got older and as I got involved in real estate, I realized that it was so multidisciplinary. You have, of course, a design, but you also have engineering, the brass tax of construction, there's time management, there's project planning, just the duration of time to complete one of these iconic structures. It's enormous. You can contribute a decade of your life to one project. So while you have to think big picture, it means you really have to care deeply about the details because you live with them. So it allowed me to flex a lot of areas of interest. I love that confidence of youth. It's funny because we're all so insecure, right? In the most basic interactions, but yet our ambitions are so unbridled. In a way, they make shoe blushes and adults. I think it's fun. It's fun to tap into that energy. Yeah, where everything is possible. I think some of the greatest builders I've ever met kind of always have that little flame of everything is possible, still birding. That is a silly notion from youth, but it's not so silly. Everybody tells you something is impossible, but if you continue believing that it's possible, and I have that sort of naive notion that you could do it, even if it's exceptionally difficult, that naive notion turns into some of the greatest projects ever done. 100%. Going out the space or building a new company, where like everybody said, it's impossible to take it on a gigantic company and disrupting them and revolutionizing how stuff is done or doing huge building projects. Like you said, so many people are involved in making that happen. We get conditioned out of that feeling.\",\n",
       " (0.06449438202247192, 316.72680412371136))"
      ]
     },
     "execution_count": 9,
     "metadata": {},
     "output_type": "execute_result"
    }
   ],
   "source": [
    "text_chunks_with_timestamps[0]\n"
   ]
  },
  {
   "cell_type": "code",
   "execution_count": 10,
   "metadata": {},
   "outputs": [],
   "source": [
    "dotenv_path = '.env'\n",
    "load_dotenv(dotenv_path=dotenv_path)\n",
    "\n",
    "api_key = os.environ[\"PINECONE_API_KEY\"]\n",
    "pc = Pinecone(api_key=api_key)\n",
    "\n",
    "index_name = \"llamaindex-rag-ivanka-timestamp\""
   ]
  },
  {
   "cell_type": "code",
   "execution_count": 11,
   "metadata": {},
   "outputs": [],
   "source": [
    "# dimensions are for text-embedding-ada-002\n",
    "if index_name not in pc.list_indexes().names():\n",
    "    pc.create_index(\n",
    "        index_name,\n",
    "        dimension=1536,\n",
    "        metric=\"euclidean\",\n",
    "        spec=ServerlessSpec(cloud=\"aws\", region=\"us-east-1\"),\n",
    "    )"
   ]
  },
  {
   "cell_type": "code",
   "execution_count": 12,
   "metadata": {},
   "outputs": [],
   "source": [
    "pinecone_index = pc.Index(index_name)\n",
    "vector_store = PineconeVectorStore(pinecone_index=pinecone_index)"
   ]
  },
  {
   "cell_type": "code",
   "execution_count": 13,
   "metadata": {},
   "outputs": [],
   "source": [
    "nodes = []\n",
    "for i in range(len(text_chunks_with_timestamps)):\n",
    "    node = TextNode(\n",
    "        text=text_chunks_with_timestamps[i][0],\n",
    "        # extra_info={\n",
    "        #     \"start_timestamp\": text_chunks_with_timestamps[i][1][0],\n",
    "        #     \"end_timestamp\": text_chunks_with_timestamps[i][1][1]\n",
    "        # }\n",
    "    )\n",
    "    nodes.append(node)"
   ]
  },
  {
   "cell_type": "code",
   "execution_count": 14,
   "metadata": {},
   "outputs": [],
   "source": [
    "llm = OpenAI(model=\"gpt-3.5-turbo\")\n",
    "\n",
    "extractors = [\n",
    "    TitleExtractor(nodes=5, llm=llm),\n",
    "    QuestionsAnsweredExtractor(questions=3, llm=llm),\n",
    "]"
   ]
  },
  {
   "cell_type": "code",
   "execution_count": 15,
   "metadata": {},
   "outputs": [
    {
     "name": "stderr",
     "output_type": "stream",
     "text": [
      "100%|██████████| 5/5 [00:01<00:00,  3.96it/s]\n",
      "100%|██████████| 42/42 [00:14<00:00,  2.80it/s]\n"
     ]
    }
   ],
   "source": [
    "pipeline = IngestionPipeline(\n",
    "    transformations=extractors,\n",
    ")\n",
    "nodes = await pipeline.arun(nodes=nodes, in_place=False)"
   ]
  },
  {
   "cell_type": "code",
   "execution_count": 16,
   "metadata": {},
   "outputs": [
    {
     "name": "stdout",
     "output_type": "stream",
     "text": [
      "The following is a conversation with Ivanka Trump, businesswoman, real estate developer, and former senior advisor to the President of the United States. I've gotten to know Ivanka well over the past two years. We've become good friends, hitting it off right away over our mutual love of reading, especially philosophical writings from Marcus Aurelius, Joseph Campbell, Alan Watts, Victor Franklin, and so on. She is a truly kind, compassionate, and thoughtful human being. In the past, people have attacked her. In my view, to get indirectly at her dad, Donald Trump, as part of a dirty game of politics and clickbait journalism. These attacks obscured many projects and efforts, often bipartisan, that she helped get done, and they obscured the truth of who she is as a human being. Through all that, she never returned the attacks with anything but kindness, and always walked through the fire of it all with grace. For this, and much more, she is an inspiration, and I'm honored to be able to call her a friend. Oh, and for those living in the United States, happy upcoming Fourth of July. It's both an anniversary of this country's declaration of independence, and an anniversary of my immigrating here to the U.S. I am forever grateful for this amazing country, for this amazing life, for all of you, who have given chance to a silicate like me. From the bottom of my heart. Thank you. I love you all. This is the Lex Freeman podcast to support it. Please check out our sponsors in the description. And now, dear friends, here's Ivanka Trump. You said that ever since you were young, you wanted to be a builder. That you loved the idea of designing beautiful city skylines, especially in New York City. I love the New York City skyline. So describe the origins of that love of building. I think there's both an incredible confidence and a total insecurity that comes with youth. So I remember 15. I would look out over the city skyline for my bedroom window in New York and imagine where I could contribute and add value in a way that I look back on and completely laugh at how confident I was. But I've known since my earliest memories, it's something I've wanted to do. And I think fundamentally I love art. I love expressions of beauty in so many different forms. With architecture, there's the tangible. And I think that marriage of function and something that exists beyond yourself is very compelling. I also grew up in a family where my mother was in the real estate business working alongside my father. My father was in the business and I saw the joy that had brought to them. So I think I had these natural positive associations. So you send me as a little girl renderings of projects they were about to embark on with notes asking if I would hurry up and finish school so I could come join them. So I had these positive associations. But I came from something within myself. I think that as I got older and as I got involved in real estate, I realized that it was so multidisciplinary. You have, of course, a design, but you also have engineering, the brass tax of construction, there's time management, there's project planning, just the duration of time to complete one of these iconic structures. It's enormous. You can contribute a decade of your life to one project. So while you have to think big picture, it means you really have to care deeply about the details because you live with them. So it allowed me to flex a lot of areas of interest. I love that confidence of youth. It's funny because we're all so insecure, right? In the most basic interactions, but yet our ambitions are so unbridled. In a way, they make shoe blushes and adults. I think it's fun. It's fun to tap into that energy. Yeah, where everything is possible. I think some of the greatest builders I've ever met kind of always have that little flame of everything is possible, still birding. That is a silly notion from youth, but it's not so silly. Everybody tells you something is impossible, but if you continue believing that it's possible, and I have that sort of naive notion that you could do it, even if it's exceptionally difficult, that naive notion turns into some of the greatest projects ever done. 100%. Going out the space or building a new company, where like everybody said, it's impossible to take it on a gigantic company and disrupting them and revolutionizing how stuff is done or doing huge building projects. Like you said, so many people are involved in making that happen. We get conditioned out of that feeling.\n"
     ]
    }
   ],
   "source": [
    "print(nodes[0].get_content())"
   ]
  },
  {
   "cell_type": "code",
   "execution_count": 17,
   "metadata": {},
   "outputs": [
    {
     "name": "stdout",
     "output_type": "stream",
     "text": [
      "dict_keys(['document_title', 'questions_this_excerpt_can_answer'])\n",
      "\"Architectural Ambitions: Exploring Beauty, Function, and Innovation in New York and Chicago\"\n",
      "1. How did Ivanka Trump's childhood experiences and family background influence her passion for architecture and real estate development?\n",
      "2. What aspects of architecture and real estate development does Ivanka Trump find most compelling and challenging, based on her personal experiences and reflections?\n",
      "3. How does Ivanka Trump's perspective on the confidence and ambition of youth influence her approach to tackling large-scale projects in the fields of architecture and real estate development?\n"
     ]
    }
   ],
   "source": [
    "print(nodes[0].metadata.keys())\n",
    "# print(nodes[0].metadata['start_timestamp'])\n",
    "# print(nodes[0].metadata['end_timestamp'])\n",
    "print(nodes[0].metadata['document_title'])\n",
    "print(nodes[0].metadata['questions_this_excerpt_can_answer'])"
   ]
  },
  {
   "cell_type": "code",
   "execution_count": 19,
   "metadata": {},
   "outputs": [],
   "source": [
    "embed_model = OpenAIEmbedding()\n",
    "\n",
    "for node in nodes:\n",
    "    node_embedding = embed_model.get_text_embedding(\n",
    "        node.get_content(metadata_mode=\"all\")\n",
    "    )\n",
    "    node.embedding = node_embedding"
   ]
  },
  {
   "cell_type": "code",
   "execution_count": 20,
   "metadata": {},
   "outputs": [
    {
     "name": "stdout",
     "output_type": "stream",
     "text": [
      "[Excerpt from document]\n",
      "document_title: \"Architectural Ambitions: Exploring Beauty, Function, and Innovation in New York and Chicago\"\n",
      "questions_this_excerpt_can_answer: 1. How did Ivanka Trump's childhood experiences and family background influence her passion for architecture and real estate development?\n",
      "2. What aspects of architecture and real estate development does Ivanka Trump find most compelling and challenging, based on her personal experiences and reflections?\n",
      "3. How does Ivanka Trump's perspective on the confidence and ambition of youth influence her approach to tackling large-scale projects in the fields of architecture and real estate development?\n",
      "Excerpt:\n",
      "-----\n",
      "The following is a conversation with Ivanka Trump, businesswoman, real estate developer, and former senior advisor to the President of the United States. I've gotten to know Ivanka well over the past two years. We've become good friends, hitting it off right away over our mutual love of reading, especially philosophical writings from Marcus Aurelius, Joseph Campbell, Alan Watts, Victor Franklin, and so on. She is a truly kind, compassionate, and thoughtful human being. In the past, people have attacked her. In my view, to get indirectly at her dad, Donald Trump, as part of a dirty game of politics and clickbait journalism. These attacks obscured many projects and efforts, often bipartisan, that she helped get done, and they obscured the truth of who she is as a human being. Through all that, she never returned the attacks with anything but kindness, and always walked through the fire of it all with grace. For this, and much more, she is an inspiration, and I'm honored to be able to call her a friend. Oh, and for those living in the United States, happy upcoming Fourth of July. It's both an anniversary of this country's declaration of independence, and an anniversary of my immigrating here to the U.S. I am forever grateful for this amazing country, for this amazing life, for all of you, who have given chance to a silicate like me. From the bottom of my heart. Thank you. I love you all. This is the Lex Freeman podcast to support it. Please check out our sponsors in the description. And now, dear friends, here's Ivanka Trump. You said that ever since you were young, you wanted to be a builder. That you loved the idea of designing beautiful city skylines, especially in New York City. I love the New York City skyline. So describe the origins of that love of building. I think there's both an incredible confidence and a total insecurity that comes with youth. So I remember 15. I would look out over the city skyline for my bedroom window in New York and imagine where I could contribute and add value in a way that I look back on and completely laugh at how confident I was. But I've known since my earliest memories, it's something I've wanted to do. And I think fundamentally I love art. I love expressions of beauty in so many different forms. With architecture, there's the tangible. And I think that marriage of function and something that exists beyond yourself is very compelling. I also grew up in a family where my mother was in the real estate business working alongside my father. My father was in the business and I saw the joy that had brought to them. So I think I had these natural positive associations. So you send me as a little girl renderings of projects they were about to embark on with notes asking if I would hurry up and finish school so I could come join them. So I had these positive associations. But I came from something within myself. I think that as I got older and as I got involved in real estate, I realized that it was so multidisciplinary. You have, of course, a design, but you also have engineering, the brass tax of construction, there's time management, there's project planning, just the duration of time to complete one of these iconic structures. It's enormous. You can contribute a decade of your life to one project. So while you have to think big picture, it means you really have to care deeply about the details because you live with them. So it allowed me to flex a lot of areas of interest. I love that confidence of youth. It's funny because we're all so insecure, right? In the most basic interactions, but yet our ambitions are so unbridled. In a way, they make shoe blushes and adults. I think it's fun. It's fun to tap into that energy. Yeah, where everything is possible. I think some of the greatest builders I've ever met kind of always have that little flame of everything is possible, still birding. That is a silly notion from youth, but it's not so silly. Everybody tells you something is impossible, but if you continue believing that it's possible, and I have that sort of naive notion that you could do it, even if it's exceptionally difficult, that naive notion turns into some of the greatest projects ever done. 100%. Going out the space or building a new company, where like everybody said, it's impossible to take it on a gigantic company and disrupting them and revolutionizing how stuff is done or doing huge building projects. Like you said, so many people are involved in making that happen. We get conditioned out of that feeling.\n",
      "-----\n"
     ]
    }
   ],
   "source": [
    "print(nodes[0].get_content(metadata_mode=\"all\"))"
   ]
  },
  {
   "cell_type": "code",
   "execution_count": 23,
   "metadata": {},
   "outputs": [
    {
     "name": "stdout",
     "output_type": "stream",
     "text": [
      "42\n",
      "42\n"
     ]
    }
   ],
   "source": [
    "print(len(nodes))\n",
    "print(len(text_chunks_with_timestamps))"
   ]
  },
  {
   "cell_type": "code",
   "execution_count": 30,
   "metadata": {},
   "outputs": [],
   "source": [
    "for i, node in enumerate(nodes):\n",
    "    node.extra_info['start_timestamp'] = float(text_chunks_with_timestamps[i][1][0])\n",
    "    node.extra_info['end_timestamp'] = float(text_chunks_with_timestamps[i][1][1])"
   ]
  },
  {
   "cell_type": "code",
   "execution_count": 33,
   "metadata": {},
   "outputs": [
    {
     "name": "stdout",
     "output_type": "stream",
     "text": [
      "[Excerpt from document]\n",
      "document_title: \"Architectural Ambitions: Exploring Beauty, Function, and Innovation in New York and Chicago\"\n",
      "questions_this_excerpt_can_answer: 1. How did Ivanka Trump's childhood experiences and family background influence her passion for architecture and real estate development?\n",
      "2. What aspects of architecture and real estate development does Ivanka Trump find most compelling and challenging, based on her personal experiences and reflections?\n",
      "3. How does Ivanka Trump's perspective on the confidence and ambition of youth influence her approach to tackling large-scale projects in the fields of architecture and real estate development?\n",
      "start_timestamp: 0.06449438202247192\n",
      "end_timestamp: 316.72680412371136\n",
      "Excerpt:\n",
      "-----\n",
      "The following is a conversation with Ivanka Trump, businesswoman, real estate developer, and former senior advisor to the President of the United States. I've gotten to know Ivanka well over the past two years. We've become good friends, hitting it off right away over our mutual love of reading, especially philosophical writings from Marcus Aurelius, Joseph Campbell, Alan Watts, Victor Franklin, and so on. She is a truly kind, compassionate, and thoughtful human being. In the past, people have attacked her. In my view, to get indirectly at her dad, Donald Trump, as part of a dirty game of politics and clickbait journalism. These attacks obscured many projects and efforts, often bipartisan, that she helped get done, and they obscured the truth of who she is as a human being. Through all that, she never returned the attacks with anything but kindness, and always walked through the fire of it all with grace. For this, and much more, she is an inspiration, and I'm honored to be able to call her a friend. Oh, and for those living in the United States, happy upcoming Fourth of July. It's both an anniversary of this country's declaration of independence, and an anniversary of my immigrating here to the U.S. I am forever grateful for this amazing country, for this amazing life, for all of you, who have given chance to a silicate like me. From the bottom of my heart. Thank you. I love you all. This is the Lex Freeman podcast to support it. Please check out our sponsors in the description. And now, dear friends, here's Ivanka Trump. You said that ever since you were young, you wanted to be a builder. That you loved the idea of designing beautiful city skylines, especially in New York City. I love the New York City skyline. So describe the origins of that love of building. I think there's both an incredible confidence and a total insecurity that comes with youth. So I remember 15. I would look out over the city skyline for my bedroom window in New York and imagine where I could contribute and add value in a way that I look back on and completely laugh at how confident I was. But I've known since my earliest memories, it's something I've wanted to do. And I think fundamentally I love art. I love expressions of beauty in so many different forms. With architecture, there's the tangible. And I think that marriage of function and something that exists beyond yourself is very compelling. I also grew up in a family where my mother was in the real estate business working alongside my father. My father was in the business and I saw the joy that had brought to them. So I think I had these natural positive associations. So you send me as a little girl renderings of projects they were about to embark on with notes asking if I would hurry up and finish school so I could come join them. So I had these positive associations. But I came from something within myself. I think that as I got older and as I got involved in real estate, I realized that it was so multidisciplinary. You have, of course, a design, but you also have engineering, the brass tax of construction, there's time management, there's project planning, just the duration of time to complete one of these iconic structures. It's enormous. You can contribute a decade of your life to one project. So while you have to think big picture, it means you really have to care deeply about the details because you live with them. So it allowed me to flex a lot of areas of interest. I love that confidence of youth. It's funny because we're all so insecure, right? In the most basic interactions, but yet our ambitions are so unbridled. In a way, they make shoe blushes and adults. I think it's fun. It's fun to tap into that energy. Yeah, where everything is possible. I think some of the greatest builders I've ever met kind of always have that little flame of everything is possible, still birding. That is a silly notion from youth, but it's not so silly. Everybody tells you something is impossible, but if you continue believing that it's possible, and I have that sort of naive notion that you could do it, even if it's exceptionally difficult, that naive notion turns into some of the greatest projects ever done. 100%. Going out the space or building a new company, where like everybody said, it's impossible to take it on a gigantic company and disrupting them and revolutionizing how stuff is done or doing huge building projects. Like you said, so many people are involved in making that happen. We get conditioned out of that feeling.\n",
      "-----\n"
     ]
    }
   ],
   "source": [
    "print(nodes[0].get_content(metadata_mode=\"all\"))"
   ]
  },
  {
   "cell_type": "code",
   "execution_count": 34,
   "metadata": {},
   "outputs": [
    {
     "data": {
      "application/vnd.jupyter.widget-view+json": {
       "model_id": "3f014db6b88c438c8049a017ad97631b",
       "version_major": 2,
       "version_minor": 0
      },
      "text/plain": [
       "Upserted vectors:   0%|          | 0/42 [00:00<?, ?it/s]"
      ]
     },
     "metadata": {},
     "output_type": "display_data"
    },
    {
     "data": {
      "text/plain": [
       "['b49e4f0e-0e8d-4d2d-9339-e508c50c9f4e',\n",
       " '3acccaf9-a657-4b68-8730-a687b13f844f',\n",
       " 'c258a541-c9ce-415e-ae69-a5c5a418a413',\n",
       " 'd06d3e06-0af0-4ba7-8306-a646a23f9b11',\n",
       " '42f7c655-3569-462a-b000-04fbfb4add25',\n",
       " '3601686b-835b-46eb-a3a9-a4c900391032',\n",
       " 'bb1c0e1b-fd38-41e6-be56-6862881dfae8',\n",
       " '5f89daa6-ff70-4d6f-85dd-276bc98769fa',\n",
       " '8ac9a48c-f03d-46d5-9b80-4084cb364b3c',\n",
       " '5119277c-f5ee-47de-9c8b-64aacb86be1e',\n",
       " '7a5a4138-1761-456b-964e-25e3bf892579',\n",
       " '0af8505d-26c3-4694-8754-1322e1b0274c',\n",
       " '02d2e322-f41f-4f21-a33f-936ba447f497',\n",
       " '11179db6-d40b-4a89-8582-382e6c0e3f2e',\n",
       " 'caa74fda-f4aa-49fa-a4b0-c813e7a1b233',\n",
       " 'e13946a9-54fb-4557-bd63-9e907d4a43e4',\n",
       " '68eac674-7b5c-4fec-af0a-921166c3b4af',\n",
       " '7cfdfe92-4d4f-40fc-a91a-4e6b8d5f8946',\n",
       " '32d84438-08c4-4722-91a7-83b3b6ef57ab',\n",
       " '6ddb2ddd-b59d-4e13-8964-945e55c77080',\n",
       " '11811e96-da50-4cb6-9f74-68959edf16d2',\n",
       " '20992b22-4fe7-4434-8f63-f69ca27e532d',\n",
       " '278db14b-8660-454e-89ec-7384febfebe7',\n",
       " '84451beb-709e-4872-b981-03e08e192a93',\n",
       " 'b71e2974-0392-4d00-a38a-97cf603f7ac3',\n",
       " 'da724885-be5a-45c4-9c93-8bf5eaaa8a14',\n",
       " '04cb7715-e844-4218-93fc-cf4c7c365849',\n",
       " '8b3f8420-f27f-4068-b783-9afb267ae1f9',\n",
       " '29ba890b-b147-4d76-a1c5-0a1c05ec61e4',\n",
       " '2f2e89b8-1721-4a3a-8767-5d9357309ae3',\n",
       " '4856e325-e468-4d11-941b-561d3a5906a6',\n",
       " 'f16545e6-c057-458a-8d7f-e6e0db58ca46',\n",
       " '5b691a83-3eea-4247-a7c3-3595a12285a3',\n",
       " '05b6415b-05eb-4868-b89f-c2e0e7629ea1',\n",
       " '79af2004-acfc-4ffd-8645-012c2c1ebbaf',\n",
       " 'c6fd8d11-2fa4-492d-b186-485d56ada5b1',\n",
       " '21be2f48-229e-4177-959b-c4237f64246f',\n",
       " 'de9d8c0e-a244-4523-aedd-bba612c07b44',\n",
       " '64ec2219-979f-4d0e-bb19-49d1de143e4c',\n",
       " 'd83ac5d7-6f3b-4ce7-bf06-1722b9bdbc2a',\n",
       " '84c97592-2ef7-4d5f-a62f-806288eaf35b',\n",
       " 'a8ba3413-df51-4b75-ae3a-1786fd8ac303']"
      ]
     },
     "execution_count": 34,
     "metadata": {},
     "output_type": "execute_result"
    }
   ],
   "source": [
    "vector_store.add(nodes)"
   ]
  },
  {
   "cell_type": "markdown",
   "metadata": {},
   "source": [
    "#### Retrieval stage"
   ]
  },
  {
   "cell_type": "code",
   "execution_count": 35,
   "metadata": {},
   "outputs": [],
   "source": [
    "from llama_index.core.vector_stores import VectorStoreQuery"
   ]
  },
  {
   "cell_type": "code",
   "execution_count": 38,
   "metadata": {},
   "outputs": [],
   "source": [
    "query_str = \"describe the incident with kim kardashian\"\n",
    "query_embedding = embed_model.get_query_embedding(query_str)"
   ]
  },
  {
   "cell_type": "code",
   "execution_count": 39,
   "metadata": {},
   "outputs": [
    {
     "data": {
      "text/plain": [
       "VectorStoreQueryResult(nodes=[TextNode(id_='21be2f48-229e-4177-959b-c4237f64246f', embedding=[-0.00130108837, -0.019167, 0.00229185726, -0.018279383, -0.00698999129, 0.0216495562, -0.000573831145, -0.00575218024, -0.0274052043, -0.00599488849, 0.0440480411, 0.00050925347, -0.0083144838, 0.00320547959, -0.0145486128, 0.00259524235, 0.0371967405, -0.00842543598, -0.00338230981, -0.015325279, -0.0291804392, -0.0127179008, 0.00465306, 0.0116430512, -0.0120521877, 0.0283205602, 0.0251722895, -0.0220101513, -0.00877909642, -0.0180297401, 0.0104433801, 0.00687557179, -0.0267949663, -0.0199991427, -0.00830754917, -0.00625493284, -0.023882471, -0.0235912204, 0.0155610517, -0.0078221336, 0.0153807551, -0.00973605923, -0.00616478408, -0.0249087792, 0.00182204391, 0.0173362885, -0.00872362, -0.0123295682, -0.00876522716, 0.012752573, 0.0300680585, 0.0260321703, -0.0260876454, -0.0173501577, -0.0126416208, -0.0141672147, 0.0107068913, 0.0168786105, 0.00999957137, 0.0165180154, 0.028209608, 0.0152420644, -0.00640402501, -4.4749293e-05, -0.0249365158, -0.0131963827, -0.0197356306, 0.00823820382, 0.018431941, 0.0197217613, 0.0530629121, 0.0435764939, -0.00767650828, -0.0142712323, 0.0313717462, -0.0133974832, -0.037224479, -0.018889619, -0.0160603374, -0.00830061454, -0.0169340856, -0.0010202406, 0.00124821276, 0.0220517591, -0.0228006858, 0.0112963254, -0.0330360308, 0.0125514725, 0.00465306, 0.00188965537, -0.0160325989, 0.0161019452, 0.0133420071, 0.0112061761, -0.0128981983, 0.0154084926, -0.00954189338, 0.000850778306, 0.0251584221, -0.00220690947, 0.011608378, 0.00634161429, -0.0254774094, -0.0216495562, -0.0200407486, -0.0369470976, -0.0124543896, -0.00255016796, 0.0130299544, 0.00365102221, -0.013744209, 0.00438608089, -0.00401855167, -0.0455181561, -0.0204706881, -0.0271000862, -0.00824513845, -0.026170861, -0.0323425792, -0.0176414065, 0.021178009, 0.00818966236, 0.0151449814, -0.0464889891, -0.00157673541, -0.00591514166, -0.0102284104, -0.00231439434, -0.000261344539, -0.00927838124, 0.00988168456, -0.0148814693, 0.0290140118, -0.00015255934, 0.012371175, -0.00546786515, -0.0185012873, -0.000828674587, -0.00951415487, -0.0287366305, 0.0140631972, 0.0186122395, -0.00313960179, 0.00079096813, -0.0046911994, 0.0197772365, 0.00492350571, 0.0133905485, 0.0124890618, 0.012828853, 0.035282813, -0.0120313838, -0.00181164208, 0.0237160418, 0.0135708461, 0.0292636547, -0.000239457484, -0.000875915925, -0.0127387047, -0.00165994954, -0.0211641397, 0.00393187, -0.0115945097, 0.0124058481, 0.0291527025, 0.0334243625, 0.00839769747, 0.0132241203, -0.0215663426, -0.0355601944, 0.0121839428, 0.0110605517, -0.0243262798, 0.00909114908, 0.00738525856, 0.0144653991, 0.0257547889, 0.00671954546, -0.021635687, -0.0230503287, -0.00626533432, 0.0168370027, 0.032897342, 0.0217605084, -0.0184180718, -0.011532099, 0.0153391473, 0.0026628538, -0.0195969399, -0.00810644869, 0.0167676583, 0.0174749792, -0.0285702031, -0.0103740348, -0.620001137, -0.022148842, 0.00735058589, 0.00894552469, 0.0176275373, 0.0175581928, 0.00558228465, 0.0212057475, -0.00276687159, 0.0116915926, -0.00048975012, 0.016240634, 0.0119620385, -0.0165318847, -0.017364027, -0.0279322267, -0.00395267364, 0.00051315414, 0.0129467398, 0.00369262928, -0.0071078781, 0.00555107929, 0.0120799253, -0.0281818695, -0.00200927584, 0.0187509283, -0.000557795051, -0.025102945, -0.000830408186, -0.000897152931, -0.0197911058, 0.0204290822, -0.00345512223, -0.0034672576, 0.0545052886, 0.00157760223, 0.0130091505, 0.0188618805, 0.00493044034, 0.0507051758, -0.0236466974, -0.00527023152, 0.00219997484, 0.0142296255, 0.0227590781, 0.000637542, -0.000540458772, -0.00116326497, -0.00313786813, -0.00465999404, -0.00302344863, 0.00937546417, -0.0147427795, 0.00407402776, 0.0117886756, -0.0103601655, -0.00505526178, -0.0148259932, 0.0143267084, -0.01122698, 0.0181961674, 0.0113518015, -0.0239934232, 0.00363021879, -0.00899406616, 0.0295687728, -0.02245396, -0.00571750756, 0.00225371751, -0.0192640834, 0.00218263874, 0.0213860441, -0.0232722331, -0.0330360308, -0.00641442649, 0.0170034319, 0.0108802542, 0.00665713474, -0.0184874181, 0.0208174139, -0.0112339146, -0.00589087047, -0.0194166433, -0.0184458103, 0.00755862147, -0.0013444291, -0.0375573337, 0.0166012291, -0.00816885848, -0.020262653, 0.0131062334, 0.00922984, -0.0119412355, -0.052951958, -0.0180158708, -0.00237680506, -0.000200667535, -0.00205261656, 0.0161158126, -0.00796082336, 0.00813418627, -0.0126069486, 0.00846010819, 0.0197495, 0.0154084926, 0.00287782378, -0.00729511, 0.0116569204, 0.0333411507, -0.00854332279, -0.012350372, 0.0120036462, 0.00961817242, -0.000278680818, -0.0118996277, -0.0185428932, 0.0120244492, 0.0104017733, 0.00458371453, -0.0142296255, 0.0236883033, 0.0201794393, -0.0297629386, -0.0149924215, 0.00470506866, 0.0243540183, 0.0141602801, -0.037058048, -0.0114835575, 0.0107346298, -0.00443115504, 0.0212473553, 0.0116361165, -0.0176968835, 0.037169002, -0.00204568193, 0.0081757931, -0.0342287682, 0.0152698029, -0.0342010297, -0.012447455, -0.00482295547, 0.0230503287, 0.00326615665, -0.0161574204, -0.00961123779, -0.00389026292, 0.00233693165, -0.0537563637, -0.0313717462, -0.020415213, -0.00749621075, -0.0358653143, 0.0233831853, -0.000499718473, -0.00816192478, 0.00456984574, -0.0076418356, -0.00548520172, -0.00953495875, -0.0128496569, 0.0592485, -0.0308169853, -0.00542625831, 0.0253109802, 0.0122810267, 0.012350372, -0.0101243919, -0.00549907051, -0.0287921075, 0.0122810267, -0.0140493279, 0.0123781096, 0.00596715044, 0.00452130381, 0.00972219, -0.0197911058, 0.00274260086, 0.00324015226, 0.0252138972, 0.0192363448, 0.00354007, -0.00328002567, -0.0150895054, 0.021178009, 0.0122255506, 0.0116291819, 0.0260876454, -0.000325055415, 0.00927144662, -0.0219824128, 0.0151033737, -0.000350843125, -0.00539505295, -0.00523555884, 0.0146456957, -0.00494084228, 0.00619945675, -0.00826594234, 0.0339513868, 0.0192640834, -0.0212196168, 0.0343951955, -0.0173778944, 0.00535691297, -0.0309834145, -0.00620292407, -0.0186538454, 0.015477838, 0.000600702362, -0.00180990843, -0.00644563185, -0.0079122819, -0.0199714042, -0.00623759627, -0.00285181939, -0.0124266511, 0.0247007441, -0.0401369743, -0.00322454958, 0.00933385734, 0.0148121249, 0.00626186701, -0.00228492287, 0.00936159585, 0.010769302, 0.00131929154, -0.0152281951, 0.00287435646, -0.0218437221, -0.00605036458, 0.0256299675, 0.0136540607, 0.00686517, -0.0200546179, -0.00305465399, 0.0230225902, -0.0031725408, 0.0231196731, -0.0239656847, 0.0175304543, -0.00281367963, 0.00222597946, 0.00753088342, 0.0166012291, -0.0199714042, 0.0326477, 0.0268227048, -0.00772504974, 0.0202903915, -0.00795388874, -0.00797469262, 0.00418498, 0.00525982957, 0.0194027741, -0.0183348581, -0.0065323133, 0.0242569335, 0.0272249058, 0.03533829, -0.000392666931, 0.0109496, 0.0180158708, 0.00298877596, -0.010311624, 0.014867601, -0.00669874158, -0.0112408493, -0.0233831853, -0.00339097786, -0.00904954225, -0.0359207876, 0.0238408633, 0.0065149772, 0.00449703308, 0.0102214757, -0.00613704603, 0.00371690025, 0.0017431638, 0.0182377752, -0.00870975107, -0.0303177014, 0.0339236483, -0.00862653647, -0.00136696629, -0.0238686018, 0.00567590073, -0.0159632545, -0.0218853299, 0.0163793247, -0.0298461542, 0.0221627112, -0.0196246784, 0.00206821924, 0.00319334422, -0.00530490419, 0.0231058039, -0.0208035465, 0.0152143268, -0.0356711447, 0.0164625384, -0.00290209451, -0.0240627676, 0.00818966236, 0.0496788658, -0.00334070274, -0.015935516, -0.0321761519, -0.00947254803, -0.0371412635, 0.0054401271, 0.0263927653, -0.0189589653, -0.00498938374, -0.00492003839, -0.00160534028, -0.00383825414, -0.00238200603, 0.0237992555, 0.0221904479, -0.0116291819, -0.0376405492, -0.0228700303, 0.0161296818, 0.135916501, 0.0352550745, -0.016337717, 0.0222181864, -0.0132102519, -0.000939626829, -0.00875135791, -0.0229532458, 0.00316560618, -0.00319507788, 0.0225233063, -0.00800936483, 0.0175027158, 0.00972219, 0.0224678293, 0.00375157269, 0.00736445514, -0.0215802118, 0.00792615116, -0.0145208752, 0.00212196168, 0.000746760634, 0.00551987393, 0.0347557887, 0.00439648284, -0.00080267014, 0.0304009151, 0.00712868152, 0.00208382192, -0.0348667428, -0.0124266511, 0.0237992555, 0.0280015729, -0.00501712179, -0.0492073186, -0.0092090359, 0.011913497, -0.0106514152, 0.00970832165, -0.000527456577, 0.021691164, 0.0135500431, 0.0131617095, -0.0338404328, 0.016393194, -0.0185151547, -0.0149646839, 0.00604689727, -0.00543319248, 0.000113877744, 0.000897152931, 0.00779439509, -0.00879296567, -0.00326268934, 0.00675421767, 0.0167121813, -0.00728124101, -0.00458371453, 0.00516621396, 0.0385559052, -0.0126485555, -0.0312053189, -0.0135431085, -0.0256438367, 0.00121960789, -0.012960609, -0.0216218177, 0.00384518877, -0.00781519897, -0.00158713711, -0.00355047174, 0.0140493279, -0.0216079485, 0.0226481259, 0.0368084051, 0.0074684727, 0.0169202164, -0.00388679584, 0.0109149273, 0.00175183185, -0.00753088342, -0.04521304, -0.0272249058, -0.0261431225, -0.012523734, 0.00411216775, -0.0245065764, -0.00862653647, -0.018986702, 0.0302344859, -0.00117973436, 0.00862653647, 0.00182377745, -0.0110397479, 0.0118788248, 0.0172530729, -0.0132310549, 0.0273358598, 0.00347939297, -0.0328696035, 0.0108594513, -0.0270446092, -0.00633814698, -0.0213028304, -0.0159216467, -0.0189450961, -0.0183487274, -0.000145299768, 0.0091188876, -0.0168924797, 0.0181129538, -0.0274329428, -0.0163793247, 0.000903220614, 0.0078221336, 0.0222459249, -0.0130715612, -0.00429939944, 0.0102492133, 0.00693104789, -0.0115806405, -0.0181961674, 0.0295687728, 0.0240211599, -0.00928531587, 0.00167641905, -0.00891778618, -0.0167121813, -0.00395267364, 0.0102214757, -0.000713821675, 0.00154119602, -0.0146040889, -0.015172719, -0.0176275373, -0.025505146, -0.0191531312, -0.00118666887, -0.0105682015, -0.00337537518, -0.0061855875, -0.00676461961, -0.0181961674, -0.0524526723, 0.0121562053, -0.0351163857, -0.0123434374, 0.00658085477, -0.00231959531, 0.029735202, -0.00852251891, -0.0178771801, -0.0136817982, 0.00170502393, 0.00674034888, -0.01502016, 0.0125722764, -0.00705933664, 0.0391938798, 0.0182516444, 0.0341455527, -0.00123261008, 0.014201887, 0.00712868152, 0.0169618241, 0.000676548632, 0.00251376186, 0.00715641957, -0.0105057908, 0.0240350291, 0.000156351642, -0.00775972242, -0.0129744783, 0.000798336056, -0.00053352426, 0.0294578206, -0.016850872, -0.0158106945, -0.0152836712, -0.0167676583, -0.0156720039, 0.0119065624, -0.0233138409, -0.00118926936, -0.0374186449, 0.00823820382, 0.0314827, -0.00682703033, 0.0199436657, -0.00829368, 0.0360872187, -0.0278906208, 0.0217189025, -0.000515754567, -0.00842543598, -0.00316907349, -0.0369748361, -0.0290140118, 0.00640749186, 0.00964591093, 0.0183625966, 0.0245204456, -0.00687557179, -0.00380011438, 0.00913969148, 0.0161296818, -0.0159771238, -0.00218783948, 0.000612837786, -0.0299016293, -0.0230503287, -0.0198188443, -0.00934772659, -0.0299016293, -0.0178355724, 0.00560655538, 0.00290382816, 0.0164348017, 0.0026039104, -0.011608378, -0.000809604651, -0.0318432935, 0.0294023436, 0.00534304418, 0.0156720039, -0.000231439451, 0.00381051609, -0.00159060443, 0.00294543523, 0.0157968253, 0.00144151237, 0.0166289676, 0.0248255637, -0.0133142695, 0.000744160148, 0.0155471833, -0.00125341362, -0.0330915079, -0.01280805, 0.0155887902, -0.00654271524, -0.000279764354, -0.00890391786, -0.0183625966, 0.00481948815, -0.0115667712, -0.00381051609, 0.0116569204, 0.00444155699, -0.0107346298, -0.0142296255, 0.00212196168, 0.00659472402, -0.000951762195, 0.00201967754, -0.0152559336, 0.00262818136, -0.012960609, -0.00893859, 0.0100966543, -0.0316491276, 0.0232583638, -0.0384172127, 0.00621679286, 0.0161435511, 0.000665713451, -0.0238131247, -0.0195414647, 0.00646296795, 0.0301790107, -0.0307060331, 0.00192086073, 0.0107138259, 0.00844624, 0.00068304973, -0.0120383184, -0.00874442328, 0.00408789655, -0.0237299111, -0.000583799498, 0.00308759301, -0.00816192478, -0.0146040889, -0.00500672, 0.000777965935, -0.000749794475, -0.00498938374, -0.0131201027, 0.0320929363, -0.0174749792, -0.0259212181, -0.033812698, 0.0156303979, -0.00512113934, -0.00347592565, -0.0154084926, 0.00212196168, 0.0193611663, -0.00789147802, 0.015325279, -0.0123781096, -0.0104849869, -0.0281818695, -0.00623759627, -0.0366419777, 0.0059394124, 0.0343951955, -0.0140978694, -0.0296519864, -0.0146179581, 0.0267117526, 0.028764369, -0.0107901059, -0.00755168684, 0.0141186733, -0.00828674529, 0.00452477112, 0.0129952813, -0.0217882469, 0.0184458103, 0.00236987066, -0.0146318274, 0.0134460246, -0.0224678293, -1.83012958e-06, 0.014028524, 0.0208174139, 0.00823820382, -0.046683155, -0.0012724835, -0.00865427498, 0.00730897905, -0.00596715044, -0.00161660882, -0.00719109224, -0.00224504923, -0.0353937671, 0.014867601, 0.018986702, -0.00704546738, 0.0199714042, 0.0186677147, 0.0110882903, 0.0243124105, -0.00522515737, -0.0013314269, -0.0279599652, -0.0169479549, -0.0350609086, -0.017669145, -0.00419191457, 0.0260599088, 0.0157690868, -0.0121284667, -0.0246175285, 0.00849478133, -0.0317600779, -0.0228700303, -0.0242569335, 0.0116361165, 0.0447969697, 0.0123989135, -0.00828674529, 0.0239102077, -0.00427512871, 0.0271278229, -0.0330082923, -0.0206093788, 0.0292636547, -0.0223430078, 0.0212196168, 0.00334070274, -0.0376682878, -0.0100619812, 0.00900100078, 0.0125376033, -0.00249122456, 0.00362328417, -0.00748234196, 0.0145070059, 0.00963204168, 0.0113934083, 0.0136124529, 0.0314827, 0.00574524608, -0.0223430078, -0.0268643126, 0.00980540458, -0.0242985412, -0.0142434938, 0.026018301, -0.0190560482, 0.00205261656, 0.00503792521, 0.00237160409, -0.00293156621, 0.0150895054, 0.027391335, 0.0588046871, 0.000911888725, -0.00605729921, 0.0270723477, 0.0174333714, -0.0152281951, -0.012294895, -0.00211849436, 0.00230399263, -0.0130646266, 0.016850872, -0.0241182446, 0.00359207881, 0.000957829936, 0.00660165865, -0.0198327135, 0.0235634819, -0.00015797693, 0.0118441517, -0.0121076638, 0.0188064054, 0.00537424907, -0.00715641957, 0.00183071196, -0.00918823294, 0.0033251, -0.00870281644, -0.0323425792, 0.00321588153, -0.0190837868, 0.000613271201, 0.0092922505, -0.00652884599, -0.0129536744, 0.00517661544, 0.011074421, -0.0057105734, 0.00558228465, 0.231668279, 0.00703506591, 3.95213174e-05, 0.00744766928, -0.0113171292, 0.0108733196, 0.0316213891, 0.0241598506, -0.00635201577, 0.0223014, -0.0050934013, 0.017364027, -0.0165596232, -0.0130230198, 0.0173778944, 0.00588740362, -0.0204568207, -0.028819846, 0.00519395201, -0.0141949523, 0.007738919, -0.00816885848, 0.00397347705, 0.00216010143, 0.0273635965, 0.0156165287, -0.00816885848, 0.000848611293, 0.0168092642, 0.0122047467, 0.00156720041, 0.00227452093, 0.00809257943, 0.00162007613, -0.00701079471, -0.0172392055, 0.00390759949, 0.000295150297, 0.00170329027, -0.0157968253, 0.00628267089, -0.0130091505, -0.0370303094, -0.0240072925, -0.00984007679, 0.0157274809, -0.00825207308, -0.00565856462, 0.0029211645, 0.012121533, -0.0248671714, -0.015880039, 0.019957535, 0.0133489417, 0.0186399762, 0.00762103219, 0.0190976541, -0.00307719107, -0.00614398066, 0.0238686018, -0.0040428224, 0.0245620534, -0.0299293678, 0.026531456, 0.0122463536, 0.00702466397, 0.000797035813, -0.0121700745, 0.00569323683, -0.0274745487, -0.0179187879, -0.0234109238, -0.032841865, -0.00282408134, -0.0132102519, -0.0445473269, 0.0565579049, 0.0170450378, 0.0284592509, 0.0274329428, 0.0328141265, -0.00146404956, 0.0168231335, -0.00907728076, -0.0143683152, -0.0306228194, 0.0338959098, -0.00130108837, 0.0132726617, -0.0101729343, 0.000536558102, -0.000615438214, -0.0106583498, -0.0205955096, 0.00362675148, -0.00602956116, 0.0105959391, 0.0055545466, -0.00988168456, -0.0141117387, -0.0402201898, 0.0214553904, 0.0299293678, 0.0213721767, -6.1652172e-05, 0.00636935234, 0.00970832165, 0.0235080067, 0.00428206334, -0.0435487553, -0.000235340107, -0.00532917492, -0.00154899736, 0.0135639114, 0.0253803264, 0.00423352141, -0.0164209325, -0.0389165, 0.015880039, -0.0014423792, -0.026933657, -0.0325922221, -0.00295930426, 0.0104364455, -0.00249469187, -0.0226897337, -0.0550323129, 0.0147011718, 0.00131495739, -0.0168231335, 0.0126346871, 0.00786374, 0.0145070059, 0.0112616532, 0.000129913809, -0.0305950809, 0.01715599, -0.013494567, 0.0158245638, 0.000234256586, 0.0152420644, -0.00142070884, 0.0151865883, 0.0158661716, -0.00316560618, -0.0242569335, 0.0294855591, -0.0126901632, -0.0100273089, -0.0182239059, -0.0301235337, 0.0230503287, 0.00735752052, -0.0341732912, 0.0260460395, -0.00147791859, -0.0197633691, -0.0355879329, 0.000114419498, 0.0180990845, -0.028764369, 0.0350609086, 0.0106791537, -0.0169895627, -0.00743380049, -0.0196801536, -0.177967399, 0.0155055756, 0.00724656833, -0.0159077775, 0.0346448384, -0.00784293655, 0.00950028561, -0.0188341439, -0.0148953386, 0.0139799826, 0.0123018296, 0.0102353441, -0.0118718902, -0.00941707194, -0.00166601723, -0.00406362582, -0.0106444806, 0.00364408782, 0.060136117, 0.015935516, 0.0245481841, 0.00717722345, 0.0391938798, 0.00947254803, -0.00169895624, 0.0186538454, 0.00148051896, -0.0272110384, -0.000770598, -0.0260876454, 0.0108871888, -0.008577995, 0.0158106945, -0.00313440082, 0.0174888466, 0.00929918513, -0.0105959391, 0.00149438798, -0.0169618241, 0.0189450961, 0.0431604236, 0.0240766369, 0.000323755172, 0.00242708041, -0.0180297401, 0.0122255506, -0.00931998808, -0.00276167062, -0.00456984574, -0.0123156989, 0.0115875751, -0.028819846, 0.0017605, -0.00303385034, 0.0226758644, 0.0143405776, 0.00571404072, 0.0197633691, 0.00225371751, 0.00291423, -0.000428423024, -0.00032700572, 0.0126277525, 0.00874442328, -0.0116985273, -0.00567936804, -0.0111368317, 0.0138620958, -0.0312885344, 0.0295410343, -0.0196246784, -0.0124127818, 0.00103324279, 0.000167836944, 0.00771811558, 0.0122394189, -0.0244927071, 0.00907728076, -0.0145763513, 0.012981412, -0.00172929477, 0.0267256219, -0.0321761519, -0.00870975107, -0.00576604949, 0.0154084926, -0.00189658988, 0.0131755788, 0.00780132972, -0.0110397479, 0.0155055756, -0.0386945941, 0.00467733061, -0.000575131329, 0.00877216179, 0.0238963403, 0.0313162692, 0.0154917073, -0.0295410343, -0.0220101513, 0.0111368317, -0.00823820382, -0.00342738419, 0.0239934232, 0.000123304344, 0.0115182297, 0.015477838, 0.0180297401, 0.0205677729, -0.0185012873, -0.0190005712, 0.0249503851, 0.0296242498, 0.00493044034, 0.00283101574, 0.0243540183, 0.00422658725, 0.000713821675, 0.00584926363, -0.00176830136, 0.0555316, -0.00342911785, -0.0160187297, 0.00696918787, -0.00203181291, -0.015172719, -0.120826989, -0.0272249058, -0.000816105749, 0.00504832715, 0.00407056045, 0.023521876, 0.0103254933, 0.0363645963, -0.0366697162, 0.0309834145, -0.0178633109, -0.0149646839, 0.0109287957, 0.00229185726, 0.0223846156, -0.00739219319, -0.00531877298, -0.00877909642, -0.0373909064, 0.0388332866, -0.0126554901, 0.00798162725, 0.00232132897, -0.0248533022, 0.00843930524, -0.000562129135, -0.0269059185, 0.0175859313, -0.005842329, 0.00674728351, 0.00419191457, -0.000582065899, -0.00458024722, -0.0214692596, 7.30832908e-05, -0.0029991779, -7.60629628e-05, -0.00207862095, 0.0254774094, -0.0459897034, -0.00630000699, 0.00489576766, -0.00434100674, -0.0217605084, 0.00324361958, 0.00841850135, 0.000982100726, 0.0179742631, 0.0271694306, -0.0105612669, -0.0403034, 0.028154131, -0.0156997424, -0.00576258218, 0.0223430078, 0.00889698323, 0.0164348017, 0.00248255651, -0.00441035163, -0.00314826984, 0.0108871888, -0.0100966543, -0.00771811558, -0.00118060119, 0.0154223619, -0.0195137262, -0.0322871022, 0.011989777, -0.0131062334, -0.0143683152, -0.0126901632, 0.0069171791, -0.0228006858, 0.0310666282, -0.00924370904, -0.0117331995, -0.0205122959, -0.0263511576, 0.00780132972, 0.00910501834, -0.0289307982, -0.00902180467, 0.0376405492, -0.00298010791, 0.0368084051, -0.00943787489, 0.00670220889, 0.00235946872, 3.05822941e-05, -0.000621939311, -0.00646643527, 0.0242291968, 0.00461145258, -0.0199159272, 0.00698305666, 0.0122255506, 0.00212369533, -0.00564122805, 0.0155471833, 0.0164902769, -0.0218021162, -0.0242708027, -0.0540892184, 0.0206648558, -0.0116638541, -0.0222181864, 0.00164348015, -0.00793308578, 0.0100411782, -0.0193195585, -0.00294890255, 0.00303385034, -0.0356156714, 0.0273081213, 0.0105473977, -0.0115390336, -0.00991635676, 0.00148311944, -0.00339791249, 0.00188272086, 0.0103324279, 0.028154131, -0.00652537867, 0.00322975055, 0.0310943667, -0.0136124529, -0.00706973812, 0.017613668, -0.0358375758, 0.0100342436, 0.00637281965, -0.0192224756, 0.000234039893, -0.00646990258, 0.0100758504, 0.00941013731, -0.0018151094, -0.0200546179, 0.0248533022, 0.0356988832, 0.019957535, 0.0351441242, -0.0178910494, -0.0285424646, 0.0150340293, -0.0122602228, 0.0109010581, 0.0237992555, -0.0219130684, 0.00839076377, -0.00679929228, 0.00247562188, -0.0023455997, 0.00712868152, -0.00965977926, -0.0172946807, 0.0162128974, 0.0118441517, 0.0197495, -0.00448663114, -0.0345061459, 0.0147427795, 0.0340068638, -0.0169202164, 0.00368222757, -0.0206232481, 0.0314827, -0.0174056329, -0.0404143557, -0.000442725461, 0.0193056911, -0.0221904479, -0.0177384894, -0.0220656265, 0.0213583075, 0.0330915079, -0.00308585935, 0.00988168456, 0.000603736204, -0.000907554699, -0.00443462236, 0.0292913914, 0.00573831145, 0.00532570761, -0.0147289103, 0.00875829253, 0.0108941235, -0.000814805564, -0.0218714606, -0.0029211645, 0.000822606846, 0.00936159585, 0.0272110384, -0.00593594508, -0.0147982556, 0.0126970969, 0.018126823, 0.0123989135, -0.00334590347, 0.0140146548, 0.0235912204, 0.00605729921, 0.0165180154, -0.000943960855, 0.0147289103, 0.00397000974, -0.0180158708, 0.000132839312, -0.0138620958, -0.0391106643, -0.00546439784, -0.00316560618, -0.00531530613, -0.00152472651, 0.00187231915, 0.0115182297, -0.0310111511, 0.0253664572, 0.0139037026, -0.0135985846, -0.0170034319, 0.0377792381, 0.00260564405, -0.0209561046, 0.0263511576, -0.0165734906, 0.0213583075, 0.0295965113, 0.0276825838, -0.00116846582, -0.00981927384, 6.71781163e-05, 0.0229393765, -0.00329216104, -0.0221349727, 0.00303385034, -0.0114142122, -0.0168231335, 0.00390759949, 0.02474235, -0.0155333141, 0.0449633971, 0.00734365173, -0.00940320268, 0.00291596353, -0.0171975978, 0.019167, -0.00241841213, -0.012350372, -0.00518355, -0.0208312832, 0.0330637693, -0.0158661716, -0.000182897842, -0.0434100665, -0.0261985976, -0.00386599218, 0.00633467967, 0.0348944813, 0.0003974344, 0.019804975, 0.0374186449, 0.0161435511, 0.0190837868, 0.006071168, -0.0289585348, -0.026989134, 0.022093365, -0.0353105515, -0.0208590217, 0.0144653991, 0.0165041462, 0.00966671389, -0.0268504433, -0.0209699739, 0.0320929363, -0.0070073274, 0.00153859553, -0.00574177876, -0.00214449875, 0.0168370027, -0.0102284104, 0.0107484981, -0.0357821, -0.0222597942, -0.0139661133, 0.00352446735, -0.0104849869, -0.00698999129, -0.0116222473], metadata={'document_title': '\"Architectural Ambitions: Exploring Beauty, Function, and Innovation in New York and Chicago\"', 'questions_this_excerpt_can_answer': \"1. How did Alice Johnson's experience in prison lead to a profound moment for Ivanka Trump and her children, sparking important conversations about service and empathy?\\n2. What impact did Ivanka Trump and Jared Kushner have on criminal justice reform, particularly through their work on the First Step Act and advocating for pardons and commutations for deserving individuals?\\n3. How did Ivanka Trump and her family's experience at an Adele concert in Las Vegas tie into their discussions about policy, service, and the importance of giving second chances to those in need of redemption?\", 'start_timestamp': 9562.877254901961, 'end_timestamp': 9905.044}, excluded_embed_metadata_keys=[], excluded_llm_metadata_keys=[], relationships={}, text=\"so I think she's very cool I hope you have a long conversation yeah she's like okay so there's many things to say about her at first like incredibly great musician songwriters performer yeah also can create an image and have fun with it you know like have fun being herself like over the top it feels that way right like she's really she enjoys after all these years it feels like she's enjoying she like enjoys what she does and you also have the sense that if she didn't she wouldn't do it that's right and just an iconic country musician country music singer yeah um there's a lot we've talked about a lot of musicians what do you enjoy you mentioned a Dal seeing her perform hanging out with her yeah I mean she's extraordinary her voice is unreal um so she is I find her to be so talented and she's so unique in that three-year-olds love her music she's actually the first concert Arabela ever went to and Madison Square Garden when she wished she was around four and nine-year-olds love her music and that's pretty rare to have that kind of um band with resonance so so I think she's so talented we actually just saw her I took all three kids in Las Vegas around a month ago Alice Johnson um whose case I had worked with in the White House um my father commuted her sentence her her case was brought to me by a friend Kim Kardashian and um and she came to the show we all went together with some mutual friends and I was like a very profound it was amazing to see but it was a very profound experience for me to have with my kids because she rode with us in in a car on the way to the show and and she talked to my kids about her experience in her story um and how her case found its way to me and and I think for young children it's very abstract you know policy and so for her to be able to share with them this was a very beautiful moment and led to a lot of really incredible conversations with each of my kids about our time and service because you know they gave up a lot for for me to do it actually Alice told them the most beautiful story about the plays she used to put on in prison how these shows were like the hottest ticket in town like you could knock it into them they always extended their run and um but for the people who were in them a lot of those men and women had never experienced a pause nobody had ever shown up at their games or at their plays or and and clapped for them and the emotional experience of of just being able to give someone that you know being able to stand and and applaud for someone and how meaningful that was and she was showing us pictures from these different productions and it was a really it was a beautiful moment Alice actually after um her sentence was commuted and she came out of prison together we worked on 23 different partings or commutations so so the impact of of her experience and how she was able to to take her her opportunity and and create that same opportunity for others who who were deserving and and who she believed in was was very beautiful so anyway that was an extraordinary concert experience for my kids to be able to have that moment I was sorry so just that's the sort of the uh because here we are dancing at Adele exactly exactly like that turning point six years later it was almost to the day so yeah so that that policy that meeting meaning of the minds resulted in a major turning point in her life analysis life and not only her dancing and now we're out of dough yeah i mean uh you mentioned also all there i've seen commutations where it's it's an opportunity to step in and consider the ways that the justice system does not always work well um i can case is when it's non-violent crime and drug offenses there's a case of a person uh you mentioned that received a life sentence for selling weed yeah it you know and it's just the number it's like hundreds of thousands of people are in the federal president jail and system for drug for selling drugs that's the only thing with no violence on their records whatsoever and it's obviously there's a lot of complexity there's the details matter but oftentimes the justice system does not um do right in the way we think right is and it's nice to be able to step in and help people like and direct they're overlooked and they have no advocate Jared um and i helped in a small way on his effort but he really um spearheaded the effort on on criminal justice reform through the first step act which was an enormously consequential piece of legislation that gave so many people another opportunity and that was amazing uh so working with him closely on that was was a beautiful thing for us to also experience together but in the final days of the administration you know you're not getting legislation passed and anything you do administratively is going to be probably overturned by an incoming administration so you know how do you use that time for maximum results and i really like dug in on pardons and commutations that i thought were were um were overdue and and were worthy and um and my last night in washington dc i the\", mimetype='text/plain', start_char_idx=None, end_char_idx=None, text_template='[Excerpt from document]\\n{metadata_str}\\nExcerpt:\\n-----\\n{content}\\n-----\\n', metadata_template='{key}: {value}', metadata_seperator='\\n'), TextNode(id_='caa74fda-f4aa-49fa-a4b0-c813e7a1b233', embedding=[-0.0167839713, 0.000407555897, 0.00901335571, -0.0151083674, 0.00122964929, 0.0187248811, -0.0216851141, 0.00574941793, -0.0134048359, -0.0407451168, 0.0237098038, 0.0022498481, -0.00397956045, -0.00293928967, -0.0067128907, 0.00978832319, 0.0289879572, -0.00474056462, -0.0089924112, -0.0198559128, -0.0178591516, 3.02994231e-05, -0.000136906485, 0.00609152066, -0.0126228873, -0.00447526, 0.0173145793, -0.0191018917, -0.0126298685, -0.0198279861, 0.00133699272, 0.00355542335, -0.0129231, 0.0019182181, -0.0140122427, -0.00401446922, -0.014689466, -0.0203725584, 0.025175957, 0.00206308812, 0.00584018, 0.000371120201, -0.0133070927, 0.0118898107, 0.000284285488, 0.0132652018, -0.00212592329, 0.00258671446, -0.00294627133, 0.00601472193, 0.0215035919, 0.0288203973, -0.0418901108, 0.0101443892, -0.0115197813, 0.00818951707, 0.0162114743, 0.0177055541, 0.0105353631, -0.00384690869, 0.00510012126, 0.0179987848, -0.013188404, 0.00990003, -0.0205261558, -0.00461838488, -0.0185154304, 0.00284154597, 0.0091250632, 0.00692234095, 0.0477547273, 0.0247710198, -0.00638824236, 0.0240030345, 0.0206518248, -0.00402494147, -0.00421344722, -0.0149966599, -0.00753323874, 0.00105859805, -0.00298990682, -0.0109403012, -0.0113941105, 0.0193951223, -0.00580178062, 0.0250363238, -0.0154714147, 0.03256258, -0.0123226745, 0.00458347658, -0.0164209232, -0.00117205048, 0.00574592687, 0.0155551955, -0.0286528375, 0.0072749164, -0.00883881375, -0.015220074, 0.033232823, -0.0081336638, 0.00758909201, 0.00325870165, -0.0311662443, -0.0152340373, -0.0232071225, -0.000466900208, -0.0121551147, -0.0273821708, 0.01296499, -0.00367585733, -0.0184875038, 0.0152340373, 0.000721295364, -0.0349922068, -0.00740058674, -0.0452971756, -0.0175938476, -0.0102840224, -0.00342975301, -0.0197302438, 0.0229837075, 0.0252318103, -0.00173407607, -0.0233886465, 0.0199257303, -0.00312430412, -0.0355228148, -0.00759607367, -0.0185154304, -0.0118269753, 0.0121341692, 0.0216152985, 0.0335400179, -0.00856652763, -0.00545269623, 0.0137678832, -0.0337075777, 0.0183757953, -0.0256786384, -0.0343778171, 0.0117850853, 0.0202189609, -0.0146196494, 0.0277172904, 0.00191472727, 0.014158858, 0.00693979533, 0.0392929241, 0.0152061107, 0.0247849841, 0.0265583321, -0.0266281478, -0.0105981985, 0.00998381, 0.0159880593, 0.0322274603, 0.0118549019, 0.00756116537, -0.0212941412, 0.00411221292, 0.0169375688, -0.00240519061, 0.00960679911, 0.00600424968, 0.0255110785, 0.0277731437, 0.0282618627, 0.00394116156, -0.00936942175, 0.00102805323, -0.0130417887, -0.00546316896, -0.0359696448, 0.00865729, 0.0179289673, 0.00970454235, 0.0311662443, 0.032171607, -0.018278053, -0.0292951521, -0.00252387929, 5.07263067e-05, 0.0278569255, 0.0143543454, -0.00800799299, -0.00387832616, 0.00137451931, -0.0132721839, -0.00119823171, 0.000892346667, -0.00894353911, 0.0144520886, -0.0152759273, -0.00283281878, -0.647900403, -0.00776363397, -0.00530957198, -0.0279407054, -0.00731680635, 0.0183339063, 0.0178591516, 0.00869918, -0.00359556801, 0.0313617326, -0.0161416568, 0.00745644, 0.00690139597, -0.0153317815, -0.0213499945, -0.0225368813, 0.00647551334, -0.0270889401, 0.00948811, 0.00377360103, 0.00830122363, 0.00673732627, 0.00488019828, -0.00670939963, -0.0054910956, 0.0212662145, 0.00808479171, -0.01491288, 0.00510361185, 0.0121341692, -0.0243102293, 0.0296861269, -0.00278743799, 0.00234410097, 0.0507149622, -0.0177195184, -0.00738662295, 0.0148849534, 0.0210288372, 0.0377011, -0.0296302736, -0.00404937752, 0.00433562649, 0.00316968514, 0.0107587771, 0.0252597369, 0.00763796363, 0.0049604876, -0.00223588478, 0.00669194525, 0.0153317815, 0.0151642207, 0.00890164915, 0.00901335571, 0.0244498625, -0.0118967919, 0.00880390499, -0.0054247696, 0.0219224915, -0.00292707165, 0.0167281181, 0.0163929965, -0.015974097, -0.00302306982, -0.0142845288, 0.0357462279, -0.0114848725, -0.00414712122, 0.0169934221, -0.0155133046, 0.00158658798, 0.0348525718, -0.0409964584, 0.00410174, 0.00454507722, 0.0195487197, 0.0168398246, 0.0195068289, 0.00538287964, 0.0146755027, -0.00941829383, -0.00333550014, -0.0236539505, -0.000159051517, 0.00340182614, -0.00893655699, -0.0387902446, -0.00809875503, -0.00663958304, -0.0192554891, 0.00192345434, 0.000997508294, -0.00907619111, -0.0346012339, -0.0143683087, 0.0329814814, -0.00862936303, 0.00385738118, 0.0213360302, -0.0207914598, -0.000939036661, -0.018012749, -0.00471961917, -0.00609152066, 0.0224112105, 0.00868521631, 0.00882485, 0.00140768231, 0.00496746926, -0.0203865208, -0.00704801129, 0.000314830366, -0.0160020236, -0.0166024473, -0.00625908095, -0.0172726903, 0.0124134365, -0.0106540518, -0.00534797087, -0.016770009, -0.00816857163, -0.00656976597, -0.00215734076, -0.0272844266, 0.00337739033, 0.0261673573, -0.00451715058, -0.0245615691, -0.0179568958, 0.0183897596, -0.0054247696, 0.000254395156, 0.0279546678, -0.00772872567, 0.00950905588, 0.00720509933, 0.00187981874, -0.0108425571, 0.0166722648, -0.0513572767, -0.0246593133, -0.0145498328, 0.00908317231, -0.00210148725, -0.0273263175, -0.0182920154, -0.0112474952, 0.0032412475, -0.0215594452, -0.0127345938, -0.0340985507, -0.0228859652, -0.0441242531, 0.0259439424, 0.00881786831, -0.00641965959, 0.0102142058, -0.0373380519, -0.0167141557, -0.00547713228, -0.0246174224, 0.0387623161, -0.0235003531, -0.00943923835, 0.00870616175, 0.000970454246, 0.0129231, -0.0129510267, -0.0173285436, -0.04080097, 0.00148011732, -0.0181523822, -0.00873408839, 0.00637078797, -0.00785439648, 0.0112335319, 0.001698295, -0.0237098038, 0.000687259657, -0.0120573705, 0.00676525338, 0.00150193507, 0.00113016029, 0.00204737927, 0.0172726903, 0.0186411, 0.0232490115, 0.0178451873, 0.0102072237, 0.0139494073, 0.00600424968, 0.00893655699, -0.000799403, -0.00140070065, -0.0100606084, -0.000561589317, 0.00985115767, 0.00607755734, -0.00573196355, 0.0128044114, 0.00987210311, -0.0106540518, -0.000197778063, -0.019339269, 0.0228021853, -0.0229278542, -0.0151502574, -0.00653485768, 0.00098179956, 0.0011528508, 0.0103049679, -0.00550156832, -0.0117571587, -0.0123575833, -0.00191996351, 0.0129789533, 0.00292009, 0.0223832838, -0.0285132024, 0.000806384662, 0.0044647879, -0.00274205697, 0.00184316491, -0.00237377314, -0.00838500448, 0.00736567797, -0.0145917227, -0.0143264187, 0.00429024547, -0.0210986529, 0.00637776963, 0.0246872399, 0.0228720009, 0.024645349, -0.00302132429, -0.0162533633, 0.0190181118, -0.0105632897, 0.0286528375, -0.0144101987, 0.0296861269, 0.0160020236, 0.00330059184, 0.000191887259, 0.0149268433, -0.0248129107, 0.0261254665, 0.017216837, -0.000911109964, 0.0182082355, 0.0105912164, -0.00747040333, 0.00632540695, 7.39622265e-05, 0.0211545061, -0.00211370527, 0.00341578969, -0.000401665078, 0.0252178479, 0.0283037517, -0.0140750781, -0.00185014668, 0.000466027501, 0.00625559, 0.0120224627, 0.0110729532, -0.00149146258, -0.0025797328, -0.0189064033, -0.00853162, 0.00769381737, -0.0293510053, 0.0118618831, -0.014689466, -0.00488718, 0.0217828583, 0.00926469639, -0.00693281367, 0.0138027919, 0.0301608816, -0.0317527056, -0.0143543454, 0.00570403691, 0.00565865589, 0.00558185764, -0.0135025792, 0.00934149511, 0.00828726, -0.00407032249, 0.0354390368, 0.00337739033, 0.00809177384, -0.0255390052, -0.0118409386, 0.00398654258, 0.00317317597, 0.0358020812, -0.0264745504, 0.0037037842, -0.0309986826, 0.0127276126, -0.0101862792, -0.0208054222, 0.0218526758, 0.0451016873, 0.000909364549, 0.00469169253, -0.0127136493, -0.00392021658, -0.0244777892, -0.000566825562, -0.00505124917, -0.0211824328, 0.00534797087, 0.00565865589, -0.0126159051, -0.0155831221, 0.00707593793, 0.0213081036, 0.0273542441, 0.00133437465, -0.0147872092, -0.0349642821, 0.0297978334, 0.120978646, 0.0315572172, -0.0218666382, 0.0252597369, 0.00180476566, 0.00774967065, -0.00667100027, -0.0435657166, 0.0104795098, -0.00853860099, 0.00966963451, -0.0153317815, 0.0169934221, -0.000888419454, 0.0190460384, 0.00129946624, -0.00774967065, -0.0268096719, -0.00446827849, -0.000443118857, 0.00281711016, -0.0122738034, -0.00945320167, 0.023584133, -0.0026460588, -0.00293405331, 0.0432585217, 0.00538637023, 0.0189482942, -0.0168537889, 0.000164833225, 0.0174402501, 0.0151083674, 0.0239192545, -0.0105144186, -0.0103119491, -0.00962774456, -0.0133070927, 0.0153876347, -0.00738662295, 0.0373380519, 0.0127485571, 0.00646853168, -0.0205401182, -0.00781948771, -0.0200653635, -0.0167001914, 0.00536193419, -0.00358858635, -0.0126019418, 0.0272146091, 0.00609850232, -0.0342661105, -0.00788232312, 0.0200932901, 0.0147034293, -0.0022830111, -0.006217191, -0.00064973312, -0.000760131, 0.0035711322, -0.0321995318, -0.00231966493, -0.00312604965, -0.000157960632, -0.0117152678, -0.0167281181, 0.0237098038, -0.0270610135, 0.0128113925, -0.0166303739, -0.00556789432, -0.0301608816, 0.00227952027, 0.0275357664, -0.00963472575, 0.00676176231, 0.0122528579, 0.0289321039, 0.000414319395, -0.00735171465, -0.0265862588, -0.00697121304, -0.0428954735, -0.00999079179, 0.0106400885, -0.0304960012, -0.0112125864, -0.0202748142, 0.0171470195, -0.00844085775, 0.00417155726, 0.0133420005, -0.00168433157, 0.0279267412, 0.0123994732, -0.0182920154, 0.0183897596, 0.0238215104, -0.0246174224, 0.0132023674, -0.006084539, -0.00619624602, -0.0289321039, -0.0165745206, -0.00698517635, -0.0125530707, -0.0173006169, -0.00848973, 0.00459045824, 0.015974097, 0.00300387014, 0.00820348, -0.00144346349, -0.0125809973, -0.0111567331, -0.00444733351, 0.0243660826, 0.00227602944, 0.000280140113, -0.00520833721, -0.0308031961, 0.031110391, 0.025399372, -0.0108076492, 0.00833613239, -0.0040005059, -0.0267119277, -0.0138865719, -0.00259369612, -0.00604963, 0.01906, -0.00774268899, -0.028317716, -0.0160578769, -0.0117222499, -0.0199815836, -0.00832216907, -0.0216851141, -0.0272146091, -0.00629049866, 0.00632540695, 0.00375614665, -0.019339269, 0.00477896351, -0.0262930281, -0.0229697451, -0.00445431517, -0.0273682065, 0.0420297459, -0.0148989167, -0.0111986231, -0.00413664849, -0.0153317815, -0.0126438327, -0.0312500224, -0.00818951707, -0.023807548, 0.0272565, 0.0117222499, 0.00489067053, -0.00275951112, 0.0167420823, 0.0304680746, 0.00258496893, 0.00869219843, 0.00382596371, 0.00798704848, 0.000685950567, 0.0173285436, 0.0145358695, -0.00751229329, 0.00836405903, -0.00795912091, -0.00438100751, 0.0260975398, -0.0338472091, -0.00263733161, -0.01628129, -0.0169375688, -0.00523277326, 0.0203585941, -0.0217549317, 0.0081336638, -0.0388181694, 0.0113661839, 0.042253159, 0.000796784821, 0.0157367196, 0.00189901842, 0.0420297459, -0.0202608518, 0.00475452794, 0.00684205163, -0.0108285937, -0.00800799299, -0.0128113925, -0.0355507433, 0.00696074031, 0.0121481325, 0.00697121304, 0.0144800153, -0.00844085775, -0.0222157221, 0.0185154304, 0.00776363397, 0.0181244556, 0.00576687232, 0.00422391947, -0.0132582206, -0.00297419797, -0.0126647772, -0.0178451873, -0.0172308, -0.00955792703, 0.0211265795, 0.00637427857, -0.000854383747, -0.0246593133, -0.00932753179, -0.000964345294, -0.0218806025, 0.043314375, -0.0119386818, 0.0332886763, -0.0180406757, 0.00324822916, -0.00236155512, -0.000304576039, -0.00219923095, -0.00373520167, 0.0139633706, 0.0413595028, -0.00800799299, 0.0130208433, -0.00209450559, -0.0154015981, -0.0312500224, -0.0138795907, 0.0275357664, 0.0117990486, 0.000237813656, -0.0145219052, -0.0182082355, -0.00476849126, 0.0199955478, -0.00706546567, 0.0148570267, 0.00642664125, -0.0224810261, -0.00172011275, 0.0024819891, 0.0059867953, 0.0153178181, -0.000457300397, -0.00936942175, -0.000498317822, 0.00632889802, -0.00446827849, 0.0187667701, -0.0120922793, -0.00175589393, -0.00617181, 0.0200374369, 0.0300771, -0.0100745717, -0.0219224915, -0.0103328945, 0.0204423741, 0.0343498923, -0.0111357886, 0.00377709186, 0.00637078797, -0.00942527503, -0.0126298685, -0.00104201655, 0.000664132822, 0.00179603859, -0.0116663966, -0.0092577152, 0.00506870355, -0.0168537889, 0.00168520433, 0.0216013342, 0.00644409563, -0.00122615846, 0.0164767783, -0.00364094903, 0.0182082355, -0.0218945649, -0.0405775569, -0.0403820686, 0.00802195631, -0.00391323445, -0.0189901851, -0.0202608518, -0.0043321359, 0.0126438327, -0.013760902, 0.00367585733, -0.00592396, -0.00467074756, -0.0285411291, 0.0140401693, -0.0112544773, 0.00325346529, 0.0442080311, -0.00142600923, -0.0270470493, -0.0157227553, 0.019073965, 0.0129859345, -0.00788930431, -0.00379803684, -0.00629049866, 0.0040668319, 0.0113801472, 0.00752625708, -0.0379524417, -0.0141798034, 0.0154993413, 0.0164069608, 0.0222296864, -0.00665703695, 0.0130278254, 0.0138656273, 0.00699215801, 0.00272460282, -0.0421693809, -0.0011196878, -0.00907619111, 0.0164907407, 0.0121481325, 0.000438755291, -0.00816159, -0.0162254367, -0.0258741267, 0.00216083159, 0.0226904768, -0.0167420823, 0.00142775464, 0.00117466855, 0.00936942175, 0.0137818474, -0.0131255686, -0.0196883529, -0.0271447934, -0.00766589073, -0.0241705943, -0.017035313, 0.00290787197, 0.0546805598, 0.013760902, -0.00888070371, -0.0188505501, 0.000659332902, -0.0378407352, -0.0194090847, 0.00111270614, 0.00715622772, 0.032702215, 0.000563334732, -0.0230674893, 0.0139284628, -0.0175240301, 0.0161137301, -0.0148151368, -0.00836405903, 0.015750682, -0.0128393192, 0.0224670637, 1.82041986e-05, -0.0192973781, -0.0212103594, -0.0109263379, -0.00449271454, -0.0141867846, 0.00496746926, 0.000260722329, 0.00876201503, 0.0238634013, 0.0151642207, 0.020972982, 0.0316130705, 0.0181104913, -0.0402982868, -0.0184176862, 0.00929960515, -0.00434959, -0.00890164915, 0.00242264476, -0.0280384477, -0.00579130789, 0.00776363397, 0.000789803162, 0.0152480006, -0.00612293789, 0.0358579345, 0.0340426974, -0.00789628644, 0.0153178181, 0.0452692471, 0.0114429826, -0.00920884311, -0.0112474952, 0.0111567331, -0.000163960518, 0.00276998361, 0.0150106233, -0.0362768359, 0.00363396737, -0.00514550228, 0.00766589073, -0.000923327869, 0.00886674, -0.00169393141, -0.000180105664, 0.0101932604, 0.00659769261, 0.0137888286, 0.0045625316, 0.0126857227, -0.0115267625, 0.0040039965, -0.0126508139, -0.0207356066, 0.0101513704, -0.0228580385, -0.00781250559, 0.00765890907, -0.0202468876, -0.00926469639, -0.00176025741, 0.00185538293, -0.00866427179, 0.0190181118, 0.220062718, 0.0103189312, -0.0183339063, 0.0242404118, -0.00257275114, -0.00443337, 0.0345733054, 0.0221040156, -0.00280489214, 0.0264047347, -0.00637078797, 0.0205401182, -0.0145358695, -0.00635333359, 0.0204423741, -0.00262860465, -0.0252597369, -0.0192694515, 0.00662212865, -0.00253435178, 0.00722604431, -0.0175938476, -0.00163545983, -0.0113452384, 0.0446827859, 0.0142566012, -0.00579828955, 0.00584716164, 0.0139144994, 0.00496746926, -0.00668147299, -0.016951533, 0.0353831798, -0.00863634516, -0.00329710101, 0.00085962, 0.00208926946, 0.0138237374, 0.0163371433, 0.00272634812, 0.0183478687, -0.00315746712, -0.0268375985, -0.0111567331, 0.0100745717, 0.0163511075, -0.020972982, -0.00887372252, -0.00280314661, -0.00411221292, -0.00702706631, -0.00955792703, 0.025399372, 0.0265583321, -0.00622068159, 0.00690837763, 0.0148570267, 0.00461140322, -0.00881786831, 0.0268375985, -0.000350175163, 0.0282339361, -0.0366957374, 0.0272146091, 0.0249246173, 0.00911808107, 0.0138656273, -0.00680365227, -0.00890863, -0.0170911662, 0.0100536272, -0.0238354746, -0.0225787703, 0.00862936303, -0.00171225832, -0.0291555189, 0.0474196076, -0.0140820593, 0.0162114743, 0.0436495, -0.000639696897, 0.00406334084, 0.0114360005, -0.0021835221, -0.0031417585, -0.0351597667, 0.00702357572, -0.00805686507, 0.00273507531, -0.0316968523, -0.00709339231, -0.00599028589, -0.00948112924, -0.00348909735, 0.0213779211, -0.00775665231, 0.00849671103, 0.013188404, -0.00632191636, -0.00934847631, -0.0238215104, 0.0181244556, 0.0284154601, 0.0132931294, -0.00957887247, -0.00553996721, 0.00719113601, 0.0069118687, -0.000762749114, -0.0355786681, 0.00164942315, -0.00190774549, -0.00582621666, -0.00256053312, 0.0249385796, 0.0138865719, 0.00236853678, -0.0319481939, 0.00913204439, -0.0145079419, -0.0244917516, -0.0231512692, 0.00730284303, 0.0120713338, 0.0101513704, -0.0276055839, -0.0250502881, 0.00200374378, 0.00399701484, -0.0335679427, 0.0252457745, -0.00773570733, 0.00599726755, -0.000735258742, -0.00839198567, -0.00821046159, 0.0112195686, -0.0242962651, 0.0288203973, -0.00513502955, -0.00436006254, -0.00948112924, 0.00754720205, 0.0256367493, 0.0205820091, -0.0440684, -0.00506172189, -0.01234362, 0.00640918734, 0.00198978023, -0.00860841852, -1.09497914e-05, -0.000875328784, -0.0248966906, 0.00626955368, -0.0124902353, -0.00904128235, -0.0243102293, -0.00143560907, -0.0023475918, -0.0163092166, 0.0240030345, 0.024910653, -0.00664307363, -0.0144381253, -0.0198419504, -0.180518463, 0.0323391668, 0.0306914896, -0.0309149027, 0.0519995913, -0.00133262924, 0.0255110785, -0.00441591581, -0.0215594452, 0.0144660519, 0.0211265795, 0.00976039656, -0.00809875503, -0.0178032983, -0.00890863, -0.00338786282, -0.0192973781, -0.00785439648, 0.0253295545, 0.0135025792, 0.031501364, -0.0156250112, 0.0128393192, 0.0146196494, -0.0133769093, 0.0284573492, -0.0101164626, -0.0138167553, 0.0222995039, -0.025971869, 0.0123226745, -0.000305230555, 0.0206937157, 0.00437402586, 0.0238913279, 0.0115267625, -0.0196185354, 0.0131744407, -0.0265164413, 0.017035313, 0.0293230787, 0.0146336127, 0.00691535929, -0.00178731151, -0.00845482107, -0.00059867953, -0.0128812091, 0.0111706965, -0.00384690869, -0.0290996656, 0.0123855099, -0.0360813513, 0.0103957299, 0.0160718393, 0.0237516928, 0.00593094155, 0.0211824328, 0.0372822, 0.00845482107, -0.0192973781, 0.0149408067, 0.0187248811, 0.0232909024, -0.000334902725, -0.0163790341, -0.0263349172, -0.00677572563, 0.0103678033, -0.0346012339, 0.0269213784, -0.00129859347, 0.00101932604, 0.00901335571, 0.0045625316, -0.000430464541, 0.0134187993, -0.00594490534, -0.0155551955, -0.00339484448, 0.00287470897, -0.0142566012, 0.00749833, -0.0100606084, -0.00303354231, -0.00235282793, 0.00449271454, -0.0025134068, 0.0166164115, -0.0189203676, -0.00445431517, 0.0012567034, -0.02858302, -0.0322833136, -0.00965567119, -0.00174280326, 0.0190460384, 0.00902033783, -0.000951254624, -0.0324788019, -0.0140820593, 0.0110659711, -0.0245336425, -0.00557487598, 0.0307473429, 0.0129859345, 0.0183478687, 0.0154295247, 0.0211824328, 0.0423090123, -0.0165884849, -0.0329814814, -0.00579828955, 0.0333445296, 0.0187388435, -0.00183792866, 0.0266840011, 0.0191018917, -0.00619624602, 0.00555742159, -0.0170492753, 0.0535634905, -0.00416457513, -0.0195766464, 0.0106680151, -0.00822442584, -0.0391253643, -0.126452282, -0.0101792971, 0.0104236566, 0.00230221078, 0.0031085955, 0.0156808663, -0.016546594, 0.0261673573, -0.0189622585, 0.0342102572, -0.00394116156, -0.0277033281, 0.0110101178, -0.0161276925, 0.0219643824, -0.00148273539, 0.00728887971, -0.00689441431, -0.0406054817, 0.0271168668, -0.0237098038, -0.00690488704, -0.00490114326, -0.00288867229, 0.00278220163, -0.00240868144, -0.0496816747, -0.00756814703, 0.000958236342, -0.00722604431, -0.0194230489, -0.00354320533, 0.0102002425, -0.03256258, 0.0308031961, -0.0230954159, -1.85451026e-05, -0.00325695635, 0.0142216934, -0.031501364, 0.0051908833, 0.0133420005, -0.00213115942, -0.0334283113, 0.00645805895, 0.0122179491, -0.0162952542, 0.0196604263, 0.00711433729, -0.00557138491, -0.0142775467, 0.0344336741, -0.0161835477, -0.0254691876, 0.0128253559, 0.00100187189, 0.00336691784, -0.0167839713, 0.000524935487, 0.00244533527, 0.0150106233, -0.00869219843, 0.00371774752, -0.014689466, 0.0139354439, 0.00363396737, -0.0249385796, 0.0231373049, -0.0105702719, 0.000541080604, -0.000832129619, 0.00419599283, -0.0191018917, 0.0306914896, -0.0179289673, -0.0215315185, -0.0259997956, -0.014158858, -0.00231791963, -0.00554345828, -0.0126228873, -0.0299374666, 0.0225089546, -0.0141448947, 0.014382272, 0.0100466451, 0.00547364121, -0.00857351, 0.0124134365, -0.0390136577, 0.00459394883, 0.020931093, 0.00987210311, -0.0473079, -0.00569356466, 0.00630795257, -0.0030108518, -0.000951254624, -0.00373520167, 0.0112684406, -0.0136422133, -0.0186550636, -0.051943738, 0.0259160157, -0.013453708, -0.0069118687, -0.00589603325, 0.00703055738, -0.00679318, 0.00166862283, -0.0106889606, -0.00705848401, -0.0327580683, 0.0267817453, -0.012210968, -0.00577385398, -0.0120154805, -0.0110450266, -0.0156808663, -0.00662561925, 0.00491510658, 0.0234584622, 0.00234235544, -0.00705848401, 0.041191943, -0.0188784767, -0.0249385796, -0.0204563383, -0.028848324, 0.0223832838, 0.0127136493, -0.0320040472, 0.0135374879, -0.0264326613, 0.0142845288, 0.0127695026, 0.000131779307, -0.0305797812, -0.00647900393, 0.0399631672, 0.00819649827, 0.0303005148, -0.0114988359, -0.0265304036, 0.00364094903, -0.0087271072, -0.00448224181, 0.0148011735, -0.0171749461, -0.0122179491, 0.00933451299, 0.00983719435, 0.00628700759, 0.019339269, -0.0174542144, -0.020135181, -0.0138027919, -0.00596235925, 0.0168956779, -0.0115197813, -0.00298292516, 0.00111794239, 0.0241845585, -0.0109542646, -0.00071256829, -0.0177195184, 0.025441261, -0.0224670637, -0.0149966599, -0.00617530057, 0.00515248394, 0.000348429749, -0.00792421307, -0.0260556508, 0.0102630779, 0.0100536272, 0.00874805171, -0.00155953399, -0.0106610339, -0.00804988295, -0.0132931294, 0.0527256876, -0.00186236459, 0.0221877955, -0.0108146304, 0.0140471514, 0.0128044114, 0.0223274305, -0.0133350194, -0.0164907407, 0.00940433051, 0.00461489428, 0.0192554891, 0.000390756206, -0.0210428, -0.00897146575, 0.00914600771, -0.00947414711, -0.0043984619, 0.00812668167, -0.00895750243, 0.0186550636, 0.00741455, -0.000621806365, 0.00921582431, -0.0250223596, -0.0240588877, 0.00992097519, -0.00626606261, -0.0334841646, -0.0115616713, 0.000857001869, -0.0194789022, 0.0139005352, 0.0107029239, 0.00378756435, -0.0242962651, 0.00455904054, 0.00352400565, -0.00816159, -0.0257344916, 0.0342102572, 0.0025797328, 0.0112614585, 0.0292951521, -0.0123855099, 0.0137329753, 0.0321157537, 0.0233886465, -0.0129859345, 0.000208032405, -0.0133140739, 0.0243102293, 0.00348735182, 0.0149687333, 0.00343324384, -0.0107867038, -0.0315292925, 0.000509226695, 0.0142984921, -0.00947414711, 0.0522509329, 0.0134816347, -0.00762400031, -0.00411221292, -0.0254272986, 0.018403722, 0.025706565, -0.0172587261, -0.0224112105, -0.00898542907, 0.0410802364, 0.0032412475, 0.0150944041, -0.0226904768, -0.0354669616, 0.0205401182, -0.00786836, 0.0114429826, 0.00159269699, 0.00301608816, 0.034685012, 0.0074075684, 0.0145079419, 0.00700612133, -0.017216837, -0.0309149027, 0.0199536569, 0.000833002327, -0.0236679129, -0.0136422133, 0.0305518545, 0.00909713563, -0.0403820686, -0.0218247492, 0.00168694975, 0.00218526763, 0.00347687933, -0.00848274771, 0.0125600519, 0.0144381253, -0.0029427805, 0.0232210848, -0.0163371433, -0.017747445, -0.00491161551, 0.00550855, -0.00106034346, 0.00737265963, -0.0366398841], metadata={'document_title': '\"Architectural Ambitions: Exploring Beauty, Function, and Innovation in New York and Chicago\"', 'questions_this_excerpt_can_answer': '1. How did the individual in the excerpt navigate the challenge of maintaining a startup mentality within a large organization, and what strategies did they employ to encourage innovation and disrupt the status quo?\\n2. What was the inspiration behind the creation of the fashion brand discussed in the excerpt, and how did the founders identify a gap in the market for self-purchasing females in the fine jewelry industry?\\n3. How did the fashion brand discussed in the excerpt differentiate itself in the market by offering products tailored towards the self-purchasing multi-dimensional woman, and what strategies were implemented to make dressing for work aspirational for customers?', 'start_timestamp': 3562.4488659793815, 'end_timestamp': 3874.713333333333}, excluded_embed_metadata_keys=[], excluded_llm_metadata_keys=[], relationships={}, text=\"And to still be a big organization act like a startup is the big challenge. It's super difficult to deconstruct that as well once it's in place, right? It's it's circumventing layers and asking questions, probing questions of people on the ground level is a huge challenge to the authority of the hierarchy. And there's tremendous amount of resistance to it. So it's how do you grow something in the case of a company in terms of a culture that can scale but doesn't lose its connection to to sort of real and meaningful feedback. It's it's not not easy. I've had a lot of conversations with Jim Keller who is this legendary engineer and leader and he he has talked about like you often have to kind of be a little bit of an asshole in the room, not in a mean way, but it's like it's uncomfortable. Yeah. Like a lot of these questions that are uncomfortable, they break the kind of general politeness and civility that people have in communication. When you get a meeting, like nobody wants to be like, uh, can we do it way different? Everyone wants just just like this lunch is coming up, you know, I have I have this trip planned on the weekend with the family. Everyone just wants comfort. The humans get together, they kind of gravitate towards comfort. Nobody wants that one person that comes in and says, Hey, can we like do this way better and do this way different and everything we've gotten comfortable with throw it out. Not only do they not want that, but the one person who comes in and does that puts a massive target on their back. Yeah. And as ultimately seen as as a threat, I mean, nobody really gets fired for maintaining the status quo. Right. Even if things go poorly, it's the way it was always done. Yeah, humans are fascinating. But in order to actually do great big projects, yeah, to reach for the stars, you have to have those people, you have to constantly disrupt and have those uncomfortable conversations. And really have that first principles type of orientation, especially in those large bureaucratic contexts. So amongst many other things, you created a fashion brand. What was that about? What was the origin of that? I always loved fashion as a form of self-expression, as a means to communicate either a truth or an illusion, depending on what kind of mood you're in, but this like sort of second body, if you will. So I loved fashion and look, I mean, my mother was a big part of the reason I did, but I never thought I would go into fashion. In fact, I was graduating from Warden. It was the day of my graduation. And Winter calls me up and offered me a job at Vogue, which is a dream in so many ways, but I was so focused. I wanted to go into real estate, and I wanted to build buildings. And I told her that. So I really thought that that was going to be the path I was taking. And then very organically fashion, you know, it was part of my life, but it came into my life in a more professional capacity by talking with my first of many different partners that I had in the fashion space about. He actually had shown me a building to buy his family had some real estate holdings. And I passed on on the real estate deal, but we forged a friendship. And we started talking about how in the space that he was in fine jewelry, there was this lack of product and brands that were positioned for self purchasing females. So everything was about, you know, the man buying the Christmas gift, the man buying the engagement ring, the stores felt like that. They were all tailored towards the male aesthetic, the marketing felt like that. And I was like, I'm not sure if I was going to be able to buy this or had just received a great bonus. And I was going to use it to treat herself. So we thought there was a void in the marketplace. And that was the first category I launched Ivanka Trump fine jewelry. And we just caught lightning in a bottle. It was really quickly after that. I met my partner who had founded nine west shoes, really capable partner. And we launched a shoe collection, which took off and did enormously well. And then a clothing collection and handbags and sunglasses and fragrance. So so we caught a moment and and we found a positioning for this for the self purchasing multi-dimensional woman. And we made dressing for work aspirational. At the time we launched, if you wanted to buy something for an office context, like the brands that existed were the opposite of exciting.\", mimetype='text/plain', start_char_idx=None, end_char_idx=None, text_template='[Excerpt from document]\\n{metadata_str}\\nExcerpt:\\n-----\\n{content}\\n-----\\n', metadata_template='{key}: {value}', metadata_seperator='\\n'), TextNode(id_='04cb7715-e844-4218-93fc-cf4c7c365849', embedding=[-0.00934874639, -0.0170469172, 0.0104040317, -0.0153151676, -0.00771170063, 0.00696758926, -0.00972080138, -0.00729229255, -0.0334714875, -0.0253403783, 0.0364208743, -0.00829346105, -0.00329776667, 0.011790785, -0.00868581049, 0.0105325598, 0.0298456345, -0.0115134344, -0.000200191353, -0.034202069, -0.0434290506, -0.0163028054, 0.00602392061, 0.0185080823, -0.0251509678, 0.0104040317, 0.0260574315, -0.021038061, -0.012413132, -0.0290879942, -0.00307791564, 0.00928786397, -0.0252186153, -0.0115540223, -0.0103093265, -0.0165057462, -0.0188869014, -0.0293315221, 0.0217280556, 0.000335484365, 0.0178045575, 0.0105190305, -0.0211462956, -0.00380849792, -0.0070825885, 0.00509378128, -0.00206321827, -0.0154910479, -0.0108978506, 0.014706349, 0.0203345381, 0.0257192, -0.034445595, -0.0182645544, -0.029033877, -0.00737346848, -0.000888705894, 0.0166004505, 0.00779287657, 0.000157595205, 0.020537477, 0.00437672855, 0.00703523587, 0.00802287459, -0.0178992637, -0.0130895972, -0.01949572, 0.0221339334, -0.00290034362, 0.0182104371, 0.0438078716, 0.0344997123, 0.000596134749, 0.00650082855, 0.0200504214, -0.00999138784, -0.0137728266, -0.0131707732, -0.00781993475, 0.00381188025, -0.0207945332, -0.0144357625, -0.0065989159, 0.0190357249, -0.0166410394, 0.0196310133, -0.018954549, 0.0210921783, -0.0148416413, -0.0102281505, -0.00957874395, 0.00790787581, -0.00351423561, 0.0193198398, -0.00759670185, 0.00614906661, -0.00743435, -0.00438011065, 0.0320373811, 0.000446889666, -0.0030221073, 0.0182374958, -0.0287091732, -0.0140704717, -0.0216739383, -0.0214168821, -0.0171145648, -0.0198204238, 0.0133060664, -0.00961256772, -0.0116960797, 0.0135157704, -0.00168355217, -0.0272074211, -0.0217415839, -0.0493007675, -0.00517157465, -0.029575048, -0.03282208, -0.019076312, 0.0220933463, 0.0196174849, 0.0137592973, -0.0144492919, 0.00546245463, -0.003696881, -0.0186433755, -0.0104649132, -0.00116013747, -0.0230133384, -0.00202770368, 0.00696758926, 0.0151392864, -0.00922698248, 0.00407570135, 6.01419633e-05, -0.0348785333, 0.00326056127, -0.0122981332, -0.0177910291, 0.0113916704, 0.0146387024, -0.0104040317, 0.00189917546, -0.0127851879, 0.0156804584, 0.0151257571, 0.0208215918, 0.0314691514, 0.0187380798, 0.0236627441, 0.00882786792, -0.00883463304, 0.012081665, -0.00952462666, 0.0249344986, 0.00740052667, 0.00874669198, -0.0192521941, 0.00500245858, 0.0018924108, 0.00499569392, 0.00619303668, 0.00175880897, 0.0289256424, 0.0309279785, 0.00854375307, -0.0010383738, 0.00486378325, -0.0105934413, 0.00271093333, 0.000720012409, -0.0291150529, 0.00680523785, 0.00948403869, 0.0142328236, 0.0117299026, 0.000221753682, -0.0223774612, -0.0304409247, -0.00612200797, -0.00277350633, 0.0359338187, 0.0151528157, -0.00574995251, -0.0188869014, 0.00584127521, -0.00229659863, -0.0156263411, -0.00337894261, 0.0069608246, 0.0299809277, -0.0364749916, -0.0097816838, -0.635119438, -0.0120613705, 0.00854375307, 0.00395055534, 0.00374423363, 0.0292232875, 0.00626068329, 0.0194416028, -0.00105528533, 0.00746140862, -0.0249480288, 0.0136307692, -0.000709865417, -0.0118246078, -0.0143545866, -0.0309279785, 0.00856404658, -0.0124266613, 0.000769056147, -0.00134531967, -0.0100184465, 0.00606112601, 0.0162757467, -0.0160322208, 0.00405879, 0.00903080776, 0.00805669837, -0.0223639328, 0.00552671868, 0.0114457877, -0.012791953, 0.0302515142, -0.0122372517, -0.000104270737, 0.0583924577, -0.00661244523, 0.003363722, 0.0372596905, 0.0095516853, 0.0227833409, -0.0229186341, -0.021241, -0.00865198672, 0.0332009, 0.0133195957, 0.00856404658, -0.0112360837, 0.00968697853, 0.0089428667, 0.000601631065, -0.003176003, 0.0200639516, -0.00607465534, 0.0180074982, 0.00171652983, -0.031036213, 0.00408246601, -0.0212951172, -0.00194652798, -0.01428694, 0.0151392864, 0.0146387024, -0.0144222332, -0.0112969652, -0.000213720661, 0.039153792, -0.0319832638, 0.0137322387, -0.0133534186, -0.00608818466, -0.000462532917, 0.0339314826, -0.00971403718, -0.00754258456, 0.00904433709, 0.00761023117, 0.0435372852, 0.0168439783, -0.00349394162, 0.00793493446, -0.00198542466, -0.0208351221, -0.031956207, -0.00987638906, 0.00594612723, -0.0350408852, -0.0482184254, 0.00540833734, -0.012203428, -0.0308468025, -0.00949756801, 0.0116284331, -0.0233921595, -0.0404255465, -0.015288109, 0.00769817131, 0.00456275651, 0.0109113799, 0.0187786687, -0.000792309584, 0.00560113, -0.0158428103, -0.00917962939, -0.00490098866, 0.0097343307, 0.0207133573, -0.00173851498, 0.0272750687, 0.0272750687, -0.0207539462, -0.00542524923, -0.00082528725, 1.89430011e-06, -0.00143156899, -0.00143917929, -0.00953815598, 0.00182307314, 0.00464393198, 0.0128393052, -0.0228780452, 0.0187651385, 0.00759670185, -0.0226074588, -0.0200910103, -0.00338570727, 0.0279244743, 0.0136307692, -0.0236086287, 0.0118381372, -0.000573304074, -0.00963962637, 0.003436442, 0.0145439971, -0.0233786292, 0.0246097967, 0.0158698689, -0.00314218, -0.00912551302, 0.00712994067, -0.0289256424, -0.00685259048, 0.00103076349, 0.0297644585, 0.0143545866, -0.00963962637, -0.0148551706, -0.00521892728, -0.010248444, -0.0422114134, -0.0283032954, -0.0247180313, -0.0116825504, -0.0144898798, 0.0204968881, 0.000322377833, -0.0102552092, -0.00349394162, 0.000425538747, -0.000432937581, 0.00976815447, -0.020415714, 0.0526560359, -0.038287919, 0.00294769625, 0.02857388, 0.00816493202, -0.00533730863, -0.0234192181, 0.0127987172, -0.0352844149, 0.017290445, -0.0190221947, -0.00574657, 0.00923374668, 0.0165598635, -0.00617612526, -0.00248431764, -0.00834757742, -0.0168575067, 0.0121087227, 0.0088075744, 0.0111549078, -0.0141516477, -0.00538804336, 0.0349867679, 0.00349055929, 0.0111075547, 0.0191033706, 0.00195498369, 0.0151257571, -0.0161133967, 0.0201992448, 0.00457290327, 0.00556054199, -0.012704012, -0.000323646207, 0.00996432919, 0.00694729527, -0.0245827381, 0.024244504, 0.0163163356, -0.0220798161, 0.00633171201, -0.0190898422, 0.00774552394, -0.0212139413, 0.00176050013, -0.0156398695, 0.00994403567, -0.0040080552, -0.0095516853, -0.0141516477, -0.00188902847, -0.00636215322, -0.00318107661, 0.0026162283, -0.0204021838, 0.02358157, -0.0243527386, 0.00273968326, 0.00335019291, 0.00904433709, 0.00878728, 0.00398437865, -0.00826640241, 0.00379496859, 0.00191439595, -0.0172227975, 0.0159375146, -0.036989104, 0.00540495524, 0.0220257, 0.00476569589, 0.00600362662, -0.0170063302, 0.00365291093, 0.012331957, -0.00997109339, 0.0258815493, -0.0202804208, 0.024244504, 0.000742843084, 0.00731258653, 0.00996432919, 0.00121340901, -0.0337691307, 0.038531445, 0.0269233063, -0.0062945066, 0.0167763308, -0.00464055, 0.0109384386, 0.00850992929, -0.00124554115, 0.0294397566, -0.0125754839, 0.0123522505, 0.025286261, 0.0349055938, 0.0356902927, -0.0095516853, 0.0138472384, 0.0164516289, 0.00288512325, 0.0149228172, 0.0136578279, -0.0105731478, -0.0171416234, -0.018873373, -0.0185216106, -0.00887522, -0.0131504796, 0.022742752, -0.0136578279, 0.00170130946, 0.0164922159, 0.00944345072, 0.000992712332, 0.0106813824, 0.01641104, -0.00247078831, -0.0158833973, 0.02857388, 0.00728552788, -0.00837463606, -0.0157345757, 0.015328696, 8.32897495e-05, -0.00904433709, 0.00335188396, -0.0271938927, 0.012704012, -0.0122440159, -0.0058074519, -0.000175880894, 0.0160186905, 0.0150445811, -0.00661921, 0.0135698877, -0.0368808694, 0.026368605, -0.00888874941, -0.0227562822, 0.0158833973, 0.0274103619, 0.00325548765, -0.00707582384, -0.0176963247, -0.0108234398, -0.0248668529, 0.00790111069, -0.00788758136, -0.00617950782, 0.00353114726, -0.00102399883, -0.00287835859, -0.000651097565, 0.00958550908, 0.0191980768, 0.0366644, -0.00902404264, -0.032957375, -0.0297374, 0.017412208, 0.142003521, 0.0389643833, -0.0303326901, 0.0202804208, -0.0173039734, -0.00213593827, -0.00870610401, -0.0459184423, 0.0141381184, -0.00645009382, 0.0151528157, -0.017412208, 0.00607465534, -0.011750197, 0.0217145253, 0.00379158626, 0.0161404535, -0.0245015621, 0.00821904931, 0.00530686788, 0.0124875437, -0.00869934, -0.00251983199, 0.0209974721, -0.00165649364, 0.0118110785, 0.0190221947, 0.0122643104, 0.0131504796, -0.0264227223, -0.00255872868, 0.0116081387, 0.0198339541, 0.013495476, -0.0273021273, -0.0184810236, 0.0074817026, -0.00212240894, 0.0255027302, -0.0158428103, 0.0322267935, 0.0161539838, 0.0178316161, -0.0444302186, -0.00922698248, -0.0132248905, 0.00172836799, 0.00478599, 0.00441055186, -0.0123996027, 0.016911624, 0.0192521941, -0.0161810424, -0.0253944956, 0.00242681801, 0.0113849053, 0.0005999399, -0.015206933, 0.0219851118, 0.0222556982, -0.00612539053, -0.0339314826, -0.0219174661, -0.0163028054, -0.002572258, -0.0249074399, -0.0223639328, 0.0066902386, -0.0123657798, 0.00450525666, -0.00503966399, -0.00109164533, -0.0315503255, 0.00384908565, 0.0319832638, -0.00251814094, 0.0208486505, 0.00291049061, 0.0225668717, -0.0031472533, -0.00756287854, -0.0375573374, -0.0255162586, -0.0292774048, -0.0146387024, 0.010167269, -0.0255433172, -0.00114068913, -0.0184674934, 0.0112157892, -0.0264633093, 0.0119260773, -0.000571190089, -0.0066530332, 0.0279785916, 0.00771846529, -0.0141516477, 0.00854375307, 0.000426172948, -0.01216284, 0.00546921929, -0.0217009969, -0.0131572438, -0.0208757091, -0.00211733533, 0.00538127869, -0.00275321258, -0.00744111463, -0.0017258313, -0.0171280932, 0.0250968505, -0.021038061, -0.0228915755, -0.0145575264, -0.00527642667, 0.021538645, 0.00145186298, 0.0222692266, 0.0160998665, 0.00534069119, -0.0129475398, -0.0244474448, 0.035987936, 0.0348785333, -0.0165328048, -0.0123522505, 0.0112360837, -0.0161945708, -0.0072652339, -0.0005504734, 0.0111007905, -0.00107135146, 0.0129610691, -0.0186974928, -0.0141516477, -0.0197527781, -0.0164651573, 0.0109790266, -0.00780640589, -0.00723817525, 0.00488069467, -0.000930984912, -0.0134616531, -0.0398573168, 0.0207810048, -0.0385585055, -0.0123928385, 0.0189004317, 0.00187380798, 0.0508160479, 0.00750876125, -0.0158157516, -0.0167628024, -0.00742758531, 0.000588524505, -0.0163975116, 0.00363261695, -0.00291049061, 0.0237168614, 0.0112157892, 0.0139216492, 0.00152204616, 0.00136561366, 0.0116351973, 0.0298185758, 0.0112428479, 0.0192521941, 0.00637568254, -0.0120072532, 0.0172363278, 0.00439702254, 0.0092946291, -0.00316923833, -0.0124604851, -0.0100252107, 0.0156398695, -0.0365832262, -0.0171010345, -0.0178992637, -0.0320373811, -0.0140975304, 0.0156804584, -0.0271127168, 0.00448834524, -0.0418055356, 0.011209025, 0.0251374394, -0.0197933652, 0.0278974157, -0.00584127521, 0.0158698689, -0.0288715251, 0.0219580531, 0.00405202527, -0.016911624, -0.000410529698, -0.0370432213, -0.0366914608, 0.014327528, 0.0144492919, 0.0297374, 0.0253403783, -0.000506503158, -0.00905786641, -0.000881941232, 0.0140298838, -0.000453231536, -0.00222895201, 0.0197392479, -0.0210651197, -0.0128866583, -0.0197663065, -0.0013174155, -0.0119396066, 0.00138167967, -0.00503966399, -0.00636891788, 0.0145304678, -0.00636553532, -0.0191304293, -0.011330788, -0.0201586559, 0.0347973593, 0.000147236831, 0.0376655683, -0.000976646319, 0.00411290722, 0.00382202724, -0.0109722624, 0.0213086475, 0.011080496, 0.0195363089, 0.029033877, -0.00209873263, 0.00424143532, 0.00618627202, -0.00573980529, -0.024082154, -0.0155451652, 0.0148687, -0.00442746328, -0.0160322208, 0.0032199733, -0.0206998289, 0.00509378128, 0.00757640786, -0.00666318, 0.013624005, 0.00888874941, -0.0357714668, -0.0117704906, 0.0102146212, -0.0108504985, 0.00529333856, 0.0134887118, -0.00560789462, 4.43599856e-06, -0.0169251543, -0.016789861, 0.0207945332, -0.00585818663, -0.000560620334, -0.0240415651, 0.0201315973, 0.00906463061, 0.00492466521, -0.0237980373, -0.0246368553, -1.89463044e-05, 0.0297103412, -0.0027515213, 0.0152339917, 0.00283269701, 0.00504304655, 0.00611862587, -0.010207857, 0.000190678562, 0.00119396066, -0.0196039546, -0.0127310706, 0.0051986333, -0.0240956824, -0.0250833221, 0.00274983025, -0.00320475292, 0.00561127719, 0.0227156933, -0.00763729, 0.0130625386, -0.012994892, -0.0297644585, -0.0172092691, -0.000892088166, -0.0231486317, 0.0018484405, -0.0254621413, -0.000832051912, 0.00511407526, -0.00274983025, 0.0182916131, -0.0148957586, 0.0112563772, -0.0321726762, 0.0101605039, -0.0236221571, 0.000299547159, 0.0297103412, -0.00267711026, -0.034445595, -0.00627421262, 0.0291691702, 0.0275456533, -0.0125687197, -0.000792309584, 0.00664288597, 0.0161675122, 0.0082731666, 0.00684244325, -0.0232703947, 0.000292148325, 0.0189274903, -0.00103414583, 0.00820552, -0.0127648944, 0.00516481, 0.0101063866, 0.022242168, 0.016911624, -0.0528454445, 0.00605774391, 0.00255027297, 0.0187786687, -0.00680523785, -0.00354805891, -0.0227833409, -0.012994892, -0.0236492157, 0.0212951172, 0.0112022599, -0.0221068747, 0.0088075744, 0.00388967362, 0.0032825463, 0.020415714, -0.0251103807, -0.0127310706, -0.0416702442, -0.0166004505, -0.0407773107, -0.0147198783, -0.00587848062, 0.0317126773, 0.0180210266, -0.00100962399, -0.0143681159, 0.00278196228, -0.027951533, -0.0148822293, -0.0117772557, 0.00273630093, 0.0387479141, -0.0101943277, -0.0110940253, 0.0315503255, -0.00962609705, 0.0205104183, -0.0223639328, -0.0148687, 0.0129678333, -0.0177369118, 0.025665082, 0.0209704135, -0.0372326337, -0.0125010731, 0.00574318785, -0.000564848247, -0.00223064329, 0.0144357625, -0.0188057274, 0.00839493051, 0.00507687, 0.00650759321, 0.00821228512, 0.0243527386, 0.0155722238, -0.019955717, -0.0263821334, 0.0205104183, -0.0212139413, -0.0187516101, -0.00566877658, -0.0211327653, -0.0255433172, 0.00914580654, -0.00692023663, -0.00229152502, 0.0101199159, 0.00968021341, 0.0401279032, 0.00334681058, -0.0151392864, 0.0312526822, 0.00870610401, -0.0199692454, -0.0107625574, 0.00152881083, 0.0129204812, -0.0196986608, 0.010079328, -0.0456208, 0.00621671323, -0.0156669281, 0.0158969276, -0.0161269251, 0.00271262461, -0.00186704332, 0.0161133967, -0.00245556794, 0.00936904, 0.00334004592, 0.00781317055, 0.0105596185, -0.00738699781, -0.00504981121, -0.00798228662, -0.0406149589, -0.00225093728, -0.00611186121, 0.00538466126, 0.0131031265, -0.00302379834, 0.00113477, 0.0078267, 0.0153557546, -0.0118584307, 0.0126363654, 0.22729224, 0.00567892333, -0.0138201797, 0.0189680774, -0.00613215519, 0.0116690211, 0.0420490615, 0.0200910103, -0.00967344921, 0.0131437145, -0.0116351973, 0.0243392102, -0.013745768, -0.00317262067, 0.0234327465, 0.000131065084, -0.021998642, -0.0325244367, -0.00492128264, -0.0060780379, 0.0163839813, -0.017493384, 0.0105257947, -0.0145439971, 0.0314420909, 0.016911624, -0.0108369691, 0.00800258107, 0.00805669837, 0.0155316358, -0.012954304, -0.000225981581, 0.0245692078, 0.0141516477, -0.00662597455, -0.00562480651, -0.00325548765, 0.0038287919, 0.0143139986, -0.000837548228, -0.00191777817, -0.00438349321, -0.0217145253, -0.00434290525, -0.00643318193, 0.0207945332, -0.0060780379, -0.00692023663, -0.0024877, 0.00213762932, -0.0170198586, -0.010830204, 0.0235950984, 0.00682891393, 0.00114914484, 0.0175204426, 0.0250021461, -0.00181123498, -0.00859787, 0.0260168426, -0.00583789265, 0.0369620472, -0.030035045, 0.026409192, 0.0132519491, 0.00152120064, 0.00865198672, -0.00135293, -0.0051039285, -0.020415714, -0.0014264955, -0.0276133, -0.0390185, -0.0121019585, -0.0115675507, -0.0213898234, 0.0290879942, -0.004623638, 0.0245286208, 0.0199827757, 0.0153016383, 0.0215521734, 0.0106340293, -0.0160863381, -0.00493819453, -0.0398573168, 0.0251103807, -0.0044443747, 0.00658538658, -0.0144628212, -0.0112022599, -0.00430569937, -0.0102822678, -0.00846257713, 0.011540493, -0.014124589, -0.00428202329, 0.00691347197, -0.00522569194, -0.00729229255, -0.0301162209, 0.0472443141, 0.0350138284, 0.020456301, -0.00310666533, -0.00951786246, 0.0309550371, 0.00957874395, 0.0040993779, -0.0341750123, -0.00280902092, -0.000312865042, -0.00668009184, 0.00169200799, 0.027951533, -0.00139436347, -0.0156939868, -0.0544419028, 0.014205765, -0.00637906464, -0.0159916319, -0.022742752, 0.00384570332, 0.0121425465, 0.00576009927, -0.0242850929, -0.0384502709, 0.0102552092, 0.00997785851, -0.0344726555, 0.0177369118, -0.00699464791, 0.00529333856, 0.0021241, -0.00518510398, -0.031117389, 0.0209027678, -0.0153151676, 0.026368605, 0.0131301852, -0.00300181331, -0.00709611783, 0.0111752013, 0.018453965, 0.000187507641, -0.0162081011, 0.0186569039, -0.0085031651, -0.00985609461, 0.00698788324, -0.0269368347, 0.0113443173, 0.0172363278, -0.0383961536, 0.0250292048, -0.00751552591, -0.0220662877, -0.0320644416, -0.00413996587, 0.0238927435, -0.00460672658, 0.0230268687, 0.0193739571, -0.0253133196, -0.0108843213, -0.0298726931, -0.172633857, 0.0265986025, 0.0158157516, -0.0263415463, 0.0463243201, 0.00703523587, 0.0219039358, -0.0252727307, -0.0268962476, 0.0126025425, 0.0189816076, 0.0124807786, -0.0246097967, 0.0185757279, -0.0203751251, -0.00393026136, -0.0206727702, 0.00107642484, 0.0449713916, 0.011209025, 0.0103634438, -0.0057702465, 0.0175610315, 0.0173445623, 0.00162943499, 0.02432568, -0.00451202132, -0.0241903868, 0.00619303668, -0.0137998853, 0.0100725638, 0.00558760064, 0.019576896, 0.0118651958, 0.0222151093, 0.0139216492, -0.00737346848, 0.0028242413, -0.015369284, 0.0252050851, 0.0295209326, 0.014165177, 0.00932168774, 0.0104784425, -0.0168304481, -0.000842621666, -0.00649068132, 0.00123285747, -0.0143545866, -0.013082833, 0.0361502878, -0.0392890871, 0.00142734114, -0.00374761596, 0.0184269063, 0.00828669593, 0.0189004317, 0.0103566786, 0.0116893146, -0.00578715792, 0.00330284028, 0.0144763505, 0.0174663253, 0.0146792904, -0.00255703763, -0.0194416028, 0.00652450463, 0.024203917, -0.036989104, 0.024704501, -0.00201417459, -0.0254486129, 0.00269571296, -0.00400467264, -0.00419070059, 0.00210380601, -0.000166579499, -0.00719082262, -0.00520539796, 0.0150039932, -0.00170130946, 0.0222692266, -0.0201857146, -0.00801611, 0.00166072149, 0.0147334076, -0.00196343963, -0.000553010148, -0.00630127126, -0.019955717, 0.0168845654, -0.0350950025, -0.0291691702, -0.0226886347, 0.0101469746, 0.0104919719, 0.025408024, 0.0204698294, -0.0292232875, -0.0229592212, 0.00870610401, -0.0233786292, -0.013333125, 0.0275050662, 0.0058953925, 0.0178451464, 0.0181563199, 0.0188463144, 0.0304679833, -0.0230945144, -0.0188327841, 0.0217957012, 0.0189680774, 0.00658200448, 0.0101875626, 0.0332009, 0.0128460703, -0.00907816, -0.00482996, -0.00197020429, 0.0440243408, -0.00390320295, -0.0135901812, -0.00307453331, -0.0151528157, -0.0184269063, -0.12014018, -0.0302244555, 0.0172769148, -0.00838816538, 0.00470143184, 0.0186839625, -0.00938256923, 0.011411964, -0.00672744401, 0.0240686238, -0.0130151864, -0.00866551604, 0.0097343307, -0.0152610503, 0.0226480477, -0.00130304066, -0.000588101742, -0.0177369118, -0.0325514935, 0.0351761803, -0.0161269251, -0.0100522693, 0.0206998289, -0.0140704717, -0.00365629327, -0.008455812, -0.026409192, 0.00166072149, 0.00787405204, 0.00200233632, -0.0102755027, -0.00479613664, 0.00375776296, -0.0242580343, 0.0116554918, 0.00168101548, -0.0115201985, -0.0236356873, 0.0192116052, -0.0305762179, -0.00126668066, 0.013333125, -0.00238792133, -0.0451066867, -0.00350070628, 0.0115066692, 0.000818522647, 0.0104243252, 0.0144763505, 0.0039234967, -0.0165463332, 0.0189680774, -0.00718405796, 0.00255534635, 0.0099508, 0.0109181451, 0.0104310904, 0.0215115864, 0.00202939496, -0.00870610401, 0.0257056691, -0.0168845654, -0.00587848062, -0.0105325598, 0.0288715251, -0.0103093265, -0.0159239862, 0.00269571296, -0.011621668, -0.0150310518, -0.0202263035, -0.0100455051, -0.0208621807, 0.0327679627, -0.00980874244, -0.0160998665, -0.0275321249, -0.0166816264, 0.0126025425, -0.00526628, -0.0240956824, -0.0198610127, 0.0332009, 0.0204698294, 0.0281680021, 0.00425158255, -0.00367996958, -0.00738699781, 0.00848287065, -0.011790785, 0.0130693037, 0.0376926288, 0.011790785, -0.0352573544, 0.0024623326, 0.0115675507, 0.00121425465, -0.00488745933, 0.0149228172, 0.0069608246, -0.0312256236, -0.0209027678, -0.0495984107, 0.0320103243, -0.0291962288, -0.0158969276, -0.000566116651, -0.00347364764, 0.00213424698, -0.00673082657, 0.00657524, 0.014746937, -0.0209298264, 0.0322267935, 0.00359879364, 9.07942813e-05, -0.00417378871, 0.00357849966, -0.0156534, -0.00689994264, 0.000484095246, 0.0138472384, -0.00725846924, -0.0185622, 0.0323350243, -0.0171010345, -0.0097816838, 0.00871963333, -0.0254621413, 0.00502951723, 0.00592583325, -0.0146928197, 0.00914580654, -0.00405540736, 0.0216468796, 0.0111278491, 0.0099508, -0.0159916319, 0.00554024801, 0.0308197439, 0.0190221947, 0.0498960577, -0.0183998477, -0.0218633488, 0.00720435195, -0.0201180689, 0.011371376, 0.0165869221, -0.0211192369, 0.0116554918, -0.00271431566, 0.012954304, 0.00367320492, -0.000668854744, -0.00309482729, -0.0202398319, 0.0229321625, -0.0030846803, 0.0201857146, 6.85977793e-05, -0.0461890288, 0.00578039326, 0.0266121328, -0.0220527574, 0.0130354799, -0.00788758136, 0.0397761427, -0.0223098155, -0.0236898027, -0.00800258107, -0.00839493051, -0.0208757091, -0.0181563199, -0.0180074982, 0.00680862, 0.027369773, -0.0017232945, 0.0239739195, -0.00456952071, 0.011540493, -0.00970050786, 0.0366373435, 0.00219005533, 0.00841522403, -0.0222151093, 0.00811081473, 0.00412305398, 0.0263821334, -0.0141381184, -0.0142734107, 0.0117434319, 0.022242168, 0.0144763505, 0.00773875928, -0.00648053456, -0.00631480059, 0.014828112, 0.00388290896, 0.00840169471, 0.0181427915, 0.0170604475, 0.0222556982, 0.0161133967, -0.0095990384, 0.0231621601, -0.00384232099, -0.0128257759, 0.00301872496, -0.00165649364, -0.0334173702, 0.00997109339, -0.00199557166, -0.021078648, 0.0138945905, 0.0091661, 0.0128054824, -0.0383149758, 0.013082833, -0.00841522403, -0.0109181451, -0.026368605, 0.0186027866, 0.0173445623, -0.00438011065, 0.0322267935, -0.0162757467, 0.0252727307, 0.0291962288, 0.0303597488, -0.00523922127, 0.00275490363, 0.00216637901, 0.0183863174, 0.0108572626, -0.0108910864, 0.00892257318, 0.000440970616, -0.023703333, -0.000490859908, 0.0161404535, -0.00836110674, 0.0343644209, 0.0143139986, -0.0110737318, -0.00467437319, -0.014165177, 0.00790787581, 0.0129610691, -0.0236221571, 0.000129796725, -0.0140163545, 0.0236898027, -0.00526628, 0.0171280932, -0.042319648, -0.0170063302, 0.00807022676, 0.0175204426, 0.0178316161, -0.00937580504, 0.0166275091, 0.014828112, 0.030657392, 0.0275185946, 0.00551657192, -0.0249074399, -0.0259762555, 0.0232298076, -0.0189004317, -0.0136848865, -0.000903080741, 0.0150716398, -0.00175880897, -0.0271803625, -0.017493384, 0.0164516289, -0.00976815447, -0.00415011263, 0.00128021, 0.0140028251, 0.0226345174, -0.00361908763, 0.000387699, -0.0309009198, -0.032280907, -0.016789861, 0.015369284, -0.0102619734, -0.00952462666, -0.0362855829], metadata={'document_title': '\"Architectural Ambitions: Exploring Beauty, Function, and Innovation in New York and Chicago\"', 'questions_this_excerpt_can_answer': \"1. How did Ivanka Trump's personal and professional responsibilities influence her decision to join her father's campaign and later work in Washington?\\n2. What specific event during the campaign made Ivanka more sensitive to the challenges faced by Americans, particularly working mothers?\\n3. What challenges did Ivanka Trump face in trying to get things done in Washington, particularly in terms of building coalitions and finding compromise on highly consequential policies?\", 'start_timestamp': 6700.347640449438, 'end_timestamp': 7090.435319148936}, excluded_embed_metadata_keys=[], excluded_llm_metadata_keys=[], relationships={}, text=\"advisor you know the campaign I never I never thought about joining it was kind of like get to the end of it and when it started I was like everything in my life was almost firing on all cylinders I two young kids at home during the course of the campaign I ended up I was pregnant with my third so this young family my businesses real estate and and fashion and working alongside my brothers running the Trump Hotel collection and with so many my life was full and busy and and so there was a big part of me that was just wanted to get through just get through it without really thinking forward to what the implications were for me but when my father won he asked Jared and I to join him and in asking that question you know keep in mind he was a total outsider so there was no bench of people as he would have today he had never spent the night in Washington they see you before yeah staying in the White House and so when he asked us to join him he trusted us he trusted in our ability to to execute and there wasn't a part of me that could imagine the 70 or 80 year old version of myself looking back and having been okay with having said no and going back to my life as I knew it before I mean in retrospect I realized there is no life as you know before you know but but just the idea of of not saying yes wherever that would lead me and and so I I dove in you know I was also during the course of the campaign I was just much more sensitive to the problems and experiences of Americans I I gave you an example before of the father and new Hampshire but I mean even just in my consumption of information I you know I had a business that was predominantly young women you know many of which were thinking about having a kid had just had a child we're we're planning on on that life event and I knew what they needed to be able to show up every day and and realize the stream for themselves and and the support structures they would need to have in place and I remember reading this article at the time in one of the major newspapers of of a woman she had had a very solid job working at one of the blue chip accounting firms and the recession came she lost her job around the same time as her partner left her and over a matter of months she lost her home so she wound up with her two young kids after bouncing around between neighbors living in their car she gets a call back from one of the many interviews she had done for a second interview where she was all but guaranteed the job should that go well and she had arranged child care for her two young children with with a neighbor in her old department block and the morning of the interview she shows up and the neighbor doesn't answer the doorbell and stancer five ten minutes doesn't answer so she has a choice does she go to the interview with her children or does she try to cancel she gets in her car drives to the interview leaves her two children in the back seat of the car with the window cracked goes into the interview and gets pulled out of the interview by police because somebody had called the cops after seeing her her children in the back seat of the car she gets thrown in jail her kids get taken from her and she spends years fighting to regain custody and I think about that's an extreme example but I think about something like that and I say if I was the mother and we were homeless like what I've gone to that interview and I probably would have and that is not like an acceptable situation you know so you you hear stories like that and then you get asked well you come with me and it's really hard to say no you know I spent four years in Washington I feel like I left it all in the field I feel really good about it and and I feel really privileged to have been able to do what I did a chance to help to help many people saying no means you're kind of turning away from those people you felt like that to me yeah yeah but then it's the turmoil of politics that you're getting into it really is a leap into the abyss what was it like trying to get stuff done in Washington and this place where politics is a game it feels that way maybe from an outsider perspective and you go in there trying given some of those stories trying to help people what's the like to get anything done it's an incredible cognitive lift that's a nice way to put it yeah to get things done you know there are a lot of people who would prefer to cling to the problem and they're talking points about how they're going to solve it rather than sort of roll up their sleeves and do the work it takes to build coalitions of support and find people who are willing to compromise and move the ball and so it's extremely difficult and you know Jared and I talk about all the time it probably should be because these are highly consequential policies that impact people's lives at scale shouldn't be so easy to do them and they are doable but it's challenging you know one of the first experiences as I had where it really was just a full grind effort was with tax cuts and the work\", mimetype='text/plain', start_char_idx=None, end_char_idx=None, text_template='[Excerpt from document]\\n{metadata_str}\\nExcerpt:\\n-----\\n{content}\\n-----\\n', metadata_template='{key}: {value}', metadata_seperator='\\n')], similarities=[0.451202154, 0.482552052, 0.498766065], ids=['21be2f48-229e-4177-959b-c4237f64246f', 'caa74fda-f4aa-49fa-a4b0-c813e7a1b233', '04cb7715-e844-4218-93fc-cf4c7c365849'])"
      ]
     },
     "execution_count": 39,
     "metadata": {},
     "output_type": "execute_result"
    }
   ],
   "source": [
    "query_mode = \"default\"\n",
    "\n",
    "vector_store_query = VectorStoreQuery(\n",
    "    query_embedding=query_embedding, similarity_top_k=3, mode=query_mode\n",
    ")\n",
    "\n",
    "query_result = vector_store.query(vector_store_query)\n",
    "query_result"
   ]
  },
  {
   "cell_type": "code",
   "execution_count": 42,
   "metadata": {},
   "outputs": [],
   "source": [
    "from llama_index.core.schema import NodeWithScore\n",
    "from typing import Optional\n",
    "\n",
    "nodes_with_scores = []\n",
    "for index, node in enumerate(query_result.nodes):\n",
    "    score: Optional[float] = None\n",
    "    if query_result.similarities is not None:\n",
    "        score = query_result.similarities[index]\n",
    "    nodes_with_scores.append(NodeWithScore(node=node, score=score))"
   ]
  },
  {
   "cell_type": "code",
   "execution_count": 43,
   "metadata": {},
   "outputs": [
    {
     "data": {
      "text/markdown": [
       "**Node ID:** 21be2f48-229e-4177-959b-c4237f64246f<br>**Similarity:** 0.451202154<br>**Text:** so I think she's very cool I hope you have a long conversation yeah she's like okay so there's many things to say about her at first like incredibly great musician songwriters performer yeah also can create an image and have fun with it you know like have fun being herself like over the top it feels that way right like she's really she enjoys after all these years it feels like she's enjoying she like enjoys what she does and you also have the sense that if she didn't she wouldn't do it that's right and just an iconic country musician country music singer yeah um there's a lot we've talked about a lot of musicians what do you enjoy you mentioned a Dal seeing her perform hanging out with her yeah I mean she's extraordinary her voice is unreal um so she is I find her to be so talented and she's so unique in that three-year-olds love her music she's actually the first concert Arabela ever went to and Madison Square Garden when she wished she was around four and nine-year-olds love her ...<br>"
      ],
      "text/plain": [
       "<IPython.core.display.Markdown object>"
      ]
     },
     "metadata": {},
     "output_type": "display_data"
    },
    {
     "data": {
      "text/markdown": [
       "**Node ID:** caa74fda-f4aa-49fa-a4b0-c813e7a1b233<br>**Similarity:** 0.482552052<br>**Text:** And to still be a big organization act like a startup is the big challenge. It's super difficult to deconstruct that as well once it's in place, right? It's it's circumventing layers and asking questions, probing questions of people on the ground level is a huge challenge to the authority of the hierarchy. And there's tremendous amount of resistance to it. So it's how do you grow something in the case of a company in terms of a culture that can scale but doesn't lose its connection to to sort of real and meaningful feedback. It's it's not not easy. I've had a lot of conversations with Jim Keller who is this legendary engineer and leader and he he has talked about like you often have to kind of be a little bit of an asshole in the room, not in a mean way, but it's like it's uncomfortable. Yeah. Like a lot of these questions that are uncomfortable, they break the kind of general politeness and civility that people have in communication. When you get a meeting, like nobody wants to be ...<br>"
      ],
      "text/plain": [
       "<IPython.core.display.Markdown object>"
      ]
     },
     "metadata": {},
     "output_type": "display_data"
    },
    {
     "data": {
      "text/markdown": [
       "**Node ID:** 04cb7715-e844-4218-93fc-cf4c7c365849<br>**Similarity:** 0.498766065<br>**Text:** advisor you know the campaign I never I never thought about joining it was kind of like get to the end of it and when it started I was like everything in my life was almost firing on all cylinders I two young kids at home during the course of the campaign I ended up I was pregnant with my third so this young family my businesses real estate and and fashion and working alongside my brothers running the Trump Hotel collection and with so many my life was full and busy and and so there was a big part of me that was just wanted to get through just get through it without really thinking forward to what the implications were for me but when my father won he asked Jared and I to join him and in asking that question you know keep in mind he was a total outsider so there was no bench of people as he would have today he had never spent the night in Washington they see you before yeah staying in the White House and so when he asked us to join him he trusted us he trusted in our ability to to e...<br>"
      ],
      "text/plain": [
       "<IPython.core.display.Markdown object>"
      ]
     },
     "metadata": {},
     "output_type": "display_data"
    }
   ],
   "source": [
    "from llama_index.core.response.notebook_utils import display_source_node\n",
    "\n",
    "for node in nodes_with_scores:\n",
    "    display_source_node(node, source_length=1000)"
   ]
  },
  {
   "cell_type": "code",
   "execution_count": 47,
   "metadata": {},
   "outputs": [
    {
     "name": "stdout",
     "output_type": "stream",
     "text": [
      "9562.877254901961\n"
     ]
    }
   ],
   "source": [
    "print(query_result.nodes[0].metadata['start_timestamp'])"
   ]
  },
  {
   "cell_type": "markdown",
   "metadata": {},
   "source": [
    "### Try a simple prompt"
   ]
  },
  {
   "cell_type": "code",
   "execution_count": 54,
   "metadata": {},
   "outputs": [],
   "source": [
    "qa_prompt = PromptTemplate(\n",
    "    \"\"\"\\\n",
    "Context information is below.\n",
    "---------------------\n",
    "{context_str}\n",
    "---------------------\n",
    "Given the context information and not prior knowledge, answer the query.\n",
    "Query: {query_str}\n",
    "Answer: \\\n",
    "\"\"\"\n",
    ")"
   ]
  },
  {
   "cell_type": "markdown",
   "metadata": {},
   "source": [
    "### Hierarchical summarization"
   ]
  },
  {
   "cell_type": "code",
   "execution_count": 75,
   "metadata": {},
   "outputs": [],
   "source": [
    "import nest_asyncio\n",
    "import asyncio\n",
    "\n",
    "nest_asyncio.apply()"
   ]
  },
  {
   "cell_type": "code",
   "execution_count": 76,
   "metadata": {},
   "outputs": [],
   "source": [
    "def combine_results(\n",
    "    texts,\n",
    "    query_str,\n",
    "    qa_prompt,\n",
    "    llm,\n",
    "    cur_prompt_list,\n",
    "    num_children=10,\n",
    "):\n",
    "    new_texts = []\n",
    "    for idx in range(0, len(texts), num_children):\n",
    "        text_batch = texts[idx : idx + num_children]\n",
    "        context_str = \"\\n\\n\".join([t for t in text_batch])\n",
    "        fmt_qa_prompt = qa_prompt.format(\n",
    "            context_str=context_str, query_str=query_str\n",
    "        )\n",
    "        combined_response = llm.complete(fmt_qa_prompt)\n",
    "        new_texts.append(str(combined_response))\n",
    "        cur_prompt_list.append(fmt_qa_prompt)\n",
    "\n",
    "    if len(new_texts) == 1:\n",
    "        return new_texts[0]\n",
    "    else:\n",
    "        return combine_results(\n",
    "            new_texts, query_str, qa_prompt, llm, num_children=num_children\n",
    "        )\n",
    "\n",
    "\n",
    "def generate_response_hs(\n",
    "    retrieved_nodes, query_str, qa_prompt, llm, num_children=10\n",
    "):\n",
    "    \"\"\"Generate a response using hierarchical summarization strategy.\n",
    "\n",
    "    Combine num_children nodes hierarchically until we get one root node.\n",
    "\n",
    "    \"\"\"\n",
    "    fmt_prompts = []\n",
    "    node_responses = []\n",
    "    for node in retrieved_nodes:\n",
    "        context_str = node.get_content()\n",
    "        fmt_qa_prompt = qa_prompt.format(\n",
    "            context_str=context_str, query_str=query_str\n",
    "        )\n",
    "        node_response = llm.complete(fmt_qa_prompt)\n",
    "        node_responses.append(node_response)\n",
    "        fmt_prompts.append(fmt_qa_prompt)\n",
    "\n",
    "    response_txt = combine_results(\n",
    "        [str(r) for r in node_responses],\n",
    "        query_str,\n",
    "        qa_prompt,\n",
    "        llm,\n",
    "        fmt_prompts,\n",
    "        num_children=num_children,\n",
    "    )\n",
    "\n",
    "    return response_txt, fmt_prompts"
   ]
  },
  {
   "cell_type": "code",
   "execution_count": 77,
   "metadata": {},
   "outputs": [],
   "source": [
    "response, fmt_prompts = generate_response_hs(\n",
    "    retrieved_nodes, query_str, qa_prompt, llm\n",
    ")"
   ]
  },
  {
   "cell_type": "code",
   "execution_count": 74,
   "metadata": {},
   "outputs": [
    {
     "name": "stdout",
     "output_type": "stream",
     "text": [
      "<coroutine object acombine_results at 0x3350ed380>\n"
     ]
    }
   ],
   "source": [
    "print(str(response))"
   ]
  },
  {
   "cell_type": "code",
   "execution_count": 73,
   "metadata": {},
   "outputs": [
    {
     "data": {
      "text/plain": [
       "[\"Context information is below.\\n---------------------\\nso I think she's very cool I hope you have a long conversation yeah she's like okay so there's many things to say about her at first like incredibly great musician songwriters performer yeah also can create an image and have fun with it you know like have fun being herself like over the top it feels that way right like she's really she enjoys after all these years it feels like she's enjoying she like enjoys what she does and you also have the sense that if she didn't she wouldn't do it that's right and just an iconic country musician country music singer yeah um there's a lot we've talked about a lot of musicians what do you enjoy you mentioned a Dal seeing her perform hanging out with her yeah I mean she's extraordinary her voice is unreal um so she is I find her to be so talented and she's so unique in that three-year-olds love her music she's actually the first concert Arabela ever went to and Madison Square Garden when she wished she was around four and nine-year-olds love her music and that's pretty rare to have that kind of um band with resonance so so I think she's so talented we actually just saw her I took all three kids in Las Vegas around a month ago Alice Johnson um whose case I had worked with in the White House um my father commuted her sentence her her case was brought to me by a friend Kim Kardashian and um and she came to the show we all went together with some mutual friends and I was like a very profound it was amazing to see but it was a very profound experience for me to have with my kids because she rode with us in in a car on the way to the show and and she talked to my kids about her experience in her story um and how her case found its way to me and and I think for young children it's very abstract you know policy and so for her to be able to share with them this was a very beautiful moment and led to a lot of really incredible conversations with each of my kids about our time and service because you know they gave up a lot for for me to do it actually Alice told them the most beautiful story about the plays she used to put on in prison how these shows were like the hottest ticket in town like you could knock it into them they always extended their run and um but for the people who were in them a lot of those men and women had never experienced a pause nobody had ever shown up at their games or at their plays or and and clapped for them and the emotional experience of of just being able to give someone that you know being able to stand and and applaud for someone and how meaningful that was and she was showing us pictures from these different productions and it was a really it was a beautiful moment Alice actually after um her sentence was commuted and she came out of prison together we worked on 23 different partings or commutations so so the impact of of her experience and how she was able to to take her her opportunity and and create that same opportunity for others who who were deserving and and who she believed in was was very beautiful so anyway that was an extraordinary concert experience for my kids to be able to have that moment I was sorry so just that's the sort of the uh because here we are dancing at Adele exactly exactly like that turning point six years later it was almost to the day so yeah so that that policy that meeting meaning of the minds resulted in a major turning point in her life analysis life and not only her dancing and now we're out of dough yeah i mean uh you mentioned also all there i've seen commutations where it's it's an opportunity to step in and consider the ways that the justice system does not always work well um i can case is when it's non-violent crime and drug offenses there's a case of a person uh you mentioned that received a life sentence for selling weed yeah it you know and it's just the number it's like hundreds of thousands of people are in the federal president jail and system for drug for selling drugs that's the only thing with no violence on their records whatsoever and it's obviously there's a lot of complexity there's the details matter but oftentimes the justice system does not um do right in the way we think right is and it's nice to be able to step in and help people like and direct they're overlooked and they have no advocate Jared um and i helped in a small way on his effort but he really um spearheaded the effort on on criminal justice reform through the first step act which was an enormously consequential piece of legislation that gave so many people another opportunity and that was amazing uh so working with him closely on that was was a beautiful thing for us to also experience together but in the final days of the administration you know you're not getting legislation passed and anything you do administratively is going to be probably overturned by an incoming administration so you know how do you use that time for maximum results and i really like dug in on pardons and commutations that i thought were were um were overdue and and were worthy and um and my last night in washington dc i the\\n---------------------\\nGiven the context information and not prior knowledge, answer the query.\\nQuery: describe the incident with kim kardashian\\nAnswer: \",\n",
       " \"Context information is below.\\n---------------------\\nAnd to still be a big organization act like a startup is the big challenge. It's super difficult to deconstruct that as well once it's in place, right? It's it's circumventing layers and asking questions, probing questions of people on the ground level is a huge challenge to the authority of the hierarchy. And there's tremendous amount of resistance to it. So it's how do you grow something in the case of a company in terms of a culture that can scale but doesn't lose its connection to to sort of real and meaningful feedback. It's it's not not easy. I've had a lot of conversations with Jim Keller who is this legendary engineer and leader and he he has talked about like you often have to kind of be a little bit of an asshole in the room, not in a mean way, but it's like it's uncomfortable. Yeah. Like a lot of these questions that are uncomfortable, they break the kind of general politeness and civility that people have in communication. When you get a meeting, like nobody wants to be like, uh, can we do it way different? Everyone wants just just like this lunch is coming up, you know, I have I have this trip planned on the weekend with the family. Everyone just wants comfort. The humans get together, they kind of gravitate towards comfort. Nobody wants that one person that comes in and says, Hey, can we like do this way better and do this way different and everything we've gotten comfortable with throw it out. Not only do they not want that, but the one person who comes in and does that puts a massive target on their back. Yeah. And as ultimately seen as as a threat, I mean, nobody really gets fired for maintaining the status quo. Right. Even if things go poorly, it's the way it was always done. Yeah, humans are fascinating. But in order to actually do great big projects, yeah, to reach for the stars, you have to have those people, you have to constantly disrupt and have those uncomfortable conversations. And really have that first principles type of orientation, especially in those large bureaucratic contexts. So amongst many other things, you created a fashion brand. What was that about? What was the origin of that? I always loved fashion as a form of self-expression, as a means to communicate either a truth or an illusion, depending on what kind of mood you're in, but this like sort of second body, if you will. So I loved fashion and look, I mean, my mother was a big part of the reason I did, but I never thought I would go into fashion. In fact, I was graduating from Warden. It was the day of my graduation. And Winter calls me up and offered me a job at Vogue, which is a dream in so many ways, but I was so focused. I wanted to go into real estate, and I wanted to build buildings. And I told her that. So I really thought that that was going to be the path I was taking. And then very organically fashion, you know, it was part of my life, but it came into my life in a more professional capacity by talking with my first of many different partners that I had in the fashion space about. He actually had shown me a building to buy his family had some real estate holdings. And I passed on on the real estate deal, but we forged a friendship. And we started talking about how in the space that he was in fine jewelry, there was this lack of product and brands that were positioned for self purchasing females. So everything was about, you know, the man buying the Christmas gift, the man buying the engagement ring, the stores felt like that. They were all tailored towards the male aesthetic, the marketing felt like that. And I was like, I'm not sure if I was going to be able to buy this or had just received a great bonus. And I was going to use it to treat herself. So we thought there was a void in the marketplace. And that was the first category I launched Ivanka Trump fine jewelry. And we just caught lightning in a bottle. It was really quickly after that. I met my partner who had founded nine west shoes, really capable partner. And we launched a shoe collection, which took off and did enormously well. And then a clothing collection and handbags and sunglasses and fragrance. So so we caught a moment and and we found a positioning for this for the self purchasing multi-dimensional woman. And we made dressing for work aspirational. At the time we launched, if you wanted to buy something for an office context, like the brands that existed were the opposite of exciting.\\n---------------------\\nGiven the context information and not prior knowledge, answer the query.\\nQuery: describe the incident with kim kardashian\\nAnswer: \",\n",
       " \"Context information is below.\\n---------------------\\nadvisor you know the campaign I never I never thought about joining it was kind of like get to the end of it and when it started I was like everything in my life was almost firing on all cylinders I two young kids at home during the course of the campaign I ended up I was pregnant with my third so this young family my businesses real estate and and fashion and working alongside my brothers running the Trump Hotel collection and with so many my life was full and busy and and so there was a big part of me that was just wanted to get through just get through it without really thinking forward to what the implications were for me but when my father won he asked Jared and I to join him and in asking that question you know keep in mind he was a total outsider so there was no bench of people as he would have today he had never spent the night in Washington they see you before yeah staying in the White House and so when he asked us to join him he trusted us he trusted in our ability to to execute and there wasn't a part of me that could imagine the 70 or 80 year old version of myself looking back and having been okay with having said no and going back to my life as I knew it before I mean in retrospect I realized there is no life as you know before you know but but just the idea of of not saying yes wherever that would lead me and and so I I dove in you know I was also during the course of the campaign I was just much more sensitive to the problems and experiences of Americans I I gave you an example before of the father and new Hampshire but I mean even just in my consumption of information I you know I had a business that was predominantly young women you know many of which were thinking about having a kid had just had a child we're we're planning on on that life event and I knew what they needed to be able to show up every day and and realize the stream for themselves and and the support structures they would need to have in place and I remember reading this article at the time in one of the major newspapers of of a woman she had had a very solid job working at one of the blue chip accounting firms and the recession came she lost her job around the same time as her partner left her and over a matter of months she lost her home so she wound up with her two young kids after bouncing around between neighbors living in their car she gets a call back from one of the many interviews she had done for a second interview where she was all but guaranteed the job should that go well and she had arranged child care for her two young children with with a neighbor in her old department block and the morning of the interview she shows up and the neighbor doesn't answer the doorbell and stancer five ten minutes doesn't answer so she has a choice does she go to the interview with her children or does she try to cancel she gets in her car drives to the interview leaves her two children in the back seat of the car with the window cracked goes into the interview and gets pulled out of the interview by police because somebody had called the cops after seeing her her children in the back seat of the car she gets thrown in jail her kids get taken from her and she spends years fighting to regain custody and I think about that's an extreme example but I think about something like that and I say if I was the mother and we were homeless like what I've gone to that interview and I probably would have and that is not like an acceptable situation you know so you you hear stories like that and then you get asked well you come with me and it's really hard to say no you know I spent four years in Washington I feel like I left it all in the field I feel really good about it and and I feel really privileged to have been able to do what I did a chance to help to help many people saying no means you're kind of turning away from those people you felt like that to me yeah yeah but then it's the turmoil of politics that you're getting into it really is a leap into the abyss what was it like trying to get stuff done in Washington and this place where politics is a game it feels that way maybe from an outsider perspective and you go in there trying given some of those stories trying to help people what's the like to get anything done it's an incredible cognitive lift that's a nice way to put it yeah to get things done you know there are a lot of people who would prefer to cling to the problem and they're talking points about how they're going to solve it rather than sort of roll up their sleeves and do the work it takes to build coalitions of support and find people who are willing to compromise and move the ball and so it's extremely difficult and you know Jared and I talk about all the time it probably should be because these are highly consequential policies that impact people's lives at scale shouldn't be so easy to do them and they are doable but it's challenging you know one of the first experiences as I had where it really was just a full grind effort was with tax cuts and the work\\n---------------------\\nGiven the context information and not prior knowledge, answer the query.\\nQuery: describe the incident with kim kardashian\\nAnswer: \"]"
      ]
     },
     "execution_count": 73,
     "metadata": {},
     "output_type": "execute_result"
    }
   ],
   "source": [
    "fmt_prompts"
   ]
  },
  {
   "cell_type": "code",
   "execution_count": 78,
   "metadata": {},
   "outputs": [
    {
     "name": "stdout",
     "output_type": "stream",
     "text": [
      "The incident with Kim Kardashian involved her bringing the case of Alice Johnson to the attention of\n",
      "Ivanka Trump, which ultimately led to Ivanka working on the case and helping to commute Alice\n",
      "Johnson's sentence. This resulted in a profound experience for Ivanka and her children, as they\n",
      "attended a concert with Alice Johnson and had meaningful conversations about her story and the\n",
      "impact of their work on criminal justice reform.\n"
     ]
    }
   ],
   "source": [
    "print(textwrap.fill(response, width=100))"
   ]
  },
  {
   "cell_type": "code",
   "execution_count": null,
   "metadata": {},
   "outputs": [],
   "source": []
  },
  {
   "cell_type": "code",
   "execution_count": null,
   "metadata": {},
   "outputs": [],
   "source": []
  },
  {
   "cell_type": "code",
   "execution_count": null,
   "metadata": {},
   "outputs": [],
   "source": []
  },
  {
   "cell_type": "code",
   "execution_count": null,
   "metadata": {},
   "outputs": [],
   "source": []
  },
  {
   "cell_type": "code",
   "execution_count": null,
   "metadata": {},
   "outputs": [],
   "source": []
  }
 ],
 "metadata": {
  "kernelspec": {
   "display_name": "project-env",
   "language": "python",
   "name": "python3"
  },
  "language_info": {
   "codemirror_mode": {
    "name": "ipython",
    "version": 3
   },
   "file_extension": ".py",
   "mimetype": "text/x-python",
   "name": "python",
   "nbconvert_exporter": "python",
   "pygments_lexer": "ipython3",
   "version": "3.12.4"
  }
 },
 "nbformat": 4,
 "nbformat_minor": 2
}
