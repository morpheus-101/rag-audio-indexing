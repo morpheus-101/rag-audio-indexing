{
 "cells": [
  {
   "cell_type": "code",
   "execution_count": 2,
   "metadata": {},
   "outputs": [],
   "source": [
    "from pytubefix import YouTube\n",
    "from pytubefix.cli import on_progress"
   ]
  },
  {
   "cell_type": "code",
   "execution_count": 5,
   "metadata": {},
   "outputs": [
    {
     "name": "stdout",
     "output_type": "stream",
     "text": [
      "Transformers The best idea in AI  Andrej Karpathy and Lex Fridman\n",
      " ↳ |████████████████████████████████████████████| 100.0%\r"
     ]
    },
    {
     "data": {
      "text/plain": [
       "'/Users/rishikeshdhayarkar/video-indexing/audio_files/lex_audio.mp3'"
      ]
     },
     "execution_count": 5,
     "metadata": {},
     "output_type": "execute_result"
    }
   ],
   "source": [
    "# url = \"https://www.youtube.com/watch?v=2oxdDKHdcM8&t=20s\"\n",
    " \n",
    "# yt = YouTube(url, on_progress_callback = on_progress)\n",
    "# print(yt.title)\n",
    " \n",
    "# ys = yt.streams.get_audio_only()\n",
    "# ys.download(mp3=True, output_path='./data/clip_2', filename='lex_audio') # pass the parameter mp3=True to save in .mp3"
   ]
  },
  {
   "cell_type": "code",
   "execution_count": 1,
   "metadata": {},
   "outputs": [
    {
     "name": "stdout",
     "output_type": "stream",
     "text": [
      "Downloading audio...\n",
      "Audio downloaded: /Users/rishikeshdhayarkar/video-indexing/Ivanka Trump Politics, Family, Real Estate, Fashion, Music, and Life  Lex Fridman Podcast #436.mp3\n",
      "Fetching transcript...\n",
      "No English transcript available.\n"
     ]
    },
    {
     "name": "stderr",
     "output_type": "stream",
     "text": [
      "/var/folders/wt/r4_h03kd7fn83ksqhn6vx78h0000gn/T/ipykernel_11670/944122274.py:19: DeprecationWarning: Call to deprecated function get_by_language_code (This object can be treated as a dictionary, i.e. captions['en']).\n",
      "  transcript = yt.captions.get_by_language_code('en')\n"
     ]
    }
   ],
   "source": [
    "from pytubefix import YouTube\n",
    "from pytubefix.exceptions import VideoUnavailable\n",
    "\n",
    "def download_audio_and_transcript(video_url):\n",
    "    try:\n",
    "        # Create YouTube object\n",
    "        yt = YouTube(video_url)\n",
    "        \n",
    "        # Get audio stream\n",
    "        audio_stream = yt.streams.filter(only_audio=True).first()\n",
    "        \n",
    "        # Download audio\n",
    "        print(\"Downloading audio...\")\n",
    "        audio_file = audio_stream.download(filename=f\"{yt.title}.mp3\")\n",
    "        print(f\"Audio downloaded: {audio_file}\")\n",
    "        \n",
    "        # Get transcript\n",
    "        print(\"Fetching transcript...\")\n",
    "        transcript = yt.captions.get_by_language_code('en')\n",
    "        if transcript:\n",
    "            # Save transcript\n",
    "            transcript_file = f\"{yt.title}.txt\"\n",
    "            with open(transcript_file, 'w', encoding='utf-8') as f:\n",
    "                f.write(transcript.generate_srt_captions())\n",
    "            print(f\"Transcript saved: {transcript_file}\")\n",
    "        else:\n",
    "            print(\"No English transcript available.\")\n",
    "        \n",
    "    except VideoUnavailable:\n",
    "        print(\"The video is unavailable.\")\n",
    "    except Exception as e:\n",
    "        print(f\"An error occurred: {str(e)}\")\n",
    "\n",
    "# Usage\n",
    "video_url = \"https://www.youtube.com/watch?v=2oxdDKHdcM8&t=20s\"  # Replace with your video URL\n",
    "download_audio_and_transcript(video_url)"
   ]
  },
  {
   "cell_type": "code",
   "execution_count": null,
   "metadata": {},
   "outputs": [],
   "source": []
  },
  {
   "cell_type": "code",
   "execution_count": null,
   "metadata": {},
   "outputs": [],
   "source": []
  },
  {
   "cell_type": "code",
   "execution_count": null,
   "metadata": {},
   "outputs": [],
   "source": []
  }
 ],
 "metadata": {
  "kernelspec": {
   "display_name": "project-env",
   "language": "python",
   "name": "python3"
  },
  "language_info": {
   "codemirror_mode": {
    "name": "ipython",
    "version": 3
   },
   "file_extension": ".py",
   "mimetype": "text/x-python",
   "name": "python",
   "nbconvert_exporter": "python",
   "pygments_lexer": "ipython3",
   "version": "3.12.4"
  }
 },
 "nbformat": 4,
 "nbformat_minor": 2
}
