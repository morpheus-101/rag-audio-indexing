{
 "cells": [
  {
   "cell_type": "markdown",
   "metadata": {},
   "source": [
    "#### Imports"
   ]
  },
  {
   "cell_type": "code",
   "execution_count": 1,
   "metadata": {},
   "outputs": [],
   "source": [
    "import textwrap\n",
    "import logging\n",
    "import os\n",
    "import sys\n",
    "\n",
    "# Disable logging for the httpx library\n",
    "logging.getLogger(\"httpx\").disabled = True\n"
   ]
  },
  {
   "cell_type": "code",
   "execution_count": 2,
   "metadata": {},
   "outputs": [],
   "source": [
    "# Get the absolute path of the project root\n",
    "project_root = os.path.abspath(os.path.join(os.getcwd(), '..'))\n",
    "sys.path.append(project_root)"
   ]
  },
  {
   "cell_type": "code",
   "execution_count": 3,
   "metadata": {},
   "outputs": [],
   "source": [
    "from opentelemetry.sdk import trace as trace_sdk\n",
    "from opentelemetry.sdk.trace.export import SimpleSpanProcessor\n",
    "from opentelemetry.exporter.otlp.proto.http.trace_exporter import (\n",
    "    OTLPSpanExporter as HTTPSpanExporter,\n",
    ")\n",
    "from openinference.instrumentation.llama_index import LlamaIndexInstrumentor"
   ]
  },
  {
   "cell_type": "code",
   "execution_count": 4,
   "metadata": {},
   "outputs": [],
   "source": [
    "from llama_index.core.llms import ChatMessage\n",
    "from llama_index.core.tools import ToolSelection, ToolOutput\n",
    "from llama_index.core.workflow import Event"
   ]
  },
  {
   "cell_type": "code",
   "execution_count": 5,
   "metadata": {},
   "outputs": [],
   "source": [
    "from llama_index.core.llms import ChatMessage\n",
    "from llama_index.core.tools import ToolSelection, ToolOutput\n",
    "from llama_index.core.workflow import Event\n",
    "\n",
    "\n",
    "class PrepEvent(Event):\n",
    "    pass\n",
    "\n",
    "\n",
    "class InputEvent(Event):\n",
    "    input: list[ChatMessage]\n",
    "\n",
    "\n",
    "class ToolCallEvent(Event):\n",
    "    tool_calls: list[ToolSelection]\n",
    "\n",
    "\n",
    "class FunctionOutputEvent(Event):\n",
    "    output: ToolOutput"
   ]
  },
  {
   "cell_type": "markdown",
   "metadata": {},
   "source": [
    "#### Agent class"
   ]
  },
  {
   "cell_type": "code",
   "execution_count": 72,
   "metadata": {},
   "outputs": [],
   "source": [
    "from typing import Any, List\n",
    "\n",
    "from llama_index.core.agent.react import ReActChatFormatter, ReActOutputParser\n",
    "from llama_index.core.agent.react.types import (\n",
    "    ActionReasoningStep,\n",
    "    ObservationReasoningStep,\n",
    ")\n",
    "from llama_index.core.llms.llm import LLM\n",
    "from llama_index.core.memory import ChatMemoryBuffer\n",
    "from llama_index.core.tools.types import BaseTool\n",
    "from llama_index.core.workflow import (\n",
    "    Context,\n",
    "    Workflow,\n",
    "    StartEvent,\n",
    "    StopEvent,\n",
    "    step,\n",
    ")\n",
    "from llama_index.llms.openai import OpenAI\n",
    "\n",
    "\n",
    "class ReActAgent(Workflow):\n",
    "    def __init__(\n",
    "        self,\n",
    "        *args: Any,\n",
    "        llm: LLM | None = None,\n",
    "        tools: list[BaseTool] | None = None,\n",
    "        extra_context: str | None = None,\n",
    "        **kwargs: Any,\n",
    "    ) -> None:\n",
    "        super().__init__(*args, **kwargs)\n",
    "        self.tools = tools or []\n",
    "\n",
    "        self.llm = llm or OpenAI()\n",
    "\n",
    "        self.memory = ChatMemoryBuffer.from_defaults(llm=llm)\n",
    "        self.formatter = ReActChatFormatter(context=extra_context or \"\")\n",
    "        self.output_parser = ReActOutputParser()\n",
    "        self.sources = []\n",
    "\n",
    "    @step(pass_context=True)\n",
    "    async def new_user_msg(self, ctx: Context, ev: StartEvent) -> PrepEvent:\n",
    "        # clear sources\n",
    "        self.sources = []\n",
    "\n",
    "        # get user input\n",
    "        user_input = ev.input\n",
    "        user_msg = ChatMessage(role=\"user\", content=user_input)\n",
    "        self.memory.put(user_msg)\n",
    "\n",
    "        # clear current reasoning\n",
    "        ctx.data[\"current_reasoning\"] = []\n",
    "\n",
    "        return PrepEvent()\n",
    "\n",
    "    @step(pass_context=True)\n",
    "    async def prepare_chat_history(\n",
    "        self, ctx: Context, ev: PrepEvent\n",
    "    ) -> InputEvent:\n",
    "        # get chat history\n",
    "        chat_history = self.memory.get()\n",
    "        current_reasoning = ctx.data.get(\"current_reasoning\", [])\n",
    "        llm_input = self.formatter.format(\n",
    "            self.tools, chat_history, current_reasoning=current_reasoning\n",
    "        )\n",
    "        return InputEvent(input=llm_input)\n",
    "\n",
    "    @step(pass_context=True)\n",
    "    async def handle_llm_input(\n",
    "        self, ctx: Context, ev: InputEvent\n",
    "    ) -> ToolCallEvent | StopEvent:\n",
    "        chat_history = ev.input\n",
    "\n",
    "        response = await self.llm.achat(chat_history)\n",
    "\n",
    "        try:\n",
    "            reasoning_step = self.output_parser.parse(response.message.content)\n",
    "            ctx.data.get(\"current_reasoning\", []).append(reasoning_step)\n",
    "            if reasoning_step.is_done:\n",
    "                self.memory.put(\n",
    "                    ChatMessage(\n",
    "                        role=\"assistant\", content=reasoning_step.response\n",
    "                    )\n",
    "                )\n",
    "                return StopEvent(\n",
    "                    result={\n",
    "                        \"response\": reasoning_step.response,\n",
    "                        \"sources\": [*self.sources],\n",
    "                        \"reasoning\": ctx.data.get(\"current_reasoning\", []),\n",
    "                    }\n",
    "                )\n",
    "            elif isinstance(reasoning_step, ActionReasoningStep):\n",
    "                tool_name = reasoning_step.action\n",
    "                tool_args = reasoning_step.action_input\n",
    "                return ToolCallEvent(\n",
    "                    tool_calls=[\n",
    "                        ToolSelection(\n",
    "                            tool_id=\"fake\",\n",
    "                            tool_name=tool_name,\n",
    "                            tool_kwargs=tool_args,\n",
    "                        )\n",
    "                    ]\n",
    "                )\n",
    "        except Exception as e:\n",
    "            ctx.data.get(\"current_reasoning\", []).append(\n",
    "                ObservationReasoningStep(\n",
    "                    observation=f\"There was an error in parsing my reasoning: {e}\"\n",
    "                )\n",
    "            )\n",
    "\n",
    "        # if no tool calls or final response, iterate again\n",
    "        return PrepEvent()\n",
    "\n",
    "    @step(pass_context=True)\n",
    "    async def handle_tool_calls(\n",
    "        self, ctx: Context, ev: ToolCallEvent\n",
    "    ) -> PrepEvent:\n",
    "        tool_calls = ev.tool_calls\n",
    "        tools_by_name = {tool.metadata.name: tool for tool in self.tools}\n",
    "\n",
    "        # call tools -- safely!\n",
    "        for tool_call in tool_calls:\n",
    "            tool = tools_by_name.get(tool_call.tool_name)\n",
    "            if not tool:\n",
    "                ctx.data.get(\"current_reasoning\", []).append(\n",
    "                    ObservationReasoningStep(\n",
    "                        observation=f\"Tool {tool_call.tool_name} does not exist\"\n",
    "                    )\n",
    "                )\n",
    "                continue\n",
    "\n",
    "            try:\n",
    "                tool_output = tool(**tool_call.tool_kwargs)\n",
    "                self.sources.append(tool_output)\n",
    "                ctx.data.get(\"current_reasoning\", []).append(\n",
    "                    ObservationReasoningStep(observation=str(tool_output))\n",
    "                )\n",
    "            except Exception as e:\n",
    "                ctx.data.get(\"current_reasoning\", []).append(\n",
    "                    ObservationReasoningStep(\n",
    "                        observation=f\"Error calling tool {tool.metadata.name}: {str(e)}\"\n",
    "                    )\n",
    "                )\n",
    "\n",
    "        # prep the next iteration\n",
    "        return PrepEvent()"
   ]
  },
  {
   "cell_type": "markdown",
   "metadata": {},
   "source": [
    "#### Basic rag query engine"
   ]
  },
  {
   "cell_type": "code",
   "execution_count": 17,
   "metadata": {},
   "outputs": [],
   "source": [
    "import data_pull_and_prep.utils as utils\n",
    "import data_pull_and_prep.data_preparation as data_prep\n",
    "import textwrap\n",
    "import basic_rag.rag as rag\n",
    "from basic_rag.utils import aRetrieveAndAnswer, aRetrieveAndAnswer, RetrieveAndAnswer"
   ]
  },
  {
   "cell_type": "code",
   "execution_count": 8,
   "metadata": {},
   "outputs": [
    {
     "name": "stderr",
     "output_type": "stream",
     "text": [
      "INFO:pinecone_plugin_interface.logging:Discovering subpackages in _NamespacePath(['/Users/rishikeshdhayarkar/rag-audio-indexing/rag-audio-env/lib/python3.12/site-packages/pinecone_plugins'])\n",
      "INFO:pinecone_plugin_interface.logging:Looking for plugins in pinecone_plugins.inference\n",
      "INFO:pinecone_plugin_interface.logging:Installing plugin inference into Pinecone\n",
      "100%|██████████| 42/42 [00:17<00:00,  2.43it/s]\n",
      "100%|██████████| 42/42 [00:16<00:00,  2.56it/s]\n",
      "100%|██████████| 42/42 [00:07<00:00,  5.64it/s]\n",
      "Upserted vectors: 100%|██████████| 42/42 [00:02<00:00, 18.55it/s]\n"
     ]
    }
   ],
   "source": [
    "transcription_with_char_timestamps = utils.import_pkl_file(project_root+\"/data/audio_1/ivanka_trump_transcription_char_timestamps.pkl\")\n",
    "\n",
    "custom_chunking_obj = data_prep.CreateCustomTextChunks(transcription_with_char_timestamps)\n",
    "text_chunks_with_timestamps = custom_chunking_obj.create_custom_text_chunks()\n",
    "\n",
    "custom_ingestion_obj = rag.CustomRAG(\n",
    "              index_name=\"ivanka-08-28-via-class\",\n",
    "              text_chunks_with_timestamps=text_chunks_with_timestamps\n",
    "              )\n",
    "\n",
    "await custom_ingestion_obj.create_text_nodes_and_add_to_vector_store()"
   ]
  },
  {
   "cell_type": "code",
   "execution_count": 66,
   "metadata": {},
   "outputs": [],
   "source": [
    "def basic_rag_query_engine(input: str):\n",
    "    raa = RetrieveAndAnswer(ingestion_obj=custom_ingestion_obj)\n",
    "    return raa.answer(input)"
   ]
  },
  {
   "cell_type": "code",
   "execution_count": null,
   "metadata": {},
   "outputs": [],
   "source": [
    "query_str = \"What are some famous quotes mentioned in this podcast and who said them?\"\n",
    "print(textwrap.fill(basic_rag_query_engine(query_str), 80))"
   ]
  },
  {
   "cell_type": "markdown",
   "metadata": {},
   "source": [
    "#### Agent setup"
   ]
  },
  {
   "cell_type": "code",
   "execution_count": 73,
   "metadata": {},
   "outputs": [],
   "source": [
    "from llama_index.core.tools import FunctionTool\n",
    "from llama_index.llms.openai import OpenAI\n",
    "from llama_index.core import VectorStoreIndex, SimpleDirectoryReader\n",
    "from llama_index.core.indices.query.query_transform import HyDEQueryTransform\n",
    "from llama_index.core.query_engine import TransformQueryEngine\n",
    "from llama_index.core.tools import QueryEngineTool, ToolMetadata\n",
    "from llama_index.core.tools import FunctionTool\n",
    "\n",
    "from llama_index.core import (\n",
    "    SimpleDirectoryReader,\n",
    "    VectorStoreIndex,\n",
    "    StorageContext,\n",
    "    load_index_from_storage,\n",
    ")\n",
    "\n",
    "basic_rag_tool = FunctionTool(\n",
    "    fn=basic_rag_query_engine,\n",
    "    metadata=ToolMetadata(\n",
    "        name=\"basic_rag_query_engine\",\n",
    "        description=\"Provides information about the Ivanka Trump podcast using a basic RAG approach. Use a plain text question as input to the tool.\"\n",
    "    )\n",
    ")\n",
    "\n",
    "query_engine_tools = [\n",
    "    basic_rag_tool\n",
    "]"
   ]
  },
  {
   "cell_type": "code",
   "execution_count": 74,
   "metadata": {},
   "outputs": [],
   "source": [
    "agent = ReActAgent(\n",
    "    llm=OpenAI(model=\"gpt-3.5-turbo\"), tools=query_engine_tools,\n",
    "    timeout=120,\n",
    "    verbose=False,\n",
    "    extra_context=\"Please use the query engine tool(basic_rag_query_engine) to answer the questions.\",\n",
    ")\n",
    "\n",
    "ret = await agent.run(input=\"Hello!\")"
   ]
  },
  {
   "cell_type": "markdown",
   "metadata": {},
   "source": [
    "#### Querying"
   ]
  },
  {
   "cell_type": "code",
   "execution_count": 75,
   "metadata": {},
   "outputs": [],
   "source": [
    "query_str_suffix = \" Please use the query engine tools to answer the questions.\""
   ]
  },
  {
   "cell_type": "code",
   "execution_count": null,
   "metadata": {},
   "outputs": [],
   "source": [
    "query_str = \"What are some famous quotes mentioned in this podcast and who said them?\"+query_str_suffix\n",
    "ret = await agent.run(input=query_str)\n",
    "print(\"-\"*100)\n",
    "print(textwrap.fill(ret[\"response\"], 80))\n",
    "print(\"-\"*100)\n",
    "print(textwrap.fill(str(ret[\"reasoning\"]), 80))"
   ]
  },
  {
   "cell_type": "code",
   "execution_count": null,
   "metadata": {},
   "outputs": [],
   "source": [
    "query_str = \"What are Ivanka Trump's thoughts on music?\"+query_str_suffix\n",
    "ret = await agent.run(input=query_str)\n",
    "print(\"-\"*100)\n",
    "print(textwrap.fill(ret[\"response\"], 80))\n",
    "print(\"-\"*100)\n",
    "print(textwrap.fill(str(ret[\"reasoning\"]), 80))"
   ]
  },
  {
   "cell_type": "code",
   "execution_count": null,
   "metadata": {},
   "outputs": [],
   "source": [
    "query_str = \"There must be a music related stuff in the context. Give me more details on that.\"+query_str_suffix\n",
    "ret = await agent.run(input=query_str)\n",
    "print(\"-\"*100)\n",
    "print(textwrap.fill(ret[\"response\"], 80))\n",
    "print(\"-\"*100)\n",
    "print(textwrap.fill(str(ret[\"reasoning\"]), 80))"
   ]
  },
  {
   "cell_type": "code",
   "execution_count": null,
   "metadata": {},
   "outputs": [],
   "source": [
    "query_str = \"describe the incident with kim kardashian. Something about prisons\"+query_str_suffix\n",
    "ret = await agent.run(input=query_str)\n",
    "print(\"-\"*100)\n",
    "print(textwrap.fill(ret[\"response\"], 80))\n",
    "print(\"-\"*100)\n",
    "print(textwrap.fill(str(ret[\"reasoning\"]), 80))"
   ]
  },
  {
   "cell_type": "code",
   "execution_count": null,
   "metadata": {},
   "outputs": [],
   "source": [
    "query_str = \"What are some architectural projects that Ivanka Trump has worked on?\"+query_str_suffix\n",
    "ret = await agent.run(input=query_str)\n",
    "print(\"-\"*100)\n",
    "print(textwrap.fill(ret[\"response\"], 80))\n",
    "print(\"-\"*100)\n",
    "print(textwrap.fill(str(ret[\"reasoning\"]), 80))"
   ]
  },
  {
   "cell_type": "code",
   "execution_count": 15,
   "metadata": {},
   "outputs": [
    {
     "name": "stdout",
     "output_type": "stream",
     "text": [
      "----------------------------------------------------------------------------------------------------\n",
      "New York City has had a significant impact on Ivanka Trump's life. She has been\n",
      "involved in various architectural projects in the city, such as the Trump Tower.\n",
      "Additionally, NYC is a hub for business, fashion, and culture, all of which have\n",
      "influenced Ivanka Trump's career and personal life.\n",
      "----------------------------------------------------------------------------------------------------\n",
      "[ResponseReasoningStep(thought=\"I can answer without using any more tools. I'll\n",
      "use the user's language to answer\", response=\"New York City has had a\n",
      "significant impact on Ivanka Trump's life. She has been involved in various\n",
      "architectural projects in the city, such as the Trump Tower. Additionally, NYC\n",
      "is a hub for business, fashion, and culture, all of which have influenced Ivanka\n",
      "Trump's career and personal life.\", is_streaming=False)]\n"
     ]
    }
   ],
   "source": [
    "query_str = \"Describe the impact of NYC on Ivanka Trump's life\"\n",
    "ret = await agent.run(input=query_str)\n",
    "print(\"-\"*100)\n",
    "print(textwrap.fill(ret[\"response\"], 80))\n",
    "print(\"-\"*100)\n",
    "print(textwrap.fill(str(ret[\"reasoning\"]), 80))"
   ]
  },
  {
   "cell_type": "code",
   "execution_count": 14,
   "metadata": {},
   "outputs": [
    {
     "name": "stdout",
     "output_type": "stream",
     "text": [
      "----------------------------------------------------------------------------------------------------\n",
      "Ivanka Trump has worked on various architectural projects, including the Trump\n",
      "International Hotel in Washington, D.C., the Trump Tower in New York City, and\n",
      "the renovation of the Old Post Office Pavilion in Washington, D.C.\n",
      "----------------------------------------------------------------------------------------------------\n",
      "[ResponseReasoningStep(thought=\"I can answer without using any more tools. I'll\n",
      "use the user's language to answer\", response='Ivanka Trump has worked on various\n",
      "architectural projects, including the Trump International Hotel in Washington,\n",
      "D.C., the Trump Tower in New York City, and the renovation of the Old Post\n",
      "Office Pavilion in Washington, D.C.', is_streaming=False)]\n"
     ]
    }
   ],
   "source": [
    "query_str = \"What buildings has Ivanka Trump worked on?\"\n",
    "ret = await agent.run(input=query_str)\n",
    "print(\"-\"*100)\n",
    "print(textwrap.fill(ret[\"response\"], 80))\n",
    "print(\"-\"*100)\n",
    "print(textwrap.fill(str(ret[\"reasoning\"]), 80))"
   ]
  },
  {
   "cell_type": "code",
   "execution_count": 15,
   "metadata": {},
   "outputs": [
    {
     "name": "stdout",
     "output_type": "stream",
     "text": [
      "----------------------------------------------------------------------------------------------------\n",
      "Ivanka Trump mentioned in the podcast that her children bring her immense joy\n",
      "and fulfillment. She also expressed admiration and gratitude for her husband,\n",
      "Jared Kushner, highlighting his intelligence, work ethic, and support in both\n",
      "personal and professional aspects of her life.\n",
      "----------------------------------------------------------------------------------------------------\n",
      "[ResponseReasoningStep(thought=\"I can answer without using any more tools. I'll\n",
      "use the user's language to answer\", response='Ivanka Trump mentioned in the\n",
      "podcast that her children bring her immense joy and fulfillment. She also\n",
      "expressed admiration and gratitude for her husband, Jared Kushner, highlighting\n",
      "his intelligence, work ethic, and support in both personal and professional\n",
      "aspects of her life.', is_streaming=False)]\n"
     ]
    }
   ],
   "source": [
    "query_str = \"What does Ivanka Trump say about her children and husband?\"\n",
    "ret = await agent.run(input=query_str)\n",
    "print(\"-\"*100)\n",
    "print(textwrap.fill(ret[\"response\"], 80))\n",
    "print(\"-\"*100)\n",
    "print(textwrap.fill(str(ret[\"reasoning\"]), 80))"
   ]
  },
  {
   "cell_type": "code",
   "execution_count": 16,
   "metadata": {},
   "outputs": [
    {
     "name": "stdout",
     "output_type": "stream",
     "text": [
      "----------------------------------------------------------------------------------------------------\n",
      "Ivanka Trump served as a senior advisor to the president, focusing on various\n",
      "policy initiatives such as workforce development, job creation, economic\n",
      "empowerment, and women's entrepreneurship. She was involved in advocating for\n",
      "paid family leave, workforce training programs, and initiatives to support women\n",
      "in business. Additionally, Ivanka Trump worked on criminal justice reform\n",
      "efforts and other policy issues during her time in the White House.\n",
      "----------------------------------------------------------------------------------------------------\n",
      "[ResponseReasoningStep(thought='(Implicit) I can answer without any more\n",
      "tools!', response=\"Ivanka Trump served as a senior advisor to the president,\n",
      "focusing on various policy initiatives such as workforce development, job\n",
      "creation, economic empowerment, and women's entrepreneurship. She was involved\n",
      "in advocating for paid family leave, workforce training programs, and\n",
      "initiatives to support women in business. Additionally, Ivanka Trump worked on\n",
      "criminal justice reform efforts and other policy issues during her time in the\n",
      "White House.\", is_streaming=False)]\n"
     ]
    }
   ],
   "source": [
    "query_str = \"Describe the type of work Ivanka Trump did as a senior advisor to the president\"\n",
    "ret = await agent.run(input=query_str)\n",
    "print(\"-\"*100)\n",
    "print(textwrap.fill(ret[\"response\"], 80))\n",
    "print(\"-\"*100)\n",
    "print(textwrap.fill(str(ret[\"reasoning\"]), 80))"
   ]
  },
  {
   "cell_type": "code",
   "execution_count": 17,
   "metadata": {},
   "outputs": [
    {
     "name": "stdout",
     "output_type": "stream",
     "text": [
      "----------------------------------------------------------------------------------------------------\n",
      "Ivanka Trump worked on tax-related initiatives during her time as a senior\n",
      "advisor to the president, focusing on issues such as tax reform, tax credits for\n",
      "families, and economic policies aimed at promoting growth and job creation. She\n",
      "was involved in advocating for tax policies that would benefit American families\n",
      "and businesses.\n",
      "----------------------------------------------------------------------------------------------------\n",
      "[ResponseReasoningStep(thought=\"I can answer without using any more tools. I'll\n",
      "use the user's language to answer\", response='Ivanka Trump worked on tax-related\n",
      "initiatives during her time as a senior advisor to the president, focusing on\n",
      "issues such as tax reform, tax credits for families, and economic policies aimed\n",
      "at promoting growth and job creation. She was involved in advocating for tax\n",
      "policies that would benefit American families and businesses.',\n",
      "is_streaming=False)]\n"
     ]
    }
   ],
   "source": [
    "query_str = \"Describe the type of work Ivanka Trump did on taxes\"\n",
    "ret = await agent.run(input=query_str)\n",
    "print(\"-\"*100)\n",
    "print(textwrap.fill(ret[\"response\"], 80))\n",
    "print(\"-\"*100)\n",
    "print(textwrap.fill(str(ret[\"reasoning\"]), 80))"
   ]
  },
  {
   "cell_type": "code",
   "execution_count": 18,
   "metadata": {},
   "outputs": [
    {
     "name": "stdout",
     "output_type": "stream",
     "text": [
      "----------------------------------------------------------------------------------------------------\n",
      "The renovation of the Old Post Office Building, which was transformed into the\n",
      "Trump International Hotel, involved unique considerations and complexities.\n",
      "These included preserving the historic exterior of the building while\n",
      "reconfiguring the interior layout to accommodate modern amenities and\n",
      "functionality. The challenge was to maintain the architectural integrity of the\n",
      "historic structure while adapting it to serve a new purpose as a luxury hotel.\n",
      "----------------------------------------------------------------------------------------------------\n",
      "[ResponseReasoningStep(thought=\"I can answer without using any more tools. I'll\n",
      "use the user's language to answer\", response='The renovation of the Old Post\n",
      "Office Building, which was transformed into the Trump International Hotel,\n",
      "involved unique considerations and complexities. These included preserving the\n",
      "historic exterior of the building while reconfiguring the interior layout to\n",
      "accommodate modern amenities and functionality. The challenge was to maintain\n",
      "the architectural integrity of the historic structure while adapting it to serve\n",
      "a new purpose as a luxury hotel.', is_streaming=False)]\n"
     ]
    }
   ],
   "source": [
    "query_str = \"\"\"What unique considerations and complexities were involved in the renovation of the old post \n",
    "office building, particularly in terms of layout, room configurations, and preserving the building's historic exterior?\"\"\"\n",
    "ret = await agent.run(input=query_str)\n",
    "print(\"-\"*100)\n",
    "print(textwrap.fill(ret[\"response\"], 80))\n",
    "print(\"-\"*100)\n",
    "print(textwrap.fill(str(ret[\"reasoning\"]), 80))"
   ]
  },
  {
   "cell_type": "code",
   "execution_count": 19,
   "metadata": {},
   "outputs": [
    {
     "name": "stdout",
     "output_type": "stream",
     "text": [
      "----------------------------------------------------------------------------------------------------\n",
      "Ivanka Trump mentioned in the podcast that her children, especially her son\n",
      "Theo, brought her a sense of grounding and joy during her time in Washington,\n",
      "D.C. Their presence provided her with a sense of normalcy and balance amidst the\n",
      "intense environment of politics and public service. Theo's innocence and love\n",
      "helped Ivanka Trump stay connected to what truly mattered to her, beyond her\n",
      "professional responsibilities.\n",
      "----------------------------------------------------------------------------------------------------\n",
      "[ResponseReasoningStep(thought=\"I can answer without using any more tools. I'll\n",
      "use the user's language to answer\", response=\"Ivanka Trump mentioned in the\n",
      "podcast that her children, especially her son Theo, brought her a sense of\n",
      "grounding and joy during her time in Washington, D.C. Their presence provided\n",
      "her with a sense of normalcy and balance amidst the intense environment of\n",
      "politics and public service. Theo's innocence and love helped Ivanka Trump stay\n",
      "connected to what truly mattered to her, beyond her professional\n",
      "responsibilities.\", is_streaming=False)]\n"
     ]
    }
   ],
   "source": [
    "query_str = \"\"\"How did Ivanka Trump's children, particularly her son Theo, contribute to her sense of grounding and joy during her time in Washington, D.C.?\"\"\"\n",
    "ret = await agent.run(input=query_str)\n",
    "print(\"-\"*100)\n",
    "print(textwrap.fill(ret[\"response\"], 80))\n",
    "print(\"-\"*100)\n",
    "print(textwrap.fill(str(ret[\"reasoning\"]), 80))"
   ]
  },
  {
   "cell_type": "code",
   "execution_count": 20,
   "metadata": {},
   "outputs": [
    {
     "name": "stdout",
     "output_type": "stream",
     "text": [
      "----------------------------------------------------------------------------------------------------\n",
      "In her free time, Ivanka Trump enjoys playing with her children, spending time\n",
      "with her family, and engaging in activities like cooking, reading, and playing\n",
      "the guitar. She also mentioned in the podcast that she values moments of\n",
      "relaxation and self-care to recharge and maintain a healthy work-life balance.\n",
      "----------------------------------------------------------------------------------------------------\n",
      "[ResponseReasoningStep(thought=\"I can answer without using any more tools. I'll\n",
      "use the user's language to answer\", response='In her free time, Ivanka Trump\n",
      "enjoys playing with her children, spending time with her family, and engaging in\n",
      "activities like cooking, reading, and playing the guitar. She also mentioned in\n",
      "the podcast that she values moments of relaxation and self-care to recharge and\n",
      "maintain a healthy work-life balance.', is_streaming=False)]\n"
     ]
    }
   ],
   "source": [
    "query_str = \"\"\"What does Ivanka Trump like to do in her free time? What are her hobbies and interests?\"\"\"\n",
    "ret = await agent.run(input=query_str)\n",
    "print(\"-\"*100)\n",
    "print(textwrap.fill(ret[\"response\"], 80))\n",
    "print(\"-\"*100)\n",
    "print(textwrap.fill(str(ret[\"reasoning\"]), 80))"
   ]
  },
  {
   "cell_type": "code",
   "execution_count": null,
   "metadata": {},
   "outputs": [],
   "source": []
  },
  {
   "cell_type": "code",
   "execution_count": null,
   "metadata": {},
   "outputs": [],
   "source": []
  },
  {
   "cell_type": "code",
   "execution_count": null,
   "metadata": {},
   "outputs": [],
   "source": []
  },
  {
   "cell_type": "code",
   "execution_count": null,
   "metadata": {},
   "outputs": [],
   "source": []
  },
  {
   "cell_type": "code",
   "execution_count": null,
   "metadata": {},
   "outputs": [],
   "source": []
  },
  {
   "cell_type": "code",
   "execution_count": null,
   "metadata": {},
   "outputs": [],
   "source": []
  },
  {
   "cell_type": "code",
   "execution_count": 11,
   "metadata": {},
   "outputs": [
    {
     "name": "stdout",
     "output_type": "stream",
     "text": [
      "The revenue of Uber in 2021 was $17.455 billion.\n"
     ]
    }
   ],
   "source": []
  },
  {
   "cell_type": "code",
   "execution_count": 19,
   "metadata": {},
   "outputs": [
    {
     "name": "stdout",
     "output_type": "stream",
     "text": [
      "[ToolOutput(content='$17,455 million.', tool_name='uber_10k',\n",
      "raw_input={'input': 'What was the revenue of Uber in 2021?'},\n",
      "raw_output=Response(response='$17,455 million.', source_nodes=[NodeWithScore(nod\n",
      "e=TextNode(id_='c8d907bf-18c2-4486-a08b-dbc70b81d4ae', embedding=None,\n",
      "metadata={'page_label': '57', 'file_name': 'uber_2021.pdf', 'file_path':\n",
      "'data/10k/uber_2021.pdf', 'file_type': 'application/pdf', 'file_size': 1880483,\n",
      "'creation_date': '2024-08-22', 'last_modified_date': '2024-08-22'},\n",
      "excluded_embed_metadata_keys=['file_name', 'file_type', 'file_size',\n",
      "'creation_date', 'last_modified_date', 'last_accessed_date'],\n",
      "excluded_llm_metadata_keys=['file_name', 'file_type', 'file_size',\n",
      "'creation_date', 'last_modified_date', 'last_accessed_date'],\n",
      "relationships={<NodeRelationship.SOURCE: '1'>:\n",
      "RelatedNodeInfo(node_id='98731e04-f478-48bb-aca9-e7599235c3b6',\n",
      "node_type=<ObjectType.DOCUMENT: '4'>, metadata={'page_label': '57', 'file_name':\n",
      "'uber_2021.pdf', 'file_path': 'data/10k/uber_2021.pdf', 'file_type':\n",
      "'application/pdf', 'file_size': 1880483, 'creation_date': '2024-08-22',\n",
      "'last_modified_date': '2024-08-22'},\n",
      "hash='a8e84ae79225e3ac291031638367e4ccbc6c1e342910b86e76b09602fc21169a')},\n",
      "text='The following table sets forth the components of our consolidated\n",
      "statements of operations for each of the periods presented as a percentage of\n",
      "revenue : Year Ended December 31,\\n2020\\n2021 Revenue\\n100 %100 %Costs and\n",
      "expenses\\nCost of revenue, exclusive of dep\\nreciation and amortization shown\n",
      "separately below46 %54 %Operations and support\\n16 %11 %Sales and marketing\\n32\n",
      "%27 %Research and development\\n20 %12 %General and administrative\\n24 %13\n",
      "%Depreciation and amortization\\n5 %5 %Total costs and expenses\\n144 %122 %Loss\n",
      "from operations\\n(44) %(22) %Interest expense\\n(4) %(3) %Other income (expense),\n",
      "net\\n(15) %19 %Loss before income taxes and loss from equity me\\nthod\n",
      "investments(62) %(6) %Provision for (benefit fro\\nm) income taxes(2) %(3) %Loss\n",
      "from equity method invest\\nments— %— %Net loss including non-controlling\n",
      "interests\\n(61) %(3) %Less: net loss attributab\\nle to non-controlling\n",
      "interests, net of tax— %— %Net loss attributable to Uber Technologies,\n",
      "Inc.\\n(61) %(3) % Totals of percentage of \\nrevenues may not foot due to\n",
      "rounding.Comparison of the Years Ended December 31, 2020 and 2021\\nRevenue\\nYear\n",
      "Ended December 31,\\n2020 to 2021 % Change\\n(In millions, except percentages)\n",
      "2020 2021 Revenue\\n$ 11,139 $ 17,455 57 %2021\\n Compared to 2020Revenue\\n\n",
      "increased $6.3 billion, or 57%, primarily attributable to an increase in Gross\n",
      "Bookings of 56%, or 53% on a constant currency basis. The increase inGross\\n\n",
      "Bookings was primarily driven by an increase in Delivery Gross Bookings of 71%,\n",
      "or 66% on a constant currency basis, due to an increase in food deliveryorders\\n\n",
      "and  higher  basket  sizes  as  a  result  of  stay-at-home  order  demand\n",
      "related  to  COVID-19,  as  well  as  continued  expansion  across  U.S.  and\n",
      "internationalmarkets.\\n The increase was also driven by Mobility Gross Bookings\n",
      "growth of 38%, or 36% on a constant currency basis, due to increases in Trip\n",
      "volumes as thebusiness\\n recovers from the impacts of COVID-19. Additionally, we\n",
      "saw an increase in Delivery revenue resulting from an increase in certain\n",
      "Courier paymentsand incentives that ar\\ne recorded in cost of revenue, where we\n",
      "are primarily responsible for delivery services and pay Couriers for services\n",
      "provided.Cost of Revenue, Exclusive of Depreciation and Amortizat\\nionYear Ended\n",
      "December 31,\\n2020 to 2021 %\\nChange\\n(In millions, except percentages) 2020\n",
      "2021 Cost of revenue, exclusive of dep\\nreciation and amortization$ 5,154 $\n",
      "9,351 81 %Percentage of revenue\\n46 %54 %2021 Compared to 2020\\nCost\\n of\n",
      "revenue, exclusive of depreciation and amortization, increased $4.2 billion, or\n",
      "81%, mainly due to a $2.1 billion increase in Courier payments andincentives\\n\n",
      "in certain  markets,  a $660 million  increase  in insurance  expense  primarily\n",
      "due  to an increase  in miles  driven  in our Delivery  business,  and a\n",
      "$873million increase in Freight\\n carrier payments.(1)(1)\\n55',\n",
      "mimetype='text/plain', start_char_idx=0, end_char_idx=2862,\n",
      "text_template='{metadata_str}\\n\\n{content}', metadata_template='{key}: {value}',\n",
      "metadata_seperator='\\n'), score=0.8927641885045864),\n",
      "NodeWithScore(node=TextNode(id_='5af2f581-2102-4cab-bc57-84e78d0941a0',\n",
      "embedding=None, metadata={'page_label': '98', 'file_name': 'uber_2021.pdf',\n",
      "'file_path': 'data/10k/uber_2021.pdf', 'file_type': 'application/pdf',\n",
      "'file_size': 1880483, 'creation_date': '2024-08-22', 'last_modified_date':\n",
      "'2024-08-22'}, excluded_embed_metadata_keys=['file_name', 'file_type',\n",
      "'file_size', 'creation_date', 'last_modified_date', 'last_accessed_date'],\n",
      "excluded_llm_metadata_keys=['file_name', 'file_type', 'file_size',\n",
      "'creation_date', 'last_modified_date', 'last_accessed_date'],\n",
      "relationships={<NodeRelationship.SOURCE: '1'>:\n",
      "RelatedNodeInfo(node_id='4ff6b38e-65d6-4059-aea7-523869bbca32',\n",
      "node_type=<ObjectType.DOCUMENT: '4'>, metadata={'page_label': '98', 'file_name':\n",
      "'uber_2021.pdf', 'file_path': 'data/10k/uber_2021.pdf', 'file_type':\n",
      "'application/pdf', 'file_size': 1880483, 'creation_date': '2024-08-22',\n",
      "'last_modified_date': '2024-08-22'},\n",
      "hash='5b169767d432f1e2040ec4909539ef6bca67d7323cfc53488ad0d90661a1cc4f')},\n",
      "text='Note 2 – RevenueThe\\n following  tables  present  our  revenues\n",
      "disaggregated  by  offering  and  geographical  region.  Revenue  by\n",
      "geographical  region  is  based  on  where  thetransaction\\n occurred. This\n",
      "level of disaggregation takes into consideration how the nature, amount, timing,\n",
      "and uncertainty of revenue and cash flows are affectedby economic factors.\n",
      "Revenue \\nis presented in the following tables for the years ended December 31,\n",
      "2019, 2020 and 2021, respectively (in millions):Year Ended December\n",
      "31,\\n2019\\n2020 2021 Mobility revenue \\n$ 10,707 $ 6,089 $ 6,953 Delivery\n",
      "revenue \\n1,401 3,904 8,362 Freight revenue\\n731 1,011 2,132 All Other\n",
      "revenue\\n161 135 8 Total revenue\\n$ 13,000 $ 11,139 $ 17,455  We\\n offer\n",
      "subscription memberships to end-users including Uber One, Uber Pass, Rides Pass,\n",
      "and Eats Pass (“Subscription”). We recognize Subscriptionfees\\n ratably over the\n",
      "life of the pass. We allocate Subscription fees earned to Mobility and Delivery\n",
      "revenue on a proportional basis, based on usage for eachoffering during the\n",
      "respe\\nctive period.Year Ended December 31,\\n2019\\n2020 2021 United States and\n",
      "Canada\\n$ 8,465 $ 6,611 $ 10,094 Latin America (\"LatAm\")\\n1,862 1,295 1,417\n",
      "Europe, Middle East and Africa \\n(\"EMEA\")1,852 2,086 3,213 Asia Pacific\n",
      "(\"APAC\")\\n821 1,147 2,731 Total revenue\\n$ 13,000 $ 11,139 $ 17,455\n",
      "Revenue\\nMobility Revenue\\nWe derive\\n revenue primarily from fees paid by\n",
      "Mobility Drivers for the use of our platform(s) and related services to\n",
      "facilitate and complete Mobility servicesand,\\n in certain markets, revenue from\n",
      "fees paid by end-users for connection services obtained via the platform.\n",
      "Mobility revenue also includes immaterial revenuestreams\\n such as our financial\n",
      "partnerships products and Vehicle Solutions. Vehicle Solutions revenue is\n",
      "accounted for as an operating lease as defined under ASC842.\\nDelivery\n",
      "Revenue\\nWe\\n derive  revenue  for  Delivery  from  Merchants’  and  Couriers’\n",
      "use  of  the  Delivery  platform  and  related  service  to  facilitate  and\n",
      "complete  Deliverytransactions. Additionally,\\n in certain markets where we are\n",
      "responsible for delivery services, delivery fees charged to end-users are also\n",
      "included in revenue, whilepayments\\n to Couriers in exchange for delivery\n",
      "services are recognized in cost of revenue. Delivery also includes advertising\n",
      "revenue from sponsored listing feespaid by merchants and brands in \\nexchange\n",
      "for advertising services.Freight Revenue\\nFreight\\n revenue consists of revenue\n",
      "from freight transportation services provided to shippers. During the fourth\n",
      "quarter of 2021, we completed the acquisitionof\\n Transplace, and our Freight\n",
      "revenue also includes revenue from transportation management. Refer to Note 18 –\n",
      "Business Combinations for further informationon the Transplace acquisi\\ntion.All\n",
      "Other Revenue\\nAll Other revenue primar\\nily includes collaboration revenue\n",
      "related to our ATG business and revenue from our New Mobility offerings and\n",
      "products.ATG\\n collaboration revenue was related to a three-year joint\n",
      "collaboration agreement we entered into in 2019. During the first quarter of\n",
      "2021, we completedthe sale of Apparate USA LLC (“Apparate\\n” or the “ATG\n",
      "Business”) to Aurora Innovation, Inc. (“Aurora”). Refer to Note 19 –\n",
      "Divestitures for further information.New\\n Mobility offerings and products\n",
      "provided users access to rides through a variety of modes, including dockless\n",
      "e-bikes and e-scooters (“New Mobility”),platform\\n incubator group offerings and\n",
      "other immaterial revenue streams. New Mobility revenue is accounted for as an\n",
      "operating lease as defined under ASC 842.After the JUMP divestiture during \\nthe\n",
      "second quarter of 2020, revenue from New Mobility products, including dockless\n",
      "e-bikes, was no longer material.(1)(1)\\n(1)\\n96', mimetype='text/plain',\n",
      "start_char_idx=0, end_char_idx=3736,\n",
      "text_template='{metadata_str}\\n\\n{content}', metadata_template='{key}: {value}',\n",
      "metadata_seperator='\\n'), score=0.8869829017151152),\n",
      "NodeWithScore(node=TextNode(id_='44d1d296-0746-461f-8c74-4e296dc1ded5',\n",
      "embedding=None, metadata={'page_label': '129', 'file_name': 'uber_2021.pdf',\n",
      "'file_path': 'data/10k/uber_2021.pdf', 'file_type': 'application/pdf',\n",
      "'file_size': 1880483, 'creation_date': '2024-08-22', 'last_modified_date':\n",
      "'2024-08-22'}, excluded_embed_metadata_keys=['file_name', 'file_type',\n",
      "'file_size', 'creation_date', 'last_modified_date', 'last_accessed_date'],\n",
      "excluded_llm_metadata_keys=['file_name', 'file_type', 'file_size',\n",
      "'creation_date', 'last_modified_date', 'last_accessed_date'],\n",
      "relationships={<NodeRelationship.SOURCE: '1'>:\n",
      "RelatedNodeInfo(node_id='f6fd556a-3027-4f60-b8c5-f4a649445934',\n",
      "node_type=<ObjectType.DOCUMENT: '4'>, metadata={'page_label': '129',\n",
      "'file_name': 'uber_2021.pdf', 'file_path': 'data/10k/uber_2021.pdf',\n",
      "'file_type': 'application/pdf', 'file_size': 1880483, 'creation_date':\n",
      "'2024-08-22', 'last_modified_date': '2024-08-22'},\n",
      "hash='42e2f028c8153690ad74f812a300e1334e0150d3c670e22fa283ab64579ae49c'),\n",
      "<NodeRelationship.NEXT: '3'>:\n",
      "RelatedNodeInfo(node_id='2006219e-3f5f-4271-9cc7-503807d059fe',\n",
      "node_type=<ObjectType.TEXT: '1'>, metadata={},\n",
      "hash='78ac114d168fc0dbb1a2c480568f582dfad34cd1bf863ed13b6b132c0c883772')},\n",
      "text=\"Year Ended December 31,2019\\n2020 2021 United States\\n$ 7,968 $ 6,082 $\n",
      "9,058 All other countries\\n5,032 5,057 8,397 Total Revenue\\n$ 13,000 $ 11,139 $\n",
      "17,455 As of December 31,\\n2020\\n2021 United States\\n$ 2,940 $ 2,991 All other\n",
      "countries\\n252 250 Total long-lived assets, net\\n$ 3,192 $ 3,241 Revenue grouped\n",
      "by offerings is inc\\nluded in Note 2 – Revenue.Note 15 – Commitments and\n",
      "Contingencies\\nContingencies\\nFrom time to time, we are a party to various\n",
      "claims, non-income tax audits and litigation in the normal course of b\\nusiness.\n",
      "As of December 31, 2020 and 2021,we\\n had  recorded  aggregate  liabilities  of\n",
      "$1.8  billion  and  $2.2  billion,  respectively,  of  which  $1.3  billion  and\n",
      "$1.3  billion  relate  to  non-income  tax  matters,respectively,\\n in  accrued\n",
      "and  other  current  liabilities  on  the  consolidated  balance  sheets  for\n",
      "all  of  our  legal,  regulatory  and  non-income  tax  matters  that\n",
      "wereprobable and reasonably est\\nimable.We\\n are  currently  party  to  various\n",
      "legal  and  regulatory  matters  that  have  arisen  in  the  normal  course  of\n",
      "business  and  include,  among  others,  allegedindependent\\n contractor\n",
      "misclassification claims, Fair Credit Reporting Act (“FCRA”) claims, alleged\n",
      "background check violations, pricing and advertising claims,unfair\\n competition\n",
      "claims, intellectual property claims, employment discrimination and other\n",
      "employment-related claims, Telephone Consumer Protection Act(“TCPA”)\\n claims,\n",
      "Americans with Disabilities Act (“ADA”) claims, data and privacy claims,\n",
      "securities claims, antitrust claims, challenges to regulations, andother\\n\n",
      "matters. We have existing litigation, including class actions, Private Attorney\n",
      "General Act lawsuits, arbitration claims, and governmental administrative\n",
      "andaudit\\n proceedings,  asserting  claims  by  or  on  behalf  of  Drivers\n",
      "that  Drivers  are  misclassified  as  independent  contractors.  In  connection\n",
      "with  the  enactment  ofCalifornia\\n State Assembly Bill 5 (“AB5”), we have\n",
      "received and expect to continue to receive - in California and in other\n",
      "jurisdictions - an increased number ofmisclassification\\n claims. With respect\n",
      "to our outstanding legal and regulatory matters, based on our current knowledge,\n",
      "we believe that the ultimate amount orrange\\n of reasonably possible loss will\n",
      "not, either individually or in the aggregate, have a material adverse effect on\n",
      "our business, financial position, results ofoperations,\\n or cash flows. The\n",
      "outcome of such legal matters is inherently unpredictable and subject to\n",
      "significant uncertainties. If one or more of these matterswere\\n resolved\n",
      "against  us  for  amounts  in  excess  of  management's  expectations,  our\n",
      "results  of  operations,  financial  condition  or  cash  flows  could  be\n",
      "materiallyadversely affected.\\nDriver Classification\\nCalifornia Attorney\n",
      "General Lawsuit\\nIn\\n January 2020, AB5 went into effect. AB5 codifies a test to\n",
      "determine whether a worker is an employee under California law. The test is\n",
      "referred to as the“ABC”\\n test, and was originally handed down by the California\n",
      "Supreme Court in Dynamex Operations v. Superior Court in 2018. Under the ABC\n",
      "test, workersperforming\\n services  for  a  hiring  entity  are  considered\n",
      "employees  unless  the  hiring  entity  can  demonstrate  three  things:  the\n",
      "worker  (A)  is  free  from  the  hiringentity’s\\n control, (B) performs work\n",
      "that is outside the usual course of the hiring entity’s business, and (C)\n",
      "customarily engages in the independent trade, work ortype of business performed\n",
      "fo\\nr the hiring entity.On\\n May 5, 2020, the California Attorney General, in\n",
      "conjunction with the city attorneys for San Francisco, Los Angeles and San\n",
      "Diego, filed a complaint inSan\\n Francisco Superior Court against Uber and Lyft,\n",
      "Inc. (“Lyft”). The complaint alleges drivers are misclassified, and seeks an\n",
      "injunction and monetary damagesrelated to the alleged competitive\\n advantage\n",
      "caused by the alleged misclassification of drivers.On\\n August 10, 2020, the\n",
      "Court issued a preliminary injunction order, prohibiting us from classifying\n",
      "drivers as independent contractors and from violatingvarious wage and hour laws.\n",
      "The injunction was stayed pending appeal.\", mimetype='text/plain',\n",
      "start_char_idx=0, end_char_idx=4191,\n",
      "text_template='{metadata_str}\\n\\n{content}', metadata_template='{key}: {value}',\n",
      "metadata_seperator='\\n'), score=0.8847637811004264)],\n",
      "metadata={'c8d907bf-18c2-4486-a08b-dbc70b81d4ae': {'page_label': '57',\n",
      "'file_name': 'uber_2021.pdf', 'file_path': 'data/10k/uber_2021.pdf',\n",
      "'file_type': 'application/pdf', 'file_size': 1880483, 'creation_date':\n",
      "'2024-08-22', 'last_modified_date': '2024-08-22'}, '5af2f581-2102-4cab-\n",
      "bc57-84e78d0941a0': {'page_label': '98', 'file_name': 'uber_2021.pdf',\n",
      "'file_path': 'data/10k/uber_2021.pdf', 'file_type': 'application/pdf',\n",
      "'file_size': 1880483, 'creation_date': '2024-08-22', 'last_modified_date':\n",
      "'2024-08-22'}, '44d1d296-0746-461f-8c74-4e296dc1ded5': {'page_label': '129',\n",
      "'file_name': 'uber_2021.pdf', 'file_path': 'data/10k/uber_2021.pdf',\n",
      "'file_type': 'application/pdf', 'file_size': 1880483, 'creation_date':\n",
      "'2024-08-22', 'last_modified_date': '2024-08-22'}}), is_error=False)]\n"
     ]
    }
   ],
   "source": [
    "print(textwrap.fill(str(ret[\"sources\"]), 80))"
   ]
  },
  {
   "cell_type": "code",
   "execution_count": 20,
   "metadata": {},
   "outputs": [
    {
     "name": "stdout",
     "output_type": "stream",
     "text": [
      "[ActionReasoningStep(thought='The current language of the user is: English. I\n",
      "need to use a tool to help me answer the question.', action='uber_10k',\n",
      "action_input={'input': 'What was the revenue of Uber in 2021?'}),\n",
      "ObservationReasoningStep(observation='$17,455 million.', return_direct=False),\n",
      "ResponseReasoningStep(thought=\"I can answer without using any more tools. I'll\n",
      "use the user's language to answer.\", response='The revenue of Uber in 2021 was\n",
      "$17,455 million.', is_streaming=False)]\n"
     ]
    }
   ],
   "source": [
    "print(textwrap.fill(str(ret[\"reasoning\"]), 80))"
   ]
  },
  {
   "cell_type": "code",
   "execution_count": 27,
   "metadata": {},
   "outputs": [
    {
     "name": "stdout",
     "output_type": "stream",
     "text": [
      "Running step new_user_msg\n",
      "Step new_user_msg produced event PrepEvent\n",
      "Running step prepare_chat_history\n",
      "Step prepare_chat_history produced event InputEvent\n",
      "Running step handle_llm_input\n"
     ]
    },
    {
     "name": "stderr",
     "output_type": "stream",
     "text": [
      "INFO:httpx:HTTP Request: POST https://api.openai.com/v1/chat/completions \"HTTP/1.1 200 OK\"\n"
     ]
    },
    {
     "name": "stdout",
     "output_type": "stream",
     "text": [
      "Step handle_llm_input produced event StopEvent\n"
     ]
    }
   ],
   "source": [
    "ret = await agent.run(input=\"How does the revenue of Uber compare to Lyft in 2021? Give me the answer in Billions\")"
   ]
  },
  {
   "cell_type": "code",
   "execution_count": 28,
   "metadata": {},
   "outputs": [
    {
     "name": "stdout",
     "output_type": "stream",
     "text": [
      "[ResponseReasoningStep(thought='(Implicit) I can answer without any more\n",
      "tools!', response=\"In 2021, Uber's revenue was approximately $17.46 billion,\n",
      "while Lyft's revenue was about $3.21 billion. Therefore, Uber's revenue was\n",
      "significantly higher than Lyft's, with Uber earning roughly 5.44 times more than\n",
      "Lyft.\", is_streaming=False)]\n"
     ]
    }
   ],
   "source": [
    "print(textwrap.fill(str(ret[\"reasoning\"]), 80))"
   ]
  },
  {
   "cell_type": "code",
   "execution_count": null,
   "metadata": {},
   "outputs": [],
   "source": []
  },
  {
   "cell_type": "code",
   "execution_count": null,
   "metadata": {},
   "outputs": [],
   "source": []
  },
  {
   "cell_type": "code",
   "execution_count": null,
   "metadata": {},
   "outputs": [],
   "source": []
  },
  {
   "cell_type": "code",
   "execution_count": null,
   "metadata": {},
   "outputs": [],
   "source": []
  },
  {
   "cell_type": "code",
   "execution_count": null,
   "metadata": {},
   "outputs": [],
   "source": []
  },
  {
   "cell_type": "code",
   "execution_count": null,
   "metadata": {},
   "outputs": [],
   "source": []
  },
  {
   "cell_type": "code",
   "execution_count": null,
   "metadata": {},
   "outputs": [],
   "source": []
  },
  {
   "cell_type": "code",
   "execution_count": null,
   "metadata": {},
   "outputs": [],
   "source": []
  },
  {
   "cell_type": "code",
   "execution_count": null,
   "metadata": {},
   "outputs": [],
   "source": []
  },
  {
   "cell_type": "code",
   "execution_count": null,
   "metadata": {},
   "outputs": [],
   "source": []
  }
 ],
 "metadata": {
  "kernelspec": {
   "display_name": "project-env",
   "language": "python",
   "name": "python3"
  },
  "language_info": {
   "codemirror_mode": {
    "name": "ipython",
    "version": 3
   },
   "file_extension": ".py",
   "mimetype": "text/x-python",
   "name": "python",
   "nbconvert_exporter": "python",
   "pygments_lexer": "ipython3",
   "version": "3.12.4"
  }
 },
 "nbformat": 4,
 "nbformat_minor": 2
}
