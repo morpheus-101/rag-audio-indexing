{
 "cells": [
  {
   "cell_type": "markdown",
   "metadata": {},
   "source": [
    "#### Imports"
   ]
  },
  {
   "cell_type": "code",
   "execution_count": 1,
   "metadata": {},
   "outputs": [],
   "source": [
    "import textwrap\n",
    "import logging\n",
    "import os\n",
    "import sys\n",
    "\n",
    "# Disable logging for the httpx library\n",
    "logging.getLogger(\"httpx\").disabled = True\n"
   ]
  },
  {
   "cell_type": "code",
   "execution_count": 2,
   "metadata": {},
   "outputs": [],
   "source": [
    "# Get the absolute path of the project root\n",
    "project_root = os.path.abspath(os.path.join(os.getcwd(), '..'))\n",
    "sys.path.append(project_root)"
   ]
  },
  {
   "cell_type": "code",
   "execution_count": 3,
   "metadata": {},
   "outputs": [],
   "source": [
    "from opentelemetry.sdk import trace as trace_sdk\n",
    "from opentelemetry.sdk.trace.export import SimpleSpanProcessor\n",
    "from opentelemetry.exporter.otlp.proto.http.trace_exporter import (\n",
    "    OTLPSpanExporter as HTTPSpanExporter,\n",
    ")\n",
    "from openinference.instrumentation.llama_index import LlamaIndexInstrumentor"
   ]
  },
  {
   "cell_type": "code",
   "execution_count": 4,
   "metadata": {},
   "outputs": [],
   "source": [
    "from llama_index.core.llms import ChatMessage\n",
    "from llama_index.core.tools import ToolSelection, ToolOutput\n",
    "from llama_index.core.workflow import Event"
   ]
  },
  {
   "cell_type": "code",
   "execution_count": 5,
   "metadata": {},
   "outputs": [],
   "source": [
    "from llama_index.core.llms import ChatMessage\n",
    "from llama_index.core.tools import ToolSelection, ToolOutput\n",
    "from llama_index.core.workflow import Event\n",
    "\n",
    "\n",
    "class PrepEvent(Event):\n",
    "    pass\n",
    "\n",
    "\n",
    "class InputEvent(Event):\n",
    "    input: list[ChatMessage]\n",
    "\n",
    "\n",
    "class ToolCallEvent(Event):\n",
    "    tool_calls: list[ToolSelection]\n",
    "\n",
    "\n",
    "class FunctionOutputEvent(Event):\n",
    "    output: ToolOutput"
   ]
  },
  {
   "cell_type": "markdown",
   "metadata": {},
   "source": [
    "#### Agent class"
   ]
  },
  {
   "cell_type": "code",
   "execution_count": 6,
   "metadata": {},
   "outputs": [],
   "source": [
    "from typing import Any, List\n",
    "\n",
    "from llama_index.core.agent.react import ReActChatFormatter, ReActOutputParser\n",
    "from llama_index.core.agent.react.types import (\n",
    "    ActionReasoningStep,\n",
    "    ObservationReasoningStep,\n",
    ")\n",
    "from llama_index.core.llms.llm import LLM\n",
    "from llama_index.core.memory import ChatMemoryBuffer\n",
    "from llama_index.core.tools.types import BaseTool\n",
    "from llama_index.core.workflow import (\n",
    "    Context,\n",
    "    Workflow,\n",
    "    StartEvent,\n",
    "    StopEvent,\n",
    "    step,\n",
    ")\n",
    "from llama_index.llms.openai import OpenAI\n",
    "\n",
    "\n",
    "class ReActAgent(Workflow):\n",
    "    def __init__(\n",
    "        self,\n",
    "        *args: Any,\n",
    "        llm: LLM | None = None,\n",
    "        tools: list[BaseTool] | None = None,\n",
    "        extra_context: str | None = None,\n",
    "        **kwargs: Any,\n",
    "    ) -> None:\n",
    "        super().__init__(*args, **kwargs)\n",
    "        self.tools = tools or []\n",
    "\n",
    "        self.llm = llm or OpenAI()\n",
    "\n",
    "        self.memory = ChatMemoryBuffer.from_defaults(llm=llm)\n",
    "        self.formatter = ReActChatFormatter(context=extra_context or \"\")\n",
    "        self.output_parser = ReActOutputParser()\n",
    "        self.sources = []\n",
    "\n",
    "    @step(pass_context=True)\n",
    "    async def new_user_msg(self, ctx: Context, ev: StartEvent) -> PrepEvent:\n",
    "        # clear sources\n",
    "        self.sources = []\n",
    "\n",
    "        # get user input\n",
    "        user_input = ev.input\n",
    "        user_msg = ChatMessage(role=\"user\", content=user_input)\n",
    "        self.memory.put(user_msg)\n",
    "\n",
    "        # clear current reasoning\n",
    "        ctx.data[\"current_reasoning\"] = []\n",
    "\n",
    "        return PrepEvent()\n",
    "\n",
    "    @step(pass_context=True)\n",
    "    async def prepare_chat_history(\n",
    "        self, ctx: Context, ev: PrepEvent\n",
    "    ) -> InputEvent:\n",
    "        # get chat history\n",
    "        chat_history = self.memory.get()\n",
    "        current_reasoning = ctx.data.get(\"current_reasoning\", [])\n",
    "        llm_input = self.formatter.format(\n",
    "            self.tools, chat_history, current_reasoning=current_reasoning\n",
    "        )\n",
    "        return InputEvent(input=llm_input)\n",
    "\n",
    "    @step(pass_context=True)\n",
    "    async def handle_llm_input(\n",
    "        self, ctx: Context, ev: InputEvent\n",
    "    ) -> ToolCallEvent | StopEvent:\n",
    "        chat_history = ev.input\n",
    "\n",
    "        response = await self.llm.achat(chat_history)\n",
    "\n",
    "        try:\n",
    "            reasoning_step = self.output_parser.parse(response.message.content)\n",
    "            ctx.data.get(\"current_reasoning\", []).append(reasoning_step)\n",
    "            if reasoning_step.is_done:\n",
    "                self.memory.put(\n",
    "                    ChatMessage(\n",
    "                        role=\"assistant\", content=reasoning_step.response\n",
    "                    )\n",
    "                )\n",
    "                return StopEvent(\n",
    "                    result={\n",
    "                        \"response\": reasoning_step.response,\n",
    "                        \"sources\": [*self.sources],\n",
    "                        \"reasoning\": ctx.data.get(\"current_reasoning\", []),\n",
    "                    }\n",
    "                )\n",
    "            elif isinstance(reasoning_step, ActionReasoningStep):\n",
    "                tool_name = reasoning_step.action\n",
    "                tool_args = reasoning_step.action_input\n",
    "                return ToolCallEvent(\n",
    "                    tool_calls=[\n",
    "                        ToolSelection(\n",
    "                            tool_id=\"fake\",\n",
    "                            tool_name=tool_name,\n",
    "                            tool_kwargs=tool_args,\n",
    "                        )\n",
    "                    ]\n",
    "                )\n",
    "        except Exception as e:\n",
    "            ctx.data.get(\"current_reasoning\", []).append(\n",
    "                ObservationReasoningStep(\n",
    "                    observation=f\"There was an error in parsing my reasoning: {e}\"\n",
    "                )\n",
    "            )\n",
    "\n",
    "        # if no tool calls or final response, iterate again\n",
    "        return PrepEvent()\n",
    "\n",
    "    @step(pass_context=True)\n",
    "    async def handle_tool_calls(\n",
    "        self, ctx: Context, ev: ToolCallEvent\n",
    "    ) -> PrepEvent:\n",
    "        tool_calls = ev.tool_calls\n",
    "        tools_by_name = {tool.metadata.name: tool for tool in self.tools}\n",
    "\n",
    "        # call tools -- safely!\n",
    "        for tool_call in tool_calls:\n",
    "            tool = tools_by_name.get(tool_call.tool_name)\n",
    "            if not tool:\n",
    "                ctx.data.get(\"current_reasoning\", []).append(\n",
    "                    ObservationReasoningStep(\n",
    "                        observation=f\"Tool {tool_call.tool_name} does not exist\"\n",
    "                    )\n",
    "                )\n",
    "                continue\n",
    "\n",
    "            try:\n",
    "                tool_output = tool(**tool_call.tool_kwargs)\n",
    "                self.sources.append(tool_output)\n",
    "                ctx.data.get(\"current_reasoning\", []).append(\n",
    "                    ObservationReasoningStep(observation=str(tool_output))\n",
    "                )\n",
    "            except Exception as e:\n",
    "                ctx.data.get(\"current_reasoning\", []).append(\n",
    "                    ObservationReasoningStep(\n",
    "                        observation=f\"Error calling tool {tool.metadata.name}: {str(e)}\"\n",
    "                    )\n",
    "                )\n",
    "\n",
    "        # prep the next iteration\n",
    "        return PrepEvent()"
   ]
  },
  {
   "cell_type": "markdown",
   "metadata": {},
   "source": [
    "#### Basic rag query engine"
   ]
  },
  {
   "cell_type": "code",
   "execution_count": 7,
   "metadata": {},
   "outputs": [
    {
     "name": "stderr",
     "output_type": "stream",
     "text": [
      "/Users/rishikeshdhayarkar/rag-audio-indexing/rag-audio-env/lib/python3.12/site-packages/pinecone/data/index.py:1: TqdmWarning: IProgress not found. Please update jupyter and ipywidgets. See https://ipywidgets.readthedocs.io/en/stable/user_install.html\n",
      "  from tqdm.autonotebook import tqdm\n"
     ]
    }
   ],
   "source": [
    "import data_pull_and_prep.utils as utils\n",
    "import data_pull_and_prep.data_preparation as data_prep\n",
    "import textwrap\n",
    "import basic_rag.rag as rag\n",
    "from basic_rag.utils import aRetrieveAndAnswer, aRetrieveAndAnswer, RetrieveAndAnswer"
   ]
  },
  {
   "cell_type": "code",
   "execution_count": 8,
   "metadata": {},
   "outputs": [
    {
     "name": "stderr",
     "output_type": "stream",
     "text": [
      "INFO:pinecone_plugin_interface.logging:Discovering subpackages in _NamespacePath(['/Users/rishikeshdhayarkar/rag-audio-indexing/rag-audio-env/lib/python3.12/site-packages/pinecone_plugins'])\n",
      "INFO:pinecone_plugin_interface.logging:Looking for plugins in pinecone_plugins.inference\n",
      "INFO:pinecone_plugin_interface.logging:Installing plugin inference into Pinecone\n",
      "100%|██████████| 42/42 [00:17<00:00,  2.35it/s]\n",
      "100%|██████████| 42/42 [00:15<00:00,  2.68it/s]\n",
      "100%|██████████| 42/42 [00:10<00:00,  4.19it/s]\n",
      "Upserted vectors: 100%|██████████| 42/42 [00:01<00:00, 26.69it/s]\n"
     ]
    }
   ],
   "source": [
    "transcription_with_char_timestamps = utils.import_pkl_file(project_root+\"/data/audio_1/ivanka_trump_transcription_char_timestamps.pkl\")\n",
    "\n",
    "custom_chunking_obj = data_prep.CreateCustomTextChunks(transcription_with_char_timestamps)\n",
    "text_chunks_with_timestamps = custom_chunking_obj.create_custom_text_chunks()\n",
    "\n",
    "custom_ingestion_obj = rag.CustomRAG(\n",
    "              index_name=\"ivanka-08-28-via-class\",\n",
    "              text_chunks_with_timestamps=text_chunks_with_timestamps\n",
    "              )\n",
    "\n",
    "await custom_ingestion_obj.create_text_nodes_and_add_to_vector_store()"
   ]
  },
  {
   "cell_type": "code",
   "execution_count": 9,
   "metadata": {},
   "outputs": [],
   "source": [
    "def basic_rag_query_engine(input: str):\n",
    "    raa = RetrieveAndAnswer(ingestion_obj=custom_ingestion_obj)\n",
    "    return raa.answer(input)"
   ]
  },
  {
   "cell_type": "code",
   "execution_count": 10,
   "metadata": {},
   "outputs": [
    {
     "name": "stdout",
     "output_type": "stream",
     "text": [
      "Some famous quotes mentioned in this podcast are \"Watch the stars and see\n",
      "yourself running with them\" by Marcus Aurelius, \"You're under no obligation to\n",
      "be the same person you were five minutes ago\" by Alan Watts, \"Radio Gaga\" by\n",
      "Freddie Mercury, and \"I torture myself\" by Jango Reinhardt.\n"
     ]
    }
   ],
   "source": [
    "query_str = \"What are some famous quotes mentioned in this podcast and who said them?\"\n",
    "print(textwrap.fill(basic_rag_query_engine(query_str), 80))"
   ]
  },
  {
   "cell_type": "markdown",
   "metadata": {},
   "source": [
    "#### Dual Rag query engine"
   ]
  },
  {
   "cell_type": "code",
   "execution_count": 7,
   "metadata": {},
   "outputs": [
    {
     "name": "stderr",
     "output_type": "stream",
     "text": [
      "/Users/rishikeshdhayarkar/rag-audio-indexing/rag-audio-env/lib/python3.12/site-packages/pinecone/data/index.py:1: TqdmWarning: IProgress not found. Please update jupyter and ipywidgets. See https://ipywidgets.readthedocs.io/en/stable/user_install.html\n",
      "  from tqdm.autonotebook import tqdm\n"
     ]
    }
   ],
   "source": [
    "import react_agent.dual_rag_system as dual_rag_system\n",
    "import data_pull_and_prep.utils as utils"
   ]
  },
  {
   "cell_type": "code",
   "execution_count": 8,
   "metadata": {},
   "outputs": [],
   "source": [
    "# Get the absolute path of the project root\n",
    "project_root = os.path.abspath(os.path.join(os.getcwd(), '..'))\n",
    "sys.path.append(project_root)"
   ]
  },
  {
   "cell_type": "code",
   "execution_count": 10,
   "metadata": {},
   "outputs": [],
   "source": [
    "transcription_with_char_timestamps = utils.import_pkl_file(project_root+\"/data/audio_1/ivanka_trump_transcription_char_timestamps.pkl\")"
   ]
  },
  {
   "cell_type": "code",
   "execution_count": 11,
   "metadata": {},
   "outputs": [],
   "source": [
    "class DualRAGManager:\n",
    "    def __init__(self, transcription_with_char_timestamps):\n",
    "        self.transcription = transcription_with_char_timestamps\n",
    "        self.dual_rag = None\n",
    "\n",
    "    async def setup_dual_rag(self, index_name, neo4j_username, neo4j_password, neo4j_url):\n",
    "        self.dual_rag = dual_rag_system.DualRAGSystem(\n",
    "            self.transcription, \n",
    "            index_name, \n",
    "            neo4j_username, \n",
    "            neo4j_password, \n",
    "            neo4j_url\n",
    "        )\n",
    "        await self.dual_rag.prepare_basic_rag()\n",
    "\n",
    "    async def query_dual_rag(self, query):\n",
    "        if not self.dual_rag:\n",
    "            raise ValueError(\"DualRAG system not set up. Call setup_dual_rag first.\")\n",
    "        basic_response, graph_response = await self.dual_rag.query_systems(query)        \n",
    "        return basic_response, graph_response"
   ]
  },
  {
   "cell_type": "code",
   "execution_count": null,
   "metadata": {},
   "outputs": [],
   "source": [
    "# Usage example:\n",
    "dual_rag_manager = DualRAGManager(transcription_with_char_timestamps)\n",
    "\n",
    "await dual_rag_manager.setup_dual_rag(\n",
    "    index_name=\"ivanka-09-01-agent\",\n",
    "    neo4j_username=\"neo4j\",\n",
    "    neo4j_password=\"neo4j_rishi\",\n",
    "    neo4j_url=\"bolt://localhost:7687\"\n",
    ")"
   ]
  },
  {
   "cell_type": "code",
   "execution_count": 13,
   "metadata": {},
   "outputs": [
    {
     "data": {
      "text/plain": [
       "('The famous quotes mentioned in this podcast are:\\n\\n1. \"Watch the stars and see yourself running with them\" by Marcus Aurelius.\\n2. \"You\\'re under no obligation to be the same person you were five minutes ago\" by Alan Watts.',\n",
       " '1. \"The only way to make sense out of change is to plunge into it, move with it, and join the dance.\" - Alan Watts\\n2. \"Find out who you are and do it on purpose.\" - Dolly Parton\\n3. \"When we are no longer able to change a situation, we are challenged to change ourselves.\" - Victor Frankl\\n4. \"Stay hungry, stay foolish.\" - Steve Jobs\\n5. \"The devil is in the details.\" - Steve Jobs / Elon Musk\\n6. \"Everything can be taken from a man but one thing: the last of the human freedoms—to choose one’s attitude in any given set of circumstances, to choose one’s own way.\" - Victor Frankl\\n7. \"Love goes very far beyond the physical person of the beloved. It finds its deepest meaning in his spiritual being, his inner self.\" - Victor Frankl')"
      ]
     },
     "execution_count": 13,
     "metadata": {},
     "output_type": "execute_result"
    }
   ],
   "source": [
    "query = \"What are some famous quotes mentioned in this podcast and who said them?\"\n",
    "await dual_rag_manager.query_dual_rag(query)"
   ]
  },
  {
   "cell_type": "markdown",
   "metadata": {},
   "source": [
    "#### Agent setup"
   ]
  },
  {
   "cell_type": "code",
   "execution_count": 34,
   "metadata": {},
   "outputs": [],
   "source": [
    "from llama_index.core.tools import FunctionTool\n",
    "from llama_index.llms.openai import OpenAI\n",
    "from llama_index.core import VectorStoreIndex, SimpleDirectoryReader\n",
    "from llama_index.core.indices.query.query_transform import HyDEQueryTransform\n",
    "from llama_index.core.query_engine import TransformQueryEngine\n",
    "from llama_index.core.tools import QueryEngineTool, ToolMetadata\n",
    "from llama_index.core.tools import FunctionTool\n",
    "import asyncio\n",
    "\n",
    "from llama_index.core import (\n",
    "    SimpleDirectoryReader,\n",
    "    VectorStoreIndex,\n",
    "    StorageContext,\n",
    "    load_index_from_storage,\n",
    ")\n",
    "\n",
    "def sync_dual_rag_query(input: str) -> str:\n",
    "    return asyncio.run(dual_rag_query(input))\n",
    "\n",
    "async def dual_rag_query(input: str) -> str:\n",
    "    basic_response, graph_response = await dual_rag_manager.query_dual_rag(input)\n",
    "    return f\"Basic RAG answer: {basic_response}\\nGraph RAG answer: {graph_response}\"\n",
    "\n",
    "dual_rag_tool = FunctionTool(\n",
    "    fn=sync_dual_rag_query,\n",
    "    metadata=ToolMetadata(\n",
    "        name=\"dual_rag_query_engine\",\n",
    "        description=\"Provides information about the Ivanka Trump podcast using both basic and graph RAG approaches. Use a plain text question as input to the tool.\"\n",
    "    )\n",
    ")\n",
    "\n",
    "query_engine_tools = [\n",
    "    dual_rag_tool\n",
    "]"
   ]
  },
  {
   "cell_type": "code",
   "execution_count": 77,
   "metadata": {},
   "outputs": [],
   "source": [
    "agent = ReActAgent(\n",
    "    llm=OpenAI(model=\"gpt-3.5-turbo\"), tools=query_engine_tools,\n",
    "    timeout=120,\n",
    "    verbose=False,\n",
    "    extra_context=\"Please use the query engine tool(dual_rag_query_engine) to answer the questions.\",\n",
    ")\n",
    "\n",
    "ret = await agent.run(input=\"Hello!\")"
   ]
  },
  {
   "cell_type": "code",
   "execution_count": 78,
   "metadata": {},
   "outputs": [
    {
     "data": {
      "text/plain": [
       "[ChatMessage(role=<MessageRole.USER: 'user'>, content='Hello!', additional_kwargs={}),\n",
       " ChatMessage(role=<MessageRole.ASSISTANT: 'assistant'>, content=\"The Ivanka Trump podcast seems to be a personal and reflective discussion where she shares her experiences and challenges while working in the White House and on her father's campaign. Topics covered include her decision not to engage in the politics of the 2024 campaign, her love for her father, admiration for Dolly Parton, experiences as a parent, conflicts between work and family life, the importance of priorities, the role of family support, challenges of getting things done in Washington, importance of helping people, and navigating politics. It offers personal anecdotes and insights into Ivanka Trump's life and experiences in the political world.\", additional_kwargs={})]"
      ]
     },
     "execution_count": 78,
     "metadata": {},
     "output_type": "execute_result"
    }
   ],
   "source": [
    "agent.memory.get()"
   ]
  },
  {
   "cell_type": "markdown",
   "metadata": {},
   "source": [
    "#### Querying"
   ]
  },
  {
   "cell_type": "code",
   "execution_count": 81,
   "metadata": {},
   "outputs": [],
   "source": [
    "query_str_suffix = (\n",
    "    \"Always use the query engine tools to answer the questions. \"\n",
    "    \"If the tool is not able to answer the question, then give a detailed explanation.\"\n",
    "    \"Do not remove information from the answer given the tool. Provide elaborate answers while answering the questions.\"\n",
    ")"
   ]
  },
  {
   "cell_type": "code",
   "execution_count": 82,
   "metadata": {},
   "outputs": [
    {
     "name": "stdout",
     "output_type": "stream",
     "text": [
      "Some famous quotes mentioned in the Ivanka Trump podcast include: 1. \"I love my\n",
      "father very much.\" - Ivanka Trump 2. \"Love is the thing that wins, it usually\n",
      "does in the end.\" - Ivanka Trump 3. \"No more duels.\" - Ivanka Trump 4.\n",
      "\"Everything is possible.\" - Ivanka Trump 5. \"If you continue believing that it's\n",
      "possible, and have that sort of naive notion that you could do it, even if it's\n",
      "exceptionally difficult, that naive notion turns into some of the greatest\n",
      "projects ever done.\" - Ivanka Trump 6. \"Watch the stars and see yourself running\n",
      "with them\" - Marcus Aurelius  Additionally, some other quotes mentioned in the\n",
      "podcast are: 1. \"The beauty of life is in the small details, not in big events.\"\n",
      "- Marcus Aurelius 2. \"When they go low, we go high.\" - Michelle Obama 3. \"I'm\n",
      "not a businessman; I'm a business, man!\" - Jay-Z 4. Alan Watts' quote about\n",
      "personal growth and change. 5. Victor Frankl's philosophical writings. 6. The\n",
      "quote by Marcus Aurelius. 7. Joseph Campbell's philosophical writings.\n"
     ]
    }
   ],
   "source": [
    "query_str = \"What are some famous quotes mentioned in this podcast and who said them?\"+query_str_suffix\n",
    "ret = await agent.run(input=query_str)\n",
    "print(textwrap.fill(ret[\"response\"], 80))"
   ]
  },
  {
   "cell_type": "code",
   "execution_count": 83,
   "metadata": {},
   "outputs": [
    {
     "name": "stdout",
     "output_type": "stream",
     "text": [
      "Ivanka Trump's thoughts on music are not explicitly mentioned in the information\n",
      "available. While she has connections to musicians and musical environments, her\n",
      "specific opinions or preferences regarding music are not directly discussed in\n",
      "the podcast.\n"
     ]
    }
   ],
   "source": [
    "query_str = \"What are Ivanka Trump's thoughts on music?\"+query_str_suffix\n",
    "ret = await agent.run(input=query_str)\n",
    "print(textwrap.fill(ret[\"response\"], 80))"
   ]
  },
  {
   "cell_type": "code",
   "execution_count": 84,
   "metadata": {},
   "outputs": [
    {
     "name": "stdout",
     "output_type": "stream",
     "text": [
      "In the Ivanka Trump podcast, music-related topics discussed include Dolly\n",
      "Parton, live music experiences, Adele's performance at a concert attended by\n",
      "Ivanka Trump and her kids, Adele's influences like Aretha Franklin, Dolly\n",
      "Parton's performance at Madison Square Garden, and references to various artists\n",
      "such as Sinatra, Elvis, Andrew Lloyd Webber, Elton John, and Pavarotti. The\n",
      "podcast also touches on the enjoyment of seeing artists perform and the\n",
      "influence of music preferences from Ivanka Trump's father.\n"
     ]
    }
   ],
   "source": [
    "query_str = \"There must be a music related stuff in the context. Give me more details on that.\"+query_str_suffix\n",
    "ret = await agent.run(input=query_str)\n",
    "print(textwrap.fill(ret[\"response\"], 80))"
   ]
  },
  {
   "cell_type": "code",
   "execution_count": 85,
   "metadata": {},
   "outputs": [
    {
     "name": "stdout",
     "output_type": "stream",
     "text": [
      "In the Ivanka Trump podcast, Kim Kardashian discussed her advocacy for criminal\n",
      "justice reform, particularly highlighting the case of Alice Marie Johnson.\n",
      "Johnson was serving a life sentence for a nonviolent drug offense, and\n",
      "Kardashian's efforts, including lobbying President Trump, led to her clemency.\n",
      "This collaboration between Kardashian and Ivanka Trump shed light on important\n",
      "social justice issues within the prison system.\n"
     ]
    }
   ],
   "source": [
    "query_str = \"describe the incident with kim kardashian. Something about prisons\"+query_str_suffix\n",
    "ret = await agent.run(input=query_str)\n",
    "print(textwrap.fill(ret[\"response\"], 80))"
   ]
  },
  {
   "cell_type": "code",
   "execution_count": 86,
   "metadata": {},
   "outputs": [
    {
     "name": "stdout",
     "output_type": "stream",
     "text": [
      "Some of the architectural projects that Ivanka Trump has been involved in\n",
      "include contributing to the design and construction of iconic structures in New\n",
      "York City, participating in renovation projects like the Dural hotel and the old\n",
      "post office building, and engaging in real estate projects alongside her\n",
      "parents.\n"
     ]
    }
   ],
   "source": [
    "query_str = \"What are some architectural projects that Ivanka Trump has worked on?\"+query_str_suffix\n",
    "ret = await agent.run(input=query_str)\n",
    "print(textwrap.fill(ret[\"response\"], 80))"
   ]
  },
  {
   "cell_type": "code",
   "execution_count": 87,
   "metadata": {},
   "outputs": [
    {
     "name": "stdout",
     "output_type": "stream",
     "text": [
      "The impact of New York City (NYC) on Ivanka Trump's life has been significant.\n",
      "Growing up in NYC exposed her to a fast-paced and dynamic environment, providing\n",
      "her with opportunities in real estate and fashion. The city also played a role\n",
      "in shaping her decision to join her father's campaign and work in Washington.\n",
      "NYC helped her grow and expand her perspective beyond her upbringing on the\n",
      "upper east side, exposing her to the struggles and experiences of everyday\n",
      "Americans.\n"
     ]
    }
   ],
   "source": [
    "query_str = \"Describe the impact of NYC on Ivanka Trump's life\"+query_str_suffix\n",
    "ret = await agent.run(input=query_str)\n",
    "print(textwrap.fill(ret[\"response\"], 80))"
   ]
  },
  {
   "cell_type": "code",
   "execution_count": 88,
   "metadata": {},
   "outputs": [
    {
     "name": "stdout",
     "output_type": "stream",
     "text": [
      "Ivanka Trump has been involved in various architectural projects, including\n",
      "contributing to the design and construction of iconic structures in New York\n",
      "City, participating in renovation projects like the Dural hotel and the old post\n",
      "office building, and engaging in real estate projects alongside her parents.\n"
     ]
    }
   ],
   "source": [
    "query_str = \"What buildings has Ivanka Trump worked on?\"+query_str_suffix\n",
    "ret = await agent.run(input=query_str)\n",
    "print(textwrap.fill(ret[\"response\"], 80))"
   ]
  },
  {
   "cell_type": "code",
   "execution_count": 89,
   "metadata": {},
   "outputs": [
    {
     "name": "stdout",
     "output_type": "stream",
     "text": [
      "Ivanka Trump has expressed that her children and husband were everything to her\n",
      "during her time in Washington. She values the support system provided by her\n",
      "husband and finds joy and grounding in her children. There are sweet moments\n",
      "shared, such as her husband making her coffee every morning and her son learning\n",
      "to make cappuccinos to bring her happiness.\n"
     ]
    }
   ],
   "source": [
    "query_str = \"What does Ivanka Trump say about her children and husband?\"+query_str_suffix\n",
    "ret = await agent.run(input=query_str)\n",
    "print(textwrap.fill(ret[\"response\"], 80))"
   ]
  },
  {
   "cell_type": "code",
   "execution_count": 90,
   "metadata": {},
   "outputs": [
    {
     "name": "stdout",
     "output_type": "stream",
     "text": [
      "As a senior advisor to the president, Ivanka Trump worked on various initiatives\n",
      "related to workforce development, economic empowerment, women's\n",
      "entrepreneurship, and job creation. She was involved in policy discussions,\n",
      "meetings with world leaders, and represented the administration on various\n",
      "domestic and international platforms. Her role also included advocating for\n",
      "issues such as paid family leave and workforce training programs.\n"
     ]
    }
   ],
   "source": [
    "query_str = \"Describe the type of work Ivanka Trump did as a senior advisor to the president\"+query_str_suffix\n",
    "ret = await agent.run(input=query_str)\n",
    "print(textwrap.fill(ret[\"response\"], 80))"
   ]
  },
  {
   "cell_type": "code",
   "execution_count": 91,
   "metadata": {},
   "outputs": [
    {
     "name": "stdout",
     "output_type": "stream",
     "text": [
      "Ivanka Trump worked on tax-related initiatives during her time in the White\n",
      "House, focusing on aspects such as tax reform, economic policies, and advocating\n",
      "for tax cuts to stimulate economic growth. She was involved in discussions and\n",
      "efforts to shape tax policies that aimed to benefit American families and\n",
      "businesses.\n"
     ]
    }
   ],
   "source": [
    "query_str = \"Describe the type of work Ivanka Trump did on taxes\"+query_str_suffix\n",
    "ret = await agent.run(input=query_str)\n",
    "print(textwrap.fill(ret[\"response\"], 80))"
   ]
  },
  {
   "cell_type": "code",
   "execution_count": 92,
   "metadata": {},
   "outputs": [
    {
     "name": "stdout",
     "output_type": "stream",
     "text": [
      "The renovation of the old post office building involved unique considerations\n",
      "and complexities such as designing nearly 300 rooms with different layouts,\n",
      "challenges in moving plumbing due to setbacks in the building, and the priority\n",
      "of preserving the historic exterior while making gentle additions to maintain\n",
      "its original beauty. The project required a delicate balance between historical\n",
      "preservation and modern redevelopment needs, showcasing meticulous planning and\n",
      "attention to detail.\n"
     ]
    }
   ],
   "source": [
    "query_str = \"\"\"What unique considerations and complexities were involved in the renovation of the old post \n",
    "office building, particularly in terms of layout, room configurations, and preserving the building's historic exterior?\"\"\"+query_str_suffix\n",
    "ret = await agent.run(input=query_str)\n",
    "print(textwrap.fill(ret[\"response\"], 80))"
   ]
  },
  {
   "cell_type": "code",
   "execution_count": 93,
   "metadata": {},
   "outputs": [
    {
     "name": "stdout",
     "output_type": "stream",
     "text": [
      "Ivanka Trump's son Theo contributed to her sense of grounding and joy during her\n",
      "time in Washington, D.C. by learning to make cappuccinos to bring her happiness.\n",
      "This sweet gesture from her son added a personal touch to her daily routine and\n",
      "provided moments of joy and connection amidst the busy and demanding environment\n",
      "of Washington, D.C.\n"
     ]
    }
   ],
   "source": [
    "query_str = \"\"\"How did Ivanka Trump's children, particularly her son Theo, contribute to her sense of grounding and joy during her time in Washington, D.C.?\"\"\"+query_str_suffix\n",
    "ret = await agent.run(input=query_str)\n",
    "print(textwrap.fill(ret[\"response\"], 80))"
   ]
  },
  {
   "cell_type": "code",
   "execution_count": 94,
   "metadata": {},
   "outputs": [
    {
     "name": "stdout",
     "output_type": "stream",
     "text": [
      "In her free time, Ivanka Trump enjoys spending time with her young children,\n",
      "volunteering in the community with them, designing city skylines, particularly\n",
      "in New York City, and appreciating art and beauty in various forms, with a\n",
      "particular passion for architecture. She also enjoys reading newspapers in bed\n",
      "while her husband brings her coffee every morning and values spending time with\n",
      "her family. Additionally, she reads philosophical writings, has a passion for\n",
      "fashion design, and values engaging in meaningful conversations with various\n",
      "individuals.\n"
     ]
    }
   ],
   "source": [
    "query_str = \"\"\"What does Ivanka Trump like to do in her free time? What are her hobbies and interests?\"\"\"+query_str_suffix\n",
    "ret = await agent.run(input=query_str)\n",
    "print(textwrap.fill(ret[\"response\"], 80))"
   ]
  },
  {
   "cell_type": "code",
   "execution_count": 96,
   "metadata": {},
   "outputs": [
    {
     "name": "stdout",
     "output_type": "stream",
     "text": [
      "Jiu-Jitsu is not specifically discussed in the Ivanka Trump podcast based on the\n",
      "information available. The podcast mainly focuses on personal anecdotes,\n",
      "experiences, and reflections related to Ivanka Trump's life, work, and family.\n"
     ]
    }
   ],
   "source": [
    "query_str = \"\"\"Is Jiu-Jitsu discussed in the podcast? If yes give me the details\"\"\"+query_str_suffix\n",
    "ret = await agent.run(input=query_str)\n",
    "print(textwrap.fill(ret[\"response\"], 80))"
   ]
  },
  {
   "cell_type": "code",
   "execution_count": null,
   "metadata": {},
   "outputs": [],
   "source": []
  },
  {
   "cell_type": "code",
   "execution_count": null,
   "metadata": {},
   "outputs": [],
   "source": []
  }
 ],
 "metadata": {
  "kernelspec": {
   "display_name": "project-env",
   "language": "python",
   "name": "python3"
  },
  "language_info": {
   "codemirror_mode": {
    "name": "ipython",
    "version": 3
   },
   "file_extension": ".py",
   "mimetype": "text/x-python",
   "name": "python",
   "nbconvert_exporter": "python",
   "pygments_lexer": "ipython3",
   "version": "3.12.4"
  }
 },
 "nbformat": 4,
 "nbformat_minor": 2
}
