{
 "cells": [
  {
   "cell_type": "code",
   "execution_count": 5,
   "metadata": {},
   "outputs": [],
   "source": [
    "from pytubefix import YouTube\n",
    "from pytubefix.cli import on_progress\n",
    "from pytubefix.exceptions import VideoUnavailable\n",
    "\n",
    "import os"
   ]
  },
  {
   "cell_type": "code",
   "execution_count": 11,
   "metadata": {},
   "outputs": [
    {
     "name": "stdout",
     "output_type": "stream",
     "text": [
      "/Users/rishikeshdhayarkar/rag-audio-indexing\n"
     ]
    }
   ],
   "source": [
    "os.chdir('/Users/rishikeshdhayarkar/rag-audio-indexing/')\n",
    "print(os.getcwd())"
   ]
  },
  {
   "cell_type": "code",
   "execution_count": 12,
   "metadata": {},
   "outputs": [],
   "source": [
    "def download_audio_and_transcript(video_url,\n",
    "                                  video_name,\n",
    "                                  output_dir):\n",
    "    output_audio_file_name = output_dir + video_name + \".mp3\"\n",
    "    try:\n",
    "        # Create YouTube object\n",
    "        yt = YouTube(video_url)\n",
    "        \n",
    "        # Get audio stream\n",
    "        audio_stream = yt.streams.filter(only_audio=True).first()\n",
    "        \n",
    "        # Download audio\n",
    "        print(\"Downloading audio...\")\n",
    "        # audio_file = audio_stream.download(filename=f\"{yt.title}.mp3\")\n",
    "        audio_file = audio_stream.download(filename=output_audio_file_name)\n",
    "        print(f\"Audio downloaded: {audio_file}\")\n",
    "        \n",
    "        # # Get transcript\n",
    "        # print(\"Fetching transcript...\")\n",
    "        # transcript = yt.captions.get_by_language_code('en')\n",
    "        # if transcript:\n",
    "        #     # Save transcript\n",
    "        #     transcript_file = f\"{yt.title}.txt\"\n",
    "        #     with open(transcript_file, 'w', encoding='utf-8') as f:\n",
    "        #         f.write(transcript.generate_srt_captions())\n",
    "        #     print(f\"Transcript saved: {transcript_file}\")\n",
    "        # else:\n",
    "        #     print(\"No English transcript available.\")\n",
    "        \n",
    "    except VideoUnavailable:\n",
    "        print(\"The video is unavailable.\")\n",
    "    except Exception as e:\n",
    "        print(f\"An error occurred: {str(e)}\")"
   ]
  },
  {
   "cell_type": "code",
   "execution_count": 13,
   "metadata": {},
   "outputs": [
    {
     "name": "stdout",
     "output_type": "stream",
     "text": [
      "Downloading audio...\n",
      "Audio downloaded: /Users/rishikeshdhayarkar/rag-audio-indexing/data/testing/test.mp3\n",
      "Fetching transcript...\n",
      "No English transcript available.\n"
     ]
    },
    {
     "name": "stderr",
     "output_type": "stream",
     "text": [
      "/var/folders/wt/r4_h03kd7fn83ksqhn6vx78h0000gn/T/ipykernel_87935/795002870.py:20: DeprecationWarning: Call to deprecated function get_by_language_code (This object can be treated as a dictionary, i.e. captions['en']).\n",
      "  transcript = yt.captions.get_by_language_code('en')\n"
     ]
    }
   ],
   "source": [
    "# Usage\n",
    "video_url = \"https://www.youtube.com/watch?v=vcEVgN4eET8\"  # Replace with your video URL\n",
    "video_name = \"test\"  # Replace with your video name\n",
    "output_dir = \"data/testing/\"  # Replace with your output directory\n",
    "\n",
    "download_audio_and_transcript(video_url, video_name, output_dir)"
   ]
  },
  {
   "cell_type": "code",
   "execution_count": null,
   "metadata": {},
   "outputs": [],
   "source": []
  },
  {
   "cell_type": "code",
   "execution_count": null,
   "metadata": {},
   "outputs": [],
   "source": []
  },
  {
   "cell_type": "code",
   "execution_count": null,
   "metadata": {},
   "outputs": [],
   "source": []
  },
  {
   "cell_type": "code",
   "execution_count": null,
   "metadata": {},
   "outputs": [],
   "source": []
  },
  {
   "cell_type": "code",
   "execution_count": null,
   "metadata": {},
   "outputs": [],
   "source": []
  }
 ],
 "metadata": {
  "kernelspec": {
   "display_name": "rag-audio-env",
   "language": "python",
   "name": "python3"
  },
  "language_info": {
   "codemirror_mode": {
    "name": "ipython",
    "version": 3
   },
   "file_extension": ".py",
   "mimetype": "text/x-python",
   "name": "python",
   "nbconvert_exporter": "python",
   "pygments_lexer": "ipython3",
   "version": "3.12.4"
  }
 },
 "nbformat": 4,
 "nbformat_minor": 2
}
